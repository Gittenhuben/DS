{
 "cells": [
  {
   "cell_type": "markdown",
   "metadata": {},
   "source": [
    "# Определение стоимости автомобилей"
   ]
  },
  {
   "cell_type": "markdown",
   "metadata": {},
   "source": [
    "**Задание**\n",
    "\n",
    "На основе исторических данных построить модель для быстрого определения рыночной стоимости автомобиля.\n",
    "\n",
    "<br>\n",
    "\n",
    "**Описание данных**\n",
    "\n",
    "* DateCrawled — дата скачивания анкеты из базы\n",
    "* VehicleType — тип автомобильного кузова\n",
    "* RegistrationYear — год регистрации автомобиля\n",
    "* Gearbox — тип коробки передач\n",
    "* Power — мощность (л. с.)\n",
    "* Model — модель автомобиля\n",
    "* Kilometer — пробег (км)\n",
    "* RegistrationMonth — месяц регистрации автомобиля\n",
    "* FuelType — тип топлива\n",
    "* Brand — марка автомобиля\n",
    "* Repaired — была машина в ремонте или нет\n",
    "* DateCreated — дата создания анкеты\n",
    "* NumberOfPictures — количество фотографий автомобиля\n",
    "* PostalCode — почтовый индекс владельца анкеты (пользователя)\n",
    "* LastSeen — дата последней активности пользователя\n",
    "* Price — цена (евро)"
   ]
  },
  {
   "cell_type": "markdown",
   "metadata": {},
   "source": [
    "## Подготовка данных"
   ]
  },
  {
   "cell_type": "code",
   "execution_count": 1,
   "metadata": {},
   "outputs": [],
   "source": [
    "import pandas as pd\n",
    "import numpy as np\n",
    "\n",
    "from sklearn.pipeline import make_pipeline\n",
    "from sklearn.model_selection import GridSearchCV\n",
    "from sklearn.model_selection import train_test_split\n",
    "from sklearn.compose import make_column_transformer\n",
    "from sklearn.preprocessing import OneHotEncoder\n",
    "from sklearn.preprocessing import OrdinalEncoder\n",
    "from sklearn.metrics import mean_squared_error\n",
    "\n",
    "from sklearn.ensemble import RandomForestRegressor\n",
    "from sklearn.ensemble import GradientBoostingRegressor\n",
    "from lightgbm import LGBMRegressor\n",
    "from catboost import CatBoostRegressor\n",
    "from sklearn.dummy import DummyRegressor\n",
    "\n",
    "import seaborn as sns\n",
    "import matplotlib.pyplot as plt"
   ]
  },
  {
   "cell_type": "code",
   "execution_count": 2,
   "metadata": {},
   "outputs": [],
   "source": [
    "RANDOM_STATE = 12345\n",
    "pd.options.display.float_format = \"{:.2f}\".format"
   ]
  },
  {
   "cell_type": "code",
   "execution_count": 3,
   "metadata": {},
   "outputs": [],
   "source": [
    "def set_annotations_h(graph, digits=0):\n",
    "    for p in graph.patches:\n",
    "        graph.annotate(('{:.' + str(digits) + 'f}').format(p.get_width()),\n",
    "                        (p.get_width() , p.get_y() + p.get_height()/2),\n",
    "                        ha = 'left', va = 'center',\n",
    "                        xytext = (9, 0),\n",
    "                        textcoords = 'offset points')"
   ]
  },
  {
   "cell_type": "code",
   "execution_count": 4,
   "metadata": {},
   "outputs": [],
   "source": [
    "def bold(string):\n",
    "    return '\\033[1m' + str(string) + '\\033[0m'"
   ]
  },
  {
   "cell_type": "code",
   "execution_count": 5,
   "metadata": {},
   "outputs": [],
   "source": [
    "data = pd.read_csv('/datasets/autos.csv')"
   ]
  },
  {
   "cell_type": "code",
   "execution_count": 6,
   "metadata": {},
   "outputs": [
    {
     "name": "stdout",
     "output_type": "stream",
     "text": [
      "<class 'pandas.core.frame.DataFrame'>\n",
      "RangeIndex: 354369 entries, 0 to 354368\n",
      "Data columns (total 16 columns):\n",
      " #   Column             Non-Null Count   Dtype \n",
      "---  ------             --------------   ----- \n",
      " 0   DateCrawled        354369 non-null  object\n",
      " 1   Price              354369 non-null  int64 \n",
      " 2   VehicleType        316879 non-null  object\n",
      " 3   RegistrationYear   354369 non-null  int64 \n",
      " 4   Gearbox            334536 non-null  object\n",
      " 5   Power              354369 non-null  int64 \n",
      " 6   Model              334664 non-null  object\n",
      " 7   Kilometer          354369 non-null  int64 \n",
      " 8   RegistrationMonth  354369 non-null  int64 \n",
      " 9   FuelType           321474 non-null  object\n",
      " 10  Brand              354369 non-null  object\n",
      " 11  Repaired           283215 non-null  object\n",
      " 12  DateCreated        354369 non-null  object\n",
      " 13  NumberOfPictures   354369 non-null  int64 \n",
      " 14  PostalCode         354369 non-null  int64 \n",
      " 15  LastSeen           354369 non-null  object\n",
      "dtypes: int64(7), object(9)\n",
      "memory usage: 43.3+ MB\n"
     ]
    }
   ],
   "source": [
    "data.info()"
   ]
  },
  {
   "cell_type": "code",
   "execution_count": 7,
   "metadata": {
    "scrolled": true
   },
   "outputs": [
    {
     "data": {
      "text/html": [
       "<div>\n",
       "<style scoped>\n",
       "    .dataframe tbody tr th:only-of-type {\n",
       "        vertical-align: middle;\n",
       "    }\n",
       "\n",
       "    .dataframe tbody tr th {\n",
       "        vertical-align: top;\n",
       "    }\n",
       "\n",
       "    .dataframe thead th {\n",
       "        text-align: right;\n",
       "    }\n",
       "</style>\n",
       "<table border=\"1\" class=\"dataframe\">\n",
       "  <thead>\n",
       "    <tr style=\"text-align: right;\">\n",
       "      <th></th>\n",
       "      <th>DateCrawled</th>\n",
       "      <th>Price</th>\n",
       "      <th>VehicleType</th>\n",
       "      <th>RegistrationYear</th>\n",
       "      <th>Gearbox</th>\n",
       "      <th>Power</th>\n",
       "      <th>Model</th>\n",
       "      <th>Kilometer</th>\n",
       "      <th>RegistrationMonth</th>\n",
       "      <th>FuelType</th>\n",
       "      <th>Brand</th>\n",
       "      <th>Repaired</th>\n",
       "      <th>DateCreated</th>\n",
       "      <th>NumberOfPictures</th>\n",
       "      <th>PostalCode</th>\n",
       "      <th>LastSeen</th>\n",
       "    </tr>\n",
       "  </thead>\n",
       "  <tbody>\n",
       "    <tr>\n",
       "      <th>0</th>\n",
       "      <td>2016-03-24 11:52:17</td>\n",
       "      <td>480</td>\n",
       "      <td>NaN</td>\n",
       "      <td>1993</td>\n",
       "      <td>manual</td>\n",
       "      <td>0</td>\n",
       "      <td>golf</td>\n",
       "      <td>150000</td>\n",
       "      <td>0</td>\n",
       "      <td>petrol</td>\n",
       "      <td>volkswagen</td>\n",
       "      <td>NaN</td>\n",
       "      <td>2016-03-24 00:00:00</td>\n",
       "      <td>0</td>\n",
       "      <td>70435</td>\n",
       "      <td>2016-04-07 03:16:57</td>\n",
       "    </tr>\n",
       "    <tr>\n",
       "      <th>1</th>\n",
       "      <td>2016-03-24 10:58:45</td>\n",
       "      <td>18300</td>\n",
       "      <td>coupe</td>\n",
       "      <td>2011</td>\n",
       "      <td>manual</td>\n",
       "      <td>190</td>\n",
       "      <td>NaN</td>\n",
       "      <td>125000</td>\n",
       "      <td>5</td>\n",
       "      <td>gasoline</td>\n",
       "      <td>audi</td>\n",
       "      <td>yes</td>\n",
       "      <td>2016-03-24 00:00:00</td>\n",
       "      <td>0</td>\n",
       "      <td>66954</td>\n",
       "      <td>2016-04-07 01:46:50</td>\n",
       "    </tr>\n",
       "    <tr>\n",
       "      <th>2</th>\n",
       "      <td>2016-03-14 12:52:21</td>\n",
       "      <td>9800</td>\n",
       "      <td>suv</td>\n",
       "      <td>2004</td>\n",
       "      <td>auto</td>\n",
       "      <td>163</td>\n",
       "      <td>grand</td>\n",
       "      <td>125000</td>\n",
       "      <td>8</td>\n",
       "      <td>gasoline</td>\n",
       "      <td>jeep</td>\n",
       "      <td>NaN</td>\n",
       "      <td>2016-03-14 00:00:00</td>\n",
       "      <td>0</td>\n",
       "      <td>90480</td>\n",
       "      <td>2016-04-05 12:47:46</td>\n",
       "    </tr>\n",
       "    <tr>\n",
       "      <th>3</th>\n",
       "      <td>2016-03-17 16:54:04</td>\n",
       "      <td>1500</td>\n",
       "      <td>small</td>\n",
       "      <td>2001</td>\n",
       "      <td>manual</td>\n",
       "      <td>75</td>\n",
       "      <td>golf</td>\n",
       "      <td>150000</td>\n",
       "      <td>6</td>\n",
       "      <td>petrol</td>\n",
       "      <td>volkswagen</td>\n",
       "      <td>no</td>\n",
       "      <td>2016-03-17 00:00:00</td>\n",
       "      <td>0</td>\n",
       "      <td>91074</td>\n",
       "      <td>2016-03-17 17:40:17</td>\n",
       "    </tr>\n",
       "    <tr>\n",
       "      <th>4</th>\n",
       "      <td>2016-03-31 17:25:20</td>\n",
       "      <td>3600</td>\n",
       "      <td>small</td>\n",
       "      <td>2008</td>\n",
       "      <td>manual</td>\n",
       "      <td>69</td>\n",
       "      <td>fabia</td>\n",
       "      <td>90000</td>\n",
       "      <td>7</td>\n",
       "      <td>gasoline</td>\n",
       "      <td>skoda</td>\n",
       "      <td>no</td>\n",
       "      <td>2016-03-31 00:00:00</td>\n",
       "      <td>0</td>\n",
       "      <td>60437</td>\n",
       "      <td>2016-04-06 10:17:21</td>\n",
       "    </tr>\n",
       "  </tbody>\n",
       "</table>\n",
       "</div>"
      ],
      "text/plain": [
       "           DateCrawled  Price VehicleType  RegistrationYear Gearbox  Power  \\\n",
       "0  2016-03-24 11:52:17    480         NaN              1993  manual      0   \n",
       "1  2016-03-24 10:58:45  18300       coupe              2011  manual    190   \n",
       "2  2016-03-14 12:52:21   9800         suv              2004    auto    163   \n",
       "3  2016-03-17 16:54:04   1500       small              2001  manual     75   \n",
       "4  2016-03-31 17:25:20   3600       small              2008  manual     69   \n",
       "\n",
       "   Model  Kilometer  RegistrationMonth  FuelType       Brand Repaired  \\\n",
       "0   golf     150000                  0    petrol  volkswagen      NaN   \n",
       "1    NaN     125000                  5  gasoline        audi      yes   \n",
       "2  grand     125000                  8  gasoline        jeep      NaN   \n",
       "3   golf     150000                  6    petrol  volkswagen       no   \n",
       "4  fabia      90000                  7  gasoline       skoda       no   \n",
       "\n",
       "           DateCreated  NumberOfPictures  PostalCode             LastSeen  \n",
       "0  2016-03-24 00:00:00                 0       70435  2016-04-07 03:16:57  \n",
       "1  2016-03-24 00:00:00                 0       66954  2016-04-07 01:46:50  \n",
       "2  2016-03-14 00:00:00                 0       90480  2016-04-05 12:47:46  \n",
       "3  2016-03-17 00:00:00                 0       91074  2016-03-17 17:40:17  \n",
       "4  2016-03-31 00:00:00                 0       60437  2016-04-06 10:17:21  "
      ]
     },
     "execution_count": 7,
     "metadata": {},
     "output_type": "execute_result"
    }
   ],
   "source": [
    "data.head()"
   ]
  },
  {
   "cell_type": "markdown",
   "metadata": {},
   "source": [
    "### DateCrawled — дата скачивания анкеты из базы"
   ]
  },
  {
   "cell_type": "code",
   "execution_count": 8,
   "metadata": {
    "scrolled": false
   },
   "outputs": [
    {
     "data": {
      "text/plain": [
       "count                           354369\n",
       "mean     2016-03-21 12:58:10.450648320\n",
       "min                2016-03-05 14:06:22\n",
       "25%                2016-03-13 11:52:33\n",
       "50%                2016-03-21 17:50:55\n",
       "75%                2016-03-29 14:37:20\n",
       "max                2016-04-07 14:36:58\n",
       "Name: DateCrawled, dtype: object"
      ]
     },
     "execution_count": 8,
     "metadata": {},
     "output_type": "execute_result"
    }
   ],
   "source": [
    "pd.to_datetime(data['DateCrawled'], format='%Y-%m-%d %H:%M:%S').describe(datetime_is_numeric=True)"
   ]
  },
  {
   "cell_type": "markdown",
   "metadata": {},
   "source": [
    "Значения - в пределах примерно месяца. Предположительно, столбец не несет полезной информации."
   ]
  },
  {
   "cell_type": "code",
   "execution_count": 9,
   "metadata": {},
   "outputs": [],
   "source": [
    "data = data.drop(['DateCrawled'], axis=1)"
   ]
  },
  {
   "cell_type": "markdown",
   "metadata": {},
   "source": [
    "### Удаление дублей"
   ]
  },
  {
   "cell_type": "markdown",
   "metadata": {},
   "source": [
    "Теперь, с учетом того, что одна и та же анкета могла быть скачана несколько раз, в разные моменты времени, можно удалить возможные повторяющиеся записи."
   ]
  },
  {
   "cell_type": "code",
   "execution_count": 10,
   "metadata": {},
   "outputs": [],
   "source": [
    "data = data.drop_duplicates()"
   ]
  },
  {
   "cell_type": "markdown",
   "metadata": {},
   "source": [
    "### LastSeen — дата последней активности пользователя"
   ]
  },
  {
   "cell_type": "code",
   "execution_count": 11,
   "metadata": {
    "scrolled": false
   },
   "outputs": [
    {
     "data": {
      "text/plain": [
       "count                           354280\n",
       "mean     2016-03-29 23:50:29.177647360\n",
       "min                2016-03-05 14:15:08\n",
       "25%         2016-03-23 02:49:58.500000\n",
       "50%                2016-04-03 15:15:31\n",
       "75%      2016-04-06 10:08:37.750000128\n",
       "max                2016-04-07 14:58:51\n",
       "Name: LastSeen, dtype: object"
      ]
     },
     "execution_count": 11,
     "metadata": {},
     "output_type": "execute_result"
    }
   ],
   "source": [
    "pd.to_datetime(data['LastSeen'], format='%Y-%m-%d %H:%M:%S').describe(datetime_is_numeric=True)"
   ]
  },
  {
   "cell_type": "markdown",
   "metadata": {},
   "source": [
    "Значения - в пределах примерно месяца. Предположительно, столбец не несет полезной информации."
   ]
  },
  {
   "cell_type": "code",
   "execution_count": 12,
   "metadata": {},
   "outputs": [],
   "source": [
    "data = data.drop(['LastSeen'], axis=1)"
   ]
  },
  {
   "cell_type": "markdown",
   "metadata": {},
   "source": [
    "### DateCreated — дата создания анкеты"
   ]
  },
  {
   "cell_type": "code",
   "execution_count": 13,
   "metadata": {
    "scrolled": true
   },
   "outputs": [
    {
     "data": {
      "text/plain": [
       "count                           354280\n",
       "mean     2016-03-20 19:11:40.246133248\n",
       "min                2014-03-10 00:00:00\n",
       "25%                2016-03-13 00:00:00\n",
       "50%                2016-03-21 00:00:00\n",
       "75%                2016-03-29 00:00:00\n",
       "max                2016-04-07 00:00:00\n",
       "Name: DateCreated, dtype: object"
      ]
     },
     "execution_count": 13,
     "metadata": {},
     "output_type": "execute_result"
    }
   ],
   "source": [
    "pd.to_datetime(data['DateCreated'], format='%Y-%m-%d %H:%M:%S').describe(datetime_is_numeric=True)"
   ]
  },
  {
   "cell_type": "markdown",
   "metadata": {},
   "source": [
    "Здесь присутствует некоторое количество значений с прошлых лет. В подобных объявлениях могут быть указаны неадекватные цены."
   ]
  },
  {
   "cell_type": "code",
   "execution_count": 14,
   "metadata": {},
   "outputs": [],
   "source": [
    "data['date_created'] = pd.to_datetime(data['DateCreated'], format='%Y-%m-%d %H:%M:%S')\n",
    "data = data.drop(['DateCreated'], axis=1)"
   ]
  },
  {
   "cell_type": "code",
   "execution_count": 15,
   "metadata": {},
   "outputs": [
    {
     "data": {
      "image/png": "[encoded data removed]",
      "text/plain": [
       "<Figure size 1080x288 with 1 Axes>"
      ]
     },
     "metadata": {
      "needs_background": "light"
     },
     "output_type": "display_data"
    }
   ],
   "source": [
    "graph = sns.histplot(data=data, x='date_created', discrete=True)\n",
    "graph.set(title='Гистограмма распределения частот дат создания анкет')\n",
    "graph.set_xlabel('Дата создания анкеты')\n",
    "graph.set_ylabel('Количество анкет, шт.')\n",
    "graph.figure.set_figwidth(15)"
   ]
  },
  {
   "cell_type": "code",
   "execution_count": 16,
   "metadata": {},
   "outputs": [
    {
     "data": {
      "text/plain": [
       "2014-03-10    1\n",
       "2015-03-20    1\n",
       "2015-06-18    1\n",
       "2015-08-07    1\n",
       "2015-08-10    1\n",
       "2015-09-04    2\n",
       "2015-09-09    1\n",
       "2015-11-02    1\n",
       "2015-11-08    1\n",
       "2015-11-10    1\n",
       "Name: date_created, dtype: int64"
      ]
     },
     "execution_count": 16,
     "metadata": {},
     "output_type": "execute_result"
    }
   ],
   "source": [
    "data['date_created'].value_counts().sort_index()[:10]"
   ]
  },
  {
   "cell_type": "code",
   "execution_count": 17,
   "metadata": {},
   "outputs": [
    {
     "data": {
      "text/plain": [
       "2016-03-29    12087\n",
       "2016-03-30    11818\n",
       "2016-03-31    11286\n",
       "2016-04-01    11960\n",
       "2016-04-02    12358\n",
       "2016-04-03    13712\n",
       "2016-04-04    13315\n",
       "2016-04-05     4102\n",
       "2016-04-06     1105\n",
       "2016-04-07      549\n",
       "Name: date_created, dtype: int64"
      ]
     },
     "execution_count": 17,
     "metadata": {},
     "output_type": "execute_result"
    }
   ],
   "source": [
    "data['date_created'].value_counts().sort_index()[-10:]"
   ]
  },
  {
   "cell_type": "code",
   "execution_count": 18,
   "metadata": {
    "scrolled": false
   },
   "outputs": [
    {
     "data": {
      "text/plain": [
       "2016-02-19       22\n",
       "2016-02-20       12\n",
       "2016-02-21       23\n",
       "2016-02-22       11\n",
       "2016-02-23       12\n",
       "2016-02-24       22\n",
       "2016-02-25       20\n",
       "2016-02-26       21\n",
       "2016-02-27       22\n",
       "2016-02-28       49\n",
       "2016-02-29       46\n",
       "2016-03-01       50\n",
       "2016-03-02       37\n",
       "2016-03-03      396\n",
       "2016-03-04      601\n",
       "2016-03-05     8185\n",
       "2016-03-06     5505\n",
       "2016-03-07    12239\n",
       "2016-03-08    11853\n",
       "2016-03-09    12150\n",
       "2016-03-10    11543\n",
       "2016-03-11    11646\n",
       "2016-03-12    12840\n",
       "2016-03-13     6014\n",
       "2016-03-14    12475\n",
       "2016-03-15    11802\n",
       "2016-03-16    10800\n",
       "2016-03-17    11114\n",
       "2016-03-18     4986\n",
       "2016-03-19    12191\n",
       "Name: date_created, dtype: int64"
      ]
     },
     "execution_count": 18,
     "metadata": {},
     "output_type": "execute_result"
    }
   ],
   "source": [
    "data['date_created'].value_counts().sort_index()[60:90]"
   ]
  },
  {
   "cell_type": "markdown",
   "metadata": {},
   "source": [
    "Старых объявлений относительно мало, исключим их из рассмотрения."
   ]
  },
  {
   "cell_type": "code",
   "execution_count": 19,
   "metadata": {},
   "outputs": [],
   "source": [
    "data = data.query('date_created > \"2016-03-02\"')"
   ]
  },
  {
   "cell_type": "code",
   "execution_count": 20,
   "metadata": {
    "scrolled": true
   },
   "outputs": [
    {
     "data": {
      "image/png": "[encoded data removed]",
      "text/plain": [
       "<Figure size 1080x288 with 1 Axes>"
      ]
     },
     "metadata": {
      "needs_background": "light"
     },
     "output_type": "display_data"
    }
   ],
   "source": [
    "graph = sns.histplot(data=data, x='date_created', discrete=True)\n",
    "graph.set(title='Гистограмма распределения частот дат создания анкет')\n",
    "graph.set_xlabel('Дата создания анкеты')\n",
    "graph.set_ylabel('Количество анкет, шт.')\n",
    "graph.figure.set_figwidth(15)"
   ]
  },
  {
   "cell_type": "code",
   "execution_count": 21,
   "metadata": {},
   "outputs": [],
   "source": [
    "data = data.drop(['date_created'], axis=1)"
   ]
  },
  {
   "cell_type": "markdown",
   "metadata": {},
   "source": [
    "### Price — цена (евро)"
   ]
  },
  {
   "cell_type": "code",
   "execution_count": 22,
   "metadata": {},
   "outputs": [
    {
     "data": {
      "text/plain": [
       "count   353700.00\n",
       "mean      4413.19\n",
       "std       4512.93\n",
       "min          0.00\n",
       "25%       1050.00\n",
       "50%       2700.00\n",
       "75%       6400.00\n",
       "max      20000.00\n",
       "Name: Price, dtype: float64"
      ]
     },
     "execution_count": 22,
     "metadata": {},
     "output_type": "execute_result"
    }
   ],
   "source": [
    "data['Price'].describe()"
   ]
  },
  {
   "cell_type": "code",
   "execution_count": 23,
   "metadata": {},
   "outputs": [
    {
     "data": {
      "image/png": "[encoded data removed]",
      "text/plain": [
       "<Figure size 1080x288 with 1 Axes>"
      ]
     },
     "metadata": {
      "needs_background": "light"
     },
     "output_type": "display_data"
    }
   ],
   "source": [
    "graph = sns.histplot(data=data, x='Price')\n",
    "graph.set(title='Гистограмма распределения частот цен')\n",
    "graph.set_xlabel('Цена, евро')\n",
    "graph.set_ylabel('Количество анкет, шт.')\n",
    "graph.set_xlim(data['Price'].min(), data['Price'].max())\n",
    "graph.figure.set_figwidth(15)"
   ]
  },
  {
   "cell_type": "markdown",
   "metadata": {},
   "source": [
    "Из общих соображений полагаем цену менее 100 евро неадекватной, и исключаем из рассмотрения такие анкеты."
   ]
  },
  {
   "cell_type": "code",
   "execution_count": 24,
   "metadata": {},
   "outputs": [],
   "source": [
    "data = data.query('Price >= 100')"
   ]
  },
  {
   "cell_type": "markdown",
   "metadata": {},
   "source": [
    "### PostalCode — почтовый индекс владельца анкеты (пользователя)"
   ]
  },
  {
   "cell_type": "markdown",
   "metadata": {},
   "source": [
    "Предположительно, столбец не несет полезной информации."
   ]
  },
  {
   "cell_type": "code",
   "execution_count": 25,
   "metadata": {},
   "outputs": [],
   "source": [
    "data = data.drop(['PostalCode'], axis=1)"
   ]
  },
  {
   "cell_type": "markdown",
   "metadata": {},
   "source": [
    "### NumberOfPictures — количество фотографий автомобиля"
   ]
  },
  {
   "cell_type": "markdown",
   "metadata": {},
   "source": [
    "Предположительно, столбец не несет полезной информации. Увеличение числа фотографий не увеличивает стоимость самого автомобиля."
   ]
  },
  {
   "cell_type": "code",
   "execution_count": 26,
   "metadata": {},
   "outputs": [],
   "source": [
    "data = data.drop(['NumberOfPictures'], axis=1)"
   ]
  },
  {
   "cell_type": "markdown",
   "metadata": {},
   "source": [
    "### Model — модель автомобиля"
   ]
  },
  {
   "cell_type": "markdown",
   "metadata": {},
   "source": [
    "Модель обязательно должна быть указана, иначе не понятно, что продается."
   ]
  },
  {
   "cell_type": "code",
   "execution_count": 27,
   "metadata": {},
   "outputs": [],
   "source": [
    "data = data.query('Model.notna() & Model != \"other\"')"
   ]
  },
  {
   "cell_type": "code",
   "execution_count": 28,
   "metadata": {
    "scrolled": false
   },
   "outputs": [
    {
     "data": {
      "text/plain": [
       "array(['100', '145', '147', '156', '159', '1_reihe', '1er', '200',\n",
       "       '2_reihe', '300c', '3_reihe', '3er', '4_reihe', '500', '5_reihe',\n",
       "       '5er', '601', '6_reihe', '6er', '7er', '80', '850', '90', '900',\n",
       "       '9000', '911', 'a1', 'a2', 'a3', 'a4', 'a5', 'a6', 'a8',\n",
       "       'a_klasse', 'accord', 'agila', 'alhambra', 'almera', 'altea',\n",
       "       'amarok', 'antara', 'arosa', 'astra', 'auris', 'avensis', 'aveo',\n",
       "       'aygo', 'b_klasse', 'b_max', 'beetle', 'berlingo', 'bora',\n",
       "       'boxster', 'bravo', 'c1', 'c2', 'c3', 'c4', 'c5', 'c_klasse',\n",
       "       'c_max', 'c_reihe', 'caddy', 'calibra', 'captiva', 'carisma',\n",
       "       'carnival', 'cayenne', 'cc', 'ceed', 'charade', 'cherokee',\n",
       "       'citigo', 'civic', 'cl', 'clio', 'clk', 'clubman', 'colt', 'combo',\n",
       "       'cooper', 'cordoba', 'corolla', 'corsa', 'cr_reihe', 'croma',\n",
       "       'crossfire', 'cuore', 'cx_reihe', 'defender', 'delta', 'discovery',\n",
       "       'doblo', 'ducato', 'duster', 'e_klasse', 'elefantino', 'eos',\n",
       "       'escort', 'espace', 'exeo', 'fabia', 'fiesta', 'focus', 'forester',\n",
       "       'forfour', 'fortwo', 'fox', 'freelander', 'fusion', 'g_klasse',\n",
       "       'galant', 'galaxy', 'getz', 'gl', 'glk', 'golf', 'grand', 'i3',\n",
       "       'i_reihe', 'ibiza', 'impreza', 'insignia', 'jazz', 'jetta',\n",
       "       'jimny', 'juke', 'justy', 'ka', 'kadett', 'kaefer', 'kalina',\n",
       "       'kalos', 'kangoo', 'kappa', 'kuga', 'laguna', 'lancer', 'lanos',\n",
       "       'legacy', 'leon', 'lodgy', 'logan', 'lupo', 'lybra', 'm_klasse',\n",
       "       'm_reihe', 'materia', 'matiz', 'megane', 'meriva', 'micra', 'mii',\n",
       "       'modus', 'mondeo', 'move', 'musa', 'mustang', 'mx_reihe', 'navara',\n",
       "       'niva', 'note', 'nubira', 'octavia', 'omega', 'one', 'outlander',\n",
       "       'pajero', 'panda', 'passat', 'phaeton', 'picanto', 'polo',\n",
       "       'primera', 'ptcruiser', 'punto', 'q3', 'q5', 'q7', 'qashqai',\n",
       "       'r19', 'range_rover', 'range_rover_evoque', 'range_rover_sport',\n",
       "       'rangerover', 'rav', 'rio', 'roadster', 'roomster', 'rx_reihe',\n",
       "       's60', 's_klasse', 's_max', 's_type', 'samara', 'sandero', 'santa',\n",
       "       'scenic', 'scirocco', 'seicento', 'serie_1', 'serie_2', 'serie_3',\n",
       "       'sharan', 'signum', 'sirion', 'sl', 'slk', 'sorento', 'spark',\n",
       "       'spider', 'sportage', 'sprinter', 'stilo', 'superb', 'swift',\n",
       "       'terios', 'tigra', 'tiguan', 'toledo', 'touareg', 'touran',\n",
       "       'transit', 'transporter', 'tt', 'tucson', 'twingo', 'up', 'v40',\n",
       "       'v50', 'v60', 'v70', 'v_klasse', 'vectra', 'verso', 'viano',\n",
       "       'vito', 'vivaro', 'voyager', 'wrangler', 'x_reihe', 'x_trail',\n",
       "       'x_type', 'xc_reihe', 'yaris', 'yeti', 'ypsilon', 'z_reihe',\n",
       "       'zafira'], dtype='<U18')"
      ]
     },
     "execution_count": 28,
     "metadata": {},
     "output_type": "execute_result"
    }
   ],
   "source": [
    "np.array(sorted(data['Model'].unique()))"
   ]
  },
  {
   "cell_type": "markdown",
   "metadata": {},
   "source": [
    "### Brand — марка автомобиля"
   ]
  },
  {
   "cell_type": "code",
   "execution_count": 29,
   "metadata": {
    "scrolled": false
   },
   "outputs": [
    {
     "data": {
      "text/plain": [
       "array(['alfa_romeo', 'audi', 'bmw', 'chevrolet', 'chrysler', 'citroen',\n",
       "       'dacia', 'daewoo', 'daihatsu', 'fiat', 'ford', 'honda', 'hyundai',\n",
       "       'jaguar', 'jeep', 'kia', 'lada', 'lancia', 'land_rover', 'mazda',\n",
       "       'mercedes_benz', 'mini', 'mitsubishi', 'nissan', 'opel', 'peugeot',\n",
       "       'porsche', 'renault', 'rover', 'saab', 'seat', 'skoda', 'smart',\n",
       "       'subaru', 'suzuki', 'toyota', 'trabant', 'volkswagen', 'volvo'],\n",
       "      dtype='<U13')"
      ]
     },
     "execution_count": 29,
     "metadata": {},
     "output_type": "execute_result"
    }
   ],
   "source": [
    "np.array(sorted(data['Brand'].unique()))"
   ]
  },
  {
   "cell_type": "markdown",
   "metadata": {},
   "source": [
    "### Repaired — была машина в ремонте или нет"
   ]
  },
  {
   "cell_type": "code",
   "execution_count": 30,
   "metadata": {
    "scrolled": true
   },
   "outputs": [
    {
     "data": {
      "text/plain": [
       "no     218089\n",
       "yes     28595\n",
       "NaN     53269\n",
       "Name: Repaired, dtype: int64"
      ]
     },
     "execution_count": 30,
     "metadata": {},
     "output_type": "execute_result"
    }
   ],
   "source": [
    "data['Repaired'].value_counts(dropna=False).sort_index()"
   ]
  },
  {
   "cell_type": "markdown",
   "metadata": {},
   "source": [
    "Заменим значения \"NaN\" на \"Unknown\"."
   ]
  },
  {
   "cell_type": "code",
   "execution_count": 31,
   "metadata": {},
   "outputs": [],
   "source": [
    "data['Repaired'] = data['Repaired'].fillna('Unknown')"
   ]
  },
  {
   "cell_type": "markdown",
   "metadata": {},
   "source": [
    "### FuelType — тип топлива"
   ]
  },
  {
   "cell_type": "code",
   "execution_count": 32,
   "metadata": {},
   "outputs": [
    {
     "data": {
      "text/plain": [
       "cng            495\n",
       "electric        26\n",
       "gasoline     88418\n",
       "hybrid         128\n",
       "lpg           4182\n",
       "other           89\n",
       "petrol      185527\n",
       "NaN          21088\n",
       "Name: FuelType, dtype: int64"
      ]
     },
     "execution_count": 32,
     "metadata": {},
     "output_type": "execute_result"
    }
   ],
   "source": [
    "data['FuelType'].value_counts(dropna=False).sort_index()"
   ]
  },
  {
   "cell_type": "markdown",
   "metadata": {},
   "source": [
    "\"gasoline\" и \"petrol\" - это одно и то же."
   ]
  },
  {
   "cell_type": "code",
   "execution_count": 33,
   "metadata": {},
   "outputs": [],
   "source": [
    "data.loc[data['FuelType'] == 'gasoline', 'FuelType'] = 'petrol'"
   ]
  },
  {
   "cell_type": "code",
   "execution_count": 34,
   "metadata": {},
   "outputs": [
    {
     "data": {
      "text/plain": [
       "cng            495\n",
       "electric        26\n",
       "hybrid         128\n",
       "lpg           4182\n",
       "other           89\n",
       "petrol      273945\n",
       "NaN          21088\n",
       "Name: FuelType, dtype: int64"
      ]
     },
     "execution_count": 34,
     "metadata": {},
     "output_type": "execute_result"
    }
   ],
   "source": [
    "data['FuelType'].value_counts(dropna=False).sort_index()"
   ]
  },
  {
   "cell_type": "markdown",
   "metadata": {},
   "source": [
    "\"other\" и \"NaN\" заменим на \"Unknown\"."
   ]
  },
  {
   "cell_type": "code",
   "execution_count": 35,
   "metadata": {},
   "outputs": [],
   "source": [
    "data['FuelType'] = data['FuelType'].fillna('Unknown')\n",
    "data.loc[data['FuelType'] == 'other', 'FuelType'] = 'Unknown'"
   ]
  },
  {
   "cell_type": "code",
   "execution_count": 36,
   "metadata": {},
   "outputs": [
    {
     "data": {
      "text/plain": [
       "Unknown      21177\n",
       "cng            495\n",
       "electric        26\n",
       "hybrid         128\n",
       "lpg           4182\n",
       "petrol      273945\n",
       "Name: FuelType, dtype: int64"
      ]
     },
     "execution_count": 36,
     "metadata": {},
     "output_type": "execute_result"
    }
   ],
   "source": [
    "data['FuelType'].value_counts(dropna=False).sort_index()"
   ]
  },
  {
   "cell_type": "markdown",
   "metadata": {},
   "source": [
    "### Kilometer — пробег (км)"
   ]
  },
  {
   "cell_type": "code",
   "execution_count": 37,
   "metadata": {},
   "outputs": [
    {
     "data": {
      "text/plain": [
       "5000        3376\n",
       "10000        824\n",
       "20000       3128\n",
       "30000       3686\n",
       "40000       4234\n",
       "50000       5385\n",
       "60000       6500\n",
       "70000       7463\n",
       "80000       8737\n",
       "90000      10107\n",
       "100000     12547\n",
       "125000     31651\n",
       "150000    202315\n",
       "Name: Kilometer, dtype: int64"
      ]
     },
     "execution_count": 37,
     "metadata": {},
     "output_type": "execute_result"
    }
   ],
   "source": [
    "data['Kilometer'].value_counts(dropna=False).sort_index()"
   ]
  },
  {
   "cell_type": "markdown",
   "metadata": {},
   "source": [
    "### Power — мощность (л. с.)"
   ]
  },
  {
   "cell_type": "code",
   "execution_count": 38,
   "metadata": {
    "scrolled": false
   },
   "outputs": [
    {
     "data": {
      "text/plain": [
       "count   299953.00\n",
       "mean       112.05\n",
       "std        186.29\n",
       "min          0.00\n",
       "25%         72.00\n",
       "50%        105.00\n",
       "75%        143.00\n",
       "max      20000.00\n",
       "Name: Power, dtype: float64"
      ]
     },
     "execution_count": 38,
     "metadata": {},
     "output_type": "execute_result"
    }
   ],
   "source": [
    "data['Power'].describe()"
   ]
  },
  {
   "cell_type": "markdown",
   "metadata": {},
   "source": [
    "Из общих соображений будем считать, что мощность должна быть не меньше 20 л.с. и не больше 600 л.с."
   ]
  },
  {
   "cell_type": "code",
   "execution_count": 39,
   "metadata": {},
   "outputs": [],
   "source": [
    "data = data.query('Power >= 20 & Power <= 600')"
   ]
  },
  {
   "cell_type": "markdown",
   "metadata": {},
   "source": [
    "### Gearbox — тип коробки передач"
   ]
  },
  {
   "cell_type": "code",
   "execution_count": 40,
   "metadata": {},
   "outputs": [
    {
     "data": {
      "text/plain": [
       "auto       52980\n",
       "manual    214120\n",
       "NaN         4823\n",
       "Name: Gearbox, dtype: int64"
      ]
     },
     "execution_count": 40,
     "metadata": {},
     "output_type": "execute_result"
    }
   ],
   "source": [
    "data['Gearbox'].value_counts(dropna=False).sort_index()"
   ]
  },
  {
   "cell_type": "markdown",
   "metadata": {},
   "source": [
    "Заменим значения \"NaN\" на \"Unknown\"."
   ]
  },
  {
   "cell_type": "code",
   "execution_count": 41,
   "metadata": {},
   "outputs": [],
   "source": [
    "data['Gearbox'] = data['Gearbox'].fillna('Unknown')"
   ]
  },
  {
   "cell_type": "code",
   "execution_count": 42,
   "metadata": {},
   "outputs": [
    {
     "data": {
      "text/plain": [
       "Unknown      4823\n",
       "auto        52980\n",
       "manual     214120\n",
       "Name: Gearbox, dtype: int64"
      ]
     },
     "execution_count": 42,
     "metadata": {},
     "output_type": "execute_result"
    }
   ],
   "source": [
    "data['Gearbox'].value_counts(dropna=False).sort_index()"
   ]
  },
  {
   "cell_type": "markdown",
   "metadata": {},
   "source": [
    "### VehicleType — тип автомобильного кузова"
   ]
  },
  {
   "cell_type": "code",
   "execution_count": 43,
   "metadata": {
    "scrolled": true
   },
   "outputs": [
    {
     "data": {
      "text/plain": [
       "bus            21666\n",
       "convertible    16715\n",
       "coupe          11291\n",
       "other           1669\n",
       "sedan          75456\n",
       "small          64095\n",
       "suv             8282\n",
       "wagon          55364\n",
       "NaN            17385\n",
       "Name: VehicleType, dtype: int64"
      ]
     },
     "execution_count": 43,
     "metadata": {},
     "output_type": "execute_result"
    }
   ],
   "source": [
    "data['VehicleType'].value_counts(dropna=False).sort_index()"
   ]
  },
  {
   "cell_type": "markdown",
   "metadata": {},
   "source": [
    "Заменим значения \"NaN\" и \"other\" на типичные для каждой модели автомобиля."
   ]
  },
  {
   "cell_type": "code",
   "execution_count": 44,
   "metadata": {},
   "outputs": [],
   "source": [
    "for brand in data['Brand'].unique():\n",
    "    for model in data.query('Brand == @brand')['Model'].unique():\n",
    "        mode = data.query('Brand == @brand & \\\n",
    "                           Model == @model & \\\n",
    "                           VehicleType.notna() & \\\n",
    "                           VehicleType != \"other\"'\n",
    "                         )['VehicleType'].mode()\n",
    "        \n",
    "        data.loc[(data['Brand'] == brand) &\n",
    "                 (data['Model'] == model) &\n",
    "                 ((data['VehicleType'].isna()) | (data['VehicleType'] == \"other\")), 'VehicleType'\n",
    "                ] = mode[0]"
   ]
  },
  {
   "cell_type": "code",
   "execution_count": 45,
   "metadata": {},
   "outputs": [
    {
     "data": {
      "text/plain": [
       "bus            24231\n",
       "convertible    16867\n",
       "coupe          11518\n",
       "sedan          83936\n",
       "small          69230\n",
       "suv             8517\n",
       "wagon          57624\n",
       "Name: VehicleType, dtype: int64"
      ]
     },
     "execution_count": 45,
     "metadata": {},
     "output_type": "execute_result"
    }
   ],
   "source": [
    "data['VehicleType'].value_counts(dropna=False).sort_index()"
   ]
  },
  {
   "cell_type": "markdown",
   "metadata": {},
   "source": [
    "### RegistrationYear — год регистрации автомобиля"
   ]
  },
  {
   "cell_type": "code",
   "execution_count": 46,
   "metadata": {},
   "outputs": [
    {
     "data": {
      "text/plain": [
       "count   271923.00\n",
       "mean      2003.76\n",
       "std         20.63\n",
       "min       1500.00\n",
       "25%       1999.00\n",
       "50%       2004.00\n",
       "75%       2008.00\n",
       "max       8200.00\n",
       "Name: RegistrationYear, dtype: float64"
      ]
     },
     "execution_count": 46,
     "metadata": {},
     "output_type": "execute_result"
    }
   ],
   "source": [
    "data['RegistrationYear'].describe()"
   ]
  },
  {
   "cell_type": "code",
   "execution_count": 47,
   "metadata": {},
   "outputs": [
    {
     "data": {
      "text/plain": [
       "1500    1\n",
       "1800    1\n",
       "1910    4\n",
       "1938    1\n",
       "1956    2\n",
       "1958    1\n",
       "1959    4\n",
       "1960    8\n",
       "1961    5\n",
       "1962    3\n",
       "Name: RegistrationYear, dtype: int64"
      ]
     },
     "execution_count": 47,
     "metadata": {},
     "output_type": "execute_result"
    }
   ],
   "source": [
    "data['RegistrationYear'].value_counts(dropna=False).sort_index()[:10]"
   ]
  },
  {
   "cell_type": "code",
   "execution_count": 48,
   "metadata": {},
   "outputs": [
    {
     "data": {
      "text/plain": [
       "2013    3553\n",
       "2014    2122\n",
       "2015     914\n",
       "2016    5236\n",
       "2017    6224\n",
       "2018    2394\n",
       "2019       9\n",
       "2900       1\n",
       "4000       2\n",
       "5000       3\n",
       "5911       2\n",
       "8200       1\n",
       "Name: RegistrationYear, dtype: int64"
      ]
     },
     "execution_count": 48,
     "metadata": {},
     "output_type": "execute_result"
    }
   ],
   "source": [
    "data['RegistrationYear'].value_counts(dropna=False).sort_index()[60:]"
   ]
  },
  {
   "cell_type": "markdown",
   "metadata": {},
   "source": [
    "Исключим из рассмотрения некорректные значения."
   ]
  },
  {
   "cell_type": "code",
   "execution_count": 49,
   "metadata": {},
   "outputs": [],
   "source": [
    "data = data.query('RegistrationYear >= 1910 & RegistrationYear <= 2016')"
   ]
  },
  {
   "cell_type": "markdown",
   "metadata": {},
   "source": [
    "### RegistrationMonth — месяц регистрации автомобиля"
   ]
  },
  {
   "cell_type": "code",
   "execution_count": 50,
   "metadata": {},
   "outputs": [
    {
     "data": {
      "text/plain": [
       "0     14427\n",
       "1     17917\n",
       "2     16753\n",
       "3     27211\n",
       "4     22897\n",
       "5     22883\n",
       "6     24515\n",
       "7     21189\n",
       "8     17584\n",
       "9     18974\n",
       "10    20714\n",
       "11    19142\n",
       "12    19079\n",
       "Name: RegistrationMonth, dtype: int64"
      ]
     },
     "execution_count": 50,
     "metadata": {},
     "output_type": "execute_result"
    }
   ],
   "source": [
    "data['RegistrationMonth'].value_counts(dropna=False).sort_index()"
   ]
  },
  {
   "cell_type": "markdown",
   "metadata": {},
   "source": [
    "Заменим значения \"0\" на \"1\"."
   ]
  },
  {
   "cell_type": "code",
   "execution_count": 51,
   "metadata": {},
   "outputs": [],
   "source": [
    "data.loc[data['RegistrationMonth'] == 0, 'RegistrationMonth'] = 1"
   ]
  },
  {
   "cell_type": "markdown",
   "metadata": {},
   "source": [
    "Заменим столбцы года и месяца на единый столбец возраста автомобиля в месяцах."
   ]
  },
  {
   "cell_type": "code",
   "execution_count": 52,
   "metadata": {},
   "outputs": [],
   "source": [
    "data['age_in_months'] = (2016 - data['RegistrationYear']) * 12 + (4 - data['RegistrationMonth'])\n",
    "data = data.query('age_in_months >= 0')\n",
    "\n",
    "data = data.drop(['RegistrationYear', 'RegistrationMonth'], axis=1)"
   ]
  },
  {
   "cell_type": "markdown",
   "metadata": {},
   "source": [
    "### Общая предобработка"
   ]
  },
  {
   "cell_type": "markdown",
   "metadata": {},
   "source": [
    "Преобразуем наименования столбцов в snake case."
   ]
  },
  {
   "cell_type": "code",
   "execution_count": 53,
   "metadata": {},
   "outputs": [],
   "source": [
    "data.columns = (data.columns\n",
    "                .str.replace('(?<=[a-z])(?=[A-Z])', '_', regex=True)\n",
    "                .str.lower()\n",
    "               )"
   ]
  },
  {
   "cell_type": "markdown",
   "metadata": {},
   "source": [
    "### Итог"
   ]
  },
  {
   "cell_type": "code",
   "execution_count": 54,
   "metadata": {
    "scrolled": true
   },
   "outputs": [
    {
     "name": "stdout",
     "output_type": "stream",
     "text": [
      "<class 'pandas.core.frame.DataFrame'>\n",
      "Int64Index: 260465 entries, 2 to 354368\n",
      "Data columns (total 10 columns):\n",
      " #   Column         Non-Null Count   Dtype \n",
      "---  ------         --------------   ----- \n",
      " 0   price          260465 non-null  int64 \n",
      " 1   vehicle_type   260465 non-null  object\n",
      " 2   gearbox        260465 non-null  object\n",
      " 3   power          260465 non-null  int64 \n",
      " 4   model          260465 non-null  object\n",
      " 5   kilometer      260465 non-null  int64 \n",
      " 6   fuel_type      260465 non-null  object\n",
      " 7   brand          260465 non-null  object\n",
      " 8   repaired       260465 non-null  object\n",
      " 9   age_in_months  260465 non-null  int64 \n",
      "dtypes: int64(4), object(6)\n",
      "memory usage: 21.9+ MB\n"
     ]
    }
   ],
   "source": [
    "data.info()"
   ]
  },
  {
   "cell_type": "code",
   "execution_count": 55,
   "metadata": {
    "scrolled": true
   },
   "outputs": [
    {
     "data": {
      "text/html": [
       "<div>\n",
       "<style scoped>\n",
       "    .dataframe tbody tr th:only-of-type {\n",
       "        vertical-align: middle;\n",
       "    }\n",
       "\n",
       "    .dataframe tbody tr th {\n",
       "        vertical-align: top;\n",
       "    }\n",
       "\n",
       "    .dataframe thead th {\n",
       "        text-align: right;\n",
       "    }\n",
       "</style>\n",
       "<table border=\"1\" class=\"dataframe\">\n",
       "  <thead>\n",
       "    <tr style=\"text-align: right;\">\n",
       "      <th></th>\n",
       "      <th>price</th>\n",
       "      <th>vehicle_type</th>\n",
       "      <th>gearbox</th>\n",
       "      <th>power</th>\n",
       "      <th>model</th>\n",
       "      <th>kilometer</th>\n",
       "      <th>fuel_type</th>\n",
       "      <th>brand</th>\n",
       "      <th>repaired</th>\n",
       "      <th>age_in_months</th>\n",
       "    </tr>\n",
       "  </thead>\n",
       "  <tbody>\n",
       "    <tr>\n",
       "      <th>2</th>\n",
       "      <td>9800</td>\n",
       "      <td>suv</td>\n",
       "      <td>auto</td>\n",
       "      <td>163</td>\n",
       "      <td>grand</td>\n",
       "      <td>125000</td>\n",
       "      <td>petrol</td>\n",
       "      <td>jeep</td>\n",
       "      <td>Unknown</td>\n",
       "      <td>140</td>\n",
       "    </tr>\n",
       "    <tr>\n",
       "      <th>3</th>\n",
       "      <td>1500</td>\n",
       "      <td>small</td>\n",
       "      <td>manual</td>\n",
       "      <td>75</td>\n",
       "      <td>golf</td>\n",
       "      <td>150000</td>\n",
       "      <td>petrol</td>\n",
       "      <td>volkswagen</td>\n",
       "      <td>no</td>\n",
       "      <td>178</td>\n",
       "    </tr>\n",
       "    <tr>\n",
       "      <th>4</th>\n",
       "      <td>3600</td>\n",
       "      <td>small</td>\n",
       "      <td>manual</td>\n",
       "      <td>69</td>\n",
       "      <td>fabia</td>\n",
       "      <td>90000</td>\n",
       "      <td>petrol</td>\n",
       "      <td>skoda</td>\n",
       "      <td>no</td>\n",
       "      <td>93</td>\n",
       "    </tr>\n",
       "    <tr>\n",
       "      <th>5</th>\n",
       "      <td>650</td>\n",
       "      <td>sedan</td>\n",
       "      <td>manual</td>\n",
       "      <td>102</td>\n",
       "      <td>3er</td>\n",
       "      <td>150000</td>\n",
       "      <td>petrol</td>\n",
       "      <td>bmw</td>\n",
       "      <td>yes</td>\n",
       "      <td>246</td>\n",
       "    </tr>\n",
       "    <tr>\n",
       "      <th>6</th>\n",
       "      <td>2200</td>\n",
       "      <td>convertible</td>\n",
       "      <td>manual</td>\n",
       "      <td>109</td>\n",
       "      <td>2_reihe</td>\n",
       "      <td>150000</td>\n",
       "      <td>petrol</td>\n",
       "      <td>peugeot</td>\n",
       "      <td>no</td>\n",
       "      <td>140</td>\n",
       "    </tr>\n",
       "  </tbody>\n",
       "</table>\n",
       "</div>"
      ],
      "text/plain": [
       "   price vehicle_type gearbox  power    model  kilometer fuel_type  \\\n",
       "2   9800          suv    auto    163    grand     125000    petrol   \n",
       "3   1500        small  manual     75     golf     150000    petrol   \n",
       "4   3600        small  manual     69    fabia      90000    petrol   \n",
       "5    650        sedan  manual    102      3er     150000    petrol   \n",
       "6   2200  convertible  manual    109  2_reihe     150000    petrol   \n",
       "\n",
       "        brand repaired  age_in_months  \n",
       "2        jeep  Unknown            140  \n",
       "3  volkswagen       no            178  \n",
       "4       skoda       no             93  \n",
       "5         bmw      yes            246  \n",
       "6     peugeot       no            140  "
      ]
     },
     "execution_count": 55,
     "metadata": {},
     "output_type": "execute_result"
    }
   ],
   "source": [
    "data.head()"
   ]
  },
  {
   "cell_type": "code",
   "execution_count": 56,
   "metadata": {},
   "outputs": [
    {
     "data": {
      "image/png": "[encoded data removed]",
      "text/plain": [
       "<Figure size 936x720 with 4 Axes>"
      ]
     },
     "metadata": {
      "needs_background": "light"
     },
     "output_type": "display_data"
    }
   ],
   "source": [
    "data.hist(figsize=(13, 10));"
   ]
  },
  {
   "cell_type": "markdown",
   "metadata": {},
   "source": [
    "## Подбор оптимальных параметров моделей"
   ]
  },
  {
   "cell_type": "code",
   "execution_count": 57,
   "metadata": {},
   "outputs": [],
   "source": [
    "features = data.drop(['price'], axis=1)\n",
    "target = data['price']\n",
    "\n",
    "X_train, X_test, y_train, y_test = train_test_split(\n",
    "    features, target, test_size=0.25, random_state=RANDOM_STATE\n",
    ")"
   ]
  },
  {
   "cell_type": "code",
   "execution_count": 58,
   "metadata": {},
   "outputs": [],
   "source": [
    "cat_features = X_train.select_dtypes(include='object').columns.to_list()\n",
    "\n",
    "col_transformer = make_column_transformer(\n",
    "    (\n",
    "        OrdinalEncoder(handle_unknown='use_encoded_value', unknown_value=-1),\n",
    "        ['brand', 'model']\n",
    "    ),\n",
    "    (\n",
    "        OneHotEncoder(handle_unknown='ignore'),\n",
    "        ['vehicle_type', 'repaired', 'gearbox', 'fuel_type']\n",
    "    ),    \n",
    "    remainder='passthrough'\n",
    ")"
   ]
  },
  {
   "cell_type": "markdown",
   "metadata": {},
   "source": [
    "### RandomForestRegressor"
   ]
  },
  {
   "cell_type": "code",
   "execution_count": 59,
   "metadata": {},
   "outputs": [],
   "source": [
    "model = RandomForestRegressor(random_state=RANDOM_STATE)\n",
    "\n",
    "pipe = make_pipeline(col_transformer, model)\n",
    "\n",
    "param_grid = {\n",
    "    'randomforestregressor__max_depth': range(18, 21)\n",
    "}\n",
    "\n",
    "grid = GridSearchCV(\n",
    "    pipe, \n",
    "    param_grid=param_grid,\n",
    "    scoring='neg_root_mean_squared_error', \n",
    "    cv=3,\n",
    "    verbose=2\n",
    ")"
   ]
  },
  {
   "cell_type": "code",
   "execution_count": 60,
   "metadata": {},
   "outputs": [
    {
     "name": "stdout",
     "output_type": "stream",
     "text": [
      "Fitting 3 folds for each of 3 candidates, totalling 9 fits\n",
      "[CV] END ................randomforestregressor__max_depth=18; total time=  42.3s\n",
      "[CV] END ................randomforestregressor__max_depth=18; total time=  42.9s\n",
      "[CV] END ................randomforestregressor__max_depth=18; total time=  42.5s\n",
      "[CV] END ................randomforestregressor__max_depth=19; total time=  44.0s\n",
      "[CV] END ................randomforestregressor__max_depth=19; total time=  43.7s\n",
      "[CV] END ................randomforestregressor__max_depth=19; total time=  44.0s\n",
      "[CV] END ................randomforestregressor__max_depth=20; total time=  45.1s\n",
      "[CV] END ................randomforestregressor__max_depth=20; total time=  43.0s\n",
      "[CV] END ................randomforestregressor__max_depth=20; total time=  44.6s\n"
     ]
    }
   ],
   "source": [
    "grid.fit(X_train, y_train);"
   ]
  },
  {
   "cell_type": "code",
   "execution_count": 61,
   "metadata": {},
   "outputs": [
    {
     "name": "stdout",
     "output_type": "stream",
     "text": [
      "Best score: \u001b[1m1506.6504278827822\u001b[0m\n",
      "Best params: {'randomforestregressor__max_depth': 19}\n"
     ]
    }
   ],
   "source": [
    "print('Best score:', bold(grid.best_score_ * -1))\n",
    "print('Best params:', grid.best_params_)"
   ]
  },
  {
   "cell_type": "markdown",
   "metadata": {},
   "source": [
    "### GradientBoostingRegressor"
   ]
  },
  {
   "cell_type": "code",
   "execution_count": 62,
   "metadata": {},
   "outputs": [],
   "source": [
    "model = GradientBoostingRegressor(random_state=RANDOM_STATE)\n",
    "\n",
    "pipe = make_pipeline(col_transformer, model)\n",
    "\n",
    "param_grid = {\n",
    "    'gradientboostingregressor__max_depth': range(10, 13)\n",
    "}\n",
    "\n",
    "grid = GridSearchCV(\n",
    "    pipe, \n",
    "    param_grid=param_grid,\n",
    "    scoring='neg_root_mean_squared_error', \n",
    "    cv=3,\n",
    "    verbose=2\n",
    ")"
   ]
  },
  {
   "cell_type": "code",
   "execution_count": 63,
   "metadata": {
    "scrolled": false
   },
   "outputs": [
    {
     "name": "stdout",
     "output_type": "stream",
     "text": [
      "Fitting 3 folds for each of 3 candidates, totalling 9 fits\n",
      "[CV] END ............gradientboostingregressor__max_depth=10; total time=  47.5s\n",
      "[CV] END ............gradientboostingregressor__max_depth=10; total time=  47.3s\n",
      "[CV] END ............gradientboostingregressor__max_depth=10; total time=  47.9s\n",
      "[CV] END ............gradientboostingregressor__max_depth=11; total time=  51.5s\n",
      "[CV] END ............gradientboostingregressor__max_depth=11; total time=  52.0s\n",
      "[CV] END ............gradientboostingregressor__max_depth=11; total time=  51.3s\n",
      "[CV] END ............gradientboostingregressor__max_depth=12; total time=  51.5s\n",
      "[CV] END ............gradientboostingregressor__max_depth=12; total time=  47.1s\n",
      "[CV] END ............gradientboostingregressor__max_depth=12; total time=  47.5s\n"
     ]
    }
   ],
   "source": [
    "grid.fit(X_train, y_train);"
   ]
  },
  {
   "cell_type": "code",
   "execution_count": 64,
   "metadata": {},
   "outputs": [
    {
     "name": "stdout",
     "output_type": "stream",
     "text": [
      "Best score: \u001b[1m1466.5339549960597\u001b[0m\n",
      "Best params: {'gradientboostingregressor__max_depth': 11}\n"
     ]
    }
   ],
   "source": [
    "print('Best score:', bold(grid.best_score_ * -1))\n",
    "print('Best params:', grid.best_params_)"
   ]
  },
  {
   "cell_type": "markdown",
   "metadata": {},
   "source": [
    "### LGBMRegressor"
   ]
  },
  {
   "cell_type": "code",
   "execution_count": 65,
   "metadata": {},
   "outputs": [],
   "source": [
    "model = LGBMRegressor(random_state=RANDOM_STATE)\n",
    "\n",
    "pipe = make_pipeline(col_transformer, model)\n",
    "\n",
    "param_grid = {\n",
    "    'lgbmregressor__max_depth': [16, None],\n",
    "    'lgbmregressor__learning_rate': [0.35, 0.5]\n",
    "}\n",
    "\n",
    "grid = GridSearchCV(\n",
    "    pipe, \n",
    "    param_grid=param_grid,\n",
    "    scoring='neg_root_mean_squared_error', \n",
    "    cv=3,\n",
    "    verbose=2\n",
    ")"
   ]
  },
  {
   "cell_type": "code",
   "execution_count": 66,
   "metadata": {
    "scrolled": true
   },
   "outputs": [
    {
     "name": "stdout",
     "output_type": "stream",
     "text": [
      "Fitting 3 folds for each of 4 candidates, totalling 12 fits\n",
      "[CV] END lgbmregressor__learning_rate=0.35, lgbmregressor__max_depth=16; total time=   3.3s\n",
      "[CV] END lgbmregressor__learning_rate=0.35, lgbmregressor__max_depth=16; total time=   3.3s\n",
      "[CV] END lgbmregressor__learning_rate=0.35, lgbmregressor__max_depth=16; total time=   3.2s\n",
      "[CV] END lgbmregressor__learning_rate=0.35, lgbmregressor__max_depth=None; total time=   3.0s\n",
      "[CV] END lgbmregressor__learning_rate=0.35, lgbmregressor__max_depth=None; total time=   3.4s\n",
      "[CV] END lgbmregressor__learning_rate=0.35, lgbmregressor__max_depth=None; total time=   3.8s\n",
      "[CV] END lgbmregressor__learning_rate=0.5, lgbmregressor__max_depth=16; total time=   3.3s\n",
      "[CV] END lgbmregressor__learning_rate=0.5, lgbmregressor__max_depth=16; total time=   3.9s\n",
      "[CV] END lgbmregressor__learning_rate=0.5, lgbmregressor__max_depth=16; total time=   5.0s\n",
      "[CV] END lgbmregressor__learning_rate=0.5, lgbmregressor__max_depth=None; total time=   3.4s\n",
      "[CV] END lgbmregressor__learning_rate=0.5, lgbmregressor__max_depth=None; total time=   3.3s\n",
      "[CV] END lgbmregressor__learning_rate=0.5, lgbmregressor__max_depth=None; total time=   3.3s\n"
     ]
    }
   ],
   "source": [
    "grid.fit(X_train, y_train);"
   ]
  },
  {
   "cell_type": "code",
   "execution_count": 67,
   "metadata": {},
   "outputs": [
    {
     "name": "stdout",
     "output_type": "stream",
     "text": [
      "Best score: \u001b[1m1523.5385119865434\u001b[0m\n",
      "Best params: {'lgbmregressor__learning_rate': 0.5, 'lgbmregressor__max_depth': 16}\n"
     ]
    }
   ],
   "source": [
    "print('Best score:', bold(grid.best_score_ * -1))\n",
    "print('Best params:', grid.best_params_)"
   ]
  },
  {
   "cell_type": "markdown",
   "metadata": {},
   "source": [
    "### CatBoostRegressor"
   ]
  },
  {
   "cell_type": "code",
   "execution_count": 68,
   "metadata": {},
   "outputs": [],
   "source": [
    "model = CatBoostRegressor(max_depth=16,\n",
    "                          iterations=100,\n",
    "                          logging_level='Silent',\n",
    "                          random_state=RANDOM_STATE\n",
    ")\n",
    "\n",
    "pipe = make_pipeline(col_transformer, model)\n",
    "\n",
    "param_grid = {\n",
    "    'catboostregressor__learning_rate': [0.25, 0.3]\n",
    "}\n",
    "\n",
    "grid = GridSearchCV(\n",
    "    pipe, \n",
    "    param_grid=param_grid,\n",
    "    scoring='neg_root_mean_squared_error', \n",
    "    cv=3,\n",
    "    verbose=2\n",
    ")"
   ]
  },
  {
   "cell_type": "code",
   "execution_count": 69,
   "metadata": {
    "scrolled": true
   },
   "outputs": [
    {
     "name": "stdout",
     "output_type": "stream",
     "text": [
      "Fitting 3 folds for each of 2 candidates, totalling 6 fits\n",
      "[CV] END ..............catboostregressor__learning_rate=0.25; total time= 2.6min\n",
      "[CV] END ..............catboostregressor__learning_rate=0.25; total time= 2.6min\n",
      "[CV] END ..............catboostregressor__learning_rate=0.25; total time= 2.6min\n",
      "[CV] END ...............catboostregressor__learning_rate=0.3; total time= 2.7min\n",
      "[CV] END ...............catboostregressor__learning_rate=0.3; total time= 2.6min\n",
      "[CV] END ...............catboostregressor__learning_rate=0.3; total time= 2.7min\n"
     ]
    }
   ],
   "source": [
    "grid.fit(X_train, y_train);"
   ]
  },
  {
   "cell_type": "code",
   "execution_count": 70,
   "metadata": {},
   "outputs": [
    {
     "name": "stdout",
     "output_type": "stream",
     "text": [
      "Best score: \u001b[1m1479.9477928879362\u001b[0m\n",
      "Best params: {'catboostregressor__learning_rate': 0.25}\n"
     ]
    }
   ],
   "source": [
    "print('Best score:', bold(grid.best_score_ * -1))\n",
    "print('Best params:', grid.best_params_)"
   ]
  },
  {
   "cell_type": "markdown",
   "metadata": {},
   "source": [
    "#### CatBoostRegressor со встроенным обработчиком категориальных признаков"
   ]
  },
  {
   "cell_type": "code",
   "execution_count": 71,
   "metadata": {},
   "outputs": [],
   "source": [
    "model = CatBoostRegressor(max_depth=16,\n",
    "                          iterations=100,\n",
    "                          cat_features=cat_features,\n",
    "                          logging_level='Silent',\n",
    "                          random_state=RANDOM_STATE\n",
    ")\n",
    "\n",
    "param_grid = {\n",
    "    'learning_rate': [0.25, 0.3]\n",
    "}\n",
    "\n",
    "grid = GridSearchCV(\n",
    "    model, \n",
    "    param_grid=param_grid,\n",
    "    scoring='neg_root_mean_squared_error', \n",
    "    cv=3,\n",
    "    verbose=2\n",
    ")"
   ]
  },
  {
   "cell_type": "code",
   "execution_count": 72,
   "metadata": {
    "scrolled": true
   },
   "outputs": [
    {
     "name": "stdout",
     "output_type": "stream",
     "text": [
      "Fitting 3 folds for each of 2 candidates, totalling 6 fits\n",
      "[CV] END .................................learning_rate=0.25; total time= 2.4min\n",
      "[CV] END .................................learning_rate=0.25; total time= 2.4min\n",
      "[CV] END .................................learning_rate=0.25; total time= 2.5min\n",
      "[CV] END ..................................learning_rate=0.3; total time= 2.5min\n",
      "[CV] END ..................................learning_rate=0.3; total time= 2.5min\n",
      "[CV] END ..................................learning_rate=0.3; total time= 2.5min\n"
     ]
    }
   ],
   "source": [
    "grid.fit(X_train, y_train);"
   ]
  },
  {
   "cell_type": "code",
   "execution_count": 73,
   "metadata": {},
   "outputs": [
    {
     "name": "stdout",
     "output_type": "stream",
     "text": [
      "Best score: \u001b[1m1487.9464274157162\u001b[0m\n",
      "Best params: {'learning_rate': 0.25}\n"
     ]
    }
   ],
   "source": [
    "print('Best score:', bold(grid.best_score_ * -1))\n",
    "print('Best params:', grid.best_params_)"
   ]
  },
  {
   "cell_type": "markdown",
   "metadata": {},
   "source": [
    "### Итог"
   ]
  },
  {
   "cell_type": "markdown",
   "metadata": {},
   "source": [
    "Итоги подбора оптимальных параметров моделей, и полученные с их помощью результаты представлены в следующей таблице."
   ]
  },
  {
   "cell_type": "markdown",
   "metadata": {},
   "source": [
    "<table align=left>\n",
    "    <tr>\n",
    "        <th><div style=\"text-align:center;\">Модель</div></th>\n",
    "        <th><div style=\"text-align:center;\">Параметры</div></th>\n",
    "        <th><div style=\"text-align:center;\">RMSE</div></th>\n",
    "    </tr>\n",
    "    <tr>\n",
    "        <td><div style=\"text-align:left;\">RandomForestRegressor</div></td>\n",
    "        <td><div style=\"text-align:center;\">max_depth: 19</div></td>\n",
    "        <td><div style=\"text-align:center;\">1507</div></td>\n",
    "    </tr>\n",
    "    <tr>\n",
    "        <td><div style=\"text-align:left;\"><b>GradientBoostingRegressor</b></div></td>\n",
    "        <td><div style=\"text-align:center;\">max_depth: 11</div></td>\n",
    "        <td><div style=\"text-align:center;\"><b>1467</b></div></td>\n",
    "    </tr>\n",
    "    <tr>\n",
    "        <td><div style=\"text-align:left;\">LGBMRegressor</div></td>\n",
    "        <td><div style=\"text-align:center;\">learning_rate: 0.5<br>max_depth: 16</div></td>\n",
    "        <td><div style=\"text-align:center;\">1524</div></td>\n",
    "    </tr>\n",
    "    <tr>\n",
    "        <td><div style=\"text-align:left;\">CatBoostRegressor</div></td>\n",
    "        <td><div style=\"text-align:center;\">max_depth: 16<br>iterations: 100<br>learning_rate: 0.25</div></td>\n",
    "        <td><div style=\"text-align:center;\">1480</div></td>\n",
    "    </tr>\n",
    "    <tr>\n",
    "        <td><div style=\"text-align:left;\">CatBoostRegressor (cat_features)</div></td>\n",
    "        <td><div style=\"text-align:center;\">max_depth: 16<br>iterations: 100<br>learning_rate: 0.25</div></td>\n",
    "        <td><div style=\"text-align:center;\">1488</div></td>\n",
    "    </tr>\n",
    "</table>"
   ]
  },
  {
   "cell_type": "markdown",
   "metadata": {},
   "source": [
    "Лучший результат у модели GradientBoostingRegressor с параметром max_depth=11<br>\n",
    "RMSE: 1467"
   ]
  },
  {
   "cell_type": "markdown",
   "metadata": {},
   "source": [
    "## Анализ скорости работы моделей"
   ]
  },
  {
   "cell_type": "markdown",
   "metadata": {},
   "source": [
    "### RandomForestRegressor"
   ]
  },
  {
   "cell_type": "code",
   "execution_count": 74,
   "metadata": {},
   "outputs": [],
   "source": [
    "model_rfr = RandomForestRegressor(max_depth=19, random_state=RANDOM_STATE)\n",
    "\n",
    "pipe_rfr = make_pipeline(col_transformer, model_rfr)"
   ]
  },
  {
   "cell_type": "code",
   "execution_count": 75,
   "metadata": {},
   "outputs": [
    {
     "name": "stdout",
     "output_type": "stream",
     "text": [
      "CPU times: user 1min 3s, sys: 151 ms, total: 1min 3s\n",
      "Wall time: 1min 3s\n"
     ]
    }
   ],
   "source": [
    "%%time\n",
    "pipe_rfr.fit(X_train, y_train);\n",
    "pass"
   ]
  },
  {
   "cell_type": "code",
   "execution_count": 76,
   "metadata": {},
   "outputs": [
    {
     "name": "stdout",
     "output_type": "stream",
     "text": [
      "CPU times: user 8.54 s, sys: 19.3 ms, total: 8.56 s\n",
      "Wall time: 8.57 s\n"
     ]
    }
   ],
   "source": [
    "%%time\n",
    "for _ in range(1000):\n",
    "    pred = pipe_rfr.predict(X_train[0:1])"
   ]
  },
  {
   "cell_type": "markdown",
   "metadata": {},
   "source": [
    "### GradientBoostingRegressor"
   ]
  },
  {
   "cell_type": "code",
   "execution_count": 77,
   "metadata": {},
   "outputs": [],
   "source": [
    "model_gbr = GradientBoostingRegressor(max_depth=11, random_state=RANDOM_STATE)\n",
    "\n",
    "pipe_gbr = make_pipeline(col_transformer, model_gbr)"
   ]
  },
  {
   "cell_type": "code",
   "execution_count": 78,
   "metadata": {},
   "outputs": [
    {
     "name": "stdout",
     "output_type": "stream",
     "text": [
      "CPU times: user 1min 16s, sys: 116 ms, total: 1min 16s\n",
      "Wall time: 1min 17s\n"
     ]
    }
   ],
   "source": [
    "%%time\n",
    "pipe_gbr.fit(X_train, y_train);\n",
    "pass"
   ]
  },
  {
   "cell_type": "code",
   "execution_count": 79,
   "metadata": {},
   "outputs": [
    {
     "name": "stdout",
     "output_type": "stream",
     "text": [
      "CPU times: user 3.27 s, sys: 10 ms, total: 3.28 s\n",
      "Wall time: 3.28 s\n"
     ]
    }
   ],
   "source": [
    "%%time\n",
    "for _ in range(1000):\n",
    "    pred = pipe_gbr.predict(X_train[0:1])"
   ]
  },
  {
   "cell_type": "markdown",
   "metadata": {},
   "source": [
    "### LGBMRegressor"
   ]
  },
  {
   "cell_type": "code",
   "execution_count": 80,
   "metadata": {},
   "outputs": [],
   "source": [
    "model_lgbmr = LGBMRegressor(max_depth=16, learning_rate=0.5, random_state=RANDOM_STATE)\n",
    "\n",
    "pipe_lgbmr = make_pipeline(col_transformer, model_lgbmr)"
   ]
  },
  {
   "cell_type": "code",
   "execution_count": 81,
   "metadata": {},
   "outputs": [
    {
     "name": "stdout",
     "output_type": "stream",
     "text": [
      "CPU times: user 1min 40s, sys: 0 ns, total: 1min 40s\n",
      "Wall time: 1min 41s\n"
     ]
    }
   ],
   "source": [
    "%%time\n",
    "pipe_lgbmr.fit(X_train, y_train);\n",
    "pass"
   ]
  },
  {
   "cell_type": "code",
   "execution_count": 82,
   "metadata": {},
   "outputs": [
    {
     "name": "stdout",
     "output_type": "stream",
     "text": [
      "CPU times: user 22.9 s, sys: 0 ns, total: 22.9 s\n",
      "Wall time: 23 s\n"
     ]
    }
   ],
   "source": [
    "%%time\n",
    "for _ in range(1000):\n",
    "    pred = pipe_lgbmr.predict(X_train[0:1])"
   ]
  },
  {
   "cell_type": "markdown",
   "metadata": {},
   "source": [
    "### CatBoostRegressor"
   ]
  },
  {
   "cell_type": "code",
   "execution_count": 83,
   "metadata": {},
   "outputs": [],
   "source": [
    "model_cbr = CatBoostRegressor(max_depth=16,\n",
    "                              iterations=100,\n",
    "                              learning_rate=0.25,\n",
    "                              random_state=RANDOM_STATE,\n",
    "                              logging_level='Silent'\n",
    ")\n",
    "\n",
    "pipe_cbr = make_pipeline(col_transformer, model_cbr)"
   ]
  },
  {
   "cell_type": "code",
   "execution_count": 84,
   "metadata": {},
   "outputs": [
    {
     "name": "stdout",
     "output_type": "stream",
     "text": [
      "CPU times: user 1min 27s, sys: 1min 7s, total: 2min 35s\n",
      "Wall time: 2min 36s\n"
     ]
    }
   ],
   "source": [
    "%%time\n",
    "pipe_cbr.fit(X_train, y_train);\n",
    "pass"
   ]
  },
  {
   "cell_type": "code",
   "execution_count": 85,
   "metadata": {
    "scrolled": true
   },
   "outputs": [
    {
     "name": "stdout",
     "output_type": "stream",
     "text": [
      "CPU times: user 3.48 s, sys: 19 ms, total: 3.5 s\n",
      "Wall time: 3.51 s\n"
     ]
    }
   ],
   "source": [
    "%%time\n",
    "for _ in range(1000):\n",
    "    pred = pipe_cbr.predict(X_train[0:1])"
   ]
  },
  {
   "cell_type": "markdown",
   "metadata": {},
   "source": [
    "#### CatBoostRegressor со встроенным обработчиком категориальных признаков"
   ]
  },
  {
   "cell_type": "code",
   "execution_count": 86,
   "metadata": {},
   "outputs": [],
   "source": [
    "model_cbrc = CatBoostRegressor(max_depth=16,\n",
    "                               iterations=100,\n",
    "                               learning_rate=0.25,\n",
    "                               cat_features=cat_features,\n",
    "                               random_state=RANDOM_STATE,\n",
    "                               logging_level='Silent'\n",
    ")"
   ]
  },
  {
   "cell_type": "code",
   "execution_count": 87,
   "metadata": {},
   "outputs": [
    {
     "name": "stdout",
     "output_type": "stream",
     "text": [
      "CPU times: user 1min 45s, sys: 48.5 s, total: 2min 34s\n",
      "Wall time: 2min 34s\n"
     ]
    }
   ],
   "source": [
    "%%time\n",
    "model_cbrc.fit(X_train, y_train)\n",
    "pass"
   ]
  },
  {
   "cell_type": "code",
   "execution_count": 88,
   "metadata": {},
   "outputs": [
    {
     "name": "stdout",
     "output_type": "stream",
     "text": [
      "CPU times: user 882 ms, sys: 639 µs, total: 883 ms\n",
      "Wall time: 889 ms\n"
     ]
    }
   ],
   "source": [
    "%%time\n",
    "for _ in range(1000):\n",
    "    pred = model_cbrc.predict(X_train[0:1])"
   ]
  },
  {
   "cell_type": "markdown",
   "metadata": {},
   "source": [
    "### Итог"
   ]
  },
  {
   "cell_type": "markdown",
   "metadata": {},
   "source": [
    "Итоговые результаты приведены в следующей таблице."
   ]
  },
  {
   "cell_type": "markdown",
   "metadata": {},
   "source": [
    "<table align=left>\n",
    "    <tr>\n",
    "        <th><div style=\"text-align:center;\">Модель</div></th>\n",
    "        <th><div style=\"text-align:center;\">Параметры</div></th>\n",
    "        <th><div style=\"text-align:center;\">RMSE</div></th>\n",
    "        <th><div style=\"text-align:center;\">Время обучения, с</div></th>\n",
    "        <th><div style=\"text-align:center;\">Время предсказания одного значения, мс</div></th>\n",
    "    </tr>\n",
    "    <tr>\n",
    "        <td><div style=\"text-align:left;\">RandomForestRegressor</div></td>\n",
    "        <td><div style=\"text-align:center;\">max_depth: 19</div></td>\n",
    "        <td><div style=\"text-align:center;\">1507</div></td>\n",
    "        <td><div style=\"text-align:center;\"><b>69</b></div></td>\n",
    "        <td><div style=\"text-align:center;\">9.4</div></td>\n",
    "    </tr>\n",
    "    <tr>\n",
    "        <td><div style=\"text-align:left;\"><b>GradientBoostingRegressor</b></div></td>\n",
    "        <td><div style=\"text-align:center;\">max_depth: 11</div></td>\n",
    "        <td><div style=\"text-align:center;\"><b>1467</b></div></td>\n",
    "        <td><div style=\"text-align:center;\">92</div></td>\n",
    "        <td><div style=\"text-align:center;\">3.6</div></td>\n",
    "    </tr>\n",
    "    <tr>\n",
    "        <td><div style=\"text-align:left;\">LGBMRegressor</div></td>\n",
    "        <td><div style=\"text-align:center;\">learning_rate: 0.5<br>max_depth: 16</div></td>\n",
    "        <td><div style=\"text-align:center;\">1524</div></td>\n",
    "        <td><div style=\"text-align:center;\">355</div></td>\n",
    "        <td><div style=\"text-align:center;\">60.0</div></td>\n",
    "    </tr>\n",
    "    <tr>\n",
    "        <td><div style=\"text-align:left;\">CatBoostRegressor</div></td>\n",
    "        <td><div style=\"text-align:center;\">max_depth: 16<br>iterations: 100<br>learning_rate: 0.25</div></td>\n",
    "        <td><div style=\"text-align:center;\">1480</div></td>\n",
    "        <td><div style=\"text-align:center;\">176</div></td>\n",
    "        <td><div style=\"text-align:center;\">4.8</div></td>\n",
    "    </tr>\n",
    "    <tr>\n",
    "        <td><div style=\"text-align:left;\">CatBoostRegressor (cat_features)</div></td>\n",
    "        <td><div style=\"text-align:center;\">max_depth: 16<br>iterations: 100<br>learning_rate: 0.25</div></td>\n",
    "        <td><div style=\"text-align:center;\">1488</div></td>\n",
    "        <td><div style=\"text-align:center;\">157</div></td>\n",
    "        <td><div style=\"text-align:center;\"><b>0.9</b></div></td>\n",
    "    </tr>\n",
    "</table>"
   ]
  },
  {
   "cell_type": "markdown",
   "metadata": {},
   "source": [
    "Лучшие результаты по качеству - у модели GradientBoostingRegressor.<br>\n",
    "По скорости обучения и предсказания она на вторых местах, но эти ее показатели представляются все же достаточно малыми, чтобы выбрать данную модель в качестве итоговой."
   ]
  },
  {
   "cell_type": "code",
   "execution_count": 89,
   "metadata": {},
   "outputs": [],
   "source": [
    "models_list = ['RandomForestRegressor',\n",
    "               'GradientBoostingRegressor',\n",
    "               'LGBMRegressor',\n",
    "               'CatBoostRegressor',\n",
    "               'CatBoostRegressor\\n(cat_features)'\n",
    "              ]\n",
    "\n",
    "rmse_list = [1507, 1467, 1524, 1480, 1488]\n",
    "train_time_list = [69, 92, 355, 176, 157]\n",
    "pred_time_list = [9.4, 3.6, 60.0, 4.8, 0.9]"
   ]
  },
  {
   "cell_type": "markdown",
   "metadata": {},
   "source": [
    "## Проверка лучшей модели на тестовой выборке"
   ]
  },
  {
   "cell_type": "code",
   "execution_count": 90,
   "metadata": {},
   "outputs": [],
   "source": [
    "pred = pipe_gbr.predict(X_test)"
   ]
  },
  {
   "cell_type": "code",
   "execution_count": 91,
   "metadata": {
    "scrolled": true
   },
   "outputs": [
    {
     "name": "stdout",
     "output_type": "stream",
     "text": [
      "RMSE: \u001b[1m1445.3393280605994\u001b[0m\n"
     ]
    }
   ],
   "source": [
    "rmse = mean_squared_error(y_test, pred, squared=False)\n",
    "print('RMSE:', bold(rmse))"
   ]
  },
  {
   "cell_type": "markdown",
   "metadata": {},
   "source": [
    "Результат - лучше, чем на обучающей выборке."
   ]
  },
  {
   "cell_type": "markdown",
   "metadata": {},
   "source": [
    "### Сравнение с Dummy-моделью"
   ]
  },
  {
   "cell_type": "code",
   "execution_count": 92,
   "metadata": {},
   "outputs": [
    {
     "name": "stdout",
     "output_type": "stream",
     "text": [
      "RMSE: 4889.393551621701\n"
     ]
    }
   ],
   "source": [
    "model_dummy = DummyRegressor(strategy=\"median\")\n",
    "model_dummy.fit(X_train, y_train)\n",
    "pred = model_dummy.predict(X_test)\n",
    "rmse = mean_squared_error(y_test, pred, squared=False)\n",
    "print('RMSE:', rmse)"
   ]
  },
  {
   "cell_type": "markdown",
   "metadata": {},
   "source": [
    "Результат Dummy-модели хуже, чем у выбранной модели GradientBoostingRegressor."
   ]
  },
  {
   "cell_type": "markdown",
   "metadata": {},
   "source": [
    "## Выводы"
   ]
  },
  {
   "cell_type": "markdown",
   "metadata": {},
   "source": [
    "Для решения задачи были использованы следующие модели:\n",
    "* Случайный лес (RandomForestRegressor)\n",
    "* Модели градиентного бустинга:\n",
    "  * GradientBoostingRegressor\n",
    "  * LGBMRegressor\n",
    "  * CatBoostRegressor \n",
    "  * CatBoostRegressor (с использованием встроенного обработчика категориальных признаков)"
   ]
  },
  {
   "cell_type": "markdown",
   "metadata": {},
   "source": [
    "Итоговые результаты приведены в следующей таблице."
   ]
  },
  {
   "cell_type": "markdown",
   "metadata": {},
   "source": [
    "<table align=left>\n",
    "    <tr>\n",
    "        <th><div style=\"text-align:center;\">Модель</div></th>\n",
    "        <th><div style=\"text-align:center;\">Параметры</div></th>\n",
    "        <th><div style=\"text-align:center;\">RMSE</div></th>\n",
    "        <th><div style=\"text-align:center;\">Время обучения, с</div></th>\n",
    "        <th><div style=\"text-align:center;\">Время предсказания одного значения, мс</div></th>\n",
    "    </tr>\n",
    "    <tr>\n",
    "        <td><div style=\"text-align:left;\">RandomForestRegressor</div></td>\n",
    "        <td><div style=\"text-align:center;\">max_depth: 19</div></td>\n",
    "        <td><div style=\"text-align:center;\">1507</div></td>\n",
    "        <td><div style=\"text-align:center;\"><b>69</b></div></td>\n",
    "        <td><div style=\"text-align:center;\">9.4</div></td>\n",
    "    </tr>\n",
    "    <tr>\n",
    "        <td><div style=\"text-align:left;\"><b>GradientBoostingRegressor</b></div></td>\n",
    "        <td><div style=\"text-align:center;\">max_depth: 11</div></td>\n",
    "        <td><div style=\"text-align:center;\"><b>1467</b></div></td>\n",
    "        <td><div style=\"text-align:center;\">92</div></td>\n",
    "        <td><div style=\"text-align:center;\">3.6</div></td>\n",
    "    </tr>\n",
    "    <tr>\n",
    "        <td><div style=\"text-align:left;\">LGBMRegressor</div></td>\n",
    "        <td><div style=\"text-align:center;\">learning_rate: 0.5<br>max_depth: 16</div></td>\n",
    "        <td><div style=\"text-align:center;\">1524</div></td>\n",
    "        <td><div style=\"text-align:center;\">355</div></td>\n",
    "        <td><div style=\"text-align:center;\">60.0</div></td>\n",
    "    </tr>\n",
    "    <tr>\n",
    "        <td><div style=\"text-align:left;\">CatBoostRegressor</div></td>\n",
    "        <td><div style=\"text-align:center;\">max_depth: 16<br>iterations: 100<br>learning_rate: 0.25</div></td>\n",
    "        <td><div style=\"text-align:center;\">1480</div></td>\n",
    "        <td><div style=\"text-align:center;\">176</div></td>\n",
    "        <td><div style=\"text-align:center;\">4.8</div></td>\n",
    "    </tr>\n",
    "    <tr>\n",
    "        <td><div style=\"text-align:left;\">CatBoostRegressor (cat_features)</div></td>\n",
    "        <td><div style=\"text-align:center;\">max_depth: 16<br>iterations: 100<br>learning_rate: 0.25</div></td>\n",
    "        <td><div style=\"text-align:center;\">1488</div></td>\n",
    "        <td><div style=\"text-align:center;\">157</div></td>\n",
    "        <td><div style=\"text-align:center;\"><b>0.9</b></div></td>\n",
    "    </tr>\n",
    "</table>"
   ]
  },
  {
   "cell_type": "code",
   "execution_count": 93,
   "metadata": {
    "scrolled": false
   },
   "outputs": [
    {
     "data": {
      "image/png": "[encoded data removed]",
      "text/plain": [
       "<Figure size 432x288 with 1 Axes>"
      ]
     },
     "metadata": {
      "needs_background": "light"
     },
     "output_type": "display_data"
    },
    {
     "data": {
      "image/png": "[encoded data removed]",
      "text/plain": [
       "<Figure size 432x288 with 1 Axes>"
      ]
     },
     "metadata": {
      "needs_background": "light"
     },
     "output_type": "display_data"
    },
    {
     "data": {
      "image/png": "[encoded data removed]",
      "text/plain": [
       "<Figure size 432x288 with 1 Axes>"
      ]
     },
     "metadata": {
      "needs_background": "light"
     },
     "output_type": "display_data"
    }
   ],
   "source": [
    "graph = sns.barplot(y=models_list, x=rmse_list)\n",
    "graph.set(title=\"RMSE\")\n",
    "graph.set(xlim=(1200, 1600))\n",
    "set_annotations_h(graph)\n",
    "plt.show()\n",
    "\n",
    "graph = sns.barplot(y=models_list, x=train_time_list)\n",
    "graph.set(title=\"Время обучения, с\")\n",
    "graph.set(xlim=(0, 400))\n",
    "set_annotations_h(graph)\n",
    "plt.show()\n",
    "\n",
    "graph = sns.barplot(y=models_list, x=pred_time_list)\n",
    "graph.set(title=\"Время предсказания одного значения, мс\")\n",
    "graph.set(xlim=(0, 70))\n",
    "set_annotations_h(graph, 1)\n",
    "plt.show()"
   ]
  },
  {
   "cell_type": "markdown",
   "metadata": {},
   "source": [
    "Лучшее качество предсказания - у модели <b>GradientBoostingRegressor</b>:<br>\n",
    "RMSE: <b>1467</b> (на тестовой выборке: <b>1445</b>).<br>\n",
    "Среднее время предсказания одного значения: <b>3.6 мс</b>.<br>\n",
    "Время обучения сравнимо с наилучшим и составляет <b>92 с</b>.<br>\n",
    "\n",
    "Быстрее прочих обучается модель случайного леса: за 69 с.<br>\n",
    "Лучшее время предсказания - у модели CatBoostRegressor с использованием встроенного обработчика категориальных признаков: 0.9 мс.\n",
    "\n",
    "Модель CatBoostRegressor при использовании встроенного обработчика категориальных признаков обучается и предсказывает быстрее, чем без него, но качество предсказания при этом незначительно ухудшается: RMSE увеличивается с 1480 до 1488."
   ]
  }
 ],
 "metadata": {
  "kernelspec": {
   "display_name": "Python 3",
   "language": "python",
   "name": "python3"
  },
  "language_info": {
   "codemirror_mode": {
    "name": "ipython",
    "version": 3
   },
   "file_extension": ".py",
   "mimetype": "text/x-python",
   "name": "python",
   "nbconvert_exporter": "python",
   "pygments_lexer": "ipython3",
   "version": "3.8.8"
  },
  "toc": {
   "base_numbering": 1,
   "nav_menu": {},
   "number_sections": true,
   "sideBar": true,
   "skip_h1_title": true,
   "title_cell": "Table of Contents",
   "title_sidebar": "Contents",
   "toc_cell": false,
   "toc_position": {
    "height": "calc(100% - 180px)",
    "left": "10px",
    "top": "150px",
    "width": "221.65px"
   },
   "toc_section_display": true,
   "toc_window_display": true
  }
 },
 "nbformat": 4,
 "nbformat_minor": 2
}
