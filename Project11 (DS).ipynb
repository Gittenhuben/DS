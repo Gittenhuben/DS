{
 "cells": [
  {
   "cell_type": "markdown",
   "metadata": {},
   "source": [
    "# Определение стоимости автомобилей"
   ]
  },
  {
   "cell_type": "markdown",
   "metadata": {},
   "source": [
    "**Задание**\n",
    "\n",
    "На основе исторических данных построить модель для быстрого определения рыночной стоимости автомобиля.\n",
    "\n",
    "<br>\n",
    "\n",
    "**Описание данных**\n",
    "\n",
    "* DateCrawled — дата скачивания анкеты из базы\n",
    "* VehicleType — тип автомобильного кузова\n",
    "* RegistrationYear — год регистрации автомобиля\n",
    "* Gearbox — тип коробки передач\n",
    "* Power — мощность (л. с.)\n",
    "* Model — модель автомобиля\n",
    "* Kilometer — пробег (км)\n",
    "* RegistrationMonth — месяц регистрации автомобиля\n",
    "* FuelType — тип топлива\n",
    "* Brand — марка автомобиля\n",
    "* Repaired — была машина в ремонте или нет\n",
    "* DateCreated — дата создания анкеты\n",
    "* NumberOfPictures — количество фотографий автомобиля\n",
    "* PostalCode — почтовый индекс владельца анкеты (пользователя)\n",
    "* LastSeen — дата последней активности пользователя\n",
    "* Price — цена (евро)"
   ]
  },
  {
   "cell_type": "markdown",
   "metadata": {},
   "source": [
    "## Подготовка данных"
   ]
  },
  {
   "cell_type": "code",
   "execution_count": 1,
   "metadata": {},
   "outputs": [],
   "source": [
    "import pandas as pd\n",
    "import numpy as np\n",
    "\n",
    "from sklearn.pipeline import make_pipeline\n",
    "from sklearn.model_selection import GridSearchCV\n",
    "from sklearn.model_selection import train_test_split\n",
    "from sklearn.compose import make_column_transformer\n",
    "from sklearn.preprocessing import OneHotEncoder\n",
    "from sklearn.preprocessing import OrdinalEncoder\n",
    "from sklearn.metrics import mean_squared_error\n",
    "\n",
    "from sklearn.ensemble import RandomForestRegressor\n",
    "from sklearn.ensemble import GradientBoostingRegressor\n",
    "from lightgbm import LGBMRegressor\n",
    "from catboost import CatBoostRegressor\n",
    "from sklearn.dummy import DummyRegressor\n",
    "\n",
    "import seaborn as sns\n",
    "import matplotlib.pyplot as plt"
   ]
  },
  {
   "cell_type": "code",
   "execution_count": 2,
   "metadata": {},
   "outputs": [],
   "source": [
    "RANDOM_STATE = 12345\n",
    "pd.options.display.float_format = \"{:.2f}\".format"
   ]
  },
  {
   "cell_type": "code",
   "execution_count": 3,
   "metadata": {},
   "outputs": [],
   "source": [
    "def set_annotations_h(graph, digits=0):\n",
    "    for p in graph.patches:\n",
    "        graph.annotate(('{:.' + str(digits) + 'f}').format(p.get_width()),\n",
    "                        (p.get_width() , p.get_y() + p.get_height()/2),\n",
    "                        ha = 'left', va = 'center',\n",
    "                        xytext = (9, 0),\n",
    "                        textcoords = 'offset points')"
   ]
  },
  {
   "cell_type": "code",
   "execution_count": 4,
   "metadata": {},
   "outputs": [],
   "source": [
    "def bold(string):\n",
    "    return '\\033[1m' + str(string) + '\\033[0m'"
   ]
  },
  {
   "cell_type": "code",
   "execution_count": 5,
   "metadata": {},
   "outputs": [],
   "source": [
    "data = pd.read_csv('/datasets/autos.csv')"
   ]
  },
  {
   "cell_type": "code",
   "execution_count": 6,
   "metadata": {},
   "outputs": [
    {
     "name": "stdout",
     "output_type": "stream",
     "text": [
      "<class 'pandas.core.frame.DataFrame'>\n",
      "RangeIndex: 354369 entries, 0 to 354368\n",
      "Data columns (total 16 columns):\n",
      " #   Column             Non-Null Count   Dtype \n",
      "---  ------             --------------   ----- \n",
      " 0   DateCrawled        354369 non-null  object\n",
      " 1   Price              354369 non-null  int64 \n",
      " 2   VehicleType        316879 non-null  object\n",
      " 3   RegistrationYear   354369 non-null  int64 \n",
      " 4   Gearbox            334536 non-null  object\n",
      " 5   Power              354369 non-null  int64 \n",
      " 6   Model              334664 non-null  object\n",
      " 7   Kilometer          354369 non-null  int64 \n",
      " 8   RegistrationMonth  354369 non-null  int64 \n",
      " 9   FuelType           321474 non-null  object\n",
      " 10  Brand              354369 non-null  object\n",
      " 11  Repaired           283215 non-null  object\n",
      " 12  DateCreated        354369 non-null  object\n",
      " 13  NumberOfPictures   354369 non-null  int64 \n",
      " 14  PostalCode         354369 non-null  int64 \n",
      " 15  LastSeen           354369 non-null  object\n",
      "dtypes: int64(7), object(9)\n",
      "memory usage: 43.3+ MB\n"
     ]
    }
   ],
   "source": [
    "data.info()"
   ]
  },
  {
   "cell_type": "code",
   "execution_count": 7,
   "metadata": {
    "scrolled": true
   },
   "outputs": [
    {
     "data": {
      "text/html": [
       "<div>\n",
       "<style scoped>\n",
       "    .dataframe tbody tr th:only-of-type {\n",
       "        vertical-align: middle;\n",
       "    }\n",
       "\n",
       "    .dataframe tbody tr th {\n",
       "        vertical-align: top;\n",
       "    }\n",
       "\n",
       "    .dataframe thead th {\n",
       "        text-align: right;\n",
       "    }\n",
       "</style>\n",
       "<table border=\"1\" class=\"dataframe\">\n",
       "  <thead>\n",
       "    <tr style=\"text-align: right;\">\n",
       "      <th></th>\n",
       "      <th>DateCrawled</th>\n",
       "      <th>Price</th>\n",
       "      <th>VehicleType</th>\n",
       "      <th>RegistrationYear</th>\n",
       "      <th>Gearbox</th>\n",
       "      <th>Power</th>\n",
       "      <th>Model</th>\n",
       "      <th>Kilometer</th>\n",
       "      <th>RegistrationMonth</th>\n",
       "      <th>FuelType</th>\n",
       "      <th>Brand</th>\n",
       "      <th>Repaired</th>\n",
       "      <th>DateCreated</th>\n",
       "      <th>NumberOfPictures</th>\n",
       "      <th>PostalCode</th>\n",
       "      <th>LastSeen</th>\n",
       "    </tr>\n",
       "  </thead>\n",
       "  <tbody>\n",
       "    <tr>\n",
       "      <th>0</th>\n",
       "      <td>2016-03-24 11:52:17</td>\n",
       "      <td>480</td>\n",
       "      <td>NaN</td>\n",
       "      <td>1993</td>\n",
       "      <td>manual</td>\n",
       "      <td>0</td>\n",
       "      <td>golf</td>\n",
       "      <td>150000</td>\n",
       "      <td>0</td>\n",
       "      <td>petrol</td>\n",
       "      <td>volkswagen</td>\n",
       "      <td>NaN</td>\n",
       "      <td>2016-03-24 00:00:00</td>\n",
       "      <td>0</td>\n",
       "      <td>70435</td>\n",
       "      <td>2016-04-07 03:16:57</td>\n",
       "    </tr>\n",
       "    <tr>\n",
       "      <th>1</th>\n",
       "      <td>2016-03-24 10:58:45</td>\n",
       "      <td>18300</td>\n",
       "      <td>coupe</td>\n",
       "      <td>2011</td>\n",
       "      <td>manual</td>\n",
       "      <td>190</td>\n",
       "      <td>NaN</td>\n",
       "      <td>125000</td>\n",
       "      <td>5</td>\n",
       "      <td>gasoline</td>\n",
       "      <td>audi</td>\n",
       "      <td>yes</td>\n",
       "      <td>2016-03-24 00:00:00</td>\n",
       "      <td>0</td>\n",
       "      <td>66954</td>\n",
       "      <td>2016-04-07 01:46:50</td>\n",
       "    </tr>\n",
       "    <tr>\n",
       "      <th>2</th>\n",
       "      <td>2016-03-14 12:52:21</td>\n",
       "      <td>9800</td>\n",
       "      <td>suv</td>\n",
       "      <td>2004</td>\n",
       "      <td>auto</td>\n",
       "      <td>163</td>\n",
       "      <td>grand</td>\n",
       "      <td>125000</td>\n",
       "      <td>8</td>\n",
       "      <td>gasoline</td>\n",
       "      <td>jeep</td>\n",
       "      <td>NaN</td>\n",
       "      <td>2016-03-14 00:00:00</td>\n",
       "      <td>0</td>\n",
       "      <td>90480</td>\n",
       "      <td>2016-04-05 12:47:46</td>\n",
       "    </tr>\n",
       "    <tr>\n",
       "      <th>3</th>\n",
       "      <td>2016-03-17 16:54:04</td>\n",
       "      <td>1500</td>\n",
       "      <td>small</td>\n",
       "      <td>2001</td>\n",
       "      <td>manual</td>\n",
       "      <td>75</td>\n",
       "      <td>golf</td>\n",
       "      <td>150000</td>\n",
       "      <td>6</td>\n",
       "      <td>petrol</td>\n",
       "      <td>volkswagen</td>\n",
       "      <td>no</td>\n",
       "      <td>2016-03-17 00:00:00</td>\n",
       "      <td>0</td>\n",
       "      <td>91074</td>\n",
       "      <td>2016-03-17 17:40:17</td>\n",
       "    </tr>\n",
       "    <tr>\n",
       "      <th>4</th>\n",
       "      <td>2016-03-31 17:25:20</td>\n",
       "      <td>3600</td>\n",
       "      <td>small</td>\n",
       "      <td>2008</td>\n",
       "      <td>manual</td>\n",
       "      <td>69</td>\n",
       "      <td>fabia</td>\n",
       "      <td>90000</td>\n",
       "      <td>7</td>\n",
       "      <td>gasoline</td>\n",
       "      <td>skoda</td>\n",
       "      <td>no</td>\n",
       "      <td>2016-03-31 00:00:00</td>\n",
       "      <td>0</td>\n",
       "      <td>60437</td>\n",
       "      <td>2016-04-06 10:17:21</td>\n",
       "    </tr>\n",
       "  </tbody>\n",
       "</table>\n",
       "</div>"
      ],
      "text/plain": [
       "           DateCrawled  Price VehicleType  RegistrationYear Gearbox  Power  \\\n",
       "0  2016-03-24 11:52:17    480         NaN              1993  manual      0   \n",
       "1  2016-03-24 10:58:45  18300       coupe              2011  manual    190   \n",
       "2  2016-03-14 12:52:21   9800         suv              2004    auto    163   \n",
       "3  2016-03-17 16:54:04   1500       small              2001  manual     75   \n",
       "4  2016-03-31 17:25:20   3600       small              2008  manual     69   \n",
       "\n",
       "   Model  Kilometer  RegistrationMonth  FuelType       Brand Repaired  \\\n",
       "0   golf     150000                  0    petrol  volkswagen      NaN   \n",
       "1    NaN     125000                  5  gasoline        audi      yes   \n",
       "2  grand     125000                  8  gasoline        jeep      NaN   \n",
       "3   golf     150000                  6    petrol  volkswagen       no   \n",
       "4  fabia      90000                  7  gasoline       skoda       no   \n",
       "\n",
       "           DateCreated  NumberOfPictures  PostalCode             LastSeen  \n",
       "0  2016-03-24 00:00:00                 0       70435  2016-04-07 03:16:57  \n",
       "1  2016-03-24 00:00:00                 0       66954  2016-04-07 01:46:50  \n",
       "2  2016-03-14 00:00:00                 0       90480  2016-04-05 12:47:46  \n",
       "3  2016-03-17 00:00:00                 0       91074  2016-03-17 17:40:17  \n",
       "4  2016-03-31 00:00:00                 0       60437  2016-04-06 10:17:21  "
      ]
     },
     "execution_count": 7,
     "metadata": {},
     "output_type": "execute_result"
    }
   ],
   "source": [
    "data.head()"
   ]
  },
  {
   "cell_type": "markdown",
   "metadata": {},
   "source": [
    "### DateCrawled — дата скачивания анкеты из базы"
   ]
  },
  {
   "cell_type": "code",
   "execution_count": 8,
   "metadata": {
    "scrolled": false
   },
   "outputs": [
    {
     "data": {
      "text/plain": [
       "count                           354369\n",
       "mean     2016-03-21 12:58:10.450648320\n",
       "min                2016-03-05 14:06:22\n",
       "25%                2016-03-13 11:52:33\n",
       "50%                2016-03-21 17:50:55\n",
       "75%                2016-03-29 14:37:20\n",
       "max                2016-04-07 14:36:58\n",
       "Name: DateCrawled, dtype: object"
      ]
     },
     "execution_count": 8,
     "metadata": {},
     "output_type": "execute_result"
    }
   ],
   "source": [
    "pd.to_datetime(data['DateCrawled'], format='%Y-%m-%d %H:%M:%S').describe(datetime_is_numeric=True)"
   ]
  },
  {
   "cell_type": "markdown",
   "metadata": {},
   "source": [
    "Значения - в пределах примерно месяца. Предположительно, столбец не несет полезной информации."
   ]
  },
  {
   "cell_type": "code",
   "execution_count": 9,
   "metadata": {},
   "outputs": [],
   "source": [
    "data = data.drop(['DateCrawled'], axis=1)"
   ]
  },
  {
   "cell_type": "markdown",
   "metadata": {},
   "source": [
    "### Удаление дублей"
   ]
  },
  {
   "cell_type": "markdown",
   "metadata": {},
   "source": [
    "Теперь, с учетом того, что одна и та же анкета могла быть скачана несколько раз, в разные моменты времени, можно удалить возможные повторяющиеся записи."
   ]
  },
  {
   "cell_type": "code",
   "execution_count": 10,
   "metadata": {},
   "outputs": [],
   "source": [
    "data = data.drop_duplicates()"
   ]
  },
  {
   "cell_type": "markdown",
   "metadata": {},
   "source": [
    "### LastSeen — дата последней активности пользователя"
   ]
  },
  {
   "cell_type": "code",
   "execution_count": 11,
   "metadata": {
    "scrolled": false
   },
   "outputs": [
    {
     "data": {
      "text/plain": [
       "count                           354280\n",
       "mean     2016-03-29 23:50:29.177647360\n",
       "min                2016-03-05 14:15:08\n",
       "25%         2016-03-23 02:49:58.500000\n",
       "50%                2016-04-03 15:15:31\n",
       "75%      2016-04-06 10:08:37.750000128\n",
       "max                2016-04-07 14:58:51\n",
       "Name: LastSeen, dtype: object"
      ]
     },
     "execution_count": 11,
     "metadata": {},
     "output_type": "execute_result"
    }
   ],
   "source": [
    "pd.to_datetime(data['LastSeen'], format='%Y-%m-%d %H:%M:%S').describe(datetime_is_numeric=True)"
   ]
  },
  {
   "cell_type": "markdown",
   "metadata": {},
   "source": [
    "Значения - в пределах примерно месяца. Предположительно, столбец не несет полезной информации."
   ]
  },
  {
   "cell_type": "code",
   "execution_count": 12,
   "metadata": {},
   "outputs": [],
   "source": [
    "data = data.drop(['LastSeen'], axis=1)"
   ]
  },
  {
   "cell_type": "markdown",
   "metadata": {},
   "source": [
    "### DateCreated — дата создания анкеты"
   ]
  },
  {
   "cell_type": "code",
   "execution_count": 13,
   "metadata": {
    "scrolled": true
   },
   "outputs": [
    {
     "data": {
      "text/plain": [
       "count                           354280\n",
       "mean     2016-03-20 19:11:40.246133248\n",
       "min                2014-03-10 00:00:00\n",
       "25%                2016-03-13 00:00:00\n",
       "50%                2016-03-21 00:00:00\n",
       "75%                2016-03-29 00:00:00\n",
       "max                2016-04-07 00:00:00\n",
       "Name: DateCreated, dtype: object"
      ]
     },
     "execution_count": 13,
     "metadata": {},
     "output_type": "execute_result"
    }
   ],
   "source": [
    "pd.to_datetime(data['DateCreated'], format='%Y-%m-%d %H:%M:%S').describe(datetime_is_numeric=True)"
   ]
  },
  {
   "cell_type": "markdown",
   "metadata": {},
   "source": [
    "Здесь присутствует некоторое количество значений с прошлых лет. В подобных объявлениях могут быть указаны неадекватные цены."
   ]
  },
  {
   "cell_type": "code",
   "execution_count": 14,
   "metadata": {},
   "outputs": [],
   "source": [
    "data['date_created'] = pd.to_datetime(data['DateCreated'], format='%Y-%m-%d %H:%M:%S')\n",
    "data = data.drop(['DateCreated'], axis=1)"
   ]
  },
  {
   "cell_type": "code",
   "execution_count": 15,
   "metadata": {},
   "outputs": [
    {
     "data": {
      "image/png": "[encoded data removed]",
      "text/plain": [
       "<Figure size 1080x288 with 1 Axes>"
      ]
     },
     "metadata": {
      "needs_background": "light"
     },
     "output_type": "display_data"
    }
   ],
   "source": [
    "graph = sns.histplot(data=data, x='date_created', discrete=True)\n",
    "graph.set(title='Гистограмма распределения частот дат создания анкет')\n",
    "graph.set_xlabel('Дата создания анкеты')\n",
    "graph.set_ylabel('Количество анкет, шт.')\n",
    "graph.figure.set_figwidth(15)"
   ]
  },
  {
   "cell_type": "code",
   "execution_count": 16,
   "metadata": {},
   "outputs": [
    {
     "data": {
      "text/plain": [
       "2014-03-10    1\n",
       "2015-03-20    1\n",
       "2015-06-18    1\n",
       "2015-08-07    1\n",
       "2015-08-10    1\n",
       "2015-09-04    2\n",
       "2015-09-09    1\n",
       "2015-11-02    1\n",
       "2015-11-08    1\n",
       "2015-11-10    1\n",
       "Name: date_created, dtype: int64"
      ]
     },
     "execution_count": 16,
     "metadata": {},
     "output_type": "execute_result"
    }
   ],
   "source": [
    "data['date_created'].value_counts().sort_index()[:10]"
   ]
  },
  {
   "cell_type": "code",
   "execution_count": 17,
   "metadata": {},
   "outputs": [
    {
     "data": {
      "text/plain": [
       "2016-03-29    12087\n",
       "2016-03-30    11818\n",
       "2016-03-31    11286\n",
       "2016-04-01    11960\n",
       "2016-04-02    12358\n",
       "2016-04-03    13712\n",
       "2016-04-04    13315\n",
       "2016-04-05     4102\n",
       "2016-04-06     1105\n",
       "2016-04-07      549\n",
       "Name: date_created, dtype: int64"
      ]
     },
     "execution_count": 17,
     "metadata": {},
     "output_type": "execute_result"
    }
   ],
   "source": [
    "data['date_created'].value_counts().sort_index()[-10:]"
   ]
  },
  {
   "cell_type": "code",
   "execution_count": 18,
   "metadata": {
    "scrolled": false
   },
   "outputs": [
    {
     "data": {
      "text/plain": [
       "2016-02-19       22\n",
       "2016-02-20       12\n",
       "2016-02-21       23\n",
       "2016-02-22       11\n",
       "2016-02-23       12\n",
       "2016-02-24       22\n",
       "2016-02-25       20\n",
       "2016-02-26       21\n",
       "2016-02-27       22\n",
       "2016-02-28       49\n",
       "2016-02-29       46\n",
       "2016-03-01       50\n",
       "2016-03-02       37\n",
       "2016-03-03      396\n",
       "2016-03-04      601\n",
       "2016-03-05     8185\n",
       "2016-03-06     5505\n",
       "2016-03-07    12239\n",
       "2016-03-08    11853\n",
       "2016-03-09    12150\n",
       "2016-03-10    11543\n",
       "2016-03-11    11646\n",
       "2016-03-12    12840\n",
       "2016-03-13     6014\n",
       "2016-03-14    12475\n",
       "2016-03-15    11802\n",
       "2016-03-16    10800\n",
       "2016-03-17    11114\n",
       "2016-03-18     4986\n",
       "2016-03-19    12191\n",
       "Name: date_created, dtype: int64"
      ]
     },
     "execution_count": 18,
     "metadata": {},
     "output_type": "execute_result"
    }
   ],
   "source": [
    "data['date_created'].value_counts().sort_index()[60:90]"
   ]
  },
  {
   "cell_type": "markdown",
   "metadata": {},
   "source": [
    "Старых объявлений относительно мало, исключим их из рассмотрения."
   ]
  },
  {
   "cell_type": "code",
   "execution_count": 19,
   "metadata": {},
   "outputs": [],
   "source": [
    "data = data.query('date_created > \"2016-03-02\"')"
   ]
  },
  {
   "cell_type": "code",
   "execution_count": 20,
   "metadata": {
    "scrolled": true
   },
   "outputs": [
    {
     "data": {
      "image/png": "[encoded data removed]",
      "text/plain": [
       "<Figure size 1080x288 with 1 Axes>"
      ]
     },
     "metadata": {
      "needs_background": "light"
     },
     "output_type": "display_data"
    }
   ],
   "source": [
    "graph = sns.histplot(data=data, x='date_created', discrete=True)\n",
    "graph.set(title='Гистограмма распределения частот дат создания анкет')\n",
    "graph.set_xlabel('Дата создания анкеты')\n",
    "graph.set_ylabel('Количество анкет, шт.')\n",
    "graph.figure.set_figwidth(15)"
   ]
  },
  {
   "cell_type": "code",
   "execution_count": 21,
   "metadata": {},
   "outputs": [],
   "source": [
    "data = data.drop(['date_created'], axis=1)"
   ]
  },
  {
   "cell_type": "markdown",
   "metadata": {},
   "source": [
    "### Price — цена (евро)"
   ]
  },
  {
   "cell_type": "code",
   "execution_count": 22,
   "metadata": {},
   "outputs": [
    {
     "data": {
      "text/plain": [
       "count   353700.00\n",
       "mean      4413.19\n",
       "std       4512.93\n",
       "min          0.00\n",
       "25%       1050.00\n",
       "50%       2700.00\n",
       "75%       6400.00\n",
       "max      20000.00\n",
       "Name: Price, dtype: float64"
      ]
     },
     "execution_count": 22,
     "metadata": {},
     "output_type": "execute_result"
    }
   ],
   "source": [
    "data['Price'].describe()"
   ]
  },
  {
   "cell_type": "code",
   "execution_count": 23,
   "metadata": {},
   "outputs": [
    {
     "data": {
      "image/png": "[encoded data removed]",
      "text/plain": [
       "<Figure size 1080x288 with 1 Axes>"
      ]
     },
     "metadata": {
      "needs_background": "light"
     },
     "output_type": "display_data"
    }
   ],
   "source": [
    "graph = sns.histplot(data=data, x='Price')\n",
    "graph.set(title='Гистограмма распределения частот цен')\n",
    "graph.set_xlabel('Цена, евро')\n",
    "graph.set_ylabel('Количество анкет, шт.')\n",
    "graph.set_xlim(data['Price'].min(), data['Price'].max())\n",
    "graph.figure.set_figwidth(15)"
   ]
  },
  {
   "cell_type": "markdown",
   "metadata": {},
   "source": [
    "Из общих соображений полагаем цену менее 100 евро неадекватной, и исключаем из рассмотрения такие анкеты."
   ]
  },
  {
   "cell_type": "code",
   "execution_count": 24,
   "metadata": {},
   "outputs": [],
   "source": [
    "data = data.query('Price >= 100')"
   ]
  },
  {
   "cell_type": "markdown",
   "metadata": {},
   "source": [
    "### PostalCode — почтовый индекс владельца анкеты (пользователя)"
   ]
  },
  {
   "cell_type": "markdown",
   "metadata": {},
   "source": [
    "Предположительно, столбец не несет полезной информации."
   ]
  },
  {
   "cell_type": "code",
   "execution_count": 25,
   "metadata": {},
   "outputs": [],
   "source": [
    "data = data.drop(['PostalCode'], axis=1)"
   ]
  },
  {
   "cell_type": "markdown",
   "metadata": {},
   "source": [
    "### NumberOfPictures — количество фотографий автомобиля"
   ]
  },
  {
   "cell_type": "markdown",
   "metadata": {},
   "source": [
    "Предположительно, столбец не несет полезной информации. Увеличение числа фотографий не увеличивает стоимость самого автомобиля."
   ]
  },
  {
   "cell_type": "code",
   "execution_count": 26,
   "metadata": {},
   "outputs": [],
   "source": [
    "data = data.drop(['NumberOfPictures'], axis=1)"
   ]
  },
  {
   "cell_type": "markdown",
   "metadata": {},
   "source": [
    "### Model — модель автомобиля"
   ]
  },
  {
   "cell_type": "markdown",
   "metadata": {},
   "source": [
    "Модель обязательно должна быть указана, иначе не понятно, что продается."
   ]
  },
  {
   "cell_type": "code",
   "execution_count": 27,
   "metadata": {},
   "outputs": [],
   "source": [
    "data = data.query('Model.notna() & Model != \"other\"')"
   ]
  },
  {
   "cell_type": "code",
   "execution_count": 28,
   "metadata": {
    "scrolled": false
   },
   "outputs": [
    {
     "data": {
      "text/plain": [
       "array(['100', '145', '147', '156', '159', '1_reihe', '1er', '200',\n",
       "       '2_reihe', '300c', '3_reihe', '3er', '4_reihe', '500', '5_reihe',\n",
       "       '5er', '601', '6_reihe', '6er', '7er', '80', '850', '90', '900',\n",
       "       '9000', '911', 'a1', 'a2', 'a3', 'a4', 'a5', 'a6', 'a8',\n",
       "       'a_klasse', 'accord', 'agila', 'alhambra', 'almera', 'altea',\n",
       "       'amarok', 'antara', 'arosa', 'astra', 'auris', 'avensis', 'aveo',\n",
       "       'aygo', 'b_klasse', 'b_max', 'beetle', 'berlingo', 'bora',\n",
       "       'boxster', 'bravo', 'c1', 'c2', 'c3', 'c4', 'c5', 'c_klasse',\n",
       "       'c_max', 'c_reihe', 'caddy', 'calibra', 'captiva', 'carisma',\n",
       "       'carnival', 'cayenne', 'cc', 'ceed', 'charade', 'cherokee',\n",
       "       'citigo', 'civic', 'cl', 'clio', 'clk', 'clubman', 'colt', 'combo',\n",
       "       'cooper', 'cordoba', 'corolla', 'corsa', 'cr_reihe', 'croma',\n",
       "       'crossfire', 'cuore', 'cx_reihe', 'defender', 'delta', 'discovery',\n",
       "       'doblo', 'ducato', 'duster', 'e_klasse', 'elefantino', 'eos',\n",
       "       'escort', 'espace', 'exeo', 'fabia', 'fiesta', 'focus', 'forester',\n",
       "       'forfour', 'fortwo', 'fox', 'freelander', 'fusion', 'g_klasse',\n",
       "       'galant', 'galaxy', 'getz', 'gl', 'glk', 'golf', 'grand', 'i3',\n",
       "       'i_reihe', 'ibiza', 'impreza', 'insignia', 'jazz', 'jetta',\n",
       "       'jimny', 'juke', 'justy', 'ka', 'kadett', 'kaefer', 'kalina',\n",
       "       'kalos', 'kangoo', 'kappa', 'kuga', 'laguna', 'lancer', 'lanos',\n",
       "       'legacy', 'leon', 'lodgy', 'logan', 'lupo', 'lybra', 'm_klasse',\n",
       "       'm_reihe', 'materia', 'matiz', 'megane', 'meriva', 'micra', 'mii',\n",
       "       'modus', 'mondeo', 'move', 'musa', 'mustang', 'mx_reihe', 'navara',\n",
       "       'niva', 'note', 'nubira', 'octavia', 'omega', 'one', 'outlander',\n",
       "       'pajero', 'panda', 'passat', 'phaeton', 'picanto', 'polo',\n",
       "       'primera', 'ptcruiser', 'punto', 'q3', 'q5', 'q7', 'qashqai',\n",
       "       'r19', 'range_rover', 'range_rover_evoque', 'range_rover_sport',\n",
       "       'rangerover', 'rav', 'rio', 'roadster', 'roomster', 'rx_reihe',\n",
       "       's60', 's_klasse', 's_max', 's_type', 'samara', 'sandero', 'santa',\n",
       "       'scenic', 'scirocco', 'seicento', 'serie_1', 'serie_2', 'serie_3',\n",
       "       'sharan', 'signum', 'sirion', 'sl', 'slk', 'sorento', 'spark',\n",
       "       'spider', 'sportage', 'sprinter', 'stilo', 'superb', 'swift',\n",
       "       'terios', 'tigra', 'tiguan', 'toledo', 'touareg', 'touran',\n",
       "       'transit', 'transporter', 'tt', 'tucson', 'twingo', 'up', 'v40',\n",
       "       'v50', 'v60', 'v70', 'v_klasse', 'vectra', 'verso', 'viano',\n",
       "       'vito', 'vivaro', 'voyager', 'wrangler', 'x_reihe', 'x_trail',\n",
       "       'x_type', 'xc_reihe', 'yaris', 'yeti', 'ypsilon', 'z_reihe',\n",
       "       'zafira'], dtype='<U18')"
      ]
     },
     "execution_count": 28,
     "metadata": {},
     "output_type": "execute_result"
    }
   ],
   "source": [
    "np.array(sorted(data['Model'].unique()))"
   ]
  },
  {
   "cell_type": "markdown",
   "metadata": {},
   "source": [
    "### Brand — марка автомобиля"
   ]
  },
  {
   "cell_type": "code",
   "execution_count": 29,
   "metadata": {
    "scrolled": false
   },
   "outputs": [
    {
     "data": {
      "text/plain": [
       "array(['alfa_romeo', 'audi', 'bmw', 'chevrolet', 'chrysler', 'citroen',\n",
       "       'dacia', 'daewoo', 'daihatsu', 'fiat', 'ford', 'honda', 'hyundai',\n",
       "       'jaguar', 'jeep', 'kia', 'lada', 'lancia', 'land_rover', 'mazda',\n",
       "       'mercedes_benz', 'mini', 'mitsubishi', 'nissan', 'opel', 'peugeot',\n",
       "       'porsche', 'renault', 'rover', 'saab', 'seat', 'skoda', 'smart',\n",
       "       'subaru', 'suzuki', 'toyota', 'trabant', 'volkswagen', 'volvo'],\n",
       "      dtype='<U13')"
      ]
     },
     "execution_count": 29,
     "metadata": {},
     "output_type": "execute_result"
    }
   ],
   "source": [
    "np.array(sorted(data['Brand'].unique()))"
   ]
  },
  {
   "cell_type": "markdown",
   "metadata": {},
   "source": [
    "### Repaired — была машина в ремонте или нет"
   ]
  },
  {
   "cell_type": "code",
   "execution_count": 30,
   "metadata": {
    "scrolled": true
   },
   "outputs": [
    {
     "data": {
      "text/plain": [
       "no     218089\n",
       "yes     28595\n",
       "NaN     53269\n",
       "Name: Repaired, dtype: int64"
      ]
     },
     "execution_count": 30,
     "metadata": {},
     "output_type": "execute_result"
    }
   ],
   "source": [
    "data['Repaired'].value_counts(dropna=False).sort_index()"
   ]
  },
  {
   "cell_type": "markdown",
   "metadata": {},
   "source": [
    "Заменим значения \"NaN\" на \"Unknown\"."
   ]
  },
  {
   "cell_type": "code",
   "execution_count": 31,
   "metadata": {},
   "outputs": [],
   "source": [
    "data['Repaired'] = data['Repaired'].fillna('Unknown')"
   ]
  },
  {
   "cell_type": "markdown",
   "metadata": {},
   "source": [
    "### FuelType — тип топлива"
   ]
  },
  {
   "cell_type": "code",
   "execution_count": 32,
   "metadata": {},
   "outputs": [
    {
     "data": {
      "text/plain": [
       "cng            495\n",
       "electric        26\n",
       "gasoline     88418\n",
       "hybrid         128\n",
       "lpg           4182\n",
       "other           89\n",
       "petrol      185527\n",
       "NaN          21088\n",
       "Name: FuelType, dtype: int64"
      ]
     },
     "execution_count": 32,
     "metadata": {},
     "output_type": "execute_result"
    }
   ],
   "source": [
    "data['FuelType'].value_counts(dropna=False).sort_index()"
   ]
  },
  {
   "cell_type": "markdown",
   "metadata": {},
   "source": [
    "\"gasoline\" и \"petrol\" - это одно и то же."
   ]
  },
  {
   "cell_type": "code",
   "execution_count": 33,
   "metadata": {},
   "outputs": [],
   "source": [
    "data.loc[data['FuelType'] == 'gasoline', 'FuelType'] = 'petrol'"
   ]
  },
  {
   "cell_type": "code",
   "execution_count": 34,
   "metadata": {},
   "outputs": [
    {
     "data": {
      "text/plain": [
       "cng            495\n",
       "electric        26\n",
       "hybrid         128\n",
       "lpg           4182\n",
       "other           89\n",
       "petrol      273945\n",
       "NaN          21088\n",
       "Name: FuelType, dtype: int64"
      ]
     },
     "execution_count": 34,
     "metadata": {},
     "output_type": "execute_result"
    }
   ],
   "source": [
    "data['FuelType'].value_counts(dropna=False).sort_index()"
   ]
  },
  {
   "cell_type": "markdown",
   "metadata": {},
   "source": [
    "\"other\" и \"NaN\" заменим на \"Unknown\"."
   ]
  },
  {
   "cell_type": "code",
   "execution_count": 35,
   "metadata": {},
   "outputs": [],
   "source": [
    "data['FuelType'] = data['FuelType'].fillna('Unknown')\n",
    "data.loc[data['FuelType'] == 'other', 'FuelType'] = 'Unknown'"
   ]
  },
  {
   "cell_type": "code",
   "execution_count": 36,
   "metadata": {},
   "outputs": [
    {
     "data": {
      "text/plain": [
       "Unknown      21177\n",
       "cng            495\n",
       "electric        26\n",
       "hybrid         128\n",
       "lpg           4182\n",
       "petrol      273945\n",
       "Name: FuelType, dtype: int64"
      ]
     },
     "execution_count": 36,
     "metadata": {},
     "output_type": "execute_result"
    }
   ],
   "source": [
    "data['FuelType'].value_counts(dropna=False).sort_index()"
   ]
  },
  {
   "cell_type": "markdown",
   "metadata": {},
   "source": [
    "### Kilometer — пробег (км)"
   ]
  },
  {
   "cell_type": "code",
   "execution_count": 37,
   "metadata": {},
   "outputs": [
    {
     "data": {
      "text/plain": [
       "5000        3376\n",
       "10000        824\n",
       "20000       3128\n",
       "30000       3686\n",
       "40000       4234\n",
       "50000       5385\n",
       "60000       6500\n",
       "70000       7463\n",
       "80000       8737\n",
       "90000      10107\n",
       "100000     12547\n",
       "125000     31651\n",
       "150000    202315\n",
       "Name: Kilometer, dtype: int64"
      ]
     },
     "execution_count": 37,
     "metadata": {},
     "output_type": "execute_result"
    }
   ],
   "source": [
    "data['Kilometer'].value_counts(dropna=False).sort_index()"
   ]
  },
  {
   "cell_type": "markdown",
   "metadata": {},
   "source": [
    "### Power — мощность (л. с.)"
   ]
  },
  {
   "cell_type": "code",
   "execution_count": 38,
   "metadata": {
    "scrolled": false
   },
   "outputs": [
    {
     "data": {
      "text/plain": [
       "count   299953.00\n",
       "mean       112.05\n",
       "std        186.29\n",
       "min          0.00\n",
       "25%         72.00\n",
       "50%        105.00\n",
       "75%        143.00\n",
       "max      20000.00\n",
       "Name: Power, dtype: float64"
      ]
     },
     "execution_count": 38,
     "metadata": {},
     "output_type": "execute_result"
    }
   ],
   "source": [
    "data['Power'].describe()"
   ]
  },
  {
   "cell_type": "markdown",
   "metadata": {},
   "source": [
    "Из общих соображений будем считать, что мощность должна быть не меньше 20 л.с. и не больше 600 л.с."
   ]
  },
  {
   "cell_type": "code",
   "execution_count": 39,
   "metadata": {},
   "outputs": [],
   "source": [
    "data = data.query('Power >= 20 & Power <= 600')"
   ]
  },
  {
   "cell_type": "markdown",
   "metadata": {},
   "source": [
    "### Gearbox — тип коробки передач"
   ]
  },
  {
   "cell_type": "code",
   "execution_count": 40,
   "metadata": {},
   "outputs": [
    {
     "data": {
      "text/plain": [
       "auto       52980\n",
       "manual    214120\n",
       "NaN         4823\n",
       "Name: Gearbox, dtype: int64"
      ]
     },
     "execution_count": 40,
     "metadata": {},
     "output_type": "execute_result"
    }
   ],
   "source": [
    "data['Gearbox'].value_counts(dropna=False).sort_index()"
   ]
  },
  {
   "cell_type": "markdown",
   "metadata": {},
   "source": [
    "Заменим значения \"NaN\" на \"Unknown\"."
   ]
  },
  {
   "cell_type": "code",
   "execution_count": 41,
   "metadata": {},
   "outputs": [],
   "source": [
    "data['Gearbox'] = data['Gearbox'].fillna('Unknown')"
   ]
  },
  {
   "cell_type": "code",
   "execution_count": 42,
   "metadata": {},
   "outputs": [
    {
     "data": {
      "text/plain": [
       "Unknown      4823\n",
       "auto        52980\n",
       "manual     214120\n",
       "Name: Gearbox, dtype: int64"
      ]
     },
     "execution_count": 42,
     "metadata": {},
     "output_type": "execute_result"
    }
   ],
   "source": [
    "data['Gearbox'].value_counts(dropna=False).sort_index()"
   ]
  },
  {
   "cell_type": "markdown",
   "metadata": {},
   "source": [
    "### VehicleType — тип автомобильного кузова"
   ]
  },
  {
   "cell_type": "code",
   "execution_count": 43,
   "metadata": {
    "scrolled": true
   },
   "outputs": [
    {
     "data": {
      "text/plain": [
       "bus            21666\n",
       "convertible    16715\n",
       "coupe          11291\n",
       "other           1669\n",
       "sedan          75456\n",
       "small          64095\n",
       "suv             8282\n",
       "wagon          55364\n",
       "NaN            17385\n",
       "Name: VehicleType, dtype: int64"
      ]
     },
     "execution_count": 43,
     "metadata": {},
     "output_type": "execute_result"
    }
   ],
   "source": [
    "data['VehicleType'].value_counts(dropna=False).sort_index()"
   ]
  },
  {
   "cell_type": "markdown",
   "metadata": {},
   "source": [
    "Заменим значения \"NaN\" и \"other\" на типичные для каждой модели автомобиля."
   ]
  },
  {
   "cell_type": "code",
   "execution_count": 44,
   "metadata": {},
   "outputs": [],
   "source": [
    "for brand in data['Brand'].unique():\n",
    "    for model in data.query('Brand == @brand')['Model'].unique():\n",
    "        mode = data.query('Brand == @brand & \\\n",
    "                           Model == @model & \\\n",
    "                           VehicleType.notna() & \\\n",
    "                           VehicleType != \"other\"'\n",
    "                         )['VehicleType'].mode()\n",
    "        \n",
    "        data.loc[(data['Brand'] == brand) &\n",
    "                 (data['Model'] == model) &\n",
    "                 ((data['VehicleType'].isna()) | (data['VehicleType'] == \"other\")), 'VehicleType'\n",
    "                ] = mode[0]"
   ]
  },
  {
   "cell_type": "code",
   "execution_count": 45,
   "metadata": {},
   "outputs": [
    {
     "data": {
      "text/plain": [
       "bus            24231\n",
       "convertible    16867\n",
       "coupe          11518\n",
       "sedan          83936\n",
       "small          69230\n",
       "suv             8517\n",
       "wagon          57624\n",
       "Name: VehicleType, dtype: int64"
      ]
     },
     "execution_count": 45,
     "metadata": {},
     "output_type": "execute_result"
    }
   ],
   "source": [
    "data['VehicleType'].value_counts(dropna=False).sort_index()"
   ]
  },
  {
   "cell_type": "markdown",
   "metadata": {},
   "source": [
    "### RegistrationYear — год регистрации автомобиля"
   ]
  },
  {
   "cell_type": "code",
   "execution_count": 46,
   "metadata": {},
   "outputs": [
    {
     "data": {
      "text/plain": [
       "count   271923.00\n",
       "mean      2003.76\n",
       "std         20.63\n",
       "min       1500.00\n",
       "25%       1999.00\n",
       "50%       2004.00\n",
       "75%       2008.00\n",
       "max       8200.00\n",
       "Name: RegistrationYear, dtype: float64"
      ]
     },
     "execution_count": 46,
     "metadata": {},
     "output_type": "execute_result"
    }
   ],
   "source": [
    "data['RegistrationYear'].describe()"
   ]
  },
  {
   "cell_type": "code",
   "execution_count": 47,
   "metadata": {},
   "outputs": [
    {
     "data": {
      "text/plain": [
       "1500    1\n",
       "1800    1\n",
       "1910    4\n",
       "1938    1\n",
       "1956    2\n",
       "1958    1\n",
       "1959    4\n",
       "1960    8\n",
       "1961    5\n",
       "1962    3\n",
       "Name: RegistrationYear, dtype: int64"
      ]
     },
     "execution_count": 47,
     "metadata": {},
     "output_type": "execute_result"
    }
   ],
   "source": [
    "data['RegistrationYear'].value_counts(dropna=False).sort_index()[:10]"
   ]
  },
  {
   "cell_type": "code",
   "execution_count": 48,
   "metadata": {},
   "outputs": [
    {
     "data": {
      "text/plain": [
       "2013    3553\n",
       "2014    2122\n",
       "2015     914\n",
       "2016    5236\n",
       "2017    6224\n",
       "2018    2394\n",
       "2019       9\n",
       "2900       1\n",
       "4000       2\n",
       "5000       3\n",
       "5911       2\n",
       "8200       1\n",
       "Name: RegistrationYear, dtype: int64"
      ]
     },
     "execution_count": 48,
     "metadata": {},
     "output_type": "execute_result"
    }
   ],
   "source": [
    "data['RegistrationYear'].value_counts(dropna=False).sort_index()[60:]"
   ]
  },
  {
   "cell_type": "markdown",
   "metadata": {},
   "source": [
    "Исключим из рассмотрения некорректные значения."
   ]
  },
  {
   "cell_type": "code",
   "execution_count": 49,
   "metadata": {},
   "outputs": [],
   "source": [
    "data = data.query('RegistrationYear >= 1910 & RegistrationYear <= 2016')"
   ]
  },
  {
   "cell_type": "markdown",
   "metadata": {},
   "source": [
    "### RegistrationMonth — месяц регистрации автомобиля"
   ]
  },
  {
   "cell_type": "code",
   "execution_count": 50,
   "metadata": {},
   "outputs": [
    {
     "data": {
      "text/plain": [
       "0     14427\n",
       "1     17917\n",
       "2     16753\n",
       "3     27211\n",
       "4     22897\n",
       "5     22883\n",
       "6     24515\n",
       "7     21189\n",
       "8     17584\n",
       "9     18974\n",
       "10    20714\n",
       "11    19142\n",
       "12    19079\n",
       "Name: RegistrationMonth, dtype: int64"
      ]
     },
     "execution_count": 50,
     "metadata": {},
     "output_type": "execute_result"
    }
   ],
   "source": [
    "data['RegistrationMonth'].value_counts(dropna=False).sort_index()"
   ]
  },
  {
   "cell_type": "markdown",
   "metadata": {},
   "source": [
    "Заменим значения \"0\" на \"1\"."
   ]
  },
  {
   "cell_type": "code",
   "execution_count": 51,
   "metadata": {},
   "outputs": [],
   "source": [
    "data.loc[data['RegistrationMonth'] == 0, 'RegistrationMonth'] = 1"
   ]
  },
  {
   "cell_type": "markdown",
   "metadata": {},
   "source": [
    "Заменим столбцы года и месяца на единый столбец возраста автомобиля в месяцах."
   ]
  },
  {
   "cell_type": "code",
   "execution_count": 52,
   "metadata": {},
   "outputs": [],
   "source": [
    "data['age_in_months'] = (2016 - data['RegistrationYear']) * 12 + (4 - data['RegistrationMonth'])\n",
    "data = data.query('age_in_months >= 0')\n",
    "\n",
    "data = data.drop(['RegistrationYear', 'RegistrationMonth'], axis=1)"
   ]
  },
  {
   "cell_type": "markdown",
   "metadata": {},
   "source": [
    "### Общая предобработка"
   ]
  },
  {
   "cell_type": "markdown",
   "metadata": {},
   "source": [
    "Преобразуем наименования столбцов в snake case."
   ]
  },
  {
   "cell_type": "code",
   "execution_count": 53,
   "metadata": {},
   "outputs": [],
   "source": [
    "data.columns = (data.columns\n",
    "                .str.replace('(?<=[a-z])(?=[A-Z])', '_', regex=True)\n",
    "                .str.lower()\n",
    "               )"
   ]
  },
  {
   "cell_type": "markdown",
   "metadata": {},
   "source": [
    "### Итог"
   ]
  },
  {
   "cell_type": "code",
   "execution_count": 54,
   "metadata": {
    "scrolled": true
   },
   "outputs": [
    {
     "name": "stdout",
     "output_type": "stream",
     "text": [
      "<class 'pandas.core.frame.DataFrame'>\n",
      "Int64Index: 260465 entries, 2 to 354368\n",
      "Data columns (total 10 columns):\n",
      " #   Column         Non-Null Count   Dtype \n",
      "---  ------         --------------   ----- \n",
      " 0   price          260465 non-null  int64 \n",
      " 1   vehicle_type   260465 non-null  object\n",
      " 2   gearbox        260465 non-null  object\n",
      " 3   power          260465 non-null  int64 \n",
      " 4   model          260465 non-null  object\n",
      " 5   kilometer      260465 non-null  int64 \n",
      " 6   fuel_type      260465 non-null  object\n",
      " 7   brand          260465 non-null  object\n",
      " 8   repaired       260465 non-null  object\n",
      " 9   age_in_months  260465 non-null  int64 \n",
      "dtypes: int64(4), object(6)\n",
      "memory usage: 21.9+ MB\n"
     ]
    }
   ],
   "source": [
    "data.info()"
   ]
  },
  {
   "cell_type": "code",
   "execution_count": 55,
   "metadata": {
    "scrolled": true
   },
   "outputs": [
    {
     "data": {
      "text/html": [
       "<div>\n",
       "<style scoped>\n",
       "    .dataframe tbody tr th:only-of-type {\n",
       "        vertical-align: middle;\n",
       "    }\n",
       "\n",
       "    .dataframe tbody tr th {\n",
       "        vertical-align: top;\n",
       "    }\n",
       "\n",
       "    .dataframe thead th {\n",
       "        text-align: right;\n",
       "    }\n",
       "</style>\n",
       "<table border=\"1\" class=\"dataframe\">\n",
       "  <thead>\n",
       "    <tr style=\"text-align: right;\">\n",
       "      <th></th>\n",
       "      <th>price</th>\n",
       "      <th>vehicle_type</th>\n",
       "      <th>gearbox</th>\n",
       "      <th>power</th>\n",
       "      <th>model</th>\n",
       "      <th>kilometer</th>\n",
       "      <th>fuel_type</th>\n",
       "      <th>brand</th>\n",
       "      <th>repaired</th>\n",
       "      <th>age_in_months</th>\n",
       "    </tr>\n",
       "  </thead>\n",
       "  <tbody>\n",
       "    <tr>\n",
       "      <th>2</th>\n",
       "      <td>9800</td>\n",
       "      <td>suv</td>\n",
       "      <td>auto</td>\n",
       "      <td>163</td>\n",
       "      <td>grand</td>\n",
       "      <td>125000</td>\n",
       "      <td>petrol</td>\n",
       "      <td>jeep</td>\n",
       "      <td>Unknown</td>\n",
       "      <td>140</td>\n",
       "    </tr>\n",
       "    <tr>\n",
       "      <th>3</th>\n",
       "      <td>1500</td>\n",
       "      <td>small</td>\n",
       "      <td>manual</td>\n",
       "      <td>75</td>\n",
       "      <td>golf</td>\n",
       "      <td>150000</td>\n",
       "      <td>petrol</td>\n",
       "      <td>volkswagen</td>\n",
       "      <td>no</td>\n",
       "      <td>178</td>\n",
       "    </tr>\n",
       "    <tr>\n",
       "      <th>4</th>\n",
       "      <td>3600</td>\n",
       "      <td>small</td>\n",
       "      <td>manual</td>\n",
       "      <td>69</td>\n",
       "      <td>fabia</td>\n",
       "      <td>90000</td>\n",
       "      <td>petrol</td>\n",
       "      <td>skoda</td>\n",
       "      <td>no</td>\n",
       "      <td>93</td>\n",
       "    </tr>\n",
       "    <tr>\n",
       "      <th>5</th>\n",
       "      <td>650</td>\n",
       "      <td>sedan</td>\n",
       "      <td>manual</td>\n",
       "      <td>102</td>\n",
       "      <td>3er</td>\n",
       "      <td>150000</td>\n",
       "      <td>petrol</td>\n",
       "      <td>bmw</td>\n",
       "      <td>yes</td>\n",
       "      <td>246</td>\n",
       "    </tr>\n",
       "    <tr>\n",
       "      <th>6</th>\n",
       "      <td>2200</td>\n",
       "      <td>convertible</td>\n",
       "      <td>manual</td>\n",
       "      <td>109</td>\n",
       "      <td>2_reihe</td>\n",
       "      <td>150000</td>\n",
       "      <td>petrol</td>\n",
       "      <td>peugeot</td>\n",
       "      <td>no</td>\n",
       "      <td>140</td>\n",
       "    </tr>\n",
       "  </tbody>\n",
       "</table>\n",
       "</div>"
      ],
      "text/plain": [
       "   price vehicle_type gearbox  power    model  kilometer fuel_type  \\\n",
       "2   9800          suv    auto    163    grand     125000    petrol   \n",
       "3   1500        small  manual     75     golf     150000    petrol   \n",
       "4   3600        small  manual     69    fabia      90000    petrol   \n",
       "5    650        sedan  manual    102      3er     150000    petrol   \n",
       "6   2200  convertible  manual    109  2_reihe     150000    petrol   \n",
       "\n",
       "        brand repaired  age_in_months  \n",
       "2        jeep  Unknown            140  \n",
       "3  volkswagen       no            178  \n",
       "4       skoda       no             93  \n",
       "5         bmw      yes            246  \n",
       "6     peugeot       no            140  "
      ]
     },
     "execution_count": 55,
     "metadata": {},
     "output_type": "execute_result"
    }
   ],
   "source": [
    "data.head()"
   ]
  },
  {
   "cell_type": "code",
   "execution_count": 56,
   "metadata": {},
   "outputs": [
    {
     "data": {
      "image/png": "[encoded data removed]",
      "text/plain": [
       "<Figure size 936x720 with 4 Axes>"
      ]
     },
     "metadata": {
      "needs_background": "light"
     },
     "output_type": "display_data"
    }
   ],
   "source": [
    "data.hist(figsize=(13, 10));"
   ]
  },
  {
   "cell_type": "markdown",
   "metadata": {},
   "source": [
    "## Подбор оптимальных параметров моделей"
   ]
  },
  {
   "cell_type": "code",
   "execution_count": 57,
   "metadata": {},
   "outputs": [],
   "source": [
    "features = data.drop(['price'], axis=1)\n",
    "target = data['price']\n",
    "\n",
    "X_train, X_test, y_train, y_test = train_test_split(\n",
    "    features, target, test_size=0.25, random_state=RANDOM_STATE\n",
    ")"
   ]
  },
  {
   "cell_type": "code",
   "execution_count": 58,
   "metadata": {},
   "outputs": [],
   "source": [
    "cat_features = X_train.select_dtypes(include='object').columns.to_list()\n",
    "\n",
    "col_transformer = make_column_transformer(\n",
    "    (\n",
    "        OrdinalEncoder(handle_unknown='use_encoded_value', unknown_value=-1),\n",
    "        ['brand', 'model']\n",
    "    ),\n",
    "    (\n",
    "        OneHotEncoder(handle_unknown='ignore'),\n",
    "        ['vehicle_type', 'repaired', 'gearbox', 'fuel_type']\n",
    "    ),    \n",
    "    remainder='passthrough'\n",
    ")"
   ]
  },
  {
   "cell_type": "markdown",
   "metadata": {},
   "source": [
    "### RandomForestRegressor"
   ]
  },
  {
   "cell_type": "code",
   "execution_count": 59,
   "metadata": {},
   "outputs": [],
   "source": [
    "model = RandomForestRegressor(random_state=RANDOM_STATE)\n",
    "\n",
    "pipe = make_pipeline(col_transformer, model)\n",
    "\n",
    "param_grid = {\n",
    "    'randomforestregressor__max_depth': range(18, 21)\n",
    "}\n",
    "\n",
    "grid = GridSearchCV(\n",
    "    pipe, \n",
    "    param_grid=param_grid,\n",
    "    scoring='neg_root_mean_squared_error', \n",
    "    cv=3,\n",
    "    verbose=2\n",
    ")"
   ]
  },
  {
   "cell_type": "code",
   "execution_count": 60,
   "metadata": {},
   "outputs": [
    {
     "name": "stdout",
     "output_type": "stream",
     "text": [
      "Fitting 3 folds for each of 3 candidates, totalling 9 fits\n",
      "[CV] END ................randomforestregressor__max_depth=18; total time=  42.3s\n",
      "[CV] END ................randomforestregressor__max_depth=18; total time=  42.9s\n",
      "[CV] END ................randomforestregressor__max_depth=18; total time=  42.5s\n",
      "[CV] END ................randomforestregressor__max_depth=19; total time=  44.0s\n",
      "[CV] END ................randomforestregressor__max_depth=19; total time=  43.7s\n",
      "[CV] END ................randomforestregressor__max_depth=19; total time=  44.0s\n",
      "[CV] END ................randomforestregressor__max_depth=20; total time=  45.1s\n",
      "[CV] END ................randomforestregressor__max_depth=20; total time=  43.0s\n",
      "[CV] END ................randomforestregressor__max_depth=20; total time=  44.6s\n"
     ]
    }
   ],
   "source": [
    "grid.fit(X_train, y_train);"
   ]
  },
  {
   "cell_type": "code",
   "execution_count": 61,
   "metadata": {},
   "outputs": [
    {
     "name": "stdout",
     "output_type": "stream",
     "text": [
      "Best score: \u001b[1m1506.6504278827822\u001b[0m\n",
      "Best params: {'randomforestregressor__max_depth': 19}\n"
     ]
    }
   ],
   "source": [
    "print('Best score:', bold(grid.best_score_ * -1))\n",
    "print('Best params:', grid.best_params_)"
   ]
  },
  {
   "cell_type": "markdown",
   "metadata": {},
   "source": [
    "### GradientBoostingRegressor"
   ]
  },
  {
   "cell_type": "code",
   "execution_count": 62,
   "metadata": {},
   "outputs": [],
   "source": [
    "model = GradientBoostingRegressor(random_state=RANDOM_STATE)\n",
    "\n",
    "pipe = make_pipeline(col_transformer, model)\n",
    "\n",
    "param_grid = {\n",
    "    'gradientboostingregressor__max_depth': range(10, 13)\n",
    "}\n",
    "\n",
    "grid = GridSearchCV(\n",
    "    pipe, \n",
    "    param_grid=param_grid,\n",
    "    scoring='neg_root_mean_squared_error', \n",
    "    cv=3,\n",
    "    verbose=2\n",
    ")"
   ]
  },
  {
   "cell_type": "code",
   "execution_count": 63,
   "metadata": {
    "scrolled": false
   },
   "outputs": [
    {
     "name": "stdout",
     "output_type": "stream",
     "text": [
      "Fitting 3 folds for each of 3 candidates, totalling 9 fits\n",
      "[CV] END ............gradientboostingregressor__max_depth=10; total time=  47.5s\n",
      "[CV] END ............gradientboostingregressor__max_depth=10; total time=  47.3s\n",
      "[CV] END ............gradientboostingregressor__max_depth=10; total time=  47.9s\n",
      "[CV] END ............gradientboostingregressor__max_depth=11; total time=  51.5s\n",
      "[CV] END ............gradientboostingregressor__max_depth=11; total time=  52.0s\n",
      "[CV] END ............gradientboostingregressor__max_depth=11; total time=  51.3s\n",
      "[CV] END ............gradientboostingregressor__max_depth=12; total time=  51.5s\n",
      "[CV] END ............gradientboostingregressor__max_depth=12; total time=  47.1s\n",
      "[CV] END ............gradientboostingregressor__max_depth=12; total time=  47.5s\n"
     ]
    }
   ],
   "source": [
    "grid.fit(X_train, y_train);"
   ]
  },
  {
   "cell_type": "code",
   "execution_count": 64,
   "metadata": {},
   "outputs": [
    {
     "name": "stdout",
     "output_type": "stream",
     "text": [
      "Best score: \u001b[1m1466.5339549960597\u001b[0m\n",
      "Best params: {'gradientboostingregressor__max_depth': 11}\n"
     ]
    }
   ],
   "source": [
    "print('Best score:', bold(grid.best_score_ * -1))\n",
    "print('Best params:', grid.best_params_)"
   ]
  },
  {
   "cell_type": "markdown",
   "metadata": {},
   "source": [
    "### LGBMRegressor"
   ]
  },
  {
   "cell_type": "code",
   "execution_count": 65,
   "metadata": {},
   "outputs": [],
   "source": [
    "model = LGBMRegressor(random_state=RANDOM_STATE)\n",
    "\n",
    "pipe = make_pipeline(col_transformer, model)\n",
    "\n",
    "param_grid = {\n",
    "    'lgbmregressor__max_depth': [16, None],\n",
    "    'lgbmregressor__learning_rate': [0.35, 0.5]\n",
    "}\n",
    "\n",
    "grid = GridSearchCV(\n",
    "    pipe, \n",
    "    param_grid=param_grid,\n",
    "    scoring='neg_root_mean_squared_error', \n",
    "    cv=3,\n",
    "    verbose=2\n",
    ")"
   ]
  },
  {
   "cell_type": "code",
   "execution_count": 66,
   "metadata": {
    "scrolled": true
   },
   "outputs": [
    {
     "name": "stdout",
     "output_type": "stream",
     "text": [
      "Fitting 3 folds for each of 4 candidates, totalling 12 fits\n",
      "[CV] END lgbmregressor__learning_rate=0.35, lgbmregressor__max_depth=16; total time=   3.3s\n",
      "[CV] END lgbmregressor__learning_rate=0.35, lgbmregressor__max_depth=16; total time=   3.3s\n",
      "[CV] END lgbmregressor__learning_rate=0.35, lgbmregressor__max_depth=16; total time=   3.2s\n",
      "[CV] END lgbmregressor__learning_rate=0.35, lgbmregressor__max_depth=None; total time=   3.0s\n",
      "[CV] END lgbmregressor__learning_rate=0.35, lgbmregressor__max_depth=None; total time=   3.4s\n",
      "[CV] END lgbmregressor__learning_rate=0.35, lgbmregressor__max_depth=None; total time=   3.8s\n",
      "[CV] END lgbmregressor__learning_rate=0.5, lgbmregressor__max_depth=16; total time=   3.3s\n",
      "[CV] END lgbmregressor__learning_rate=0.5, lgbmregressor__max_depth=16; total time=   3.9s\n",
      "[CV] END lgbmregressor__learning_rate=0.5, lgbmregressor__max_depth=16; total time=   5.0s\n",
      "[CV] END lgbmregressor__learning_rate=0.5, lgbmregressor__max_depth=None; total time=   3.4s\n",
      "[CV] END lgbmregressor__learning_rate=0.5, lgbmregressor__max_depth=None; total time=   3.3s\n",
      "[CV] END lgbmregressor__learning_rate=0.5, lgbmregressor__max_depth=None; total time=   3.3s\n"
     ]
    }
   ],
   "source": [
    "grid.fit(X_train, y_train);"
   ]
  },
  {
   "cell_type": "code",
   "execution_count": 67,
   "metadata": {},
   "outputs": [
    {
     "name": "stdout",
     "output_type": "stream",
     "text": [
      "Best score: \u001b[1m1523.5385119865434\u001b[0m\n",
      "Best params: {'lgbmregressor__learning_rate': 0.5, 'lgbmregressor__max_depth': 16}\n"
     ]
    }
   ],
   "source": [
    "print('Best score:', bold(grid.best_score_ * -1))\n",
    "print('Best params:', grid.best_params_)"
   ]
  },
  {
   "cell_type": "markdown",
   "metadata": {},
   "source": [
    "### CatBoostRegressor"
   ]
  },
  {
   "cell_type": "code",
   "execution_count": 68,
   "metadata": {},
   "outputs": [],
   "source": [
    "model = CatBoostRegressor(max_depth=16,\n",
    "                          iterations=100,\n",
    "                          logging_level='Silent',\n",
    "                          random_state=RANDOM_STATE\n",
    ")\n",
    "\n",
    "pipe = make_pipeline(col_transformer, model)\n",
    "\n",
    "param_grid = {\n",
    "    'catboostregressor__learning_rate': [0.25, 0.3]\n",
    "}\n",
    "\n",
    "grid = GridSearchCV(\n",
    "    pipe, \n",
    "    param_grid=param_grid,\n",
    "    scoring='neg_root_mean_squared_error', \n",
    "    cv=3,\n",
    "    verbose=2\n",
    ")"
   ]
  },
  {
   "cell_type": "code",
   "execution_count": 69,
   "metadata": {
    "scrolled": true
   },
   "outputs": [
    {
     "name": "stdout",
     "output_type": "stream",
     "text": [
      "Fitting 3 folds for each of 2 candidates, totalling 6 fits\n",
      "[CV] END ..............catboostregressor__learning_rate=0.25; total time= 2.6min\n",
      "[CV] END ..............catboostregressor__learning_rate=0.25; total time= 2.6min\n",
      "[CV] END ..............catboostregressor__learning_rate=0.25; total time= 2.6min\n",
      "[CV] END ...............catboostregressor__learning_rate=0.3; total time= 2.7min\n",
      "[CV] END ...............catboostregressor__learning_rate=0.3; total time= 2.6min\n",
      "[CV] END ...............catboostregressor__learning_rate=0.3; total time= 2.7min\n"
     ]
    }
   ],
   "source": [
    "grid.fit(X_train, y_train);"
   ]
  },
  {
   "cell_type": "code",
   "execution_count": 70,
   "metadata": {},
   "outputs": [
    {
     "name": "stdout",
     "output_type": "stream",
     "text": [
      "Best score: \u001b[1m1479.9477928879362\u001b[0m\n",
      "Best params: {'catboostregressor__learning_rate': 0.25}\n"
     ]
    }
   ],
   "source": [
    "print('Best score:', bold(grid.best_score_ * -1))\n",
    "print('Best params:', grid.best_params_)"
   ]
  },
  {
   "cell_type": "markdown",
   "metadata": {},
   "source": [
    "#### CatBoostRegressor со встроенным обработчиком категориальных признаков"
   ]
  },
  {
   "cell_type": "code",
   "execution_count": 71,
   "metadata": {},
   "outputs": [],
   "source": [
    "model = CatBoostRegressor(max_depth=16,\n",
    "                          iterations=100,\n",
    "                          cat_features=cat_features,\n",
    "                          logging_level='Silent',\n",
    "                          random_state=RANDOM_STATE\n",
    ")\n",
    "\n",
    "param_grid = {\n",
    "    'learning_rate': [0.25, 0.3]\n",
    "}\n",
    "\n",
    "grid = GridSearchCV(\n",
    "    model, \n",
    "    param_grid=param_grid,\n",
    "    scoring='neg_root_mean_squared_error', \n",
    "    cv=3,\n",
    "    verbose=2\n",
    ")"
   ]
  },
  {
   "cell_type": "code",
   "execution_count": 72,
   "metadata": {
    "scrolled": true
   },
   "outputs": [
    {
     "name": "stdout",
     "output_type": "stream",
     "text": [
      "Fitting 3 folds for each of 2 candidates, totalling 6 fits\n",
      "[CV] END .................................learning_rate=0.25; total time= 2.4min\n",
      "[CV] END .................................learning_rate=0.25; total time= 2.4min\n",
      "[CV] END .................................learning_rate=0.25; total time= 2.5min\n",
      "[CV] END ..................................learning_rate=0.3; total time= 2.5min\n",
      "[CV] END ..................................learning_rate=0.3; total time= 2.5min\n",
      "[CV] END ..................................learning_rate=0.3; total time= 2.5min\n"
     ]
    }
   ],
   "source": [
    "grid.fit(X_train, y_train);"
   ]
  },
  {
   "cell_type": "code",
   "execution_count": 73,
   "metadata": {},
   "outputs": [
    {
     "name": "stdout",
     "output_type": "stream",
     "text": [
      "Best score: \u001b[1m1487.9464274157162\u001b[0m\n",
      "Best params: {'learning_rate': 0.25}\n"
     ]
    }
   ],
   "source": [
    "print('Best score:', bold(grid.best_score_ * -1))\n",
    "print('Best params:', grid.best_params_)"
   ]
  },
  {
   "cell_type": "markdown",
   "metadata": {},
   "source": [
    "### Итог"
   ]
  },
  {
   "cell_type": "markdown",
   "metadata": {},
   "source": [
    "Итоги подбора оптимальных параметров моделей, и полученные с их помощью результаты представлены в следующей таблице."
   ]
  },
  {
   "cell_type": "markdown",
   "metadata": {},
   "source": [
    "<table align=left>\n",
    "    <tr>\n",
    "        <th><div style=\"text-align:center;\">Модель</div></th>\n",
    "        <th><div style=\"text-align:center;\">Параметры</div></th>\n",
    "        <th><div style=\"text-align:center;\">RMSE</div></th>\n",
    "    </tr>\n",
    "    <tr>\n",
    "        <td><div style=\"text-align:left;\">RandomForestRegressor</div></td>\n",
    "        <td><div style=\"text-align:center;\">max_depth: 19</div></td>\n",
    "        <td><div style=\"text-align:center;\">1507</div></td>\n",
    "    </tr>\n",
    "    <tr>\n",
    "        <td><div style=\"text-align:left;\"><b>GradientBoostingRegressor</b></div></td>\n",
    "        <td><div style=\"text-align:center;\">max_depth: 11</div></td>\n",
    "        <td><div style=\"text-align:center;\"><b>1467</b></div></td>\n",
    "    </tr>\n",
    "    <tr>\n",
    "        <td><div style=\"text-align:left;\">LGBMRegressor</div></td>\n",
    "        <td><div style=\"text-align:center;\">learning_rate: 0.5<br>max_depth: 16</div></td>\n",
    "        <td><div style=\"text-align:center;\">1524</div></td>\n",
    "    </tr>\n",
    "    <tr>\n",
    "        <td><div style=\"text-align:left;\">CatBoostRegressor</div></td>\n",
    "        <td><div style=\"text-align:center;\">max_depth: 16<br>iterations: 100<br>learning_rate: 0.25</div></td>\n",
    "        <td><div style=\"text-align:center;\">1480</div></td>\n",
    "    </tr>\n",
    "    <tr>\n",
    "        <td><div style=\"text-align:left;\">CatBoostRegressor (cat_features)</div></td>\n",
    "        <td><div style=\"text-align:center;\">max_depth: 16<br>iterations: 100<br>learning_rate: 0.25</div></td>\n",
    "        <td><div style=\"text-align:center;\">1488</div></td>\n",
    "    </tr>\n",
    "</table>"
   ]
  },
  {
   "cell_type": "markdown",
   "metadata": {},
   "source": [
    "Лучший результат у модели GradientBoostingRegressor с параметром max_depth=11<br>\n",
    "RMSE: 1467"
   ]
  },
  {
   "cell_type": "markdown",
   "metadata": {},
   "source": [
    "## Анализ скорости работы моделей"
   ]
  },
  {
   "cell_type": "markdown",
   "metadata": {},
   "source": [
    "### RandomForestRegressor"
   ]
  },
  {
   "cell_type": "code",
   "execution_count": 74,
   "metadata": {},
   "outputs": [],
   "source": [
    "model_rfr = RandomForestRegressor(max_depth=19, random_state=RANDOM_STATE)\n",
    "\n",
    "pipe_rfr = make_pipeline(col_transformer, model_rfr)"
   ]
  },
  {
   "cell_type": "code",
   "execution_count": 75,
   "metadata": {},
   "outputs": [
    {
     "name": "stdout",
     "output_type": "stream",
     "text": [
      "CPU times: user 1min 3s, sys: 151 ms, total: 1min 3s\n",
      "Wall time: 1min 3s\n"
     ]
    }
   ],
   "source": [
    "%%time\n",
    "pipe_rfr.fit(X_train, y_train);\n",
    "pass"
   ]
  },
  {
   "cell_type": "code",
   "execution_count": 76,
   "metadata": {},
   "outputs": [
    {
     "name": "stdout",
     "output_type": "stream",
     "text": [
      "CPU times: user 8.54 s, sys: 19.3 ms, total: 8.56 s\n",
      "Wall time: 8.57 s\n"
     ]
    }
   ],
   "source": [
    "%%time\n",
    "for _ in range(1000):\n",
    "    pred = pipe_rfr.predict(X_train[0:1])"
   ]
  },
  {
   "cell_type": "markdown",
   "metadata": {},
   "source": [
    "### GradientBoostingRegressor"
   ]
  },
  {
   "cell_type": "code",
   "execution_count": 77,
   "metadata": {},
   "outputs": [],
   "source": [
    "model_gbr = GradientBoostingRegressor(max_depth=11, random_state=RANDOM_STATE)\n",
    "\n",
    "pipe_gbr = make_pipeline(col_transformer, model_gbr)"
   ]
  },
  {
   "cell_type": "code",
   "execution_count": 78,
   "metadata": {},
   "outputs": [
    {
     "name": "stdout",
     "output_type": "stream",
     "text": [
      "CPU times: user 1min 16s, sys: 116 ms, total: 1min 16s\n",
      "Wall time: 1min 17s\n"
     ]
    }
   ],
   "source": [
    "%%time\n",
    "pipe_gbr.fit(X_train, y_train);\n",
    "pass"
   ]
  },
  {
   "cell_type": "code",
   "execution_count": 79,
   "metadata": {},
   "outputs": [
    {
     "name": "stdout",
     "output_type": "stream",
     "text": [
      "CPU times: user 3.27 s, sys: 10 ms, total: 3.28 s\n",
      "Wall time: 3.28 s\n"
     ]
    }
   ],
   "source": [
    "%%time\n",
    "for _ in range(1000):\n",
    "    pred = pipe_gbr.predict(X_train[0:1])"
   ]
  },
  {
   "cell_type": "markdown",
   "metadata": {},
   "source": [
    "### LGBMRegressor"
   ]
  },
  {
   "cell_type": "code",
   "execution_count": 80,
   "metadata": {},
   "outputs": [],
   "source": [
    "model_lgbmr = LGBMRegressor(max_depth=16, learning_rate=0.5, random_state=RANDOM_STATE)\n",
    "\n",
    "pipe_lgbmr = make_pipeline(col_transformer, model_lgbmr)"
   ]
  },
  {
   "cell_type": "code",
   "execution_count": 81,
   "metadata": {},
   "outputs": [
    {
     "name": "stdout",
     "output_type": "stream",
     "text": [
      "CPU times: user 1min 40s, sys: 0 ns, total: 1min 40s\n",
      "Wall time: 1min 41s\n"
     ]
    }
   ],
   "source": [
    "%%time\n",
    "pipe_lgbmr.fit(X_train, y_train);\n",
    "pass"
   ]
  },
  {
   "cell_type": "code",
   "execution_count": 82,
   "metadata": {},
   "outputs": [
    {
     "name": "stdout",
     "output_type": "stream",
     "text": [
      "CPU times: user 22.9 s, sys: 0 ns, total: 22.9 s\n",
      "Wall time: 23 s\n"
     ]
    }
   ],
   "source": [
    "%%time\n",
    "for _ in range(1000):\n",
    "    pred = pipe_lgbmr.predict(X_train[0:1])"
   ]
  },
  {
   "cell_type": "markdown",
   "metadata": {},
   "source": [
    "### CatBoostRegressor"
   ]
  },
  {
   "cell_type": "code",
   "execution_count": 83,
   "metadata": {},
   "outputs": [],
   "source": [
    "model_cbr = CatBoostRegressor(max_depth=16,\n",
    "                              iterations=100,\n",
    "                              learning_rate=0.25,\n",
    "                              random_state=RANDOM_STATE,\n",
    "                              logging_level='Silent'\n",
    ")\n",
    "\n",
    "pipe_cbr = make_pipeline(col_transformer, model_cbr)"
   ]
  },
  {
   "cell_type": "code",
   "execution_count": 84,
   "metadata": {},
   "outputs": [
    {
     "name": "stdout",
     "output_type": "stream",
     "text": [
      "CPU times: user 1min 27s, sys: 1min 7s, total: 2min 35s\n",
      "Wall time: 2min 36s\n"
     ]
    }
   ],
   "source": [
    "%%time\n",
    "pipe_cbr.fit(X_train, y_train);\n",
    "pass"
   ]
  },
  {
   "cell_type": "code",
   "execution_count": 85,
   "metadata": {
    "scrolled": true
   },
   "outputs": [
    {
     "name": "stdout",
     "output_type": "stream",
     "text": [
      "CPU times: user 3.48 s, sys: 19 ms, total: 3.5 s\n",
      "Wall time: 3.51 s\n"
     ]
    }
   ],
   "source": [
    "%%time\n",
    "for _ in range(1000):\n",
    "    pred = pipe_cbr.predict(X_train[0:1])"
   ]
  },
  {
   "cell_type": "markdown",
   "metadata": {},
   "source": [
    "#### CatBoostRegressor со встроенным обработчиком категориальных признаков"
   ]
  },
  {
   "cell_type": "code",
   "execution_count": 86,
   "metadata": {},
   "outputs": [],
   "source": [
    "model_cbrc = CatBoostRegressor(max_depth=16,\n",
    "                               iterations=100,\n",
    "                               learning_rate=0.25,\n",
    "                               cat_features=cat_features,\n",
    "                               random_state=RANDOM_STATE,\n",
    "                               logging_level='Silent'\n",
    ")"
   ]
  },
  {
   "cell_type": "code",
   "execution_count": 87,
   "metadata": {},
   "outputs": [
    {
     "name": "stdout",
     "output_type": "stream",
     "text": [
      "CPU times: user 1min 45s, sys: 48.5 s, total: 2min 34s\n",
      "Wall time: 2min 34s\n"
     ]
    }
   ],
   "source": [
    "%%time\n",
    "model_cbrc.fit(X_train, y_train)\n",
    "pass"
   ]
  },
  {
   "cell_type": "code",
   "execution_count": 88,
   "metadata": {},
   "outputs": [
    {
     "name": "stdout",
     "output_type": "stream",
     "text": [
      "CPU times: user 882 ms, sys: 639 µs, total: 883 ms\n",
      "Wall time: 889 ms\n"
     ]
    }
   ],
   "source": [
    "%%time\n",
    "for _ in range(1000):\n",
    "    pred = model_cbrc.predict(X_train[0:1])"
   ]
  },
  {
   "cell_type": "markdown",
   "metadata": {},
   "source": [
    "### Итог"
   ]
  },
  {
   "cell_type": "markdown",
   "metadata": {},
   "source": [
    "Итоговые результаты приведены в следующей таблице."
   ]
  },
  {
   "cell_type": "markdown",
   "metadata": {},
   "source": [
    "<table align=left>\n",
    "    <tr>\n",
    "        <th><div style=\"text-align:center;\">Модель</div></th>\n",
    "        <th><div style=\"text-align:center;\">Параметры</div></th>\n",
    "        <th><div style=\"text-align:center;\">RMSE</div></th>\n",
    "        <th><div style=\"text-align:center;\">Время обучения, с</div></th>\n",
    "        <th><div style=\"text-align:center;\">Время предсказания одного значения, мс</div></th>\n",
    "    </tr>\n",
    "    <tr>\n",
    "        <td><div style=\"text-align:left;\">RandomForestRegressor</div></td>\n",
    "        <td><div style=\"text-align:center;\">max_depth: 19</div></td>\n",
    "        <td><div style=\"text-align:center;\">1507</div></td>\n",
    "        <td><div style=\"text-align:center;\"><b>69</b></div></td>\n",
    "        <td><div style=\"text-align:center;\">9.4</div></td>\n",
    "    </tr>\n",
    "    <tr>\n",
    "        <td><div style=\"text-align:left;\"><b>GradientBoostingRegressor</b></div></td>\n",
    "        <td><div style=\"text-align:center;\">max_depth: 11</div></td>\n",
    "        <td><div style=\"text-align:center;\"><b>1467</b></div></td>\n",
    "        <td><div style=\"text-align:center;\">92</div></td>\n",
    "        <td><div style=\"text-align:center;\">3.6</div></td>\n",
    "    </tr>\n",
    "    <tr>\n",
    "        <td><div style=\"text-align:left;\">LGBMRegressor</div></td>\n",
    "        <td><div style=\"text-align:center;\">learning_rate: 0.5<br>max_depth: 16</div></td>\n",
    "        <td><div style=\"text-align:center;\">1524</div></td>\n",
    "        <td><div style=\"text-align:center;\">355</div></td>\n",
    "        <td><div style=\"text-align:center;\">60.0</div></td>\n",
    "    </tr>\n",
    "    <tr>\n",
    "        <td><div style=\"text-align:left;\">CatBoostRegressor</div></td>\n",
    "        <td><div style=\"text-align:center;\">max_depth: 16<br>iterations: 100<br>learning_rate: 0.25</div></td>\n",
    "        <td><div style=\"text-align:center;\">1480</div></td>\n",
    "        <td><div style=\"text-align:center;\">176</div></td>\n",
    "        <td><div style=\"text-align:center;\">4.8</div></td>\n",
    "    </tr>\n",
    "    <tr>\n",
    "        <td><div style=\"text-align:left;\">CatBoostRegressor (cat_features)</div></td>\n",
    "        <td><div style=\"text-align:center;\">max_depth: 16<br>iterations: 100<br>learning_rate: 0.25</div></td>\n",
    "        <td><div style=\"text-align:center;\">1488</div></td>\n",
    "        <td><div style=\"text-align:center;\">157</div></td>\n",
    "        <td><div style=\"text-align:center;\"><b>0.9</b></div></td>\n",
    "    </tr>\n",
    "</table>"
   ]
  },
  {
   "cell_type": "markdown",
   "metadata": {},
   "source": [
    "Лучшие результаты по качеству - у модели GradientBoostingRegressor.<br>\n",
    "По скорости обучения и предсказания она на вторых местах, но эти ее показатели представляются все же достаточно малыми, чтобы выбрать данную модель в качестве итоговой."
   ]
  },
  {
   "cell_type": "code",
   "execution_count": 89,
   "metadata": {},
   "outputs": [],
   "source": [
    "models_list = ['RandomForestRegressor',\n",
    "               'GradientBoostingRegressor',\n",
    "               'LGBMRegressor',\n",
    "               'CatBoostRegressor',\n",
    "               'CatBoostRegressor\\n(cat_features)'\n",
    "              ]\n",
    "\n",
    "rmse_list = [1507, 1467, 1524, 1480, 1488]\n",
    "train_time_list = [69, 92, 355, 176, 157]\n",
    "pred_time_list = [9.4, 3.6, 60.0, 4.8, 0.9]"
   ]
  },
  {
   "cell_type": "markdown",
   "metadata": {},
   "source": [
    "## Проверка лучшей модели на тестовой выборке"
   ]
  },
  {
   "cell_type": "code",
   "execution_count": 90,
   "metadata": {},
   "outputs": [],
   "source": [
    "pred = pipe_gbr.predict(X_test)"
   ]
  },
  {
   "cell_type": "code",
   "execution_count": 91,
   "metadata": {
    "scrolled": true
   },
   "outputs": [
    {
     "name": "stdout",
     "output_type": "stream",
     "text": [
      "RMSE: \u001b[1m1445.3393280605994\u001b[0m\n"
     ]
    }
   ],
   "source": [
    "rmse = mean_squared_error(y_test, pred, squared=False)\n",
    "print('RMSE:', bold(rmse))"
   ]
  },
  {
   "cell_type": "markdown",
   "metadata": {},
   "source": [
    "Результат - лучше, чем на обучающей выборке."
   ]
  },
  {
   "cell_type": "markdown",
   "metadata": {},
   "source": [
    "### Сравнение с Dummy-моделью"
   ]
  },
  {
   "cell_type": "code",
   "execution_count": 92,
   "metadata": {},
   "outputs": [
    {
     "name": "stdout",
     "output_type": "stream",
     "text": [
      "RMSE: 4889.393551621701\n"
     ]
    }
   ],
   "source": [
    "model_dummy = DummyRegressor(strategy=\"median\")\n",
    "model_dummy.fit(X_train, y_train)\n",
    "pred = model_dummy.predict(X_test)\n",
    "rmse = mean_squared_error(y_test, pred, squared=False)\n",
    "print('RMSE:', rmse)"
   ]
  },
  {
   "cell_type": "markdown",
   "metadata": {},
   "source": [
    "Результат Dummy-модели хуже, чем у выбранной модели GradientBoostingRegressor."
   ]
  },
  {
   "cell_type": "markdown",
   "metadata": {},
   "source": [
    "## Выводы"
   ]
  },
  {
   "cell_type": "markdown",
   "metadata": {},
   "source": [
    "Для решения задачи были использованы следующие модели:\n",
    "* Случайный лес (RandomForestRegressor)\n",
    "* Модели градиентного бустинга:\n",
    "  * GradientBoostingRegressor\n",
    "  * LGBMRegressor\n",
    "  * CatBoostRegressor \n",
    "  * CatBoostRegressor (с использованием встроенного обработчика категориальных признаков)"
   ]
  },
  {
   "cell_type": "markdown",
   "metadata": {},
   "source": [
    "Итоговые результаты приведены в следующей таблице."
   ]
  },
  {
   "cell_type": "markdown",
   "metadata": {},
   "source": [
    "<table align=left>\n",
    "    <tr>\n",
    "        <th><div style=\"text-align:center;\">Модель</div></th>\n",
    "        <th><div style=\"text-align:center;\">Параметры</div></th>\n",
    "        <th><div style=\"text-align:center;\">RMSE</div></th>\n",
    "        <th><div style=\"text-align:center;\">Время обучения, с</div></th>\n",
    "        <th><div style=\"text-align:center;\">Время предсказания одного значения, мс</div></th>\n",
    "    </tr>\n",
    "    <tr>\n",
    "        <td><div style=\"text-align:left;\">RandomForestRegressor</div></td>\n",
    "        <td><div style=\"text-align:center;\">max_depth: 19</div></td>\n",
    "        <td><div style=\"text-align:center;\">1507</div></td>\n",
    "        <td><div style=\"text-align:center;\"><b>69</b></div></td>\n",
    "        <td><div style=\"text-align:center;\">9.4</div></td>\n",
    "    </tr>\n",
    "    <tr>\n",
    "        <td><div style=\"text-align:left;\"><b>GradientBoostingRegressor</b></div></td>\n",
    "        <td><div style=\"text-align:center;\">max_depth: 11</div></td>\n",
    "        <td><div style=\"text-align:center;\"><b>1467</b></div></td>\n",
    "        <td><div style=\"text-align:center;\">92</div></td>\n",
    "        <td><div style=\"text-align:center;\">3.6</div></td>\n",
    "    </tr>\n",
    "    <tr>\n",
    "        <td><div style=\"text-align:left;\">LGBMRegressor</div></td>\n",
    "        <td><div style=\"text-align:center;\">learning_rate: 0.5<br>max_depth: 16</div></td>\n",
    "        <td><div style=\"text-align:center;\">1524</div></td>\n",
    "        <td><div style=\"text-align:center;\">355</div></td>\n",
    "        <td><div style=\"text-align:center;\">60.0</div></td>\n",
    "    </tr>\n",
    "    <tr>\n",
    "        <td><div style=\"text-align:left;\">CatBoostRegressor</div></td>\n",
    "        <td><div style=\"text-align:center;\">max_depth: 16<br>iterations: 100<br>learning_rate: 0.25</div></td>\n",
    "        <td><div style=\"text-align:center;\">1480</div></td>\n",
    "        <td><div style=\"text-align:center;\">176</div></td>\n",
    "        <td><div style=\"text-align:center;\">4.8</div></td>\n",
    "    </tr>\n",
    "    <tr>\n",
    "        <td><div style=\"text-align:left;\">CatBoostRegressor (cat_features)</div></td>\n",
    "        <td><div style=\"text-align:center;\">max_depth: 16<br>iterations: 100<br>learning_rate: 0.25</div></td>\n",
    "        <td><div style=\"text-align:center;\">1488</div></td>\n",
    "        <td><div style=\"text-align:center;\">157</div></td>\n",
    "        <td><div style=\"text-align:center;\"><b>0.9</b></div></td>\n",
    "    </tr>\n",
    "</table>"
   ]
  },
  {
   "cell_type": "code",
   "execution_count": 93,
   "metadata": {
    "scrolled": false
   },
   "outputs": [
    {
     "data": {
      "image/png": "[encoded data removed]",
      "text/plain": [
       "<Figure size 432x288 with 1 Axes>"
      ]
     },
     "metadata": {
      "needs_background": "light"
     },
     "output_type": "display_data"
    },
    {
     "data": {
      "image/png": "[encoded data removed]",
      "text/plain": [
       "<Figure size 432x288 with 1 Axes>"
      ]
     },
     "metadata": {
      "needs_background": "light"
     },
     "output_type": "display_data"
    },
    {
     "data": {
      "image/png": "[encoded data removed]",
      "text/plain": [
       "<Figure size 432x288 with 1 Axes>"
      ]
     },
     "metadata": {
      "needs_background": "light"
     },
     "output_type": "display_data"
    }
   ],
   "source": [
    "graph = sns.barplot(y=models_list, x=rmse_list)\n",
    "graph.set(title=\"RMSE\")\n",
    "graph.set(xlim=(1200, 1600))\n",
    "set_annotations_h(graph)\n",
    "plt.show()\n",
    "\n",
    "graph = sns.barplot(y=models_list, x=train_time_list)\n",
    "graph.set(title=\"Время обучения, с\")\n",
    "graph.set(xlim=(0, 400))\n",
    "set_annotations_h(graph)\n",
    "plt.show()\n",
    "\n",
    "graph = sns.barplot(y=models_list, x=pred_time_list)\n",
    "graph.set(title=\"Время предсказания одного значения, мс\")\n",
    "graph.set(xlim=(0, 70))\n",
    "set_annotations_h(graph, 1)\n",
    "plt.show()"
   ]
  },
  {
   "cell_type": "markdown",
   "metadata": {},
   "source": [
    "Лучшее качество предсказания - у модели <b>GradientBoostingRegressor</b>:<br>\n",
    "RMSE: <b>1467</b> (на тестовой выборке: <b>1445</b>).<br>\n",
    "Среднее время предсказания одного значения: <b>3.6 мс</b>.<br>\n",
    "Время обучения сравнимо с наилучшим и составляет <b>92 с</b>.<br>\n",
    "\n",
    "Быстрее прочих обучается модель случайного леса: за 69 с.<br>\n",
    "Лучшее время предсказания - у модели CatBoostRegressor с использованием встроенного обработчика категориальных признаков: 0.9 мс.\n",
    "\n",
    "Модель CatBoostRegressor при использовании встроенного обработчика категориальных признаков обучается и предсказывает быстрее, чем без него, но качество предсказания при этом незначительно ухудшается: RMSE увеличивается с 1480 до 1488."
   ]
  }
 ],
 "metadata": {
  "ExecuteTimeLog": [
   {
    "duration": 1717,
    "start_time": "2023-04-17T19:44:52.499Z"
   },
   {
    "duration": 3,
    "start_time": "2023-04-17T19:45:15.430Z"
   },
   {
    "duration": 1200,
    "start_time": "2023-04-17T19:45:47.111Z"
   },
   {
    "duration": 158,
    "start_time": "2023-04-17T19:45:56.482Z"
   },
   {
    "duration": 22,
    "start_time": "2023-04-17T19:46:25.703Z"
   },
   {
    "duration": 351,
    "start_time": "2023-04-17T19:48:45.815Z"
   },
   {
    "duration": 55,
    "start_time": "2023-04-17T19:50:39.042Z"
   },
   {
    "duration": 108,
    "start_time": "2023-04-17T19:50:45.999Z"
   },
   {
    "duration": 67,
    "start_time": "2023-04-17T19:52:09.135Z"
   },
   {
    "duration": 87,
    "start_time": "2023-04-17T19:52:48.784Z"
   },
   {
    "duration": 92,
    "start_time": "2023-04-17T19:53:33.911Z"
   },
   {
    "duration": 102,
    "start_time": "2023-04-17T19:55:26.638Z"
   },
   {
    "duration": 108,
    "start_time": "2023-04-17T19:55:32.516Z"
   },
   {
    "duration": 112,
    "start_time": "2023-04-17T19:56:12.985Z"
   },
   {
    "duration": 69,
    "start_time": "2023-04-17T19:57:46.457Z"
   },
   {
    "duration": 65,
    "start_time": "2023-04-17T19:57:57.040Z"
   },
   {
    "duration": 60,
    "start_time": "2023-04-17T19:58:27.940Z"
   },
   {
    "duration": 78,
    "start_time": "2023-04-17T19:58:34.113Z"
   },
   {
    "duration": 61,
    "start_time": "2023-04-17T19:58:37.842Z"
   },
   {
    "duration": 82,
    "start_time": "2023-04-17T19:58:42.204Z"
   },
   {
    "duration": 2,
    "start_time": "2023-04-17T20:03:16.401Z"
   },
   {
    "duration": 37,
    "start_time": "2023-04-17T20:08:02.742Z"
   },
   {
    "duration": 37,
    "start_time": "2023-04-17T20:08:15.846Z"
   },
   {
    "duration": 68,
    "start_time": "2023-04-17T20:08:28.595Z"
   },
   {
    "duration": 58,
    "start_time": "2023-04-17T20:08:39.247Z"
   },
   {
    "duration": 75,
    "start_time": "2023-04-17T20:08:43.772Z"
   },
   {
    "duration": 2596,
    "start_time": "2023-04-17T20:10:45.312Z"
   },
   {
    "duration": 89,
    "start_time": "2023-04-17T20:11:59.647Z"
   },
   {
    "duration": 2890,
    "start_time": "2023-04-17T20:12:13.710Z"
   },
   {
    "duration": 250,
    "start_time": "2023-04-17T20:12:50.505Z"
   },
   {
    "duration": 289,
    "start_time": "2023-04-17T20:12:56.849Z"
   },
   {
    "duration": 2555,
    "start_time": "2023-04-17T20:13:00.280Z"
   },
   {
    "duration": 10,
    "start_time": "2023-04-17T20:13:18.580Z"
   },
   {
    "duration": 11,
    "start_time": "2023-04-17T20:13:26.042Z"
   },
   {
    "duration": 8,
    "start_time": "2023-04-17T20:13:48.099Z"
   },
   {
    "duration": 8,
    "start_time": "2023-04-17T20:13:58.398Z"
   },
   {
    "duration": 9,
    "start_time": "2023-04-17T20:14:02.174Z"
   },
   {
    "duration": 9,
    "start_time": "2023-04-17T20:14:20.489Z"
   },
   {
    "duration": 15,
    "start_time": "2023-04-17T20:14:39.440Z"
   },
   {
    "duration": 191,
    "start_time": "2023-04-17T20:15:56.656Z"
   },
   {
    "duration": 7,
    "start_time": "2023-04-17T20:16:03.975Z"
   },
   {
    "duration": 8,
    "start_time": "2023-04-17T20:16:15.348Z"
   },
   {
    "duration": 390,
    "start_time": "2023-04-17T20:17:11.911Z"
   },
   {
    "duration": 338,
    "start_time": "2023-04-17T20:21:02.540Z"
   },
   {
    "duration": 364,
    "start_time": "2023-04-17T20:21:20.346Z"
   },
   {
    "duration": 619,
    "start_time": "2023-04-17T20:21:27.382Z"
   },
   {
    "duration": 4,
    "start_time": "2023-04-17T20:21:43.730Z"
   },
   {
    "duration": 14,
    "start_time": "2023-04-17T20:21:43.736Z"
   },
   {
    "duration": 922,
    "start_time": "2023-04-17T20:21:43.753Z"
   },
   {
    "duration": 164,
    "start_time": "2023-04-17T20:21:44.677Z"
   },
   {
    "duration": 28,
    "start_time": "2023-04-17T20:21:44.842Z"
   },
   {
    "duration": 105,
    "start_time": "2023-04-17T20:21:44.871Z"
   },
   {
    "duration": 221,
    "start_time": "2023-04-17T20:21:44.978Z"
   },
   {
    "duration": 96,
    "start_time": "2023-04-17T20:21:45.201Z"
   },
   {
    "duration": 34,
    "start_time": "2023-04-17T20:21:45.299Z"
   },
   {
    "duration": 60,
    "start_time": "2023-04-17T20:21:45.335Z"
   },
   {
    "duration": 94,
    "start_time": "2023-04-17T20:21:45.397Z"
   },
   {
    "duration": 10,
    "start_time": "2023-04-17T20:21:45.493Z"
   },
   {
    "duration": 14069,
    "start_time": "2023-04-17T20:21:45.520Z"
   },
   {
    "duration": 1436,
    "start_time": "2023-04-17T20:22:27.930Z"
   },
   {
    "duration": 9,
    "start_time": "2023-04-17T20:23:15.675Z"
   },
   {
    "duration": 9,
    "start_time": "2023-04-17T20:23:24.841Z"
   },
   {
    "duration": 10,
    "start_time": "2023-04-17T20:23:30.883Z"
   },
   {
    "duration": 32,
    "start_time": "2023-04-17T20:24:40.482Z"
   },
   {
    "duration": 29,
    "start_time": "2023-04-17T20:26:18.973Z"
   },
   {
    "duration": 345,
    "start_time": "2023-04-17T20:26:35.951Z"
   },
   {
    "duration": 307,
    "start_time": "2023-04-17T20:27:03.524Z"
   },
   {
    "duration": 4,
    "start_time": "2023-04-17T20:27:07.985Z"
   },
   {
    "duration": 12,
    "start_time": "2023-04-17T20:27:07.991Z"
   },
   {
    "duration": 812,
    "start_time": "2023-04-17T20:27:08.005Z"
   },
   {
    "duration": 150,
    "start_time": "2023-04-17T20:27:08.820Z"
   },
   {
    "duration": 13,
    "start_time": "2023-04-17T20:27:08.972Z"
   },
   {
    "duration": 91,
    "start_time": "2023-04-17T20:27:08.987Z"
   },
   {
    "duration": 24,
    "start_time": "2023-04-17T20:27:09.080Z"
   },
   {
    "duration": 101,
    "start_time": "2023-04-17T20:27:09.118Z"
   },
   {
    "duration": 36,
    "start_time": "2023-04-17T20:27:09.221Z"
   },
   {
    "duration": 70,
    "start_time": "2023-04-17T20:27:09.259Z"
   },
   {
    "duration": 69,
    "start_time": "2023-04-17T20:27:09.331Z"
   },
   {
    "duration": 1442,
    "start_time": "2023-04-17T20:27:09.402Z"
   },
   {
    "duration": 9,
    "start_time": "2023-04-17T20:27:10.846Z"
   },
   {
    "duration": 8,
    "start_time": "2023-04-17T20:27:10.856Z"
   },
   {
    "duration": 16,
    "start_time": "2023-04-17T20:27:10.866Z"
   },
   {
    "duration": 49,
    "start_time": "2023-04-17T20:27:10.884Z"
   },
   {
    "duration": 18,
    "start_time": "2023-04-17T20:40:01.367Z"
   },
   {
    "duration": 45,
    "start_time": "2023-04-17T20:41:44.918Z"
   },
   {
    "duration": 41,
    "start_time": "2023-04-17T20:41:49.293Z"
   },
   {
    "duration": 36,
    "start_time": "2023-04-17T20:41:52.042Z"
   },
   {
    "duration": 19,
    "start_time": "2023-04-17T20:42:28.703Z"
   },
   {
    "duration": 19,
    "start_time": "2023-04-17T20:42:49.113Z"
   },
   {
    "duration": 26,
    "start_time": "2023-04-17T20:42:57.971Z"
   },
   {
    "duration": 17,
    "start_time": "2023-04-17T20:43:23.983Z"
   },
   {
    "duration": 13,
    "start_time": "2023-04-17T20:43:26.942Z"
   },
   {
    "duration": 40,
    "start_time": "2023-04-17T20:44:11.895Z"
   },
   {
    "duration": 22,
    "start_time": "2023-04-17T20:44:17.599Z"
   },
   {
    "duration": 12,
    "start_time": "2023-04-17T20:44:45.391Z"
   },
   {
    "duration": 36,
    "start_time": "2023-04-17T20:44:50.184Z"
   },
   {
    "duration": 39,
    "start_time": "2023-04-17T20:45:03.534Z"
   },
   {
    "duration": 41,
    "start_time": "2023-04-17T20:45:18.988Z"
   },
   {
    "duration": 45,
    "start_time": "2023-04-17T20:45:32.714Z"
   },
   {
    "duration": 44,
    "start_time": "2023-04-17T20:45:42.476Z"
   },
   {
    "duration": 4,
    "start_time": "2023-04-17T20:46:15.850Z"
   },
   {
    "duration": 13,
    "start_time": "2023-04-17T20:46:15.856Z"
   },
   {
    "duration": 948,
    "start_time": "2023-04-17T20:46:15.871Z"
   },
   {
    "duration": 174,
    "start_time": "2023-04-17T20:46:16.821Z"
   },
   {
    "duration": 13,
    "start_time": "2023-04-17T20:46:16.997Z"
   },
   {
    "duration": 130,
    "start_time": "2023-04-17T20:46:17.021Z"
   },
   {
    "duration": 29,
    "start_time": "2023-04-17T20:46:17.153Z"
   },
   {
    "duration": 112,
    "start_time": "2023-04-17T20:46:17.184Z"
   },
   {
    "duration": 75,
    "start_time": "2023-04-17T20:46:17.298Z"
   },
   {
    "duration": 84,
    "start_time": "2023-04-17T20:46:17.375Z"
   },
   {
    "duration": 93,
    "start_time": "2023-04-17T20:46:17.461Z"
   },
   {
    "duration": 1602,
    "start_time": "2023-04-17T20:46:17.556Z"
   },
   {
    "duration": 9,
    "start_time": "2023-04-17T20:46:19.160Z"
   },
   {
    "duration": 15,
    "start_time": "2023-04-17T20:46:19.171Z"
   },
   {
    "duration": 16,
    "start_time": "2023-04-17T20:46:19.189Z"
   },
   {
    "duration": 39,
    "start_time": "2023-04-17T20:46:19.219Z"
   },
   {
    "duration": 524,
    "start_time": "2023-04-17T20:46:19.260Z"
   },
   {
    "duration": 18,
    "start_time": "2023-04-17T20:46:19.785Z"
   },
   {
    "duration": 28,
    "start_time": "2023-04-17T20:46:19.819Z"
   },
   {
    "duration": 17,
    "start_time": "2023-04-17T20:46:54.816Z"
   },
   {
    "duration": 11,
    "start_time": "2023-04-17T20:47:14.285Z"
   },
   {
    "duration": 10,
    "start_time": "2023-04-17T20:47:40.580Z"
   },
   {
    "duration": 19898,
    "start_time": "2023-04-17T20:48:11.264Z"
   },
   {
    "duration": 1433,
    "start_time": "2023-04-17T20:48:35.680Z"
   },
   {
    "duration": 513,
    "start_time": "2023-04-17T20:50:27.041Z"
   },
   {
    "duration": 21,
    "start_time": "2023-04-17T20:50:48.271Z"
   },
   {
    "duration": 20,
    "start_time": "2023-04-17T20:51:00.343Z"
   },
   {
    "duration": 17,
    "start_time": "2023-04-17T20:51:32.470Z"
   },
   {
    "duration": 24,
    "start_time": "2023-04-17T20:52:42.046Z"
   },
   {
    "duration": 19,
    "start_time": "2023-04-17T20:52:50.872Z"
   },
   {
    "duration": 30,
    "start_time": "2023-04-17T20:53:06.298Z"
   },
   {
    "duration": 15,
    "start_time": "2023-04-17T20:54:59.389Z"
   },
   {
    "duration": 12,
    "start_time": "2023-04-17T20:55:38.690Z"
   },
   {
    "duration": 21,
    "start_time": "2023-04-17T20:56:03.144Z"
   },
   {
    "duration": 22,
    "start_time": "2023-04-17T20:56:15.187Z"
   },
   {
    "duration": 15,
    "start_time": "2023-04-17T20:57:18.749Z"
   },
   {
    "duration": 23,
    "start_time": "2023-04-17T20:57:26.007Z"
   },
   {
    "duration": 15,
    "start_time": "2023-04-17T20:57:37.979Z"
   },
   {
    "duration": 16,
    "start_time": "2023-04-17T20:57:46.773Z"
   },
   {
    "duration": 79,
    "start_time": "2023-04-17T20:58:29.844Z"
   },
   {
    "duration": 11,
    "start_time": "2023-04-17T20:58:35.900Z"
   },
   {
    "duration": 10,
    "start_time": "2023-04-17T20:58:49.083Z"
   },
   {
    "duration": 40,
    "start_time": "2023-04-17T20:59:01.055Z"
   },
   {
    "duration": 17,
    "start_time": "2023-04-17T20:59:10.071Z"
   },
   {
    "duration": 17,
    "start_time": "2023-04-17T20:59:20.870Z"
   },
   {
    "duration": 26,
    "start_time": "2023-04-17T20:59:41.100Z"
   },
   {
    "duration": 318,
    "start_time": "2023-04-17T21:00:25.391Z"
   },
   {
    "duration": 20,
    "start_time": "2023-04-17T21:08:26.335Z"
   },
   {
    "duration": 39,
    "start_time": "2023-04-17T21:12:03.514Z"
   },
   {
    "duration": 276,
    "start_time": "2023-04-17T21:14:02.660Z"
   },
   {
    "duration": 32,
    "start_time": "2023-04-17T21:14:23.011Z"
   },
   {
    "duration": 21,
    "start_time": "2023-04-17T21:16:31.482Z"
   },
   {
    "duration": 92,
    "start_time": "2023-04-17T21:19:01.372Z"
   },
   {
    "duration": 23,
    "start_time": "2023-04-17T21:19:39.928Z"
   },
   {
    "duration": 99,
    "start_time": "2023-04-17T21:19:44.324Z"
   },
   {
    "duration": 59,
    "start_time": "2023-04-17T21:21:26.998Z"
   },
   {
    "duration": 62,
    "start_time": "2023-04-17T21:22:51.580Z"
   },
   {
    "duration": 41,
    "start_time": "2023-04-17T21:23:06.409Z"
   },
   {
    "duration": 42,
    "start_time": "2023-04-17T21:24:38.148Z"
   },
   {
    "duration": 43,
    "start_time": "2023-04-17T21:24:57.527Z"
   },
   {
    "duration": 94,
    "start_time": "2023-04-17T21:25:04.655Z"
   },
   {
    "duration": 31,
    "start_time": "2023-04-17T21:26:52.728Z"
   },
   {
    "duration": 28,
    "start_time": "2023-04-17T21:27:00.653Z"
   },
   {
    "duration": 34,
    "start_time": "2023-04-17T21:27:04.112Z"
   },
   {
    "duration": 4,
    "start_time": "2023-04-17T21:27:20.810Z"
   },
   {
    "duration": 53,
    "start_time": "2023-04-17T21:27:20.816Z"
   },
   {
    "duration": 1078,
    "start_time": "2023-04-17T21:27:20.871Z"
   },
   {
    "duration": 178,
    "start_time": "2023-04-17T21:27:21.952Z"
   },
   {
    "duration": 28,
    "start_time": "2023-04-17T21:27:22.133Z"
   },
   {
    "duration": 106,
    "start_time": "2023-04-17T21:27:22.164Z"
   },
   {
    "duration": 71,
    "start_time": "2023-04-17T21:27:22.271Z"
   },
   {
    "duration": 127,
    "start_time": "2023-04-17T21:27:22.344Z"
   },
   {
    "duration": 461,
    "start_time": "2023-04-17T21:27:22.473Z"
   },
   {
    "duration": 125,
    "start_time": "2023-04-17T21:27:22.939Z"
   },
   {
    "duration": 81,
    "start_time": "2023-04-17T21:27:23.067Z"
   },
   {
    "duration": 1392,
    "start_time": "2023-04-17T21:27:23.150Z"
   },
   {
    "duration": 9,
    "start_time": "2023-04-17T21:27:24.545Z"
   },
   {
    "duration": 18,
    "start_time": "2023-04-17T21:27:24.555Z"
   },
   {
    "duration": 39,
    "start_time": "2023-04-17T21:27:24.575Z"
   },
   {
    "duration": 43,
    "start_time": "2023-04-17T21:27:24.616Z"
   },
   {
    "duration": 348,
    "start_time": "2023-04-17T21:27:24.661Z"
   },
   {
    "duration": 34,
    "start_time": "2023-04-17T21:27:25.011Z"
   },
   {
    "duration": 16,
    "start_time": "2023-04-17T21:27:25.047Z"
   },
   {
    "duration": 417,
    "start_time": "2023-04-17T21:27:25.065Z"
   },
   {
    "duration": 34,
    "start_time": "2023-04-17T21:27:25.484Z"
   },
   {
    "duration": 20,
    "start_time": "2023-04-17T21:27:25.520Z"
   },
   {
    "duration": 25,
    "start_time": "2023-04-17T21:27:25.542Z"
   },
   {
    "duration": 58,
    "start_time": "2023-04-17T21:27:25.569Z"
   },
   {
    "duration": 100,
    "start_time": "2023-04-17T21:27:25.629Z"
   },
   {
    "duration": 14,
    "start_time": "2023-04-17T21:27:48.085Z"
   },
   {
    "duration": 41,
    "start_time": "2023-04-17T21:27:50.580Z"
   },
   {
    "duration": 39,
    "start_time": "2023-04-17T21:28:21.930Z"
   },
   {
    "duration": 11,
    "start_time": "2023-04-17T21:29:11.444Z"
   },
   {
    "duration": 23,
    "start_time": "2023-04-17T21:29:14.292Z"
   },
   {
    "duration": 23,
    "start_time": "2023-04-17T21:29:22.836Z"
   },
   {
    "duration": 23,
    "start_time": "2023-04-17T21:29:48.390Z"
   },
   {
    "duration": 22,
    "start_time": "2023-04-17T21:29:51.997Z"
   },
   {
    "duration": 26,
    "start_time": "2023-04-17T21:31:04.057Z"
   },
   {
    "duration": 30,
    "start_time": "2023-04-17T21:31:13.531Z"
   },
   {
    "duration": 25,
    "start_time": "2023-04-17T21:31:17.575Z"
   },
   {
    "duration": 4,
    "start_time": "2023-04-17T21:31:29.263Z"
   },
   {
    "duration": 26,
    "start_time": "2023-04-17T21:31:31.527Z"
   },
   {
    "duration": 23,
    "start_time": "2023-04-17T21:31:46.618Z"
   },
   {
    "duration": 66,
    "start_time": "2023-04-17T21:31:51.644Z"
   },
   {
    "duration": 22,
    "start_time": "2023-04-17T21:31:58.040Z"
   },
   {
    "duration": 26,
    "start_time": "2023-04-17T21:32:29.099Z"
   },
   {
    "duration": 24,
    "start_time": "2023-04-17T21:32:43.416Z"
   },
   {
    "duration": 23,
    "start_time": "2023-04-17T21:32:46.348Z"
   },
   {
    "duration": 26,
    "start_time": "2023-04-17T21:32:55.029Z"
   },
   {
    "duration": 23,
    "start_time": "2023-04-17T21:32:59.224Z"
   },
   {
    "duration": 26,
    "start_time": "2023-04-17T21:33:02.037Z"
   },
   {
    "duration": 78,
    "start_time": "2023-04-17T21:33:59.518Z"
   },
   {
    "duration": 4,
    "start_time": "2023-04-17T21:34:05.249Z"
   },
   {
    "duration": 15,
    "start_time": "2023-04-17T21:34:05.255Z"
   },
   {
    "duration": 822,
    "start_time": "2023-04-17T21:34:05.272Z"
   },
   {
    "duration": 141,
    "start_time": "2023-04-17T21:34:06.096Z"
   },
   {
    "duration": 15,
    "start_time": "2023-04-17T21:34:06.240Z"
   },
   {
    "duration": 101,
    "start_time": "2023-04-17T21:34:06.257Z"
   },
   {
    "duration": 24,
    "start_time": "2023-04-17T21:34:06.360Z"
   },
   {
    "duration": 110,
    "start_time": "2023-04-17T21:34:06.387Z"
   },
   {
    "duration": 48,
    "start_time": "2023-04-17T21:34:06.499Z"
   },
   {
    "duration": 81,
    "start_time": "2023-04-17T21:34:06.548Z"
   },
   {
    "duration": 71,
    "start_time": "2023-04-17T21:34:06.631Z"
   },
   {
    "duration": 1263,
    "start_time": "2023-04-17T21:34:06.703Z"
   },
   {
    "duration": 10,
    "start_time": "2023-04-17T21:34:07.967Z"
   },
   {
    "duration": 24,
    "start_time": "2023-04-17T21:34:07.979Z"
   },
   {
    "duration": 22,
    "start_time": "2023-04-17T21:34:08.007Z"
   },
   {
    "duration": 38,
    "start_time": "2023-04-17T21:34:08.030Z"
   },
   {
    "duration": 312,
    "start_time": "2023-04-17T21:34:08.069Z"
   },
   {
    "duration": 21,
    "start_time": "2023-04-17T21:34:08.382Z"
   },
   {
    "duration": 29,
    "start_time": "2023-04-17T21:34:08.405Z"
   },
   {
    "duration": 421,
    "start_time": "2023-04-17T21:34:08.435Z"
   },
   {
    "duration": 28,
    "start_time": "2023-04-17T21:34:08.858Z"
   },
   {
    "duration": 35,
    "start_time": "2023-04-17T21:34:08.888Z"
   },
   {
    "duration": 19,
    "start_time": "2023-04-17T21:34:08.924Z"
   },
   {
    "duration": 33,
    "start_time": "2023-04-17T21:37:16.120Z"
   },
   {
    "duration": 22,
    "start_time": "2023-04-17T21:38:26.883Z"
   },
   {
    "duration": 38,
    "start_time": "2023-04-17T21:40:05.333Z"
   },
   {
    "duration": 27,
    "start_time": "2023-04-17T21:44:11.384Z"
   },
   {
    "duration": 35,
    "start_time": "2023-04-17T21:44:16.068Z"
   },
   {
    "duration": 55,
    "start_time": "2023-04-17T21:46:19.158Z"
   },
   {
    "duration": 35,
    "start_time": "2023-04-17T21:46:24.713Z"
   },
   {
    "duration": 15,
    "start_time": "2023-04-17T21:47:48.205Z"
   },
   {
    "duration": 476,
    "start_time": "2023-04-17T21:48:52.477Z"
   },
   {
    "duration": 9,
    "start_time": "2023-04-17T21:49:20.509Z"
   },
   {
    "duration": 90,
    "start_time": "2023-04-17T21:50:11.347Z"
   },
   {
    "duration": 9,
    "start_time": "2023-04-17T21:50:45.547Z"
   },
   {
    "duration": 18,
    "start_time": "2023-04-17T21:51:23.078Z"
   },
   {
    "duration": 16106,
    "start_time": "2023-04-17T21:51:58.597Z"
   },
   {
    "duration": 29,
    "start_time": "2023-04-17T21:52:44.312Z"
   },
   {
    "duration": 30,
    "start_time": "2023-04-17T21:52:48.177Z"
   },
   {
    "duration": 9,
    "start_time": "2023-04-17T21:53:04.252Z"
   },
   {
    "duration": 11,
    "start_time": "2023-04-17T21:53:12.430Z"
   },
   {
    "duration": 9,
    "start_time": "2023-04-17T21:53:26.256Z"
   },
   {
    "duration": 19,
    "start_time": "2023-04-17T21:53:49.952Z"
   },
   {
    "duration": 9,
    "start_time": "2023-04-17T21:54:16.247Z"
   },
   {
    "duration": 20,
    "start_time": "2023-04-17T21:54:27.097Z"
   },
   {
    "duration": 16,
    "start_time": "2023-04-17T21:54:37.942Z"
   },
   {
    "duration": 4,
    "start_time": "2023-04-17T21:55:19.165Z"
   },
   {
    "duration": 6,
    "start_time": "2023-04-17T21:55:19.174Z"
   },
   {
    "duration": 902,
    "start_time": "2023-04-17T21:55:19.181Z"
   },
   {
    "duration": 164,
    "start_time": "2023-04-17T21:55:20.085Z"
   },
   {
    "duration": 24,
    "start_time": "2023-04-17T21:55:20.252Z"
   },
   {
    "duration": 110,
    "start_time": "2023-04-17T21:55:20.278Z"
   },
   {
    "duration": 40,
    "start_time": "2023-04-17T21:55:20.389Z"
   },
   {
    "duration": 92,
    "start_time": "2023-04-17T21:55:20.430Z"
   },
   {
    "duration": 61,
    "start_time": "2023-04-17T21:55:20.524Z"
   },
   {
    "duration": 95,
    "start_time": "2023-04-17T21:55:20.588Z"
   },
   {
    "duration": 79,
    "start_time": "2023-04-17T21:55:20.685Z"
   },
   {
    "duration": 1892,
    "start_time": "2023-04-17T21:55:20.766Z"
   },
   {
    "duration": 8,
    "start_time": "2023-04-17T21:55:22.659Z"
   },
   {
    "duration": 15,
    "start_time": "2023-04-17T21:55:22.669Z"
   },
   {
    "duration": 10,
    "start_time": "2023-04-17T21:55:22.685Z"
   },
   {
    "duration": 52,
    "start_time": "2023-04-17T21:55:22.696Z"
   },
   {
    "duration": 337,
    "start_time": "2023-04-17T21:55:22.749Z"
   },
   {
    "duration": 29,
    "start_time": "2023-04-17T21:55:23.088Z"
   },
   {
    "duration": 18,
    "start_time": "2023-04-17T21:55:23.119Z"
   },
   {
    "duration": 403,
    "start_time": "2023-04-17T21:55:23.139Z"
   },
   {
    "duration": 28,
    "start_time": "2023-04-17T21:55:23.543Z"
   },
   {
    "duration": 20,
    "start_time": "2023-04-17T21:55:23.573Z"
   },
   {
    "duration": 21,
    "start_time": "2023-04-17T21:55:27.264Z"
   },
   {
    "duration": 3,
    "start_time": "2023-04-17T21:55:33.918Z"
   },
   {
    "duration": 40,
    "start_time": "2023-04-17T21:55:36.680Z"
   },
   {
    "duration": 5,
    "start_time": "2023-04-17T21:55:43.577Z"
   },
   {
    "duration": 16,
    "start_time": "2023-04-17T21:56:05.093Z"
   },
   {
    "duration": 10,
    "start_time": "2023-04-17T21:56:11.672Z"
   },
   {
    "duration": 17,
    "start_time": "2023-04-17T21:56:23.756Z"
   },
   {
    "duration": 20,
    "start_time": "2023-04-17T21:56:30.157Z"
   },
   {
    "duration": 14,
    "start_time": "2023-04-17T21:56:39.462Z"
   },
   {
    "duration": 14,
    "start_time": "2023-04-17T21:56:46.223Z"
   },
   {
    "duration": 15,
    "start_time": "2023-04-17T21:56:53.258Z"
   },
   {
    "duration": 16,
    "start_time": "2023-04-17T21:57:08.186Z"
   },
   {
    "duration": 4,
    "start_time": "2023-04-17T21:57:18.174Z"
   },
   {
    "duration": 32,
    "start_time": "2023-04-17T21:57:18.181Z"
   },
   {
    "duration": 841,
    "start_time": "2023-04-17T21:57:18.215Z"
   },
   {
    "duration": 151,
    "start_time": "2023-04-17T21:57:19.058Z"
   },
   {
    "duration": 14,
    "start_time": "2023-04-17T21:57:19.218Z"
   },
   {
    "duration": 95,
    "start_time": "2023-04-17T21:57:19.234Z"
   },
   {
    "duration": 43,
    "start_time": "2023-04-17T21:57:19.331Z"
   },
   {
    "duration": 95,
    "start_time": "2023-04-17T21:57:19.376Z"
   },
   {
    "duration": 46,
    "start_time": "2023-04-17T21:57:19.473Z"
   },
   {
    "duration": 72,
    "start_time": "2023-04-17T21:57:19.521Z"
   },
   {
    "duration": 75,
    "start_time": "2023-04-17T21:57:19.597Z"
   },
   {
    "duration": 1282,
    "start_time": "2023-04-17T21:57:19.674Z"
   },
   {
    "duration": 10,
    "start_time": "2023-04-17T21:57:20.958Z"
   },
   {
    "duration": 19,
    "start_time": "2023-04-17T21:57:20.970Z"
   },
   {
    "duration": 14,
    "start_time": "2023-04-17T21:57:20.991Z"
   },
   {
    "duration": 37,
    "start_time": "2023-04-17T21:57:21.017Z"
   },
   {
    "duration": 340,
    "start_time": "2023-04-17T21:57:21.056Z"
   },
   {
    "duration": 28,
    "start_time": "2023-04-17T21:57:21.399Z"
   },
   {
    "duration": 19,
    "start_time": "2023-04-17T21:57:21.429Z"
   },
   {
    "duration": 423,
    "start_time": "2023-04-17T21:57:21.450Z"
   },
   {
    "duration": 30,
    "start_time": "2023-04-17T21:57:21.875Z"
   },
   {
    "duration": 28,
    "start_time": "2023-04-17T21:57:21.907Z"
   },
   {
    "duration": 49,
    "start_time": "2023-04-17T21:57:21.937Z"
   },
   {
    "duration": 42,
    "start_time": "2023-04-17T21:57:21.988Z"
   },
   {
    "duration": 28,
    "start_time": "2023-04-17T21:57:22.032Z"
   },
   {
    "duration": 26,
    "start_time": "2023-04-17T21:57:22.061Z"
   },
   {
    "duration": 51,
    "start_time": "2023-04-17T21:57:22.090Z"
   },
   {
    "duration": 43,
    "start_time": "2023-04-17T21:57:22.143Z"
   },
   {
    "duration": 56,
    "start_time": "2023-04-17T21:57:22.189Z"
   },
   {
    "duration": 77,
    "start_time": "2023-04-17T21:57:22.247Z"
   },
   {
    "duration": 72,
    "start_time": "2023-04-17T21:57:22.326Z"
   },
   {
    "duration": 78,
    "start_time": "2023-04-17T21:57:22.400Z"
   },
   {
    "duration": 35,
    "start_time": "2023-04-17T21:57:22.480Z"
   },
   {
    "duration": 31,
    "start_time": "2023-04-17T21:57:22.516Z"
   },
   {
    "duration": 27,
    "start_time": "2023-04-17T21:57:22.550Z"
   },
   {
    "duration": 16,
    "start_time": "2023-04-17T21:57:22.580Z"
   },
   {
    "duration": 15,
    "start_time": "2023-04-17T21:57:31.036Z"
   },
   {
    "duration": 15,
    "start_time": "2023-04-17T21:57:55.811Z"
   },
   {
    "duration": 15,
    "start_time": "2023-04-17T21:59:20.599Z"
   },
   {
    "duration": 8,
    "start_time": "2023-04-17T22:01:10.161Z"
   },
   {
    "duration": 5,
    "start_time": "2023-04-17T22:01:19.566Z"
   },
   {
    "duration": 25,
    "start_time": "2023-04-17T22:01:19.573Z"
   },
   {
    "duration": 809,
    "start_time": "2023-04-17T22:01:19.600Z"
   },
   {
    "duration": 136,
    "start_time": "2023-04-17T22:01:20.411Z"
   },
   {
    "duration": 15,
    "start_time": "2023-04-17T22:01:20.549Z"
   },
   {
    "duration": 99,
    "start_time": "2023-04-17T22:01:20.565Z"
   },
   {
    "duration": 41,
    "start_time": "2023-04-17T22:01:20.666Z"
   },
   {
    "duration": 97,
    "start_time": "2023-04-17T22:01:20.709Z"
   },
   {
    "duration": 41,
    "start_time": "2023-04-17T22:01:20.807Z"
   },
   {
    "duration": 75,
    "start_time": "2023-04-17T22:01:20.851Z"
   },
   {
    "duration": 75,
    "start_time": "2023-04-17T22:01:20.928Z"
   },
   {
    "duration": 2443,
    "start_time": "2023-04-17T22:01:21.005Z"
   },
   {
    "duration": 8,
    "start_time": "2023-04-17T22:01:23.450Z"
   },
   {
    "duration": 9,
    "start_time": "2023-04-17T22:01:23.460Z"
   },
   {
    "duration": 19,
    "start_time": "2023-04-17T22:01:23.470Z"
   },
   {
    "duration": 47,
    "start_time": "2023-04-17T22:01:23.490Z"
   },
   {
    "duration": 429,
    "start_time": "2023-04-17T22:01:23.539Z"
   },
   {
    "duration": 20,
    "start_time": "2023-04-17T22:01:23.970Z"
   },
   {
    "duration": 30,
    "start_time": "2023-04-17T22:01:23.991Z"
   },
   {
    "duration": 396,
    "start_time": "2023-04-17T22:01:24.023Z"
   },
   {
    "duration": 27,
    "start_time": "2023-04-17T22:01:24.421Z"
   },
   {
    "duration": 19,
    "start_time": "2023-04-17T22:01:24.450Z"
   },
   {
    "duration": 18,
    "start_time": "2023-04-17T22:01:24.471Z"
   },
   {
    "duration": 62,
    "start_time": "2023-04-17T22:01:24.490Z"
   },
   {
    "duration": 25,
    "start_time": "2023-04-17T22:01:24.555Z"
   },
   {
    "duration": 38,
    "start_time": "2023-04-17T22:01:24.582Z"
   },
   {
    "duration": 33,
    "start_time": "2023-04-17T22:01:24.621Z"
   },
   {
    "duration": 32,
    "start_time": "2023-04-17T22:01:24.655Z"
   },
   {
    "duration": 42,
    "start_time": "2023-04-17T22:01:24.689Z"
   },
   {
    "duration": 34,
    "start_time": "2023-04-17T22:01:24.732Z"
   },
   {
    "duration": 41,
    "start_time": "2023-04-17T22:01:24.767Z"
   },
   {
    "duration": 65,
    "start_time": "2023-04-17T22:01:24.809Z"
   },
   {
    "duration": 34,
    "start_time": "2023-04-17T22:01:24.876Z"
   },
   {
    "duration": 26,
    "start_time": "2023-04-17T22:01:24.912Z"
   },
   {
    "duration": 17,
    "start_time": "2023-04-17T22:01:24.939Z"
   },
   {
    "duration": 17,
    "start_time": "2023-04-17T22:01:29.479Z"
   },
   {
    "duration": 15,
    "start_time": "2023-04-17T22:01:39.953Z"
   },
   {
    "duration": 43,
    "start_time": "2023-04-17T22:03:48.017Z"
   },
   {
    "duration": 23,
    "start_time": "2023-04-17T22:03:55.066Z"
   },
   {
    "duration": 21,
    "start_time": "2023-04-17T22:04:03.790Z"
   },
   {
    "duration": 31,
    "start_time": "2023-04-17T22:04:05.803Z"
   },
   {
    "duration": 38,
    "start_time": "2023-04-17T22:04:22.394Z"
   },
   {
    "duration": 8,
    "start_time": "2023-04-17T22:04:26.371Z"
   },
   {
    "duration": 16,
    "start_time": "2023-04-17T22:04:32.855Z"
   },
   {
    "duration": 15,
    "start_time": "2023-04-17T22:04:34.628Z"
   },
   {
    "duration": 14,
    "start_time": "2023-04-17T22:04:49.604Z"
   },
   {
    "duration": 30,
    "start_time": "2023-04-17T22:08:17.609Z"
   },
   {
    "duration": 31,
    "start_time": "2023-04-17T22:09:05.665Z"
   },
   {
    "duration": 18,
    "start_time": "2023-04-17T22:09:40.298Z"
   },
   {
    "duration": 27,
    "start_time": "2023-04-17T22:09:45.407Z"
   },
   {
    "duration": 34,
    "start_time": "2023-04-17T22:10:30.975Z"
   },
   {
    "duration": 36,
    "start_time": "2023-04-17T22:12:33.185Z"
   },
   {
    "duration": 34,
    "start_time": "2023-04-17T22:13:38.003Z"
   },
   {
    "duration": 32,
    "start_time": "2023-04-17T22:15:00.126Z"
   },
   {
    "duration": 74,
    "start_time": "2023-04-17T22:15:09.550Z"
   },
   {
    "duration": 75,
    "start_time": "2023-04-17T22:15:45.447Z"
   },
   {
    "duration": 69,
    "start_time": "2023-04-17T22:15:51.087Z"
   },
   {
    "duration": 70,
    "start_time": "2023-04-17T22:15:58.194Z"
   },
   {
    "duration": 72,
    "start_time": "2023-04-17T22:16:06.755Z"
   },
   {
    "duration": 24,
    "start_time": "2023-04-17T22:16:36.881Z"
   },
   {
    "duration": 35,
    "start_time": "2023-04-17T22:17:44.467Z"
   },
   {
    "duration": 25,
    "start_time": "2023-04-17T22:18:01.484Z"
   },
   {
    "duration": 43,
    "start_time": "2023-04-17T22:21:30.824Z"
   },
   {
    "duration": 23,
    "start_time": "2023-04-17T22:21:53.355Z"
   },
   {
    "duration": 22,
    "start_time": "2023-04-17T22:21:56.424Z"
   },
   {
    "duration": 435,
    "start_time": "2023-04-17T22:23:01.465Z"
   },
   {
    "duration": 11574,
    "start_time": "2023-04-17T22:26:12.989Z"
   },
   {
    "duration": 1083,
    "start_time": "2023-04-17T22:26:42.820Z"
   },
   {
    "duration": 13,
    "start_time": "2023-04-17T22:26:51.155Z"
   },
   {
    "duration": 51,
    "start_time": "2023-04-17T22:27:52.301Z"
   },
   {
    "duration": 6,
    "start_time": "2023-04-17T22:28:01.573Z"
   },
   {
    "duration": 1277,
    "start_time": "2023-04-17T22:28:30.054Z"
   },
   {
    "duration": 6,
    "start_time": "2023-04-17T22:28:37.524Z"
   },
   {
    "duration": 140,
    "start_time": "2023-04-17T22:28:41.310Z"
   },
   {
    "duration": 1231,
    "start_time": "2023-04-17T22:28:46.361Z"
   },
   {
    "duration": 5,
    "start_time": "2023-04-17T22:29:09.550Z"
   },
   {
    "duration": 21,
    "start_time": "2023-04-17T22:29:09.562Z"
   },
   {
    "duration": 775,
    "start_time": "2023-04-17T22:29:09.585Z"
   },
   {
    "duration": 157,
    "start_time": "2023-04-17T22:29:10.362Z"
   },
   {
    "duration": 13,
    "start_time": "2023-04-17T22:29:10.521Z"
   },
   {
    "duration": 94,
    "start_time": "2023-04-17T22:29:10.537Z"
   },
   {
    "duration": 39,
    "start_time": "2023-04-17T22:29:10.633Z"
   },
   {
    "duration": 99,
    "start_time": "2023-04-17T22:29:10.674Z"
   },
   {
    "duration": 52,
    "start_time": "2023-04-17T22:29:10.775Z"
   },
   {
    "duration": 69,
    "start_time": "2023-04-17T22:29:10.828Z"
   },
   {
    "duration": 96,
    "start_time": "2023-04-17T22:29:10.899Z"
   },
   {
    "duration": 1414,
    "start_time": "2023-04-17T22:29:10.997Z"
   },
   {
    "duration": 12,
    "start_time": "2023-04-17T22:29:12.417Z"
   },
   {
    "duration": 11,
    "start_time": "2023-04-17T22:29:12.431Z"
   },
   {
    "duration": 13,
    "start_time": "2023-04-17T22:29:12.446Z"
   },
   {
    "duration": 63,
    "start_time": "2023-04-17T22:29:12.461Z"
   },
   {
    "duration": 343,
    "start_time": "2023-04-17T22:29:12.526Z"
   },
   {
    "duration": 20,
    "start_time": "2023-04-17T22:29:12.872Z"
   },
   {
    "duration": 27,
    "start_time": "2023-04-17T22:29:12.893Z"
   },
   {
    "duration": 557,
    "start_time": "2023-04-17T22:29:12.922Z"
   },
   {
    "duration": 28,
    "start_time": "2023-04-17T22:29:13.481Z"
   },
   {
    "duration": 19,
    "start_time": "2023-04-17T22:29:13.518Z"
   },
   {
    "duration": 33,
    "start_time": "2023-04-17T22:29:13.539Z"
   },
   {
    "duration": 97,
    "start_time": "2023-04-17T22:29:13.574Z"
   },
   {
    "duration": 31,
    "start_time": "2023-04-17T22:29:13.673Z"
   },
   {
    "duration": 29,
    "start_time": "2023-04-17T22:29:13.706Z"
   },
   {
    "duration": 31,
    "start_time": "2023-04-17T22:29:13.737Z"
   },
   {
    "duration": 28,
    "start_time": "2023-04-17T22:29:13.770Z"
   },
   {
    "duration": 49,
    "start_time": "2023-04-17T22:29:13.800Z"
   },
   {
    "duration": 37,
    "start_time": "2023-04-17T22:29:13.850Z"
   },
   {
    "duration": 62,
    "start_time": "2023-04-17T22:29:13.889Z"
   },
   {
    "duration": 60,
    "start_time": "2023-04-17T22:29:13.953Z"
   },
   {
    "duration": 35,
    "start_time": "2023-04-17T22:29:14.015Z"
   },
   {
    "duration": 25,
    "start_time": "2023-04-17T22:29:14.052Z"
   },
   {
    "duration": 37,
    "start_time": "2023-04-17T22:29:14.079Z"
   },
   {
    "duration": 32,
    "start_time": "2023-04-17T22:29:14.118Z"
   },
   {
    "duration": 32,
    "start_time": "2023-04-17T22:29:14.152Z"
   },
   {
    "duration": 39,
    "start_time": "2023-04-17T22:29:14.187Z"
   },
   {
    "duration": 38,
    "start_time": "2023-04-17T22:29:14.228Z"
   },
   {
    "duration": 46,
    "start_time": "2023-04-17T22:29:14.268Z"
   },
   {
    "duration": 46,
    "start_time": "2023-04-17T22:29:14.316Z"
   },
   {
    "duration": 13,
    "start_time": "2023-04-17T22:29:24.158Z"
   },
   {
    "duration": 25,
    "start_time": "2023-04-17T22:30:21.865Z"
   },
   {
    "duration": 11320,
    "start_time": "2023-04-17T22:30:23.907Z"
   },
   {
    "duration": 6,
    "start_time": "2023-04-17T22:30:37.211Z"
   },
   {
    "duration": 6,
    "start_time": "2023-04-17T22:30:43.015Z"
   },
   {
    "duration": 40,
    "start_time": "2023-04-17T22:31:13.092Z"
   },
   {
    "duration": 9,
    "start_time": "2023-04-17T22:34:17.490Z"
   },
   {
    "duration": 41,
    "start_time": "2023-04-17T22:34:27.211Z"
   },
   {
    "duration": 5,
    "start_time": "2023-04-17T22:34:33.886Z"
   },
   {
    "duration": 37,
    "start_time": "2023-04-17T22:35:02.389Z"
   },
   {
    "duration": 5,
    "start_time": "2023-04-17T22:35:03.459Z"
   },
   {
    "duration": 35,
    "start_time": "2023-04-17T22:35:31.559Z"
   },
   {
    "duration": 6,
    "start_time": "2023-04-17T22:35:33.186Z"
   },
   {
    "duration": 36,
    "start_time": "2023-04-17T22:35:47.666Z"
   },
   {
    "duration": 86,
    "start_time": "2023-04-17T22:36:31.922Z"
   },
   {
    "duration": 36,
    "start_time": "2023-04-17T22:36:38.403Z"
   },
   {
    "duration": 38,
    "start_time": "2023-04-17T22:36:52.632Z"
   },
   {
    "duration": 12,
    "start_time": "2023-04-17T22:36:58.770Z"
   },
   {
    "duration": 37,
    "start_time": "2023-04-17T22:36:59.921Z"
   },
   {
    "duration": 7,
    "start_time": "2023-04-17T22:37:01.199Z"
   },
   {
    "duration": 35,
    "start_time": "2023-04-17T22:37:34.110Z"
   },
   {
    "duration": 5,
    "start_time": "2023-04-17T22:37:35.251Z"
   },
   {
    "duration": 39,
    "start_time": "2023-04-17T22:37:36.901Z"
   },
   {
    "duration": 4009,
    "start_time": "2023-04-17T22:38:42.220Z"
   },
   {
    "duration": 3965,
    "start_time": "2023-04-17T22:38:50.029Z"
   },
   {
    "duration": 53,
    "start_time": "2023-04-17T22:41:19.162Z"
   },
   {
    "duration": 45,
    "start_time": "2023-04-17T22:41:31.738Z"
   },
   {
    "duration": 11,
    "start_time": "2023-04-17T22:41:34.204Z"
   },
   {
    "duration": 45,
    "start_time": "2023-04-17T22:41:35.574Z"
   },
   {
    "duration": 45,
    "start_time": "2023-04-17T22:42:02.990Z"
   },
   {
    "duration": 44,
    "start_time": "2023-04-17T22:42:15.687Z"
   },
   {
    "duration": 4,
    "start_time": "2023-04-17T22:43:06.434Z"
   },
   {
    "duration": 7,
    "start_time": "2023-04-17T22:43:06.442Z"
   },
   {
    "duration": 825,
    "start_time": "2023-04-17T22:43:06.450Z"
   },
   {
    "duration": 149,
    "start_time": "2023-04-17T22:43:07.277Z"
   },
   {
    "duration": 14,
    "start_time": "2023-04-17T22:43:07.427Z"
   },
   {
    "duration": 95,
    "start_time": "2023-04-17T22:43:07.444Z"
   },
   {
    "duration": 42,
    "start_time": "2023-04-17T22:43:07.542Z"
   },
   {
    "duration": 99,
    "start_time": "2023-04-17T22:43:07.586Z"
   },
   {
    "duration": 49,
    "start_time": "2023-04-17T22:43:07.686Z"
   },
   {
    "duration": 75,
    "start_time": "2023-04-17T22:43:07.736Z"
   },
   {
    "duration": 77,
    "start_time": "2023-04-17T22:43:07.813Z"
   },
   {
    "duration": 1333,
    "start_time": "2023-04-17T22:43:07.893Z"
   },
   {
    "duration": 8,
    "start_time": "2023-04-17T22:43:09.228Z"
   },
   {
    "duration": 10,
    "start_time": "2023-04-17T22:43:09.238Z"
   },
   {
    "duration": 10,
    "start_time": "2023-04-17T22:43:09.249Z"
   },
   {
    "duration": 35,
    "start_time": "2023-04-17T22:43:09.260Z"
   },
   {
    "duration": 343,
    "start_time": "2023-04-17T22:43:09.318Z"
   },
   {
    "duration": 20,
    "start_time": "2023-04-17T22:43:09.663Z"
   },
   {
    "duration": 33,
    "start_time": "2023-04-17T22:43:09.685Z"
   },
   {
    "duration": 415,
    "start_time": "2023-04-17T22:43:09.720Z"
   },
   {
    "duration": 29,
    "start_time": "2023-04-17T22:43:10.137Z"
   },
   {
    "duration": 20,
    "start_time": "2023-04-17T22:43:10.169Z"
   },
   {
    "duration": 43,
    "start_time": "2023-04-17T22:43:10.191Z"
   },
   {
    "duration": 48,
    "start_time": "2023-04-17T22:43:10.236Z"
   },
   {
    "duration": 42,
    "start_time": "2023-04-17T22:43:10.286Z"
   },
   {
    "duration": 22,
    "start_time": "2023-04-17T22:43:10.330Z"
   },
   {
    "duration": 30,
    "start_time": "2023-04-17T22:43:10.354Z"
   },
   {
    "duration": 43,
    "start_time": "2023-04-17T22:43:10.386Z"
   },
   {
    "duration": 39,
    "start_time": "2023-04-17T22:43:10.431Z"
   },
   {
    "duration": 37,
    "start_time": "2023-04-17T22:43:10.474Z"
   },
   {
    "duration": 44,
    "start_time": "2023-04-17T22:43:10.513Z"
   },
   {
    "duration": 41,
    "start_time": "2023-04-17T22:43:10.559Z"
   },
   {
    "duration": 32,
    "start_time": "2023-04-17T22:43:10.601Z"
   },
   {
    "duration": 10,
    "start_time": "2023-04-17T22:43:10.635Z"
   },
   {
    "duration": 24,
    "start_time": "2023-04-17T22:43:10.647Z"
   },
   {
    "duration": 23,
    "start_time": "2023-04-17T22:43:10.673Z"
   },
   {
    "duration": 45,
    "start_time": "2023-04-17T22:43:10.698Z"
   },
   {
    "duration": 20,
    "start_time": "2023-04-17T22:43:10.744Z"
   },
   {
    "duration": 30,
    "start_time": "2023-04-17T22:43:10.765Z"
   },
   {
    "duration": 44,
    "start_time": "2023-04-17T22:43:10.797Z"
   },
   {
    "duration": 47,
    "start_time": "2023-04-17T22:43:10.843Z"
   },
   {
    "duration": 35,
    "start_time": "2023-04-17T22:43:10.892Z"
   },
   {
    "duration": 14330,
    "start_time": "2023-04-17T22:43:21.137Z"
   },
   {
    "duration": 12,
    "start_time": "2023-04-17T22:43:37.198Z"
   },
   {
    "duration": 29,
    "start_time": "2023-04-17T22:44:31.039Z"
   },
   {
    "duration": 31,
    "start_time": "2023-04-17T22:44:52.513Z"
   },
   {
    "duration": 18007,
    "start_time": "2023-04-17T22:47:09.313Z"
   },
   {
    "duration": 5,
    "start_time": "2023-04-17T22:47:29.554Z"
   },
   {
    "duration": 33,
    "start_time": "2023-04-17T22:47:32.401Z"
   },
   {
    "duration": 22,
    "start_time": "2023-04-17T22:47:36.245Z"
   },
   {
    "duration": 3,
    "start_time": "2023-04-17T22:47:52.684Z"
   },
   {
    "duration": 16,
    "start_time": "2023-04-17T22:47:52.701Z"
   },
   {
    "duration": 844,
    "start_time": "2023-04-17T22:47:52.720Z"
   },
   {
    "duration": 143,
    "start_time": "2023-04-17T22:47:53.566Z"
   },
   {
    "duration": 13,
    "start_time": "2023-04-17T22:47:53.718Z"
   },
   {
    "duration": 94,
    "start_time": "2023-04-17T22:47:53.734Z"
   },
   {
    "duration": 41,
    "start_time": "2023-04-17T22:47:53.830Z"
   },
   {
    "duration": 91,
    "start_time": "2023-04-17T22:47:53.873Z"
   },
   {
    "duration": 52,
    "start_time": "2023-04-17T22:47:53.965Z"
   },
   {
    "duration": 74,
    "start_time": "2023-04-17T22:47:54.020Z"
   },
   {
    "duration": 91,
    "start_time": "2023-04-17T22:47:54.095Z"
   },
   {
    "duration": 1378,
    "start_time": "2023-04-17T22:47:54.188Z"
   },
   {
    "duration": 10,
    "start_time": "2023-04-17T22:47:55.568Z"
   },
   {
    "duration": 10,
    "start_time": "2023-04-17T22:47:55.580Z"
   },
   {
    "duration": 29,
    "start_time": "2023-04-17T22:47:55.594Z"
   },
   {
    "duration": 32,
    "start_time": "2023-04-17T22:47:55.625Z"
   },
   {
    "duration": 449,
    "start_time": "2023-04-17T22:47:55.659Z"
   },
   {
    "duration": 21,
    "start_time": "2023-04-17T22:47:56.110Z"
   },
   {
    "duration": 32,
    "start_time": "2023-04-17T22:47:56.133Z"
   },
   {
    "duration": 400,
    "start_time": "2023-04-17T22:47:56.167Z"
   },
   {
    "duration": 29,
    "start_time": "2023-04-17T22:47:56.569Z"
   },
   {
    "duration": 29,
    "start_time": "2023-04-17T22:47:56.600Z"
   },
   {
    "duration": 20,
    "start_time": "2023-04-17T22:47:56.632Z"
   },
   {
    "duration": 65,
    "start_time": "2023-04-17T22:47:56.654Z"
   },
   {
    "duration": 24,
    "start_time": "2023-04-17T22:47:56.721Z"
   },
   {
    "duration": 25,
    "start_time": "2023-04-17T22:47:56.747Z"
   },
   {
    "duration": 54,
    "start_time": "2023-04-17T22:47:56.774Z"
   },
   {
    "duration": 29,
    "start_time": "2023-04-17T22:47:56.830Z"
   },
   {
    "duration": 39,
    "start_time": "2023-04-17T22:47:56.861Z"
   },
   {
    "duration": 38,
    "start_time": "2023-04-17T22:47:56.902Z"
   },
   {
    "duration": 33,
    "start_time": "2023-04-17T22:47:56.942Z"
   },
   {
    "duration": 54,
    "start_time": "2023-04-17T22:47:56.976Z"
   },
   {
    "duration": 33,
    "start_time": "2023-04-17T22:47:57.032Z"
   },
   {
    "duration": 21,
    "start_time": "2023-04-17T22:47:57.067Z"
   },
   {
    "duration": 29,
    "start_time": "2023-04-17T22:47:57.090Z"
   },
   {
    "duration": 23,
    "start_time": "2023-04-17T22:47:57.121Z"
   },
   {
    "duration": 30,
    "start_time": "2023-04-17T22:47:57.146Z"
   },
   {
    "duration": 42,
    "start_time": "2023-04-17T22:47:57.178Z"
   },
   {
    "duration": 29,
    "start_time": "2023-04-17T22:47:57.222Z"
   },
   {
    "duration": 48,
    "start_time": "2023-04-17T22:47:57.252Z"
   },
   {
    "duration": 18315,
    "start_time": "2023-04-17T22:47:57.302Z"
   },
   {
    "duration": 10,
    "start_time": "2023-04-17T22:48:15.621Z"
   },
   {
    "duration": 31,
    "start_time": "2023-04-17T22:48:15.632Z"
   },
   {
    "duration": 31,
    "start_time": "2023-04-17T22:48:15.665Z"
   },
   {
    "duration": 18358,
    "start_time": "2023-04-17T22:48:29.464Z"
   },
   {
    "duration": 41,
    "start_time": "2023-04-17T22:48:50.601Z"
   },
   {
    "duration": 74,
    "start_time": "2023-04-17T22:49:33.100Z"
   },
   {
    "duration": 75,
    "start_time": "2023-04-17T22:49:41.966Z"
   },
   {
    "duration": 23,
    "start_time": "2023-04-17T22:49:46.759Z"
   },
   {
    "duration": 23,
    "start_time": "2023-04-17T22:50:08.949Z"
   },
   {
    "duration": 79,
    "start_time": "2023-04-17T22:51:54.056Z"
   },
   {
    "duration": 77,
    "start_time": "2023-04-17T22:52:10.530Z"
   },
   {
    "duration": 7627,
    "start_time": "2023-04-17T22:52:56.290Z"
   },
   {
    "duration": 4,
    "start_time": "2023-04-17T22:53:08.049Z"
   },
   {
    "duration": 7,
    "start_time": "2023-04-17T22:53:08.055Z"
   },
   {
    "duration": 847,
    "start_time": "2023-04-17T22:53:08.064Z"
   },
   {
    "duration": 141,
    "start_time": "2023-04-17T22:53:08.913Z"
   },
   {
    "duration": 25,
    "start_time": "2023-04-17T22:53:09.056Z"
   },
   {
    "duration": 91,
    "start_time": "2023-04-17T22:53:09.083Z"
   },
   {
    "duration": 49,
    "start_time": "2023-04-17T22:53:09.176Z"
   },
   {
    "duration": 90,
    "start_time": "2023-04-17T22:53:09.227Z"
   },
   {
    "duration": 40,
    "start_time": "2023-04-17T22:53:09.319Z"
   },
   {
    "duration": 86,
    "start_time": "2023-04-17T22:53:09.362Z"
   },
   {
    "duration": 79,
    "start_time": "2023-04-17T22:53:09.450Z"
   },
   {
    "duration": 1461,
    "start_time": "2023-04-17T22:53:09.530Z"
   },
   {
    "duration": 9,
    "start_time": "2023-04-17T22:53:10.992Z"
   },
   {
    "duration": 18,
    "start_time": "2023-04-17T22:53:11.002Z"
   },
   {
    "duration": 8,
    "start_time": "2023-04-17T22:53:11.022Z"
   },
   {
    "duration": 36,
    "start_time": "2023-04-17T22:53:11.032Z"
   },
   {
    "duration": 361,
    "start_time": "2023-04-17T22:53:11.071Z"
   },
   {
    "duration": 20,
    "start_time": "2023-04-17T22:53:11.434Z"
   },
   {
    "duration": 28,
    "start_time": "2023-04-17T22:53:11.456Z"
   },
   {
    "duration": 439,
    "start_time": "2023-04-17T22:53:11.485Z"
   },
   {
    "duration": 34,
    "start_time": "2023-04-17T22:53:11.926Z"
   },
   {
    "duration": 20,
    "start_time": "2023-04-17T22:53:11.963Z"
   },
   {
    "duration": 38,
    "start_time": "2023-04-17T22:53:11.985Z"
   },
   {
    "duration": 46,
    "start_time": "2023-04-17T22:53:12.025Z"
   },
   {
    "duration": 44,
    "start_time": "2023-04-17T22:53:12.075Z"
   },
   {
    "duration": 27,
    "start_time": "2023-04-17T22:53:12.122Z"
   },
   {
    "duration": 32,
    "start_time": "2023-04-17T22:53:12.151Z"
   },
   {
    "duration": 44,
    "start_time": "2023-04-17T22:53:12.184Z"
   },
   {
    "duration": 36,
    "start_time": "2023-04-17T22:53:12.230Z"
   },
   {
    "duration": 29,
    "start_time": "2023-04-17T22:53:12.268Z"
   },
   {
    "duration": 40,
    "start_time": "2023-04-17T22:53:12.299Z"
   },
   {
    "duration": 39,
    "start_time": "2023-04-17T22:53:12.341Z"
   },
   {
    "duration": 56,
    "start_time": "2023-04-17T22:53:12.382Z"
   },
   {
    "duration": 18,
    "start_time": "2023-04-17T22:53:12.440Z"
   },
   {
    "duration": 27,
    "start_time": "2023-04-17T22:53:12.460Z"
   },
   {
    "duration": 42,
    "start_time": "2023-04-17T22:53:12.490Z"
   },
   {
    "duration": 36,
    "start_time": "2023-04-17T22:53:12.534Z"
   },
   {
    "duration": 20,
    "start_time": "2023-04-17T22:53:12.572Z"
   },
   {
    "duration": 43,
    "start_time": "2023-04-17T22:53:12.594Z"
   },
   {
    "duration": 40,
    "start_time": "2023-04-17T22:53:12.639Z"
   },
   {
    "duration": 22287,
    "start_time": "2023-04-17T22:53:38.832Z"
   },
   {
    "duration": 12,
    "start_time": "2023-04-17T22:54:04.419Z"
   },
   {
    "duration": 30,
    "start_time": "2023-04-17T22:54:06.588Z"
   },
   {
    "duration": 29,
    "start_time": "2023-04-17T22:55:01.047Z"
   },
   {
    "duration": 23,
    "start_time": "2023-04-17T22:55:05.578Z"
   },
   {
    "duration": 20,
    "start_time": "2023-04-17T22:57:22.828Z"
   },
   {
    "duration": 12,
    "start_time": "2023-04-17T22:57:31.766Z"
   },
   {
    "duration": 184,
    "start_time": "2023-04-17T23:00:25.749Z"
   },
   {
    "duration": 957,
    "start_time": "2023-04-17T23:00:43.358Z"
   },
   {
    "duration": 1313,
    "start_time": "2023-04-17T23:01:02.871Z"
   },
   {
    "duration": 3,
    "start_time": "2023-04-17T23:01:16.173Z"
   },
   {
    "duration": 3,
    "start_time": "2023-04-17T23:01:41.697Z"
   },
   {
    "duration": 9,
    "start_time": "2023-04-17T23:02:04.840Z"
   },
   {
    "duration": 15,
    "start_time": "2023-04-17T23:02:42.329Z"
   },
   {
    "duration": 364,
    "start_time": "2023-04-17T23:03:16.948Z"
   },
   {
    "duration": 8,
    "start_time": "2023-04-17T23:03:50.034Z"
   },
   {
    "duration": 9,
    "start_time": "2023-04-17T23:03:55.934Z"
   },
   {
    "duration": 8,
    "start_time": "2023-04-17T23:03:59.682Z"
   },
   {
    "duration": 9,
    "start_time": "2023-04-17T23:04:08.163Z"
   },
   {
    "duration": 341,
    "start_time": "2023-04-17T23:04:33.400Z"
   },
   {
    "duration": 8,
    "start_time": "2023-04-17T23:04:52.901Z"
   },
   {
    "duration": 8,
    "start_time": "2023-04-17T23:05:07.522Z"
   },
   {
    "duration": 7,
    "start_time": "2023-04-17T23:05:12.984Z"
   },
   {
    "duration": 91,
    "start_time": "2023-04-17T23:06:10.624Z"
   },
   {
    "duration": 20,
    "start_time": "2023-04-17T23:07:03.236Z"
   },
   {
    "duration": 15,
    "start_time": "2023-04-17T23:07:11.439Z"
   },
   {
    "duration": 7,
    "start_time": "2023-04-17T23:08:03.705Z"
   },
   {
    "duration": 26,
    "start_time": "2023-04-17T23:09:21.321Z"
   },
   {
    "duration": 7,
    "start_time": "2023-04-17T23:09:26.714Z"
   },
   {
    "duration": 1420,
    "start_time": "2023-04-17T23:09:38.539Z"
   },
   {
    "duration": 15,
    "start_time": "2023-04-17T23:10:01.626Z"
   },
   {
    "duration": 4,
    "start_time": "2023-04-17T23:10:37.804Z"
   },
   {
    "duration": 13,
    "start_time": "2023-04-17T23:10:37.812Z"
   },
   {
    "duration": 790,
    "start_time": "2023-04-17T23:10:37.842Z"
   },
   {
    "duration": 138,
    "start_time": "2023-04-17T23:10:38.634Z"
   },
   {
    "duration": 13,
    "start_time": "2023-04-17T23:10:38.773Z"
   },
   {
    "duration": 98,
    "start_time": "2023-04-17T23:10:38.787Z"
   },
   {
    "duration": 46,
    "start_time": "2023-04-17T23:10:38.887Z"
   },
   {
    "duration": 90,
    "start_time": "2023-04-17T23:10:38.934Z"
   },
   {
    "duration": 39,
    "start_time": "2023-04-17T23:10:39.026Z"
   },
   {
    "duration": 82,
    "start_time": "2023-04-17T23:10:39.067Z"
   },
   {
    "duration": 92,
    "start_time": "2023-04-17T23:10:39.150Z"
   },
   {
    "duration": 1325,
    "start_time": "2023-04-17T23:10:39.244Z"
   },
   {
    "duration": 9,
    "start_time": "2023-04-17T23:10:40.570Z"
   },
   {
    "duration": 10,
    "start_time": "2023-04-17T23:10:40.581Z"
   },
   {
    "duration": 25,
    "start_time": "2023-04-17T23:10:40.593Z"
   },
   {
    "duration": 35,
    "start_time": "2023-04-17T23:10:40.622Z"
   },
   {
    "duration": 327,
    "start_time": "2023-04-17T23:10:40.659Z"
   },
   {
    "duration": 31,
    "start_time": "2023-04-17T23:10:40.988Z"
   },
   {
    "duration": 18,
    "start_time": "2023-04-17T23:10:41.021Z"
   },
   {
    "duration": 392,
    "start_time": "2023-04-17T23:10:41.040Z"
   },
   {
    "duration": 26,
    "start_time": "2023-04-17T23:10:41.434Z"
   },
   {
    "duration": 19,
    "start_time": "2023-04-17T23:10:41.462Z"
   },
   {
    "duration": 40,
    "start_time": "2023-04-17T23:10:41.483Z"
   },
   {
    "duration": 44,
    "start_time": "2023-04-17T23:10:41.525Z"
   },
   {
    "duration": 22,
    "start_time": "2023-04-17T23:10:41.571Z"
   },
   {
    "duration": 36,
    "start_time": "2023-04-17T23:10:41.594Z"
   },
   {
    "duration": 29,
    "start_time": "2023-04-17T23:10:41.632Z"
   },
   {
    "duration": 26,
    "start_time": "2023-04-17T23:10:41.663Z"
   },
   {
    "duration": 43,
    "start_time": "2023-04-17T23:10:41.691Z"
   },
   {
    "duration": 28,
    "start_time": "2023-04-17T23:10:41.735Z"
   },
   {
    "duration": 35,
    "start_time": "2023-04-17T23:10:41.765Z"
   },
   {
    "duration": 43,
    "start_time": "2023-04-17T23:10:41.818Z"
   },
   {
    "duration": 31,
    "start_time": "2023-04-17T23:10:41.864Z"
   },
   {
    "duration": 28,
    "start_time": "2023-04-17T23:10:41.896Z"
   },
   {
    "duration": 181,
    "start_time": "2023-04-17T23:10:41.926Z"
   },
   {
    "duration": 24,
    "start_time": "2023-04-17T23:10:42.109Z"
   },
   {
    "duration": 30,
    "start_time": "2023-04-17T23:10:42.135Z"
   },
   {
    "duration": 58,
    "start_time": "2023-04-17T23:10:42.166Z"
   },
   {
    "duration": 35,
    "start_time": "2023-04-17T23:10:42.226Z"
   },
   {
    "duration": 43,
    "start_time": "2023-04-17T23:10:42.263Z"
   },
   {
    "duration": 21566,
    "start_time": "2023-04-17T23:10:42.307Z"
   },
   {
    "duration": 27,
    "start_time": "2023-04-17T23:11:03.875Z"
   },
   {
    "duration": 8,
    "start_time": "2023-04-17T23:11:03.917Z"
   },
   {
    "duration": 26,
    "start_time": "2023-04-17T23:11:03.927Z"
   },
   {
    "duration": 332,
    "start_time": "2023-04-17T23:11:03.956Z"
   },
   {
    "duration": 9,
    "start_time": "2023-04-17T23:11:04.290Z"
   },
   {
    "duration": 25,
    "start_time": "2023-04-17T23:11:04.301Z"
   },
   {
    "duration": 27,
    "start_time": "2023-04-17T23:11:04.328Z"
   },
   {
    "duration": 9,
    "start_time": "2023-04-17T23:11:04.357Z"
   },
   {
    "duration": 31,
    "start_time": "2023-04-17T23:11:04.368Z"
   },
   {
    "duration": 1419,
    "start_time": "2023-04-17T23:11:04.400Z"
   },
   {
    "duration": 14,
    "start_time": "2023-04-17T23:11:38.226Z"
   },
   {
    "duration": 85,
    "start_time": "2023-04-17T23:11:57.090Z"
   },
   {
    "duration": 18,
    "start_time": "2023-04-17T23:12:04.812Z"
   },
   {
    "duration": 16,
    "start_time": "2023-04-17T23:12:09.034Z"
   },
   {
    "duration": 3,
    "start_time": "2023-04-17T23:13:10.249Z"
   },
   {
    "duration": 21,
    "start_time": "2023-04-17T23:13:10.254Z"
   },
   {
    "duration": 841,
    "start_time": "2023-04-17T23:13:10.277Z"
   },
   {
    "duration": 145,
    "start_time": "2023-04-17T23:13:11.120Z"
   },
   {
    "duration": 16,
    "start_time": "2023-04-17T23:13:11.267Z"
   },
   {
    "duration": 111,
    "start_time": "2023-04-17T23:13:11.285Z"
   },
   {
    "duration": 43,
    "start_time": "2023-04-17T23:13:11.398Z"
   },
   {
    "duration": 95,
    "start_time": "2023-04-17T23:13:11.443Z"
   },
   {
    "duration": 41,
    "start_time": "2023-04-17T23:13:11.540Z"
   },
   {
    "duration": 87,
    "start_time": "2023-04-17T23:13:11.583Z"
   },
   {
    "duration": 84,
    "start_time": "2023-04-17T23:13:11.673Z"
   },
   {
    "duration": 1467,
    "start_time": "2023-04-17T23:13:11.758Z"
   },
   {
    "duration": 10,
    "start_time": "2023-04-17T23:13:13.227Z"
   },
   {
    "duration": 22,
    "start_time": "2023-04-17T23:13:13.239Z"
   },
   {
    "duration": 16,
    "start_time": "2023-04-17T23:13:13.263Z"
   },
   {
    "duration": 59,
    "start_time": "2023-04-17T23:13:13.281Z"
   },
   {
    "duration": 331,
    "start_time": "2023-04-17T23:13:13.341Z"
   },
   {
    "duration": 21,
    "start_time": "2023-04-17T23:13:13.674Z"
   },
   {
    "duration": 34,
    "start_time": "2023-04-17T23:13:13.697Z"
   },
   {
    "duration": 384,
    "start_time": "2023-04-17T23:13:13.733Z"
   },
   {
    "duration": 28,
    "start_time": "2023-04-17T23:13:14.119Z"
   },
   {
    "duration": 19,
    "start_time": "2023-04-17T23:13:14.148Z"
   },
   {
    "duration": 19,
    "start_time": "2023-04-17T23:13:14.169Z"
   },
   {
    "duration": 80,
    "start_time": "2023-04-17T23:13:14.190Z"
   },
   {
    "duration": 22,
    "start_time": "2023-04-17T23:13:14.272Z"
   },
   {
    "duration": 27,
    "start_time": "2023-04-17T23:13:14.296Z"
   },
   {
    "duration": 41,
    "start_time": "2023-04-17T23:13:14.325Z"
   },
   {
    "duration": 29,
    "start_time": "2023-04-17T23:13:14.369Z"
   },
   {
    "duration": 42,
    "start_time": "2023-04-17T23:13:14.402Z"
   },
   {
    "duration": 52,
    "start_time": "2023-04-17T23:13:14.446Z"
   },
   {
    "duration": 52,
    "start_time": "2023-04-17T23:13:14.501Z"
   },
   {
    "duration": 41,
    "start_time": "2023-04-17T23:13:14.555Z"
   },
   {
    "duration": 33,
    "start_time": "2023-04-17T23:13:14.598Z"
   },
   {
    "duration": 16,
    "start_time": "2023-04-17T23:13:14.633Z"
   },
   {
    "duration": 25,
    "start_time": "2023-04-17T23:13:14.651Z"
   },
   {
    "duration": 24,
    "start_time": "2023-04-17T23:13:14.678Z"
   },
   {
    "duration": 44,
    "start_time": "2023-04-17T23:13:14.703Z"
   },
   {
    "duration": 32,
    "start_time": "2023-04-17T23:13:14.748Z"
   },
   {
    "duration": 48,
    "start_time": "2023-04-17T23:13:14.781Z"
   },
   {
    "duration": 41,
    "start_time": "2023-04-17T23:13:14.831Z"
   },
   {
    "duration": 22462,
    "start_time": "2023-04-17T23:13:14.873Z"
   },
   {
    "duration": 30,
    "start_time": "2023-04-17T23:13:37.337Z"
   },
   {
    "duration": 20,
    "start_time": "2023-04-17T23:13:37.369Z"
   },
   {
    "duration": 26,
    "start_time": "2023-04-17T23:13:37.391Z"
   },
   {
    "duration": 515,
    "start_time": "2023-04-17T23:13:37.419Z"
   },
   {
    "duration": 8,
    "start_time": "2023-04-17T23:13:37.936Z"
   },
   {
    "duration": 7,
    "start_time": "2023-04-17T23:13:37.946Z"
   },
   {
    "duration": 30,
    "start_time": "2023-04-17T23:13:37.955Z"
   },
   {
    "duration": 8,
    "start_time": "2023-04-17T23:13:37.986Z"
   },
   {
    "duration": 26,
    "start_time": "2023-04-17T23:13:38.018Z"
   },
   {
    "duration": 15,
    "start_time": "2023-04-17T23:13:38.045Z"
   },
   {
    "duration": 1467,
    "start_time": "2023-04-17T23:13:38.062Z"
   },
   {
    "duration": 15,
    "start_time": "2023-04-17T23:14:09.036Z"
   },
   {
    "duration": 9,
    "start_time": "2023-04-17T23:14:28.570Z"
   },
   {
    "duration": 6,
    "start_time": "2023-04-17T23:14:54.437Z"
   },
   {
    "duration": 4,
    "start_time": "2023-04-17T23:15:02.496Z"
   },
   {
    "duration": 53,
    "start_time": "2023-04-17T23:15:02.503Z"
   },
   {
    "duration": 797,
    "start_time": "2023-04-17T23:15:02.558Z"
   },
   {
    "duration": 126,
    "start_time": "2023-04-17T23:15:03.357Z"
   },
   {
    "duration": 27,
    "start_time": "2023-04-17T23:15:03.485Z"
   },
   {
    "duration": 99,
    "start_time": "2023-04-17T23:15:03.514Z"
   },
   {
    "duration": 39,
    "start_time": "2023-04-17T23:15:03.615Z"
   },
   {
    "duration": 96,
    "start_time": "2023-04-17T23:15:03.656Z"
   },
   {
    "duration": 40,
    "start_time": "2023-04-17T23:15:03.753Z"
   },
   {
    "duration": 80,
    "start_time": "2023-04-17T23:15:03.795Z"
   },
   {
    "duration": 78,
    "start_time": "2023-04-17T23:15:03.878Z"
   },
   {
    "duration": 1291,
    "start_time": "2023-04-17T23:15:03.957Z"
   },
   {
    "duration": 8,
    "start_time": "2023-04-17T23:15:05.250Z"
   },
   {
    "duration": 21,
    "start_time": "2023-04-17T23:15:05.260Z"
   },
   {
    "duration": 33,
    "start_time": "2023-04-17T23:15:05.283Z"
   },
   {
    "duration": 53,
    "start_time": "2023-04-17T23:15:05.318Z"
   },
   {
    "duration": 332,
    "start_time": "2023-04-17T23:15:05.373Z"
   },
   {
    "duration": 28,
    "start_time": "2023-04-17T23:15:05.706Z"
   },
   {
    "duration": 19,
    "start_time": "2023-04-17T23:15:05.735Z"
   },
   {
    "duration": 393,
    "start_time": "2023-04-17T23:15:05.756Z"
   },
   {
    "duration": 28,
    "start_time": "2023-04-17T23:15:06.151Z"
   },
   {
    "duration": 19,
    "start_time": "2023-04-17T23:15:06.181Z"
   },
   {
    "duration": 20,
    "start_time": "2023-04-17T23:15:06.217Z"
   },
   {
    "duration": 48,
    "start_time": "2023-04-17T23:15:06.238Z"
   },
   {
    "duration": 40,
    "start_time": "2023-04-17T23:15:06.288Z"
   },
   {
    "duration": 21,
    "start_time": "2023-04-17T23:15:06.330Z"
   },
   {
    "duration": 31,
    "start_time": "2023-04-17T23:15:06.353Z"
   },
   {
    "duration": 44,
    "start_time": "2023-04-17T23:15:06.385Z"
   },
   {
    "duration": 36,
    "start_time": "2023-04-17T23:15:06.432Z"
   },
   {
    "duration": 43,
    "start_time": "2023-04-17T23:15:06.470Z"
   },
   {
    "duration": 34,
    "start_time": "2023-04-17T23:15:06.515Z"
   },
   {
    "duration": 47,
    "start_time": "2023-04-17T23:15:06.550Z"
   },
   {
    "duration": 31,
    "start_time": "2023-04-17T23:15:06.599Z"
   },
   {
    "duration": 20,
    "start_time": "2023-04-17T23:15:06.632Z"
   },
   {
    "duration": 49,
    "start_time": "2023-04-17T23:15:06.653Z"
   },
   {
    "duration": 26,
    "start_time": "2023-04-17T23:15:06.704Z"
   },
   {
    "duration": 31,
    "start_time": "2023-04-17T23:15:06.732Z"
   },
   {
    "duration": 24,
    "start_time": "2023-04-17T23:15:06.764Z"
   },
   {
    "duration": 41,
    "start_time": "2023-04-17T23:15:06.790Z"
   },
   {
    "duration": 39,
    "start_time": "2023-04-17T23:15:06.833Z"
   },
   {
    "duration": 22571,
    "start_time": "2023-04-17T23:15:06.874Z"
   },
   {
    "duration": 34,
    "start_time": "2023-04-17T23:15:29.446Z"
   },
   {
    "duration": 25,
    "start_time": "2023-04-17T23:15:29.481Z"
   },
   {
    "duration": 362,
    "start_time": "2023-04-17T23:15:29.508Z"
   },
   {
    "duration": 7,
    "start_time": "2023-04-17T23:15:29.872Z"
   },
   {
    "duration": 21,
    "start_time": "2023-04-17T23:15:29.881Z"
   },
   {
    "duration": 29,
    "start_time": "2023-04-17T23:15:29.903Z"
   },
   {
    "duration": 24,
    "start_time": "2023-04-17T23:15:29.934Z"
   },
   {
    "duration": 5,
    "start_time": "2023-04-17T23:15:29.960Z"
   },
   {
    "duration": 20,
    "start_time": "2023-04-17T23:15:29.966Z"
   },
   {
    "duration": 446,
    "start_time": "2023-04-17T23:15:29.988Z"
   },
   {
    "duration": 4,
    "start_time": "2023-04-17T23:16:47.049Z"
   },
   {
    "duration": 6,
    "start_time": "2023-04-17T23:16:47.055Z"
   },
   {
    "duration": 771,
    "start_time": "2023-04-17T23:16:47.098Z"
   },
   {
    "duration": 131,
    "start_time": "2023-04-17T23:16:47.871Z"
   },
   {
    "duration": 19,
    "start_time": "2023-04-17T23:16:48.004Z"
   },
   {
    "duration": 73,
    "start_time": "2023-04-17T23:16:48.024Z"
   },
   {
    "duration": 47,
    "start_time": "2023-04-17T23:16:48.099Z"
   },
   {
    "duration": 82,
    "start_time": "2023-04-17T23:16:48.148Z"
   },
   {
    "duration": 38,
    "start_time": "2023-04-17T23:16:48.232Z"
   },
   {
    "duration": 69,
    "start_time": "2023-04-17T23:16:48.271Z"
   },
   {
    "duration": 76,
    "start_time": "2023-04-17T23:16:48.342Z"
   },
   {
    "duration": 1302,
    "start_time": "2023-04-17T23:16:48.420Z"
   },
   {
    "duration": 9,
    "start_time": "2023-04-17T23:16:49.724Z"
   },
   {
    "duration": 21,
    "start_time": "2023-04-17T23:16:49.735Z"
   },
   {
    "duration": 17,
    "start_time": "2023-04-17T23:16:49.757Z"
   },
   {
    "duration": 48,
    "start_time": "2023-04-17T23:16:49.777Z"
   },
   {
    "duration": 426,
    "start_time": "2023-04-17T23:16:49.827Z"
   },
   {
    "duration": 20,
    "start_time": "2023-04-17T23:16:50.255Z"
   },
   {
    "duration": 26,
    "start_time": "2023-04-17T23:16:50.277Z"
   },
   {
    "duration": 386,
    "start_time": "2023-04-17T23:16:50.305Z"
   },
   {
    "duration": 33,
    "start_time": "2023-04-17T23:16:50.693Z"
   },
   {
    "duration": 19,
    "start_time": "2023-04-17T23:16:50.728Z"
   },
   {
    "duration": 18,
    "start_time": "2023-04-17T23:16:50.749Z"
   },
   {
    "duration": 64,
    "start_time": "2023-04-17T23:16:50.769Z"
   },
   {
    "duration": 23,
    "start_time": "2023-04-17T23:16:50.834Z"
   },
   {
    "duration": 20,
    "start_time": "2023-04-17T23:16:50.859Z"
   },
   {
    "duration": 43,
    "start_time": "2023-04-17T23:16:50.880Z"
   },
   {
    "duration": 24,
    "start_time": "2023-04-17T23:16:50.925Z"
   },
   {
    "duration": 30,
    "start_time": "2023-04-17T23:16:50.950Z"
   },
   {
    "duration": 39,
    "start_time": "2023-04-17T23:16:50.982Z"
   },
   {
    "duration": 32,
    "start_time": "2023-04-17T23:16:51.022Z"
   },
   {
    "duration": 44,
    "start_time": "2023-04-17T23:16:51.056Z"
   },
   {
    "duration": 37,
    "start_time": "2023-04-17T23:16:51.102Z"
   },
   {
    "duration": 8,
    "start_time": "2023-04-17T23:16:51.141Z"
   },
   {
    "duration": 16,
    "start_time": "2023-04-17T23:16:51.151Z"
   },
   {
    "duration": 51,
    "start_time": "2023-04-17T23:16:51.169Z"
   },
   {
    "duration": 27,
    "start_time": "2023-04-17T23:16:51.222Z"
   },
   {
    "duration": 20,
    "start_time": "2023-04-17T23:16:51.251Z"
   },
   {
    "duration": 27,
    "start_time": "2023-04-17T23:16:51.273Z"
   },
   {
    "duration": 31,
    "start_time": "2023-04-17T23:16:51.318Z"
   },
   {
    "duration": 22755,
    "start_time": "2023-04-17T23:16:51.350Z"
   },
   {
    "duration": 40,
    "start_time": "2023-04-17T23:17:14.107Z"
   },
   {
    "duration": 24,
    "start_time": "2023-04-17T23:17:14.151Z"
   },
   {
    "duration": 379,
    "start_time": "2023-04-17T23:17:14.177Z"
   },
   {
    "duration": 8,
    "start_time": "2023-04-17T23:17:14.557Z"
   },
   {
    "duration": 14,
    "start_time": "2023-04-17T23:17:14.566Z"
   },
   {
    "duration": 46,
    "start_time": "2023-04-17T23:17:14.581Z"
   },
   {
    "duration": 12,
    "start_time": "2023-04-17T23:17:14.629Z"
   },
   {
    "duration": 17,
    "start_time": "2023-04-17T23:17:14.642Z"
   },
   {
    "duration": 473,
    "start_time": "2023-04-17T23:17:14.661Z"
   },
   {
    "duration": 379,
    "start_time": "2023-04-17T23:17:44.253Z"
   },
   {
    "duration": 365,
    "start_time": "2023-04-17T23:19:54.609Z"
   },
   {
    "duration": 449,
    "start_time": "2023-04-17T23:20:20.912Z"
   },
   {
    "duration": 78,
    "start_time": "2023-04-17T23:20:30.314Z"
   },
   {
    "duration": 13,
    "start_time": "2023-04-17T23:20:57.457Z"
   },
   {
    "duration": 15,
    "start_time": "2023-04-17T23:21:39.013Z"
   },
   {
    "duration": 28,
    "start_time": "2023-04-17T23:22:51.297Z"
   },
   {
    "duration": 11,
    "start_time": "2023-04-17T23:23:00.000Z"
   },
   {
    "duration": 4,
    "start_time": "2023-04-17T23:26:42.377Z"
   },
   {
    "duration": 28,
    "start_time": "2023-04-17T23:26:42.384Z"
   },
   {
    "duration": 868,
    "start_time": "2023-04-17T23:26:42.418Z"
   },
   {
    "duration": 145,
    "start_time": "2023-04-17T23:26:43.288Z"
   },
   {
    "duration": 13,
    "start_time": "2023-04-17T23:26:43.435Z"
   },
   {
    "duration": 99,
    "start_time": "2023-04-17T23:26:43.450Z"
   },
   {
    "duration": 39,
    "start_time": "2023-04-17T23:26:43.552Z"
   },
   {
    "duration": 91,
    "start_time": "2023-04-17T23:26:43.593Z"
   },
   {
    "duration": 55,
    "start_time": "2023-04-17T23:26:43.686Z"
   },
   {
    "duration": 74,
    "start_time": "2023-04-17T23:26:43.744Z"
   },
   {
    "duration": 73,
    "start_time": "2023-04-17T23:26:43.820Z"
   },
   {
    "duration": 1400,
    "start_time": "2023-04-17T23:26:43.895Z"
   },
   {
    "duration": 11,
    "start_time": "2023-04-17T23:26:45.296Z"
   },
   {
    "duration": 15,
    "start_time": "2023-04-17T23:26:45.308Z"
   },
   {
    "duration": 11,
    "start_time": "2023-04-17T23:26:45.325Z"
   },
   {
    "duration": 44,
    "start_time": "2023-04-17T23:26:45.339Z"
   },
   {
    "duration": 445,
    "start_time": "2023-04-17T23:26:45.385Z"
   },
   {
    "duration": 20,
    "start_time": "2023-04-17T23:26:45.832Z"
   },
   {
    "duration": 18,
    "start_time": "2023-04-17T23:26:45.854Z"
   },
   {
    "duration": 396,
    "start_time": "2023-04-17T23:26:45.874Z"
   },
   {
    "duration": 28,
    "start_time": "2023-04-17T23:26:46.271Z"
   },
   {
    "duration": 27,
    "start_time": "2023-04-17T23:26:46.301Z"
   },
   {
    "duration": 19,
    "start_time": "2023-04-17T23:26:46.329Z"
   },
   {
    "duration": 45,
    "start_time": "2023-04-17T23:26:46.349Z"
   },
   {
    "duration": 41,
    "start_time": "2023-04-17T23:26:46.396Z"
   },
   {
    "duration": 22,
    "start_time": "2023-04-17T23:26:46.439Z"
   },
   {
    "duration": 30,
    "start_time": "2023-04-17T23:26:46.463Z"
   },
   {
    "duration": 41,
    "start_time": "2023-04-17T23:26:46.495Z"
   },
   {
    "duration": 33,
    "start_time": "2023-04-17T23:26:46.537Z"
   },
   {
    "duration": 53,
    "start_time": "2023-04-17T23:26:46.572Z"
   },
   {
    "duration": 33,
    "start_time": "2023-04-17T23:26:46.627Z"
   },
   {
    "duration": 55,
    "start_time": "2023-04-17T23:26:46.662Z"
   },
   {
    "duration": 33,
    "start_time": "2023-04-17T23:26:46.720Z"
   },
   {
    "duration": 26,
    "start_time": "2023-04-17T23:26:46.755Z"
   },
   {
    "duration": 22,
    "start_time": "2023-04-17T23:26:46.782Z"
   },
   {
    "duration": 32,
    "start_time": "2023-04-17T23:26:46.806Z"
   },
   {
    "duration": 30,
    "start_time": "2023-04-17T23:26:46.840Z"
   },
   {
    "duration": 18,
    "start_time": "2023-04-17T23:26:46.871Z"
   },
   {
    "duration": 50,
    "start_time": "2023-04-17T23:26:46.890Z"
   },
   {
    "duration": 50,
    "start_time": "2023-04-17T23:26:46.941Z"
   },
   {
    "duration": 21802,
    "start_time": "2023-04-17T23:26:46.993Z"
   },
   {
    "duration": 30,
    "start_time": "2023-04-17T23:27:08.797Z"
   },
   {
    "duration": 19,
    "start_time": "2023-04-17T23:27:08.831Z"
   },
   {
    "duration": 359,
    "start_time": "2023-04-17T23:27:08.852Z"
   },
   {
    "duration": 8,
    "start_time": "2023-04-17T23:27:09.213Z"
   },
   {
    "duration": 36,
    "start_time": "2023-04-17T23:27:09.223Z"
   },
   {
    "duration": 37,
    "start_time": "2023-04-17T23:27:09.261Z"
   },
   {
    "duration": 12,
    "start_time": "2023-04-17T23:27:09.300Z"
   },
   {
    "duration": 31,
    "start_time": "2023-04-17T23:27:09.314Z"
   },
   {
    "duration": 460,
    "start_time": "2023-04-17T23:27:09.347Z"
   },
   {
    "duration": 12,
    "start_time": "2023-04-17T23:27:26.700Z"
   },
   {
    "duration": 15,
    "start_time": "2023-04-17T23:27:50.109Z"
   },
   {
    "duration": 12,
    "start_time": "2023-04-17T23:29:34.009Z"
   },
   {
    "duration": 13,
    "start_time": "2023-04-17T23:29:40.142Z"
   },
   {
    "duration": 8,
    "start_time": "2023-04-17T23:30:03.008Z"
   },
   {
    "duration": 8,
    "start_time": "2023-04-17T23:30:10.897Z"
   },
   {
    "duration": 9,
    "start_time": "2023-04-17T23:30:17.340Z"
   },
   {
    "duration": 8,
    "start_time": "2023-04-17T23:30:20.628Z"
   },
   {
    "duration": 0,
    "start_time": "2023-04-17T23:30:27.919Z"
   },
   {
    "duration": 9,
    "start_time": "2023-04-17T23:30:33.019Z"
   },
   {
    "duration": 9,
    "start_time": "2023-04-17T23:30:47.852Z"
   },
   {
    "duration": 9,
    "start_time": "2023-04-17T23:30:51.849Z"
   },
   {
    "duration": 8,
    "start_time": "2023-04-17T23:30:59.495Z"
   },
   {
    "duration": 10,
    "start_time": "2023-04-17T23:31:02.462Z"
   },
   {
    "duration": 7,
    "start_time": "2023-04-17T23:31:06.098Z"
   },
   {
    "duration": 8,
    "start_time": "2023-04-17T23:31:12.351Z"
   },
   {
    "duration": 7,
    "start_time": "2023-04-17T23:31:16.445Z"
   },
   {
    "duration": 8,
    "start_time": "2023-04-17T23:31:31.371Z"
   },
   {
    "duration": 13,
    "start_time": "2023-04-17T23:31:52.254Z"
   },
   {
    "duration": 20,
    "start_time": "2023-04-17T23:32:13.500Z"
   },
   {
    "duration": 17,
    "start_time": "2023-04-17T23:32:21.435Z"
   },
   {
    "duration": 18,
    "start_time": "2023-04-17T23:32:33.253Z"
   },
   {
    "duration": 14,
    "start_time": "2023-04-17T23:32:39.353Z"
   },
   {
    "duration": 14,
    "start_time": "2023-04-17T23:33:08.540Z"
   },
   {
    "duration": 17,
    "start_time": "2023-04-17T23:33:12.913Z"
   },
   {
    "duration": 14,
    "start_time": "2023-04-17T23:33:15.899Z"
   },
   {
    "duration": 12,
    "start_time": "2023-04-17T23:33:29.075Z"
   },
   {
    "duration": 12,
    "start_time": "2023-04-17T23:33:31.157Z"
   },
   {
    "duration": 18,
    "start_time": "2023-04-17T23:33:37.153Z"
   },
   {
    "duration": 21,
    "start_time": "2023-04-17T23:33:50.143Z"
   },
   {
    "duration": 18,
    "start_time": "2023-04-17T23:34:08.911Z"
   },
   {
    "duration": 21,
    "start_time": "2023-04-17T23:35:56.155Z"
   },
   {
    "duration": 4,
    "start_time": "2023-04-17T23:36:24.947Z"
   },
   {
    "duration": 18,
    "start_time": "2023-04-17T23:36:24.953Z"
   },
   {
    "duration": 865,
    "start_time": "2023-04-17T23:36:24.984Z"
   },
   {
    "duration": 146,
    "start_time": "2023-04-17T23:36:25.851Z"
   },
   {
    "duration": 37,
    "start_time": "2023-04-17T23:36:25.999Z"
   },
   {
    "duration": 78,
    "start_time": "2023-04-17T23:36:26.038Z"
   },
   {
    "duration": 34,
    "start_time": "2023-04-17T23:36:26.123Z"
   },
   {
    "duration": 88,
    "start_time": "2023-04-17T23:36:26.159Z"
   },
   {
    "duration": 41,
    "start_time": "2023-04-17T23:36:26.248Z"
   },
   {
    "duration": 84,
    "start_time": "2023-04-17T23:36:26.290Z"
   },
   {
    "duration": 82,
    "start_time": "2023-04-17T23:36:26.376Z"
   },
   {
    "duration": 1441,
    "start_time": "2023-04-17T23:36:26.459Z"
   },
   {
    "duration": 8,
    "start_time": "2023-04-17T23:36:27.902Z"
   },
   {
    "duration": 20,
    "start_time": "2023-04-17T23:36:27.917Z"
   },
   {
    "duration": 9,
    "start_time": "2023-04-17T23:36:27.938Z"
   },
   {
    "duration": 37,
    "start_time": "2023-04-17T23:36:27.951Z"
   },
   {
    "duration": 459,
    "start_time": "2023-04-17T23:36:27.990Z"
   },
   {
    "duration": 24,
    "start_time": "2023-04-17T23:36:28.451Z"
   },
   {
    "duration": 19,
    "start_time": "2023-04-17T23:36:28.477Z"
   },
   {
    "duration": 417,
    "start_time": "2023-04-17T23:36:28.517Z"
   },
   {
    "duration": 36,
    "start_time": "2023-04-17T23:36:28.936Z"
   },
   {
    "duration": 21,
    "start_time": "2023-04-17T23:36:28.974Z"
   },
   {
    "duration": 45,
    "start_time": "2023-04-17T23:36:28.997Z"
   },
   {
    "duration": 47,
    "start_time": "2023-04-17T23:36:29.044Z"
   },
   {
    "duration": 43,
    "start_time": "2023-04-17T23:36:29.092Z"
   },
   {
    "duration": 22,
    "start_time": "2023-04-17T23:36:29.137Z"
   },
   {
    "duration": 43,
    "start_time": "2023-04-17T23:36:29.161Z"
   },
   {
    "duration": 37,
    "start_time": "2023-04-17T23:36:29.206Z"
   },
   {
    "duration": 31,
    "start_time": "2023-04-17T23:36:29.245Z"
   },
   {
    "duration": 28,
    "start_time": "2023-04-17T23:36:29.278Z"
   },
   {
    "duration": 43,
    "start_time": "2023-04-17T23:36:29.307Z"
   },
   {
    "duration": 36,
    "start_time": "2023-04-17T23:36:29.352Z"
   },
   {
    "duration": 56,
    "start_time": "2023-04-17T23:36:29.390Z"
   },
   {
    "duration": 7,
    "start_time": "2023-04-17T23:36:29.448Z"
   },
   {
    "duration": 23,
    "start_time": "2023-04-17T23:36:29.456Z"
   },
   {
    "duration": 22,
    "start_time": "2023-04-17T23:36:29.481Z"
   },
   {
    "duration": 43,
    "start_time": "2023-04-17T23:36:29.505Z"
   },
   {
    "duration": 18,
    "start_time": "2023-04-17T23:36:29.550Z"
   },
   {
    "duration": 30,
    "start_time": "2023-04-17T23:36:29.570Z"
   },
   {
    "duration": 50,
    "start_time": "2023-04-17T23:36:29.602Z"
   },
   {
    "duration": 23668,
    "start_time": "2023-04-17T23:36:29.654Z"
   },
   {
    "duration": 32,
    "start_time": "2023-04-17T23:36:53.331Z"
   },
   {
    "duration": 19,
    "start_time": "2023-04-17T23:36:53.366Z"
   },
   {
    "duration": 344,
    "start_time": "2023-04-17T23:36:53.386Z"
   },
   {
    "duration": 11,
    "start_time": "2023-04-17T23:36:53.731Z"
   },
   {
    "duration": 10,
    "start_time": "2023-04-17T23:36:53.743Z"
   },
   {
    "duration": 33,
    "start_time": "2023-04-17T23:36:53.755Z"
   },
   {
    "duration": 9,
    "start_time": "2023-04-17T23:36:53.789Z"
   },
   {
    "duration": 22,
    "start_time": "2023-04-17T23:36:53.799Z"
   },
   {
    "duration": 426,
    "start_time": "2023-04-17T23:36:53.822Z"
   },
   {
    "duration": 12,
    "start_time": "2023-04-17T23:36:54.249Z"
   },
   {
    "duration": 608,
    "start_time": "2023-04-17T23:37:17.083Z"
   },
   {
    "duration": 825,
    "start_time": "2023-04-17T23:37:55.161Z"
   },
   {
    "duration": 646,
    "start_time": "2023-04-17T23:38:00.015Z"
   },
   {
    "duration": 4,
    "start_time": "2023-04-17T23:39:54.720Z"
   },
   {
    "duration": 24,
    "start_time": "2023-04-17T23:39:54.726Z"
   },
   {
    "duration": 812,
    "start_time": "2023-04-17T23:39:54.757Z"
   },
   {
    "duration": 150,
    "start_time": "2023-04-17T23:39:55.571Z"
   },
   {
    "duration": 13,
    "start_time": "2023-04-17T23:39:55.723Z"
   },
   {
    "duration": 87,
    "start_time": "2023-04-17T23:39:55.738Z"
   },
   {
    "duration": 29,
    "start_time": "2023-04-17T23:39:55.827Z"
   },
   {
    "duration": 93,
    "start_time": "2023-04-17T23:39:55.859Z"
   },
   {
    "duration": 63,
    "start_time": "2023-04-17T23:39:55.954Z"
   },
   {
    "duration": 66,
    "start_time": "2023-04-17T23:39:56.019Z"
   },
   {
    "duration": 81,
    "start_time": "2023-04-17T23:39:56.087Z"
   },
   {
    "duration": 1363,
    "start_time": "2023-04-17T23:39:56.169Z"
   },
   {
    "duration": 9,
    "start_time": "2023-04-17T23:39:57.534Z"
   },
   {
    "duration": 11,
    "start_time": "2023-04-17T23:39:57.544Z"
   },
   {
    "duration": 35,
    "start_time": "2023-04-17T23:39:57.556Z"
   },
   {
    "duration": 34,
    "start_time": "2023-04-17T23:39:57.594Z"
   },
   {
    "duration": 318,
    "start_time": "2023-04-17T23:39:57.630Z"
   },
   {
    "duration": 24,
    "start_time": "2023-04-17T23:39:57.949Z"
   },
   {
    "duration": 26,
    "start_time": "2023-04-17T23:39:57.975Z"
   },
   {
    "duration": 380,
    "start_time": "2023-04-17T23:39:58.003Z"
   },
   {
    "duration": 43,
    "start_time": "2023-04-17T23:39:58.385Z"
   },
   {
    "duration": 20,
    "start_time": "2023-04-17T23:39:58.430Z"
   },
   {
    "duration": 20,
    "start_time": "2023-04-17T23:39:58.451Z"
   },
   {
    "duration": 62,
    "start_time": "2023-04-17T23:39:58.473Z"
   },
   {
    "duration": 22,
    "start_time": "2023-04-17T23:39:58.537Z"
   },
   {
    "duration": 31,
    "start_time": "2023-04-17T23:39:58.561Z"
   },
   {
    "duration": 42,
    "start_time": "2023-04-17T23:39:58.594Z"
   },
   {
    "duration": 20,
    "start_time": "2023-04-17T23:39:58.638Z"
   },
   {
    "duration": 38,
    "start_time": "2023-04-17T23:39:58.660Z"
   },
   {
    "duration": 38,
    "start_time": "2023-04-17T23:39:58.700Z"
   },
   {
    "duration": 33,
    "start_time": "2023-04-17T23:39:58.740Z"
   },
   {
    "duration": 48,
    "start_time": "2023-04-17T23:39:58.775Z"
   },
   {
    "duration": 29,
    "start_time": "2023-04-17T23:39:58.825Z"
   },
   {
    "duration": 24,
    "start_time": "2023-04-17T23:39:58.855Z"
   },
   {
    "duration": 167,
    "start_time": "2023-04-17T23:39:58.881Z"
   },
   {
    "duration": 24,
    "start_time": "2023-04-17T23:39:59.051Z"
   },
   {
    "duration": 45,
    "start_time": "2023-04-17T23:39:59.077Z"
   },
   {
    "duration": 20,
    "start_time": "2023-04-17T23:39:59.124Z"
   },
   {
    "duration": 40,
    "start_time": "2023-04-17T23:39:59.146Z"
   },
   {
    "duration": 45,
    "start_time": "2023-04-17T23:39:59.187Z"
   },
   {
    "duration": 22081,
    "start_time": "2023-04-17T23:39:59.233Z"
   },
   {
    "duration": 30,
    "start_time": "2023-04-17T23:40:21.317Z"
   },
   {
    "duration": 22,
    "start_time": "2023-04-17T23:40:21.351Z"
   },
   {
    "duration": 370,
    "start_time": "2023-04-17T23:40:21.375Z"
   },
   {
    "duration": 9,
    "start_time": "2023-04-17T23:40:21.747Z"
   },
   {
    "duration": 19,
    "start_time": "2023-04-17T23:40:21.758Z"
   },
   {
    "duration": 28,
    "start_time": "2023-04-17T23:40:21.778Z"
   },
   {
    "duration": 9,
    "start_time": "2023-04-17T23:40:21.817Z"
   },
   {
    "duration": 15,
    "start_time": "2023-04-17T23:40:21.828Z"
   },
   {
    "duration": 88,
    "start_time": "2023-04-17T23:40:21.845Z"
   },
   {
    "duration": 592,
    "start_time": "2023-04-17T23:40:21.935Z"
   },
   {
    "duration": 11,
    "start_time": "2023-04-17T23:41:38.105Z"
   },
   {
    "duration": 45,
    "start_time": "2023-04-18T21:27:28.524Z"
   },
   {
    "duration": 1555,
    "start_time": "2023-04-18T21:27:34.271Z"
   },
   {
    "duration": 3,
    "start_time": "2023-04-18T21:27:35.828Z"
   },
   {
    "duration": 2806,
    "start_time": "2023-04-18T21:27:35.833Z"
   },
   {
    "duration": 132,
    "start_time": "2023-04-18T21:27:38.641Z"
   },
   {
    "duration": 16,
    "start_time": "2023-04-18T21:27:38.775Z"
   },
   {
    "duration": 94,
    "start_time": "2023-04-18T21:27:38.793Z"
   },
   {
    "duration": 30,
    "start_time": "2023-04-18T21:27:38.889Z"
   },
   {
    "duration": 86,
    "start_time": "2023-04-18T21:27:38.921Z"
   },
   {
    "duration": 49,
    "start_time": "2023-04-18T21:27:39.009Z"
   },
   {
    "duration": 79,
    "start_time": "2023-04-18T21:27:39.060Z"
   },
   {
    "duration": 73,
    "start_time": "2023-04-18T21:27:39.141Z"
   },
   {
    "duration": 1259,
    "start_time": "2023-04-18T21:27:39.216Z"
   },
   {
    "duration": 8,
    "start_time": "2023-04-18T21:27:40.476Z"
   },
   {
    "duration": 24,
    "start_time": "2023-04-18T21:27:40.486Z"
   },
   {
    "duration": 12,
    "start_time": "2023-04-18T21:27:40.512Z"
   },
   {
    "duration": 49,
    "start_time": "2023-04-18T21:27:40.525Z"
   },
   {
    "duration": 381,
    "start_time": "2023-04-18T21:27:40.576Z"
   },
   {
    "duration": 26,
    "start_time": "2023-04-18T21:27:40.959Z"
   },
   {
    "duration": 46,
    "start_time": "2023-04-18T21:27:40.986Z"
   },
   {
    "duration": 381,
    "start_time": "2023-04-18T21:27:41.034Z"
   },
   {
    "duration": 29,
    "start_time": "2023-04-18T21:27:41.418Z"
   },
   {
    "duration": 29,
    "start_time": "2023-04-18T21:27:41.449Z"
   },
   {
    "duration": 18,
    "start_time": "2023-04-18T21:27:41.479Z"
   },
   {
    "duration": 46,
    "start_time": "2023-04-18T21:27:41.499Z"
   },
   {
    "duration": 22,
    "start_time": "2023-04-18T21:27:41.562Z"
   },
   {
    "duration": 21,
    "start_time": "2023-04-18T21:27:41.586Z"
   },
   {
    "duration": 49,
    "start_time": "2023-04-18T21:27:41.609Z"
   },
   {
    "duration": 32,
    "start_time": "2023-04-18T21:27:41.665Z"
   },
   {
    "duration": 46,
    "start_time": "2023-04-18T21:27:41.699Z"
   },
   {
    "duration": 53,
    "start_time": "2023-04-18T21:27:41.747Z"
   },
   {
    "duration": 55,
    "start_time": "2023-04-18T21:27:41.802Z"
   },
   {
    "duration": 38,
    "start_time": "2023-04-18T21:27:41.858Z"
   },
   {
    "duration": 36,
    "start_time": "2023-04-18T21:27:41.897Z"
   },
   {
    "duration": 40,
    "start_time": "2023-04-18T21:27:41.934Z"
   },
   {
    "duration": 25,
    "start_time": "2023-04-18T21:27:41.975Z"
   },
   {
    "duration": 24,
    "start_time": "2023-04-18T21:27:42.002Z"
   },
   {
    "duration": 27,
    "start_time": "2023-04-18T21:27:42.028Z"
   },
   {
    "duration": 22,
    "start_time": "2023-04-18T21:27:42.056Z"
   },
   {
    "duration": 28,
    "start_time": "2023-04-18T21:27:42.080Z"
   },
   {
    "duration": 29,
    "start_time": "2023-04-18T21:27:42.110Z"
   },
   {
    "duration": 21827,
    "start_time": "2023-04-18T21:27:42.146Z"
   },
   {
    "duration": 30,
    "start_time": "2023-04-18T21:28:03.974Z"
   },
   {
    "duration": 28,
    "start_time": "2023-04-18T21:28:04.006Z"
   },
   {
    "duration": 348,
    "start_time": "2023-04-18T21:28:04.036Z"
   },
   {
    "duration": 8,
    "start_time": "2023-04-18T21:28:04.386Z"
   },
   {
    "duration": 8,
    "start_time": "2023-04-18T21:28:04.395Z"
   },
   {
    "duration": 21,
    "start_time": "2023-04-18T21:28:04.404Z"
   },
   {
    "duration": 43,
    "start_time": "2023-04-18T21:28:04.427Z"
   },
   {
    "duration": 6,
    "start_time": "2023-04-18T21:28:04.472Z"
   },
   {
    "duration": 45,
    "start_time": "2023-04-18T21:28:04.480Z"
   },
   {
    "duration": 77,
    "start_time": "2023-04-18T21:28:04.527Z"
   },
   {
    "duration": 527,
    "start_time": "2023-04-18T21:28:04.606Z"
   },
   {
    "duration": 11,
    "start_time": "2023-04-18T21:28:05.135Z"
   },
   {
    "duration": 2,
    "start_time": "2023-04-18T21:35:10.398Z"
   },
   {
    "duration": 83,
    "start_time": "2023-04-18T21:35:26.934Z"
   },
   {
    "duration": 108,
    "start_time": "2023-04-18T21:38:57.290Z"
   },
   {
    "duration": 124,
    "start_time": "2023-04-18T21:39:44.674Z"
   },
   {
    "duration": 60,
    "start_time": "2023-04-18T21:39:49.665Z"
   },
   {
    "duration": 120,
    "start_time": "2023-04-18T21:40:06.379Z"
   },
   {
    "duration": 3,
    "start_time": "2023-04-18T21:46:00.496Z"
   },
   {
    "duration": 61,
    "start_time": "2023-04-18T21:46:04.788Z"
   },
   {
    "duration": 11,
    "start_time": "2023-04-18T21:46:51.373Z"
   },
   {
    "duration": 563,
    "start_time": "2023-04-18T21:46:53.022Z"
   },
   {
    "duration": 22,
    "start_time": "2023-04-18T21:47:02.688Z"
   },
   {
    "duration": 4,
    "start_time": "2023-04-18T21:47:58.501Z"
   },
   {
    "duration": 67,
    "start_time": "2023-04-18T21:48:04.456Z"
   },
   {
    "duration": 16,
    "start_time": "2023-04-18T21:49:26.876Z"
   },
   {
    "duration": 11,
    "start_time": "2023-04-18T21:49:37.608Z"
   },
   {
    "duration": 5,
    "start_time": "2023-04-18T21:50:03.770Z"
   },
   {
    "duration": 9,
    "start_time": "2023-04-18T21:50:07.980Z"
   },
   {
    "duration": 4,
    "start_time": "2023-04-18T21:50:34.818Z"
   },
   {
    "duration": 3,
    "start_time": "2023-04-18T21:50:38.137Z"
   },
   {
    "duration": 161,
    "start_time": "2023-04-18T21:52:15.188Z"
   },
   {
    "duration": 3,
    "start_time": "2023-04-18T21:52:20.495Z"
   },
   {
    "duration": 3,
    "start_time": "2023-04-18T21:52:47.327Z"
   },
   {
    "duration": 3,
    "start_time": "2023-04-18T21:52:48.281Z"
   },
   {
    "duration": 3,
    "start_time": "2023-04-18T21:55:08.315Z"
   },
   {
    "duration": 13,
    "start_time": "2023-04-18T21:57:10.614Z"
   },
   {
    "duration": 2,
    "start_time": "2023-04-18T21:59:40.495Z"
   },
   {
    "duration": 76,
    "start_time": "2023-04-18T22:00:03.784Z"
   },
   {
    "duration": 3,
    "start_time": "2023-04-18T22:00:47.399Z"
   },
   {
    "duration": 3,
    "start_time": "2023-04-18T22:00:48.645Z"
   },
   {
    "duration": 27,
    "start_time": "2023-04-18T22:00:50.327Z"
   },
   {
    "duration": 2,
    "start_time": "2023-04-18T22:01:54.338Z"
   },
   {
    "duration": 3,
    "start_time": "2023-04-18T22:01:56.758Z"
   },
   {
    "duration": 189,
    "start_time": "2023-04-18T22:01:57.315Z"
   },
   {
    "duration": 3,
    "start_time": "2023-04-18T22:03:17.258Z"
   },
   {
    "duration": 2,
    "start_time": "2023-04-18T22:03:18.331Z"
   },
   {
    "duration": 196,
    "start_time": "2023-04-18T22:03:22.849Z"
   },
   {
    "duration": 11,
    "start_time": "2023-04-18T22:03:58.538Z"
   },
   {
    "duration": 10,
    "start_time": "2023-04-18T22:04:20.016Z"
   },
   {
    "duration": 20,
    "start_time": "2023-04-18T22:04:57.156Z"
   },
   {
    "duration": 3,
    "start_time": "2023-04-18T22:05:11.388Z"
   },
   {
    "duration": 3,
    "start_time": "2023-04-18T22:06:44.476Z"
   },
   {
    "duration": 3,
    "start_time": "2023-04-18T22:06:46.895Z"
   },
   {
    "duration": 3,
    "start_time": "2023-04-18T22:06:47.628Z"
   },
   {
    "duration": 3,
    "start_time": "2023-04-18T22:06:48.274Z"
   },
   {
    "duration": 3,
    "start_time": "2023-04-18T22:06:48.957Z"
   },
   {
    "duration": 13644,
    "start_time": "2023-04-18T22:06:50.037Z"
   },
   {
    "duration": 3,
    "start_time": "2023-04-18T22:07:11.273Z"
   },
   {
    "duration": 144494,
    "start_time": "2023-04-18T22:07:12.176Z"
   },
   {
    "duration": 4,
    "start_time": "2023-04-18T22:10:58.922Z"
   },
   {
    "duration": 70,
    "start_time": "2023-04-18T22:11:54.256Z"
   },
   {
    "duration": 3,
    "start_time": "2023-04-18T22:11:58.409Z"
   },
   {
    "duration": 16024,
    "start_time": "2023-04-18T22:12:13.599Z"
   },
   {
    "duration": 13,
    "start_time": "2023-04-18T22:13:33.361Z"
   },
   {
    "duration": 14575,
    "start_time": "2023-04-18T22:13:44.075Z"
   },
   {
    "duration": 59,
    "start_time": "2023-04-18T22:14:02.053Z"
   },
   {
    "duration": 10,
    "start_time": "2023-04-18T22:14:03.008Z"
   },
   {
    "duration": 3,
    "start_time": "2023-04-18T22:14:03.585Z"
   },
   {
    "duration": 3,
    "start_time": "2023-04-18T22:14:04.547Z"
   },
   {
    "duration": 2,
    "start_time": "2023-04-18T22:14:05.308Z"
   },
   {
    "duration": 5,
    "start_time": "2023-04-18T22:14:07.386Z"
   },
   {
    "duration": 3,
    "start_time": "2023-04-18T22:14:08.258Z"
   },
   {
    "duration": 35820,
    "start_time": "2023-04-18T22:14:13.784Z"
   },
   {
    "duration": 3,
    "start_time": "2023-04-18T22:14:57.391Z"
   },
   {
    "duration": 18086,
    "start_time": "2023-04-18T22:14:58.318Z"
   },
   {
    "duration": 18456,
    "start_time": "2023-04-18T22:15:21.434Z"
   },
   {
    "duration": 3,
    "start_time": "2023-04-18T22:16:27.435Z"
   },
   {
    "duration": 3,
    "start_time": "2023-04-18T22:16:30.148Z"
   },
   {
    "duration": 166545,
    "start_time": "2023-04-18T22:16:33.441Z"
   },
   {
    "duration": 0,
    "start_time": "2023-04-18T22:19:19.988Z"
   },
   {
    "duration": 0,
    "start_time": "2023-04-18T22:19:19.989Z"
   },
   {
    "duration": 3,
    "start_time": "2023-04-18T22:19:35.025Z"
   },
   {
    "duration": 63,
    "start_time": "2023-04-18T22:19:38.472Z"
   },
   {
    "duration": 18,
    "start_time": "2023-04-18T22:19:39.048Z"
   },
   {
    "duration": 2,
    "start_time": "2023-04-18T22:19:39.552Z"
   },
   {
    "duration": 3,
    "start_time": "2023-04-18T22:19:40.524Z"
   },
   {
    "duration": 2,
    "start_time": "2023-04-18T22:19:41.222Z"
   },
   {
    "duration": 2,
    "start_time": "2023-04-18T22:19:43.099Z"
   },
   {
    "duration": 3,
    "start_time": "2023-04-18T22:19:46.814Z"
   },
   {
    "duration": 118678,
    "start_time": "2023-04-18T22:19:48.743Z"
   },
   {
    "duration": 3,
    "start_time": "2023-04-18T22:21:47.423Z"
   },
   {
    "duration": 16,
    "start_time": "2023-04-18T22:21:47.427Z"
   },
   {
    "duration": 14,
    "start_time": "2023-04-18T22:21:47.444Z"
   },
   {
    "duration": 19,
    "start_time": "2023-04-18T22:21:47.459Z"
   },
   {
    "duration": 40953,
    "start_time": "2023-04-18T22:21:47.479Z"
   },
   {
    "duration": 4,
    "start_time": "2023-04-18T22:22:28.439Z"
   },
   {
    "duration": 2,
    "start_time": "2023-04-18T22:24:10.687Z"
   },
   {
    "duration": 37,
    "start_time": "2023-04-18T22:28:15.578Z"
   },
   {
    "duration": 3,
    "start_time": "2023-04-18T22:30:47.389Z"
   },
   {
    "duration": 3,
    "start_time": "2023-04-18T22:31:03.207Z"
   },
   {
    "duration": 10,
    "start_time": "2023-04-18T22:31:27.177Z"
   },
   {
    "duration": 6477,
    "start_time": "2023-04-18T22:31:34.893Z"
   },
   {
    "duration": 4,
    "start_time": "2023-04-18T22:33:33.226Z"
   },
   {
    "duration": 5,
    "start_time": "2023-04-18T22:34:15.904Z"
   },
   {
    "duration": 6,
    "start_time": "2023-04-18T22:34:45.576Z"
   },
   {
    "duration": 6,
    "start_time": "2023-04-18T22:34:49.576Z"
   },
   {
    "duration": 9,
    "start_time": "2023-04-18T22:34:59.773Z"
   },
   {
    "duration": 4,
    "start_time": "2023-04-18T22:36:42.792Z"
   },
   {
    "duration": 3,
    "start_time": "2023-04-18T22:37:20.426Z"
   },
   {
    "duration": 3,
    "start_time": "2023-04-18T22:37:21.552Z"
   },
   {
    "duration": 4,
    "start_time": "2023-04-18T22:37:55.449Z"
   },
   {
    "duration": 3,
    "start_time": "2023-04-18T22:38:04.709Z"
   },
   {
    "duration": 2,
    "start_time": "2023-04-18T22:38:05.290Z"
   },
   {
    "duration": 1294,
    "start_time": "2023-04-18T22:38:06.196Z"
   },
   {
    "duration": 5,
    "start_time": "2023-04-18T22:38:13.404Z"
   },
   {
    "duration": 1310,
    "start_time": "2023-04-18T22:38:41.277Z"
   },
   {
    "duration": 6,
    "start_time": "2023-04-18T22:38:44.875Z"
   },
   {
    "duration": 3,
    "start_time": "2023-04-18T22:39:04.798Z"
   },
   {
    "duration": 3,
    "start_time": "2023-04-18T22:39:05.852Z"
   },
   {
    "duration": 2,
    "start_time": "2023-04-18T22:39:07.051Z"
   },
   {
    "duration": 1287,
    "start_time": "2023-04-18T22:39:07.714Z"
   },
   {
    "duration": 5,
    "start_time": "2023-04-18T22:39:10.302Z"
   },
   {
    "duration": 4,
    "start_time": "2023-04-18T22:39:23.376Z"
   },
   {
    "duration": 2,
    "start_time": "2023-04-18T22:39:25.695Z"
   },
   {
    "duration": 3,
    "start_time": "2023-04-18T22:39:27.887Z"
   },
   {
    "duration": 1360,
    "start_time": "2023-04-18T22:39:33.142Z"
   },
   {
    "duration": 5,
    "start_time": "2023-04-18T22:39:35.702Z"
   },
   {
    "duration": 3,
    "start_time": "2023-04-18T22:39:55.453Z"
   },
   {
    "duration": 3,
    "start_time": "2023-04-18T22:39:59.704Z"
   },
   {
    "duration": 3,
    "start_time": "2023-04-18T22:40:00.738Z"
   },
   {
    "duration": 1434,
    "start_time": "2023-04-18T22:40:01.418Z"
   },
   {
    "duration": 18,
    "start_time": "2023-04-18T22:40:02.854Z"
   },
   {
    "duration": 3,
    "start_time": "2023-04-18T22:40:07.308Z"
   },
   {
    "duration": 3,
    "start_time": "2023-04-18T22:40:08.333Z"
   },
   {
    "duration": 4549,
    "start_time": "2023-04-18T22:40:08.861Z"
   },
   {
    "duration": 7,
    "start_time": "2023-04-18T22:40:16.803Z"
   },
   {
    "duration": 3,
    "start_time": "2023-04-18T22:40:31.177Z"
   },
   {
    "duration": 3,
    "start_time": "2023-04-18T22:40:33.198Z"
   },
   {
    "duration": 4729,
    "start_time": "2023-04-18T22:40:33.831Z"
   },
   {
    "duration": 6,
    "start_time": "2023-04-18T22:40:40.093Z"
   },
   {
    "duration": 3,
    "start_time": "2023-04-18T22:43:03.629Z"
   },
   {
    "duration": 2,
    "start_time": "2023-04-18T22:43:05.323Z"
   },
   {
    "duration": 2,
    "start_time": "2023-04-18T22:43:06.215Z"
   },
   {
    "duration": 1803,
    "start_time": "2023-04-18T22:43:06.734Z"
   },
   {
    "duration": 5,
    "start_time": "2023-04-18T22:43:08.539Z"
   },
   {
    "duration": 3,
    "start_time": "2023-04-18T22:43:25.368Z"
   },
   {
    "duration": 2,
    "start_time": "2023-04-18T22:43:26.448Z"
   },
   {
    "duration": 3,
    "start_time": "2023-04-18T22:43:27.156Z"
   },
   {
    "duration": 1654,
    "start_time": "2023-04-18T22:43:27.635Z"
   },
   {
    "duration": 5,
    "start_time": "2023-04-18T22:43:29.617Z"
   },
   {
    "duration": 4,
    "start_time": "2023-04-18T22:43:33.313Z"
   },
   {
    "duration": 1644,
    "start_time": "2023-04-18T22:43:34.748Z"
   },
   {
    "duration": 5,
    "start_time": "2023-04-18T22:43:39.720Z"
   },
   {
    "duration": 3,
    "start_time": "2023-04-18T22:43:53.089Z"
   },
   {
    "duration": 2,
    "start_time": "2023-04-18T22:43:54.316Z"
   },
   {
    "duration": 2,
    "start_time": "2023-04-18T22:43:54.979Z"
   },
   {
    "duration": 1723,
    "start_time": "2023-04-18T22:43:55.490Z"
   },
   {
    "duration": 5,
    "start_time": "2023-04-18T22:43:58.856Z"
   },
   {
    "duration": 3,
    "start_time": "2023-04-18T22:44:10.120Z"
   },
   {
    "duration": 3,
    "start_time": "2023-04-18T22:44:12.652Z"
   },
   {
    "duration": 4481,
    "start_time": "2023-04-18T22:44:13.837Z"
   },
   {
    "duration": 5,
    "start_time": "2023-04-18T22:44:20.180Z"
   },
   {
    "duration": 4,
    "start_time": "2023-04-18T22:44:37.646Z"
   },
   {
    "duration": 3,
    "start_time": "2023-04-18T22:44:43.442Z"
   },
   {
    "duration": 3,
    "start_time": "2023-04-18T22:44:43.954Z"
   },
   {
    "duration": 2201,
    "start_time": "2023-04-18T22:44:44.410Z"
   },
   {
    "duration": 5,
    "start_time": "2023-04-18T22:44:46.613Z"
   },
   {
    "duration": 3,
    "start_time": "2023-04-18T22:45:01.472Z"
   },
   {
    "duration": 3,
    "start_time": "2023-04-18T22:45:03.435Z"
   },
   {
    "duration": 2075,
    "start_time": "2023-04-18T22:45:04.057Z"
   },
   {
    "duration": 5,
    "start_time": "2023-04-18T22:45:06.134Z"
   },
   {
    "duration": 4,
    "start_time": "2023-04-18T22:45:20.055Z"
   },
   {
    "duration": 1749,
    "start_time": "2023-04-18T22:45:41.455Z"
   },
   {
    "duration": 3,
    "start_time": "2023-04-18T22:45:52.814Z"
   },
   {
    "duration": 2025,
    "start_time": "2023-04-18T22:45:55.410Z"
   },
   {
    "duration": 3,
    "start_time": "2023-04-18T22:46:08.112Z"
   },
   {
    "duration": 1733,
    "start_time": "2023-04-18T22:46:09.019Z"
   },
   {
    "duration": 4,
    "start_time": "2023-04-18T22:46:31.331Z"
   },
   {
    "duration": 1741,
    "start_time": "2023-04-18T22:46:33.899Z"
   },
   {
    "duration": 3,
    "start_time": "2023-04-18T22:46:46.720Z"
   },
   {
    "duration": 4217,
    "start_time": "2023-04-18T22:46:47.848Z"
   },
   {
    "duration": 3,
    "start_time": "2023-04-18T22:47:17.915Z"
   },
   {
    "duration": 1847,
    "start_time": "2023-04-18T22:47:18.741Z"
   },
   {
    "duration": 3,
    "start_time": "2023-04-18T22:47:29.465Z"
   },
   {
    "duration": 4453,
    "start_time": "2023-04-18T22:47:30.243Z"
   },
   {
    "duration": 3,
    "start_time": "2023-04-18T22:47:51.089Z"
   },
   {
    "duration": 4228,
    "start_time": "2023-04-18T22:47:51.999Z"
   },
   {
    "duration": 3,
    "start_time": "2023-04-18T22:48:04.905Z"
   },
   {
    "duration": 4228,
    "start_time": "2023-04-18T22:48:05.622Z"
   },
   {
    "duration": 3,
    "start_time": "2023-04-18T22:48:21.177Z"
   },
   {
    "duration": 4476,
    "start_time": "2023-04-18T22:48:21.811Z"
   },
   {
    "duration": 3,
    "start_time": "2023-04-18T22:48:38.297Z"
   },
   {
    "duration": 4294,
    "start_time": "2023-04-18T22:48:39.525Z"
   },
   {
    "duration": 3,
    "start_time": "2023-04-18T22:48:53.931Z"
   },
   {
    "duration": 4492,
    "start_time": "2023-04-18T22:48:54.892Z"
   },
   {
    "duration": 3,
    "start_time": "2023-04-18T22:49:08.830Z"
   },
   {
    "duration": 4272,
    "start_time": "2023-04-18T22:49:09.636Z"
   },
   {
    "duration": 3,
    "start_time": "2023-04-18T22:49:30.028Z"
   },
   {
    "duration": 4434,
    "start_time": "2023-04-18T22:49:31.022Z"
   },
   {
    "duration": 3,
    "start_time": "2023-04-18T22:49:48.946Z"
   },
   {
    "duration": 3,
    "start_time": "2023-04-18T22:50:13.967Z"
   },
   {
    "duration": 1664,
    "start_time": "2023-04-18T22:50:15.392Z"
   },
   {
    "duration": 3,
    "start_time": "2023-04-18T22:50:24.742Z"
   },
   {
    "duration": 3578,
    "start_time": "2023-04-18T22:50:25.461Z"
   },
   {
    "duration": 12392,
    "start_time": "2023-04-18T22:51:34.328Z"
   },
   {
    "duration": 47803,
    "start_time": "2023-04-18T22:51:52.401Z"
   },
   {
    "duration": 24535,
    "start_time": "2023-04-18T22:53:16.101Z"
   },
   {
    "duration": 41686,
    "start_time": "2023-04-18T22:54:15.973Z"
   },
   {
    "duration": 54744,
    "start_time": "2023-04-18T22:55:43.282Z"
   },
   {
    "duration": 110961,
    "start_time": "2023-04-18T22:56:40.860Z"
   },
   {
    "duration": 125904,
    "start_time": "2023-04-18T22:58:46.956Z"
   },
   {
    "duration": 1875,
    "start_time": "2023-04-19T21:03:40.013Z"
   },
   {
    "duration": 4,
    "start_time": "2023-04-19T21:03:41.890Z"
   },
   {
    "duration": 3517,
    "start_time": "2023-04-19T21:03:41.896Z"
   },
   {
    "duration": 154,
    "start_time": "2023-04-19T21:03:45.415Z"
   },
   {
    "duration": 33,
    "start_time": "2023-04-19T21:03:45.570Z"
   },
   {
    "duration": 82,
    "start_time": "2023-04-19T21:03:45.605Z"
   },
   {
    "duration": 38,
    "start_time": "2023-04-19T21:03:45.689Z"
   },
   {
    "duration": 445,
    "start_time": "2023-04-19T21:03:45.729Z"
   },
   {
    "duration": 92,
    "start_time": "2023-04-19T21:03:46.176Z"
   },
   {
    "duration": 50,
    "start_time": "2023-04-19T21:03:46.270Z"
   },
   {
    "duration": 78,
    "start_time": "2023-04-19T21:03:46.322Z"
   },
   {
    "duration": 90,
    "start_time": "2023-04-19T21:03:46.402Z"
   },
   {
    "duration": 1504,
    "start_time": "2023-04-19T21:03:46.494Z"
   },
   {
    "duration": 13,
    "start_time": "2023-04-19T21:03:48.001Z"
   },
   {
    "duration": 9,
    "start_time": "2023-04-19T21:03:48.017Z"
   },
   {
    "duration": 9,
    "start_time": "2023-04-19T21:03:48.028Z"
   },
   {
    "duration": 68,
    "start_time": "2023-04-19T21:03:48.039Z"
   },
   {
    "duration": 484,
    "start_time": "2023-04-19T21:03:48.115Z"
   },
   {
    "duration": 27,
    "start_time": "2023-04-19T21:03:48.601Z"
   },
   {
    "duration": 20,
    "start_time": "2023-04-19T21:03:48.630Z"
   },
   {
    "duration": 450,
    "start_time": "2023-04-19T21:03:48.651Z"
   },
   {
    "duration": 33,
    "start_time": "2023-04-19T21:03:49.107Z"
   },
   {
    "duration": 19,
    "start_time": "2023-04-19T21:03:49.142Z"
   },
   {
    "duration": 29,
    "start_time": "2023-04-19T21:03:49.162Z"
   },
   {
    "duration": 62,
    "start_time": "2023-04-19T21:03:49.192Z"
   },
   {
    "duration": 55,
    "start_time": "2023-04-19T21:03:49.256Z"
   },
   {
    "duration": 22,
    "start_time": "2023-04-19T21:03:49.313Z"
   },
   {
    "duration": 29,
    "start_time": "2023-04-19T21:03:49.339Z"
   },
   {
    "duration": 26,
    "start_time": "2023-04-19T21:03:49.370Z"
   },
   {
    "duration": 43,
    "start_time": "2023-04-19T21:03:49.397Z"
   },
   {
    "duration": 29,
    "start_time": "2023-04-19T21:03:49.442Z"
   },
   {
    "duration": 47,
    "start_time": "2023-04-19T21:03:49.473Z"
   },
   {
    "duration": 35,
    "start_time": "2023-04-19T21:03:49.522Z"
   },
   {
    "duration": 64,
    "start_time": "2023-04-19T21:03:49.559Z"
   },
   {
    "duration": 10,
    "start_time": "2023-04-19T21:03:49.626Z"
   },
   {
    "duration": 16,
    "start_time": "2023-04-19T21:03:49.638Z"
   },
   {
    "duration": 56,
    "start_time": "2023-04-19T21:03:49.656Z"
   },
   {
    "duration": 28,
    "start_time": "2023-04-19T21:03:49.717Z"
   },
   {
    "duration": 17,
    "start_time": "2023-04-19T21:03:49.746Z"
   },
   {
    "duration": 55,
    "start_time": "2023-04-19T21:03:49.765Z"
   },
   {
    "duration": 29,
    "start_time": "2023-04-19T21:03:49.822Z"
   },
   {
    "duration": 26899,
    "start_time": "2023-04-19T21:03:49.853Z"
   },
   {
    "duration": 38,
    "start_time": "2023-04-19T21:04:16.754Z"
   },
   {
    "duration": 28,
    "start_time": "2023-04-19T21:04:16.797Z"
   },
   {
    "duration": 444,
    "start_time": "2023-04-19T21:04:16.834Z"
   },
   {
    "duration": 27,
    "start_time": "2023-04-19T21:04:17.285Z"
   },
   {
    "duration": 15,
    "start_time": "2023-04-19T21:04:17.321Z"
   },
   {
    "duration": 21,
    "start_time": "2023-04-19T21:04:17.337Z"
   },
   {
    "duration": 7,
    "start_time": "2023-04-19T21:04:17.360Z"
   },
   {
    "duration": 5,
    "start_time": "2023-04-19T21:04:17.369Z"
   },
   {
    "duration": 71,
    "start_time": "2023-04-19T21:04:17.388Z"
   },
   {
    "duration": 4,
    "start_time": "2023-04-19T21:04:17.461Z"
   },
   {
    "duration": 105,
    "start_time": "2023-04-19T21:04:17.466Z"
   },
   {
    "duration": 11,
    "start_time": "2023-04-19T21:04:17.573Z"
   },
   {
    "duration": 664,
    "start_time": "2023-04-19T21:04:17.596Z"
   },
   {
    "duration": 93,
    "start_time": "2023-04-19T21:04:18.262Z"
   },
   {
    "duration": 17,
    "start_time": "2023-04-19T21:04:18.357Z"
   },
   {
    "duration": 13,
    "start_time": "2023-04-19T21:04:18.376Z"
   },
   {
    "duration": 16,
    "start_time": "2023-04-19T21:04:18.393Z"
   },
   {
    "duration": 6,
    "start_time": "2023-04-19T21:04:18.412Z"
   },
   {
    "duration": 20,
    "start_time": "2023-04-19T21:04:18.420Z"
   },
   {
    "duration": 10,
    "start_time": "2023-04-19T21:04:18.442Z"
   },
   {
    "duration": 146858,
    "start_time": "2023-04-19T21:04:18.453Z"
   },
   {
    "duration": 4,
    "start_time": "2023-04-19T21:06:45.317Z"
   },
   {
    "duration": 12,
    "start_time": "2023-04-19T21:06:45.323Z"
   },
   {
    "duration": 9,
    "start_time": "2023-04-19T21:06:45.337Z"
   },
   {
    "duration": 6,
    "start_time": "2023-04-19T21:06:45.348Z"
   },
   {
    "duration": 5,
    "start_time": "2023-04-19T21:06:45.356Z"
   },
   {
    "duration": 4,
    "start_time": "2023-04-19T21:06:45.363Z"
   },
   {
    "duration": 5,
    "start_time": "2023-04-19T21:06:45.368Z"
   },
   {
    "duration": 52934,
    "start_time": "2023-04-19T21:06:45.374Z"
   },
   {
    "duration": 8,
    "start_time": "2023-04-19T21:07:38.310Z"
   },
   {
    "duration": 20,
    "start_time": "2023-04-19T21:07:38.320Z"
   },
   {
    "duration": 10,
    "start_time": "2023-04-19T21:07:38.344Z"
   },
   {
    "duration": 6,
    "start_time": "2023-04-19T21:07:38.356Z"
   },
   {
    "duration": 5,
    "start_time": "2023-04-19T21:07:38.364Z"
   },
   {
    "duration": 8463,
    "start_time": "2023-04-19T21:07:38.371Z"
   },
   {
    "duration": 17696,
    "start_time": "2023-04-19T21:07:46.835Z"
   },
   {
    "duration": 0,
    "start_time": "2023-04-19T21:08:04.533Z"
   },
   {
    "duration": 0,
    "start_time": "2023-04-19T21:08:04.535Z"
   },
   {
    "duration": 0,
    "start_time": "2023-04-19T21:08:04.537Z"
   },
   {
    "duration": 0,
    "start_time": "2023-04-19T21:08:04.538Z"
   },
   {
    "duration": 165270,
    "start_time": "2023-04-19T21:08:11.846Z"
   },
   {
    "duration": 0,
    "start_time": "2023-04-19T21:10:57.119Z"
   },
   {
    "duration": 4,
    "start_time": "2023-04-19T21:11:17.410Z"
   },
   {
    "duration": 2,
    "start_time": "2023-04-19T21:11:20.051Z"
   },
   {
    "duration": 3,
    "start_time": "2023-04-19T21:11:21.129Z"
   },
   {
    "duration": 2,
    "start_time": "2023-04-19T21:12:41.741Z"
   },
   {
    "duration": 4,
    "start_time": "2023-04-19T21:12:43.970Z"
   },
   {
    "duration": 124,
    "start_time": "2023-04-19T21:12:58.414Z"
   },
   {
    "duration": 774857,
    "start_time": "2023-04-19T21:13:12.062Z"
   },
   {
    "duration": 5,
    "start_time": "2023-04-19T21:26:06.922Z"
   },
   {
    "duration": 19,
    "start_time": "2023-04-19T21:26:06.929Z"
   },
   {
    "duration": 20,
    "start_time": "2023-04-19T21:28:05.408Z"
   },
   {
    "duration": 221288,
    "start_time": "2023-04-19T21:28:08.676Z"
   },
   {
    "duration": 4,
    "start_time": "2023-04-19T21:31:49.966Z"
   },
   {
    "duration": 15,
    "start_time": "2023-04-19T21:33:17.350Z"
   },
   {
    "duration": 88249,
    "start_time": "2023-04-19T21:33:18.578Z"
   },
   {
    "duration": 4,
    "start_time": "2023-04-19T21:34:46.829Z"
   },
   {
    "duration": 23,
    "start_time": "2023-04-19T21:35:06.137Z"
   },
   {
    "duration": 10,
    "start_time": "2023-04-19T21:42:20.685Z"
   },
   {
    "duration": 32,
    "start_time": "2023-04-19T21:42:23.079Z"
   },
   {
    "duration": 10,
    "start_time": "2023-04-19T21:44:59.671Z"
   },
   {
    "duration": 4,
    "start_time": "2023-04-19T21:45:06.212Z"
   },
   {
    "duration": 4,
    "start_time": "2023-04-19T21:47:09.810Z"
   },
   {
    "duration": 142971,
    "start_time": "2023-04-19T21:47:11.837Z"
   },
   {
    "duration": 5,
    "start_time": "2023-04-19T21:49:34.812Z"
   },
   {
    "duration": 6,
    "start_time": "2023-04-19T21:49:34.819Z"
   },
   {
    "duration": 4,
    "start_time": "2023-04-19T21:52:14.609Z"
   },
   {
    "duration": 89,
    "start_time": "2023-04-19T21:52:27.772Z"
   },
   {
    "duration": 4,
    "start_time": "2023-04-19T21:54:51.514Z"
   },
   {
    "duration": 19,
    "start_time": "2023-04-19T21:54:54.513Z"
   },
   {
    "duration": 5,
    "start_time": "2023-04-19T21:54:55.522Z"
   },
   {
    "duration": 4,
    "start_time": "2023-04-19T21:55:04.006Z"
   },
   {
    "duration": 206,
    "start_time": "2023-04-19T21:56:36.909Z"
   },
   {
    "duration": 3,
    "start_time": "2023-04-19T21:56:45.423Z"
   },
   {
    "duration": 4,
    "start_time": "2023-04-19T21:58:18.123Z"
   },
   {
    "duration": 3,
    "start_time": "2023-04-19T21:59:06.529Z"
   },
   {
    "duration": 2735,
    "start_time": "2023-04-19T21:59:17.435Z"
   },
   {
    "duration": 11,
    "start_time": "2023-04-19T22:00:33.930Z"
   },
   {
    "duration": 4,
    "start_time": "2023-04-19T22:00:54.743Z"
   },
   {
    "duration": 21955,
    "start_time": "2023-04-19T22:00:56.271Z"
   },
   {
    "duration": 63,
    "start_time": "2023-04-19T22:05:20.877Z"
   },
   {
    "duration": 4,
    "start_time": "2023-04-19T22:05:27.401Z"
   },
   {
    "duration": 5188,
    "start_time": "2023-04-19T22:05:29.822Z"
   },
   {
    "duration": 5,
    "start_time": "2023-04-19T22:05:49.374Z"
   },
   {
    "duration": 4,
    "start_time": "2023-04-19T22:06:10.710Z"
   },
   {
    "duration": 4841,
    "start_time": "2023-04-19T22:06:11.572Z"
   },
   {
    "duration": 3,
    "start_time": "2023-04-19T22:06:21.473Z"
   },
   {
    "duration": 4,
    "start_time": "2023-04-19T22:06:36.973Z"
   },
   {
    "duration": 4,
    "start_time": "2023-04-19T22:07:02.553Z"
   },
   {
    "duration": 8658,
    "start_time": "2023-04-19T22:07:09.016Z"
   },
   {
    "duration": 4,
    "start_time": "2023-04-19T22:07:27.909Z"
   },
   {
    "duration": 4,
    "start_time": "2023-04-19T22:11:48.471Z"
   },
   {
    "duration": 4615,
    "start_time": "2023-04-19T22:11:52.102Z"
   },
   {
    "duration": 3,
    "start_time": "2023-04-19T22:11:59.755Z"
   },
   {
    "duration": 64,
    "start_time": "2023-04-19T22:12:09.439Z"
   },
   {
    "duration": 72,
    "start_time": "2023-04-19T22:12:15.371Z"
   },
   {
    "duration": 5,
    "start_time": "2023-04-19T22:12:22.856Z"
   },
   {
    "duration": 4998,
    "start_time": "2023-04-19T22:12:23.178Z"
   },
   {
    "duration": 4,
    "start_time": "2023-04-19T22:12:28.901Z"
   },
   {
    "duration": 5151,
    "start_time": "2023-04-19T22:12:29.971Z"
   },
   {
    "duration": 4,
    "start_time": "2023-04-19T22:13:40.126Z"
   },
   {
    "duration": 5,
    "start_time": "2023-04-19T22:13:43.385Z"
   },
   {
    "duration": 4703,
    "start_time": "2023-04-19T22:13:44.808Z"
   },
   {
    "duration": 4,
    "start_time": "2023-04-19T22:13:50.410Z"
   },
   {
    "duration": 4,
    "start_time": "2023-04-19T22:15:22.243Z"
   },
   {
    "duration": 257873,
    "start_time": "2023-04-19T22:15:23.509Z"
   },
   {
    "duration": 0,
    "start_time": "2023-04-19T22:19:41.384Z"
   },
   {
    "duration": 0,
    "start_time": "2023-04-19T22:19:41.388Z"
   },
   {
    "duration": 1,
    "start_time": "2023-04-19T22:19:41.389Z"
   },
   {
    "duration": 0,
    "start_time": "2023-04-19T22:19:41.393Z"
   },
   {
    "duration": 3,
    "start_time": "2023-04-19T22:20:25.075Z"
   },
   {
    "duration": 37283,
    "start_time": "2023-04-19T22:20:28.141Z"
   },
   {
    "duration": 6,
    "start_time": "2023-04-19T22:21:08.214Z"
   },
   {
    "duration": 490093,
    "start_time": "2023-04-19T22:21:08.971Z"
   },
   {
    "duration": 4,
    "start_time": "2023-04-19T22:29:19.066Z"
   },
   {
    "duration": 4,
    "start_time": "2023-04-19T22:30:49.039Z"
   },
   {
    "duration": 350973,
    "start_time": "2023-04-19T22:30:50.162Z"
   },
   {
    "duration": 4,
    "start_time": "2023-04-19T22:36:41.137Z"
   },
   {
    "duration": 11,
    "start_time": "2023-04-19T22:38:09.421Z"
   },
   {
    "duration": 315113,
    "start_time": "2023-04-19T22:38:32.219Z"
   },
   {
    "duration": 4,
    "start_time": "2023-04-19T22:43:47.334Z"
   },
   {
    "duration": 4,
    "start_time": "2023-04-19T22:43:47.340Z"
   },
   {
    "duration": 247599,
    "start_time": "2023-04-19T22:43:47.346Z"
   },
   {
    "duration": 4,
    "start_time": "2023-04-19T22:47:54.946Z"
   },
   {
    "duration": 43,
    "start_time": "2023-04-19T22:49:10.370Z"
   },
   {
    "duration": 2,
    "start_time": "2023-04-19T22:49:12.173Z"
   },
   {
    "duration": 50026,
    "start_time": "2023-04-19T22:49:13.355Z"
   },
   {
    "duration": 1398,
    "start_time": "2023-04-19T22:50:03.383Z"
   },
   {
    "duration": 5,
    "start_time": "2023-04-19T22:50:04.785Z"
   },
   {
    "duration": 3,
    "start_time": "2023-04-19T22:51:42.533Z"
   },
   {
    "duration": 254473,
    "start_time": "2023-04-19T22:51:43.379Z"
   },
   {
    "duration": 4,
    "start_time": "2023-04-19T22:55:57.853Z"
   },
   {
    "duration": 3,
    "start_time": "2023-04-19T22:56:49.799Z"
   },
   {
    "duration": 3,
    "start_time": "2023-04-19T22:56:58.920Z"
   },
   {
    "duration": 59075,
    "start_time": "2023-04-19T22:57:00.531Z"
   },
   {
    "duration": 402,
    "start_time": "2023-04-19T22:57:59.608Z"
   },
   {
    "duration": 6,
    "start_time": "2023-04-19T22:58:00.011Z"
   },
   {
    "duration": 3,
    "start_time": "2023-04-19T22:58:11.534Z"
   },
   {
    "duration": 51238,
    "start_time": "2023-04-19T22:58:13.236Z"
   },
   {
    "duration": 333,
    "start_time": "2023-04-19T22:59:04.476Z"
   },
   {
    "duration": 6,
    "start_time": "2023-04-19T22:59:04.811Z"
   },
   {
    "duration": 3,
    "start_time": "2023-04-19T22:59:04.819Z"
   },
   {
    "duration": 62799,
    "start_time": "2023-04-19T22:59:04.824Z"
   },
   {
    "duration": 462,
    "start_time": "2023-04-19T23:00:07.624Z"
   },
   {
    "duration": 12,
    "start_time": "2023-04-19T23:00:08.088Z"
   },
   {
    "duration": 3,
    "start_time": "2023-04-19T23:03:05.751Z"
   },
   {
    "duration": 13659,
    "start_time": "2023-04-19T23:03:06.698Z"
   },
   {
    "duration": 3,
    "start_time": "2023-04-19T23:03:58.273Z"
   },
   {
    "duration": 1690,
    "start_time": "2023-04-19T23:03:59.217Z"
   },
   {
    "duration": 1704,
    "start_time": "2023-04-19T23:04:03.305Z"
   },
   {
    "duration": 1631,
    "start_time": "2023-04-19T23:04:07.211Z"
   },
   {
    "duration": 1654,
    "start_time": "2023-04-19T23:04:12.499Z"
   },
   {
    "duration": 3,
    "start_time": "2023-04-19T23:07:46.413Z"
   },
   {
    "duration": 31379,
    "start_time": "2023-04-19T23:07:47.728Z"
   },
   {
    "duration": 506,
    "start_time": "2023-04-19T23:08:19.109Z"
   },
   {
    "duration": 6,
    "start_time": "2023-04-19T23:08:19.617Z"
   },
   {
    "duration": 64,
    "start_time": "2023-04-19T23:08:19.625Z"
   },
   {
    "duration": 12981,
    "start_time": "2023-04-19T23:08:19.696Z"
   },
   {
    "duration": 87,
    "start_time": "2023-04-19T23:08:32.678Z"
   },
   {
    "duration": 5,
    "start_time": "2023-04-19T23:08:32.766Z"
   },
   {
    "duration": 4,
    "start_time": "2023-04-19T23:09:43.213Z"
   },
   {
    "duration": 7460,
    "start_time": "2023-04-19T23:09:45.715Z"
   },
   {
    "duration": 354,
    "start_time": "2023-04-19T23:09:53.177Z"
   },
   {
    "duration": 6,
    "start_time": "2023-04-19T23:09:53.533Z"
   },
   {
    "duration": 2,
    "start_time": "2023-04-19T23:12:52.774Z"
   },
   {
    "duration": 3,
    "start_time": "2023-04-19T23:14:16.422Z"
   },
   {
    "duration": 1654,
    "start_time": "2023-04-20T17:52:33.572Z"
   },
   {
    "duration": 3,
    "start_time": "2023-04-20T17:52:35.228Z"
   },
   {
    "duration": 1021,
    "start_time": "2023-04-20T17:52:35.232Z"
   },
   {
    "duration": 114,
    "start_time": "2023-04-20T17:52:36.255Z"
   },
   {
    "duration": 15,
    "start_time": "2023-04-20T17:52:36.370Z"
   },
   {
    "duration": 86,
    "start_time": "2023-04-20T17:52:36.387Z"
   },
   {
    "duration": 31,
    "start_time": "2023-04-20T17:52:36.475Z"
   },
   {
    "duration": 372,
    "start_time": "2023-04-20T17:52:36.508Z"
   },
   {
    "duration": 79,
    "start_time": "2023-04-20T17:52:36.882Z"
   },
   {
    "duration": 33,
    "start_time": "2023-04-20T17:52:36.964Z"
   },
   {
    "duration": 89,
    "start_time": "2023-04-20T17:52:36.998Z"
   },
   {
    "duration": 89,
    "start_time": "2023-04-20T17:52:37.088Z"
   },
   {
    "duration": 1145,
    "start_time": "2023-04-20T17:52:37.178Z"
   },
   {
    "duration": 9,
    "start_time": "2023-04-20T17:52:38.324Z"
   },
   {
    "duration": 21,
    "start_time": "2023-04-20T17:52:38.334Z"
   },
   {
    "duration": 8,
    "start_time": "2023-04-20T17:52:38.356Z"
   },
   {
    "duration": 112,
    "start_time": "2023-04-20T17:52:38.365Z"
   },
   {
    "duration": 284,
    "start_time": "2023-04-20T17:52:38.478Z"
   },
   {
    "duration": 20,
    "start_time": "2023-04-20T17:52:38.763Z"
   },
   {
    "duration": 18,
    "start_time": "2023-04-20T17:52:38.784Z"
   },
   {
    "duration": 365,
    "start_time": "2023-04-20T17:52:38.804Z"
   },
   {
    "duration": 27,
    "start_time": "2023-04-20T17:52:39.171Z"
   },
   {
    "duration": 19,
    "start_time": "2023-04-20T17:52:39.199Z"
   },
   {
    "duration": 36,
    "start_time": "2023-04-20T17:52:39.219Z"
   },
   {
    "duration": 42,
    "start_time": "2023-04-20T17:52:39.257Z"
   },
   {
    "duration": 24,
    "start_time": "2023-04-20T17:52:39.301Z"
   },
   {
    "duration": 44,
    "start_time": "2023-04-20T17:52:39.326Z"
   },
   {
    "duration": 28,
    "start_time": "2023-04-20T17:52:39.373Z"
   },
   {
    "duration": 40,
    "start_time": "2023-04-20T17:52:39.402Z"
   },
   {
    "duration": 30,
    "start_time": "2023-04-20T17:52:39.444Z"
   },
   {
    "duration": 30,
    "start_time": "2023-04-20T17:52:39.476Z"
   },
   {
    "duration": 27,
    "start_time": "2023-04-20T17:52:39.508Z"
   },
   {
    "duration": 33,
    "start_time": "2023-04-20T17:52:39.549Z"
   },
   {
    "duration": 26,
    "start_time": "2023-04-20T17:52:39.583Z"
   },
   {
    "duration": 10,
    "start_time": "2023-04-20T17:52:39.611Z"
   },
   {
    "duration": 37,
    "start_time": "2023-04-20T17:52:39.623Z"
   },
   {
    "duration": 28,
    "start_time": "2023-04-20T17:52:39.661Z"
   },
   {
    "duration": 25,
    "start_time": "2023-04-20T17:52:39.691Z"
   },
   {
    "duration": 36,
    "start_time": "2023-04-20T17:52:39.718Z"
   },
   {
    "duration": 39,
    "start_time": "2023-04-20T17:52:39.756Z"
   },
   {
    "duration": 45,
    "start_time": "2023-04-20T17:52:39.800Z"
   },
   {
    "duration": 20926,
    "start_time": "2023-04-20T17:52:39.847Z"
   },
   {
    "duration": 25,
    "start_time": "2023-04-20T17:53:00.775Z"
   },
   {
    "duration": 39,
    "start_time": "2023-04-20T17:53:00.802Z"
   },
   {
    "duration": 358,
    "start_time": "2023-04-20T17:53:00.843Z"
   },
   {
    "duration": 7,
    "start_time": "2023-04-20T17:53:01.203Z"
   },
   {
    "duration": 38,
    "start_time": "2023-04-20T17:53:01.211Z"
   },
   {
    "duration": 51,
    "start_time": "2023-04-20T17:53:01.251Z"
   },
   {
    "duration": 25,
    "start_time": "2023-04-20T17:53:01.304Z"
   },
   {
    "duration": 4,
    "start_time": "2023-04-20T17:53:01.331Z"
   },
   {
    "duration": 77,
    "start_time": "2023-04-20T17:53:01.337Z"
   },
   {
    "duration": 4,
    "start_time": "2023-04-20T17:53:01.416Z"
   },
   {
    "duration": 113,
    "start_time": "2023-04-20T17:53:01.421Z"
   },
   {
    "duration": 22,
    "start_time": "2023-04-20T17:53:01.535Z"
   },
   {
    "duration": 601,
    "start_time": "2023-04-20T17:53:01.558Z"
   },
   {
    "duration": 44,
    "start_time": "2023-04-20T17:53:02.161Z"
   },
   {
    "duration": 11,
    "start_time": "2023-04-20T17:53:02.207Z"
   },
   {
    "duration": 159,
    "start_time": "2023-04-20T17:55:53.027Z"
   },
   {
    "duration": 27,
    "start_time": "2023-04-20T17:56:00.365Z"
   },
   {
    "duration": 6360,
    "start_time": "2023-04-20T17:56:17.189Z"
   },
   {
    "duration": 36926,
    "start_time": "2023-04-20T17:56:34.525Z"
   },
   {
    "duration": 272997,
    "start_time": "2023-04-20T17:57:43.657Z"
   },
   {
    "duration": 102833,
    "start_time": "2023-04-20T18:02:16.657Z"
   },
   {
    "duration": 149320,
    "start_time": "2023-04-20T18:03:59.492Z"
   },
   {
    "duration": 884805,
    "start_time": "2023-04-20T18:07:34.656Z"
   },
   {
    "duration": 207462,
    "start_time": "2023-04-20T18:22:19.462Z"
   },
   {
    "duration": 0,
    "start_time": "2023-04-20T18:25:46.925Z"
   },
   {
    "duration": 0,
    "start_time": "2023-04-20T18:25:46.927Z"
   },
   {
    "duration": 0,
    "start_time": "2023-04-20T18:25:46.928Z"
   },
   {
    "duration": 210221,
    "start_time": "2023-04-20T18:48:12.352Z"
   },
   {
    "duration": 12,
    "start_time": "2023-04-20T18:53:06.871Z"
   },
   {
    "duration": 142592,
    "start_time": "2023-04-20T18:53:14.160Z"
   },
   {
    "duration": 144549,
    "start_time": "2023-04-20T18:56:17.807Z"
   },
   {
    "duration": 85425,
    "start_time": "2023-04-20T18:59:54.957Z"
   },
   {
    "duration": 325534,
    "start_time": "2023-04-20T19:03:04.136Z"
   },
   {
    "duration": 4120,
    "start_time": "2023-04-20T19:08:29.672Z"
   },
   {
    "duration": 40718,
    "start_time": "2023-04-20T19:08:33.794Z"
   },
   {
    "duration": 62955,
    "start_time": "2023-04-20T19:09:14.514Z"
   },
   {
    "duration": 108359,
    "start_time": "2023-04-20T19:10:17.471Z"
   },
   {
    "duration": 1526654,
    "start_time": "2023-04-20T19:12:05.832Z"
   },
   {
    "duration": 1449242,
    "start_time": "2023-04-20T19:37:32.487Z"
   },
   {
    "duration": 79454,
    "start_time": "2023-04-20T20:01:41.731Z"
   },
   {
    "duration": 10264,
    "start_time": "2023-04-20T20:03:01.186Z"
   },
   {
    "duration": 734377,
    "start_time": "2023-04-20T20:03:11.451Z"
   },
   {
    "duration": 91,
    "start_time": "2023-04-20T20:15:25.829Z"
   },
   {
    "duration": 0,
    "start_time": "2023-04-20T20:15:25.922Z"
   },
   {
    "duration": 0,
    "start_time": "2023-04-20T20:15:25.924Z"
   },
   {
    "duration": 0,
    "start_time": "2023-04-20T20:15:25.925Z"
   },
   {
    "duration": 0,
    "start_time": "2023-04-20T20:15:25.927Z"
   },
   {
    "duration": 0,
    "start_time": "2023-04-20T20:15:25.928Z"
   },
   {
    "duration": 469385,
    "start_time": "2023-04-20T20:32:24.316Z"
   },
   {
    "duration": 392,
    "start_time": "2023-04-20T20:40:13.705Z"
   },
   {
    "duration": 0,
    "start_time": "2023-04-20T20:40:14.099Z"
   },
   {
    "duration": 0,
    "start_time": "2023-04-20T20:40:14.100Z"
   },
   {
    "duration": 0,
    "start_time": "2023-04-20T20:40:14.101Z"
   },
   {
    "duration": 0,
    "start_time": "2023-04-20T20:40:14.102Z"
   },
   {
    "duration": 406714,
    "start_time": "2023-04-20T20:41:31.340Z"
   },
   {
    "duration": 0,
    "start_time": "2023-04-20T20:48:18.056Z"
   },
   {
    "duration": 0,
    "start_time": "2023-04-20T20:48:18.057Z"
   },
   {
    "duration": 0,
    "start_time": "2023-04-20T20:48:18.058Z"
   },
   {
    "duration": 0,
    "start_time": "2023-04-20T20:48:18.059Z"
   },
   {
    "duration": 0,
    "start_time": "2023-04-20T20:48:18.059Z"
   },
   {
    "duration": 27392,
    "start_time": "2023-04-20T20:49:05.092Z"
   },
   {
    "duration": 111257,
    "start_time": "2023-04-20T20:49:43.120Z"
   },
   {
    "duration": 206911,
    "start_time": "2023-04-20T20:52:16.726Z"
   },
   {
    "duration": 1102558,
    "start_time": "2023-04-20T20:56:05.585Z"
   },
   {
    "duration": 464286,
    "start_time": "2023-04-20T21:14:28.145Z"
   },
   {
    "duration": 435971,
    "start_time": "2023-04-20T21:22:12.433Z"
   },
   {
    "duration": 1005722,
    "start_time": "2023-04-20T21:29:28.406Z"
   },
   {
    "duration": 51,
    "start_time": "2023-04-20T22:29:43.278Z"
   },
   {
    "duration": 1664,
    "start_time": "2023-04-20T22:30:11.658Z"
   },
   {
    "duration": 3,
    "start_time": "2023-04-20T22:30:13.324Z"
   },
   {
    "duration": 1034,
    "start_time": "2023-04-20T22:30:13.329Z"
   },
   {
    "duration": 153,
    "start_time": "2023-04-20T22:30:14.365Z"
   },
   {
    "duration": 17,
    "start_time": "2023-04-20T22:30:14.520Z"
   },
   {
    "duration": 80,
    "start_time": "2023-04-20T22:30:14.551Z"
   },
   {
    "duration": 45,
    "start_time": "2023-04-20T22:30:14.632Z"
   },
   {
    "duration": 376,
    "start_time": "2023-04-20T22:30:14.679Z"
   },
   {
    "duration": 74,
    "start_time": "2023-04-20T22:30:15.057Z"
   },
   {
    "duration": 47,
    "start_time": "2023-04-20T22:30:15.134Z"
   },
   {
    "duration": 78,
    "start_time": "2023-04-20T22:30:15.183Z"
   },
   {
    "duration": 88,
    "start_time": "2023-04-20T22:30:15.263Z"
   },
   {
    "duration": 1239,
    "start_time": "2023-04-20T22:30:15.352Z"
   },
   {
    "duration": 8,
    "start_time": "2023-04-20T22:30:16.593Z"
   },
   {
    "duration": 8,
    "start_time": "2023-04-20T22:30:16.603Z"
   },
   {
    "duration": 8,
    "start_time": "2023-04-20T22:30:16.612Z"
   },
   {
    "duration": 36,
    "start_time": "2023-04-20T22:30:16.648Z"
   },
   {
    "duration": 382,
    "start_time": "2023-04-20T22:30:16.685Z"
   },
   {
    "duration": 24,
    "start_time": "2023-04-20T22:30:17.069Z"
   },
   {
    "duration": 18,
    "start_time": "2023-04-20T22:30:17.095Z"
   },
   {
    "duration": 353,
    "start_time": "2023-04-20T22:30:17.115Z"
   },
   {
    "duration": 30,
    "start_time": "2023-04-20T22:30:17.470Z"
   },
   {
    "duration": 20,
    "start_time": "2023-04-20T22:30:17.502Z"
   },
   {
    "duration": 39,
    "start_time": "2023-04-20T22:30:17.524Z"
   },
   {
    "duration": 49,
    "start_time": "2023-04-20T22:30:17.565Z"
   },
   {
    "duration": 34,
    "start_time": "2023-04-20T22:30:17.615Z"
   },
   {
    "duration": 24,
    "start_time": "2023-04-20T22:30:17.651Z"
   },
   {
    "duration": 37,
    "start_time": "2023-04-20T22:30:17.679Z"
   },
   {
    "duration": 31,
    "start_time": "2023-04-20T22:30:17.718Z"
   },
   {
    "duration": 30,
    "start_time": "2023-04-20T22:30:17.750Z"
   },
   {
    "duration": 44,
    "start_time": "2023-04-20T22:30:17.781Z"
   },
   {
    "duration": 46,
    "start_time": "2023-04-20T22:30:17.826Z"
   },
   {
    "duration": 44,
    "start_time": "2023-04-20T22:30:17.874Z"
   },
   {
    "duration": 33,
    "start_time": "2023-04-20T22:30:17.919Z"
   },
   {
    "duration": 19,
    "start_time": "2023-04-20T22:30:17.954Z"
   },
   {
    "duration": 25,
    "start_time": "2023-04-20T22:30:17.975Z"
   },
   {
    "duration": 50,
    "start_time": "2023-04-20T22:30:18.002Z"
   },
   {
    "duration": 26,
    "start_time": "2023-04-20T22:30:18.054Z"
   },
   {
    "duration": 72,
    "start_time": "2023-04-20T22:30:18.082Z"
   },
   {
    "duration": 26,
    "start_time": "2023-04-20T22:30:18.156Z"
   },
   {
    "duration": 79,
    "start_time": "2023-04-20T22:30:18.183Z"
   },
   {
    "duration": 25977,
    "start_time": "2023-04-20T22:30:18.265Z"
   },
   {
    "duration": 26,
    "start_time": "2023-04-20T22:30:44.243Z"
   },
   {
    "duration": 22,
    "start_time": "2023-04-20T22:30:44.270Z"
   },
   {
    "duration": 364,
    "start_time": "2023-04-20T22:30:44.294Z"
   },
   {
    "duration": 8,
    "start_time": "2023-04-20T22:30:44.660Z"
   },
   {
    "duration": 20,
    "start_time": "2023-04-20T22:30:44.670Z"
   },
   {
    "duration": 27,
    "start_time": "2023-04-20T22:30:44.692Z"
   },
   {
    "duration": 11,
    "start_time": "2023-04-20T22:30:44.721Z"
   },
   {
    "duration": 6,
    "start_time": "2023-04-20T22:30:44.749Z"
   },
   {
    "duration": 47,
    "start_time": "2023-04-20T22:30:44.757Z"
   },
   {
    "duration": 3,
    "start_time": "2023-04-20T22:30:44.806Z"
   },
   {
    "duration": 74,
    "start_time": "2023-04-20T22:30:44.810Z"
   },
   {
    "duration": 41,
    "start_time": "2023-04-20T22:30:44.886Z"
   },
   {
    "duration": 513,
    "start_time": "2023-04-20T22:30:44.929Z"
   },
   {
    "duration": 46,
    "start_time": "2023-04-20T22:30:45.449Z"
   },
   {
    "duration": 14,
    "start_time": "2023-04-20T22:30:45.496Z"
   },
   {
    "duration": 52,
    "start_time": "2023-04-20T22:30:45.514Z"
   },
   {
    "duration": 1466,
    "start_time": "2023-04-20T22:31:47.366Z"
   },
   {
    "duration": 3,
    "start_time": "2023-04-20T22:31:48.834Z"
   },
   {
    "duration": 1442,
    "start_time": "2023-04-20T22:31:48.838Z"
   },
   {
    "duration": 267,
    "start_time": "2023-04-20T22:31:50.282Z"
   },
   {
    "duration": 16,
    "start_time": "2023-04-20T22:31:50.551Z"
   },
   {
    "duration": 195,
    "start_time": "2023-04-20T22:31:50.568Z"
   },
   {
    "duration": 88,
    "start_time": "2023-04-20T22:31:50.765Z"
   },
   {
    "duration": 443,
    "start_time": "2023-04-20T22:31:50.854Z"
   },
   {
    "duration": 81,
    "start_time": "2023-04-20T22:31:51.299Z"
   },
   {
    "duration": 40,
    "start_time": "2023-04-20T22:31:51.382Z"
   },
   {
    "duration": 97,
    "start_time": "2023-04-20T22:31:51.424Z"
   },
   {
    "duration": 90,
    "start_time": "2023-04-20T22:31:51.523Z"
   },
   {
    "duration": 1205,
    "start_time": "2023-04-20T22:31:51.614Z"
   },
   {
    "duration": 8,
    "start_time": "2023-04-20T22:31:52.821Z"
   },
   {
    "duration": 31,
    "start_time": "2023-04-20T22:31:52.831Z"
   },
   {
    "duration": 8,
    "start_time": "2023-04-20T22:31:52.864Z"
   },
   {
    "duration": 36,
    "start_time": "2023-04-20T22:31:52.874Z"
   },
   {
    "duration": 397,
    "start_time": "2023-04-20T22:31:52.912Z"
   },
   {
    "duration": 21,
    "start_time": "2023-04-20T22:31:53.311Z"
   },
   {
    "duration": 31,
    "start_time": "2023-04-20T22:31:53.334Z"
   },
   {
    "duration": 356,
    "start_time": "2023-04-20T22:31:53.367Z"
   },
   {
    "duration": 38,
    "start_time": "2023-04-20T22:31:53.725Z"
   },
   {
    "duration": 22,
    "start_time": "2023-04-20T22:31:53.765Z"
   },
   {
    "duration": 20,
    "start_time": "2023-04-20T22:31:53.788Z"
   },
   {
    "duration": 64,
    "start_time": "2023-04-20T22:31:53.810Z"
   },
   {
    "duration": 26,
    "start_time": "2023-04-20T22:31:53.876Z"
   },
   {
    "duration": 24,
    "start_time": "2023-04-20T22:31:53.904Z"
   },
   {
    "duration": 28,
    "start_time": "2023-04-20T22:31:53.951Z"
   },
   {
    "duration": 25,
    "start_time": "2023-04-20T22:31:53.980Z"
   },
   {
    "duration": 44,
    "start_time": "2023-04-20T22:31:54.007Z"
   },
   {
    "duration": 33,
    "start_time": "2023-04-20T22:31:54.053Z"
   },
   {
    "duration": 62,
    "start_time": "2023-04-20T22:31:54.088Z"
   },
   {
    "duration": 55,
    "start_time": "2023-04-20T22:31:54.152Z"
   },
   {
    "duration": 28,
    "start_time": "2023-04-20T22:31:54.209Z"
   },
   {
    "duration": 12,
    "start_time": "2023-04-20T22:31:54.239Z"
   },
   {
    "duration": 17,
    "start_time": "2023-04-20T22:31:54.253Z"
   },
   {
    "duration": 29,
    "start_time": "2023-04-20T22:31:54.272Z"
   },
   {
    "duration": 51,
    "start_time": "2023-04-20T22:31:54.303Z"
   },
   {
    "duration": 25,
    "start_time": "2023-04-20T22:31:54.356Z"
   },
   {
    "duration": 28,
    "start_time": "2023-04-20T22:31:54.383Z"
   },
   {
    "duration": 52,
    "start_time": "2023-04-20T22:31:54.412Z"
   },
   {
    "duration": 22878,
    "start_time": "2023-04-20T22:31:54.466Z"
   },
   {
    "duration": 27,
    "start_time": "2023-04-20T22:32:17.345Z"
   },
   {
    "duration": 26,
    "start_time": "2023-04-20T22:32:17.374Z"
   },
   {
    "duration": 315,
    "start_time": "2023-04-20T22:32:17.401Z"
   },
   {
    "duration": 8,
    "start_time": "2023-04-20T22:32:17.717Z"
   },
   {
    "duration": 22,
    "start_time": "2023-04-20T22:32:17.726Z"
   },
   {
    "duration": 25,
    "start_time": "2023-04-20T22:32:17.750Z"
   },
   {
    "duration": 7,
    "start_time": "2023-04-20T22:32:17.777Z"
   },
   {
    "duration": 10,
    "start_time": "2023-04-20T22:32:17.786Z"
   },
   {
    "duration": 58,
    "start_time": "2023-04-20T22:32:17.798Z"
   },
   {
    "duration": 4,
    "start_time": "2023-04-20T22:32:17.858Z"
   },
   {
    "duration": 99,
    "start_time": "2023-04-20T22:32:17.864Z"
   },
   {
    "duration": 15,
    "start_time": "2023-04-20T22:32:17.965Z"
   },
   {
    "duration": 520,
    "start_time": "2023-04-20T22:32:17.982Z"
   },
   {
    "duration": 57,
    "start_time": "2023-04-20T22:32:18.503Z"
   },
   {
    "duration": 14,
    "start_time": "2023-04-20T22:32:18.561Z"
   },
   {
    "duration": 42,
    "start_time": "2023-04-20T22:32:18.577Z"
   },
   {
    "duration": 875,
    "start_time": "2023-04-20T22:32:18.624Z"
   },
   {
    "duration": 156428,
    "start_time": "2023-04-20T22:33:37.597Z"
   },
   {
    "duration": 550371,
    "start_time": "2023-04-20T22:37:08.201Z"
   },
   {
    "duration": 3,
    "start_time": "2023-04-20T22:47:05.796Z"
   },
   {
    "duration": 7398,
    "start_time": "2023-04-20T22:47:06.841Z"
   },
   {
    "duration": 7522,
    "start_time": "2023-04-20T22:48:47.438Z"
   },
   {
    "duration": 7579,
    "start_time": "2023-04-20T22:49:03.674Z"
   },
   {
    "duration": 7460,
    "start_time": "2023-04-20T22:49:15.172Z"
   },
   {
    "duration": 375,
    "start_time": "2023-04-20T22:49:26.202Z"
   },
   {
    "duration": 339,
    "start_time": "2023-04-20T22:49:28.536Z"
   },
   {
    "duration": 339,
    "start_time": "2023-04-20T22:49:30.072Z"
   },
   {
    "duration": 9094,
    "start_time": "2023-04-20T22:49:41.617Z"
   },
   {
    "duration": 1445,
    "start_time": "2023-04-20T22:50:03.122Z"
   },
   {
    "duration": 1462,
    "start_time": "2023-04-20T22:50:08.691Z"
   },
   {
    "duration": 5,
    "start_time": "2023-04-20T22:53:02.572Z"
   },
   {
    "duration": 46,
    "start_time": "2023-04-20T22:53:02.579Z"
   },
   {
    "duration": 756,
    "start_time": "2023-04-20T22:53:02.628Z"
   },
   {
    "duration": 120,
    "start_time": "2023-04-20T22:53:03.386Z"
   },
   {
    "duration": 20,
    "start_time": "2023-04-20T22:53:03.508Z"
   },
   {
    "duration": 93,
    "start_time": "2023-04-20T22:53:03.529Z"
   },
   {
    "duration": 40,
    "start_time": "2023-04-20T22:53:03.623Z"
   },
   {
    "duration": 337,
    "start_time": "2023-04-20T22:53:03.665Z"
   },
   {
    "duration": 77,
    "start_time": "2023-04-20T22:53:04.004Z"
   },
   {
    "duration": 46,
    "start_time": "2023-04-20T22:53:04.082Z"
   },
   {
    "duration": 63,
    "start_time": "2023-04-20T22:53:04.131Z"
   },
   {
    "duration": 76,
    "start_time": "2023-04-20T22:53:04.196Z"
   },
   {
    "duration": 1280,
    "start_time": "2023-04-20T22:53:04.274Z"
   },
   {
    "duration": 8,
    "start_time": "2023-04-20T22:53:05.556Z"
   },
   {
    "duration": 24,
    "start_time": "2023-04-20T22:53:05.566Z"
   },
   {
    "duration": 8,
    "start_time": "2023-04-20T22:53:05.591Z"
   },
   {
    "duration": 29,
    "start_time": "2023-04-20T22:53:05.649Z"
   },
   {
    "duration": 594,
    "start_time": "2023-04-20T22:53:05.680Z"
   },
   {
    "duration": 76,
    "start_time": "2023-04-20T22:53:06.275Z"
   },
   {
    "duration": 19,
    "start_time": "2023-04-20T22:53:06.352Z"
   },
   {
    "duration": 781,
    "start_time": "2023-04-20T22:53:06.372Z"
   },
   {
    "duration": 26,
    "start_time": "2023-04-20T22:53:07.154Z"
   },
   {
    "duration": 19,
    "start_time": "2023-04-20T22:53:07.182Z"
   },
   {
    "duration": 48,
    "start_time": "2023-04-20T22:53:07.203Z"
   },
   {
    "duration": 41,
    "start_time": "2023-04-20T22:53:07.252Z"
   },
   {
    "duration": 23,
    "start_time": "2023-04-20T22:53:07.295Z"
   },
   {
    "duration": 38,
    "start_time": "2023-04-20T22:53:07.320Z"
   },
   {
    "duration": 26,
    "start_time": "2023-04-20T22:53:07.359Z"
   },
   {
    "duration": 33,
    "start_time": "2023-04-20T22:53:07.389Z"
   },
   {
    "duration": 37,
    "start_time": "2023-04-20T22:53:07.423Z"
   },
   {
    "duration": 26,
    "start_time": "2023-04-20T22:53:07.462Z"
   },
   {
    "duration": 28,
    "start_time": "2023-04-20T22:53:07.489Z"
   },
   {
    "duration": 57,
    "start_time": "2023-04-20T22:53:07.519Z"
   },
   {
    "duration": 27,
    "start_time": "2023-04-20T22:53:07.578Z"
   },
   {
    "duration": 16,
    "start_time": "2023-04-20T22:53:07.607Z"
   },
   {
    "duration": 33,
    "start_time": "2023-04-20T22:53:07.624Z"
   },
   {
    "duration": 22,
    "start_time": "2023-04-20T22:53:07.659Z"
   },
   {
    "duration": 26,
    "start_time": "2023-04-20T22:53:07.683Z"
   },
   {
    "duration": 38,
    "start_time": "2023-04-20T22:53:07.711Z"
   },
   {
    "duration": 25,
    "start_time": "2023-04-20T22:53:07.750Z"
   },
   {
    "duration": 25,
    "start_time": "2023-04-20T22:53:07.777Z"
   },
   {
    "duration": 20665,
    "start_time": "2023-04-20T22:53:07.805Z"
   },
   {
    "duration": 25,
    "start_time": "2023-04-20T22:53:28.471Z"
   },
   {
    "duration": 18,
    "start_time": "2023-04-20T22:53:28.497Z"
   },
   {
    "duration": 328,
    "start_time": "2023-04-20T22:53:28.516Z"
   },
   {
    "duration": 9,
    "start_time": "2023-04-20T22:53:28.845Z"
   },
   {
    "duration": 7,
    "start_time": "2023-04-20T22:53:28.856Z"
   },
   {
    "duration": 22,
    "start_time": "2023-04-20T22:53:28.865Z"
   },
   {
    "duration": 7,
    "start_time": "2023-04-20T22:53:28.889Z"
   },
   {
    "duration": 8,
    "start_time": "2023-04-20T22:53:28.898Z"
   },
   {
    "duration": 76,
    "start_time": "2023-04-20T22:53:28.908Z"
   },
   {
    "duration": 4,
    "start_time": "2023-04-20T22:53:28.985Z"
   },
   {
    "duration": 72,
    "start_time": "2023-04-20T22:53:28.990Z"
   },
   {
    "duration": 9,
    "start_time": "2023-04-20T22:53:29.063Z"
   },
   {
    "duration": 606,
    "start_time": "2023-04-20T22:53:29.075Z"
   },
   {
    "duration": 66,
    "start_time": "2023-04-20T22:53:29.683Z"
   },
   {
    "duration": 14,
    "start_time": "2023-04-20T22:53:29.751Z"
   },
   {
    "duration": 5,
    "start_time": "2023-04-20T22:53:29.767Z"
   },
   {
    "duration": 500909,
    "start_time": "2023-04-20T22:53:29.774Z"
   },
   {
    "duration": 4,
    "start_time": "2023-04-20T23:01:50.685Z"
   },
   {
    "duration": 35,
    "start_time": "2023-04-20T23:01:50.690Z"
   },
   {
    "duration": 526501,
    "start_time": "2023-04-20T23:01:50.727Z"
   },
   {
    "duration": 3,
    "start_time": "2023-04-20T23:10:37.230Z"
   },
   {
    "duration": 24,
    "start_time": "2023-04-20T23:10:37.235Z"
   },
   {
    "duration": 79392,
    "start_time": "2023-04-20T23:10:37.260Z"
   },
   {
    "duration": 5,
    "start_time": "2023-04-20T23:11:56.654Z"
   },
   {
    "duration": 15,
    "start_time": "2023-04-20T23:11:56.750Z"
   },
   {
    "duration": 125341,
    "start_time": "2023-04-20T23:11:56.767Z"
   },
   {
    "duration": 0,
    "start_time": "2023-04-20T23:14:02.109Z"
   },
   {
    "duration": 0,
    "start_time": "2023-04-20T23:14:02.111Z"
   },
   {
    "duration": 0,
    "start_time": "2023-04-20T23:14:02.112Z"
   },
   {
    "duration": 0,
    "start_time": "2023-04-20T23:14:02.113Z"
   },
   {
    "duration": 91,
    "start_time": "2023-04-20T23:14:44.203Z"
   },
   {
    "duration": 4,
    "start_time": "2023-04-20T23:14:48.102Z"
   },
   {
    "duration": 159725,
    "start_time": "2023-04-20T23:14:54.933Z"
   },
   {
    "duration": 4,
    "start_time": "2023-04-20T23:17:34.750Z"
   },
   {
    "duration": 4,
    "start_time": "2023-04-20T23:18:41.912Z"
   },
   {
    "duration": 0,
    "start_time": "2023-04-20T23:20:48.772Z"
   },
   {
    "duration": 63082,
    "start_time": "2023-04-20T23:20:52.047Z"
   },
   {
    "duration": 4,
    "start_time": "2023-04-20T23:21:59.173Z"
   },
   {
    "duration": 31513,
    "start_time": "2023-04-20T23:22:00.626Z"
   },
   {
    "duration": 5,
    "start_time": "2023-04-20T23:23:29.329Z"
   },
   {
    "duration": 10702,
    "start_time": "2023-04-20T23:23:31.450Z"
   },
   {
    "duration": 3,
    "start_time": "2023-04-20T23:24:37.807Z"
   },
   {
    "duration": 35496,
    "start_time": "2023-04-20T23:24:39.341Z"
   },
   {
    "duration": 4,
    "start_time": "2023-04-20T23:25:17.401Z"
   },
   {
    "duration": 20778,
    "start_time": "2023-04-20T23:25:41.953Z"
   },
   {
    "duration": 4,
    "start_time": "2023-04-20T23:26:03.206Z"
   },
   {
    "duration": 24113,
    "start_time": "2023-04-20T23:26:04.924Z"
   },
   {
    "duration": 4,
    "start_time": "2023-04-20T23:26:41.399Z"
   },
   {
    "duration": 9847,
    "start_time": "2023-04-20T23:26:41.997Z"
   },
   {
    "duration": 12374,
    "start_time": "2023-04-20T23:26:54.499Z"
   },
   {
    "duration": 4,
    "start_time": "2023-04-20T23:27:17.659Z"
   },
   {
    "duration": 113910,
    "start_time": "2023-04-20T23:27:18.665Z"
   },
   {
    "duration": 4,
    "start_time": "2023-04-20T23:29:18.960Z"
   },
   {
    "duration": 165846,
    "start_time": "2023-04-20T23:29:19.863Z"
   },
   {
    "duration": 1576,
    "start_time": "2023-04-21T17:05:58.345Z"
   },
   {
    "duration": 3,
    "start_time": "2023-04-21T17:05:59.923Z"
   },
   {
    "duration": 2960,
    "start_time": "2023-04-21T17:05:59.928Z"
   },
   {
    "duration": 105,
    "start_time": "2023-04-21T17:06:02.890Z"
   },
   {
    "duration": 15,
    "start_time": "2023-04-21T17:06:02.997Z"
   },
   {
    "duration": 77,
    "start_time": "2023-04-21T17:06:03.014Z"
   },
   {
    "duration": 30,
    "start_time": "2023-04-21T17:06:03.093Z"
   },
   {
    "duration": 381,
    "start_time": "2023-04-21T17:06:03.125Z"
   },
   {
    "duration": 75,
    "start_time": "2023-04-21T17:06:03.507Z"
   },
   {
    "duration": 32,
    "start_time": "2023-04-21T17:06:03.584Z"
   },
   {
    "duration": 75,
    "start_time": "2023-04-21T17:06:03.618Z"
   },
   {
    "duration": 76,
    "start_time": "2023-04-21T17:06:03.695Z"
   },
   {
    "duration": 1458,
    "start_time": "2023-04-21T17:06:03.772Z"
   },
   {
    "duration": 8,
    "start_time": "2023-04-21T17:06:05.232Z"
   },
   {
    "duration": 9,
    "start_time": "2023-04-21T17:06:05.257Z"
   },
   {
    "duration": 9,
    "start_time": "2023-04-21T17:06:05.267Z"
   },
   {
    "duration": 165,
    "start_time": "2023-04-21T17:06:05.278Z"
   },
   {
    "duration": 319,
    "start_time": "2023-04-21T17:06:05.445Z"
   },
   {
    "duration": 21,
    "start_time": "2023-04-21T17:06:05.766Z"
   },
   {
    "duration": 23,
    "start_time": "2023-04-21T17:06:05.789Z"
   },
   {
    "duration": 420,
    "start_time": "2023-04-21T17:06:05.814Z"
   },
   {
    "duration": 35,
    "start_time": "2023-04-21T17:06:06.236Z"
   },
   {
    "duration": 19,
    "start_time": "2023-04-21T17:06:06.273Z"
   },
   {
    "duration": 18,
    "start_time": "2023-04-21T17:06:06.294Z"
   },
   {
    "duration": 61,
    "start_time": "2023-04-21T17:06:06.314Z"
   },
   {
    "duration": 22,
    "start_time": "2023-04-21T17:06:06.376Z"
   },
   {
    "duration": 23,
    "start_time": "2023-04-21T17:06:06.400Z"
   },
   {
    "duration": 46,
    "start_time": "2023-04-21T17:06:06.428Z"
   },
   {
    "duration": 17,
    "start_time": "2023-04-21T17:06:06.476Z"
   },
   {
    "duration": 28,
    "start_time": "2023-04-21T17:06:06.495Z"
   },
   {
    "duration": 48,
    "start_time": "2023-04-21T17:06:06.525Z"
   },
   {
    "duration": 27,
    "start_time": "2023-04-21T17:06:06.575Z"
   },
   {
    "duration": 33,
    "start_time": "2023-04-21T17:06:06.603Z"
   },
   {
    "duration": 40,
    "start_time": "2023-04-21T17:06:06.637Z"
   },
   {
    "duration": 8,
    "start_time": "2023-04-21T17:06:06.679Z"
   },
   {
    "duration": 16,
    "start_time": "2023-04-21T17:06:06.688Z"
   },
   {
    "duration": 23,
    "start_time": "2023-04-21T17:06:06.706Z"
   },
   {
    "duration": 26,
    "start_time": "2023-04-21T17:06:06.757Z"
   },
   {
    "duration": 22,
    "start_time": "2023-04-21T17:06:06.785Z"
   },
   {
    "duration": 26,
    "start_time": "2023-04-21T17:06:06.808Z"
   },
   {
    "duration": 37,
    "start_time": "2023-04-21T17:06:06.836Z"
   },
   {
    "duration": 18013,
    "start_time": "2023-04-21T17:06:06.875Z"
   },
   {
    "duration": 22,
    "start_time": "2023-04-21T17:06:24.890Z"
   },
   {
    "duration": 16,
    "start_time": "2023-04-21T17:06:24.913Z"
   },
   {
    "duration": 311,
    "start_time": "2023-04-21T17:06:24.931Z"
   },
   {
    "duration": 11,
    "start_time": "2023-04-21T17:06:25.244Z"
   },
   {
    "duration": 6,
    "start_time": "2023-04-21T17:06:25.257Z"
   },
   {
    "duration": 21,
    "start_time": "2023-04-21T17:06:25.265Z"
   },
   {
    "duration": 7,
    "start_time": "2023-04-21T17:06:25.288Z"
   },
   {
    "duration": 5,
    "start_time": "2023-04-21T17:06:25.296Z"
   },
   {
    "duration": 69,
    "start_time": "2023-04-21T17:06:25.303Z"
   },
   {
    "duration": 3,
    "start_time": "2023-04-21T17:06:25.374Z"
   },
   {
    "duration": 55,
    "start_time": "2023-04-21T17:06:25.379Z"
   },
   {
    "duration": 22,
    "start_time": "2023-04-21T17:06:25.438Z"
   },
   {
    "duration": 678,
    "start_time": "2023-04-21T17:06:25.462Z"
   },
   {
    "duration": 62,
    "start_time": "2023-04-21T17:06:26.142Z"
   },
   {
    "duration": 11,
    "start_time": "2023-04-21T17:06:26.205Z"
   },
   {
    "duration": 3,
    "start_time": "2023-04-21T17:06:26.218Z"
   },
   {
    "duration": 515622,
    "start_time": "2023-04-21T17:06:26.223Z"
   },
   {
    "duration": 4,
    "start_time": "2023-04-21T17:15:01.847Z"
   },
   {
    "duration": 49,
    "start_time": "2023-04-21T17:15:01.856Z"
   },
   {
    "duration": 629385,
    "start_time": "2023-04-21T17:15:01.907Z"
   },
   {
    "duration": 3,
    "start_time": "2023-04-21T17:25:31.294Z"
   },
   {
    "duration": 54,
    "start_time": "2023-04-21T17:25:31.299Z"
   },
   {
    "duration": 1731205,
    "start_time": "2023-04-21T17:25:31.355Z"
   },
   {
    "duration": 4,
    "start_time": "2023-04-21T17:54:22.561Z"
   },
   {
    "duration": 12,
    "start_time": "2023-04-21T17:54:22.567Z"
   },
   {
    "duration": 1213628,
    "start_time": "2023-04-21T17:54:22.580Z"
   },
   {
    "duration": 5,
    "start_time": "2023-04-21T18:14:36.209Z"
   },
   {
    "duration": 14,
    "start_time": "2023-04-21T18:14:36.215Z"
   },
   {
    "duration": 1153244,
    "start_time": "2023-04-21T18:14:36.231Z"
   },
   {
    "duration": 16,
    "start_time": "2023-04-21T18:33:49.477Z"
   },
   {
    "duration": 5,
    "start_time": "2023-04-21T18:33:49.502Z"
   },
   {
    "duration": 79742,
    "start_time": "2023-04-21T18:33:49.509Z"
   },
   {
    "duration": 5925,
    "start_time": "2023-04-21T18:35:09.253Z"
   },
   {
    "duration": 14,
    "start_time": "2023-04-21T18:35:15.181Z"
   },
   {
    "duration": 102193,
    "start_time": "2023-04-21T18:35:15.197Z"
   },
   {
    "duration": 1422,
    "start_time": "2023-04-21T18:36:57.392Z"
   },
   {
    "duration": 3,
    "start_time": "2023-04-21T18:36:58.815Z"
   },
   {
    "duration": 306940,
    "start_time": "2023-04-21T18:36:58.819Z"
   },
   {
    "duration": 1295,
    "start_time": "2023-04-21T18:42:05.761Z"
   },
   {
    "duration": 4,
    "start_time": "2023-04-21T18:42:07.063Z"
   },
   {
    "duration": 169409,
    "start_time": "2023-04-21T18:42:07.069Z"
   },
   {
    "duration": 1384,
    "start_time": "2023-04-21T18:44:56.480Z"
   },
   {
    "duration": 2,
    "start_time": "2023-04-21T18:44:57.866Z"
   },
   {
    "duration": 153,
    "start_time": "2023-04-21T18:44:57.870Z"
   },
   {
    "duration": 49,
    "start_time": "2023-04-21T18:44:58.025Z"
   },
   {
    "duration": 3,
    "start_time": "2023-04-21T18:44:58.075Z"
   },
   {
    "duration": 4,
    "start_time": "2023-04-21T19:21:00.373Z"
   },
   {
    "duration": 73436,
    "start_time": "2023-04-21T19:21:09.516Z"
   },
   {
    "duration": 5341,
    "start_time": "2023-04-21T19:22:22.956Z"
   },
   {
    "duration": 5478,
    "start_time": "2023-04-21T19:23:12.325Z"
   },
   {
    "duration": 765,
    "start_time": "2023-04-21T19:23:31.620Z"
   },
   {
    "duration": 817,
    "start_time": "2023-04-21T19:23:41.655Z"
   },
   {
    "duration": 787,
    "start_time": "2023-04-21T19:23:52.625Z"
   },
   {
    "duration": 5,
    "start_time": "2023-04-21T19:24:06.499Z"
   },
   {
    "duration": 805,
    "start_time": "2023-04-21T19:24:13.968Z"
   },
   {
    "duration": 14,
    "start_time": "2023-04-21T19:25:16.047Z"
   },
   {
    "duration": 823,
    "start_time": "2023-04-21T19:25:19.572Z"
   },
   {
    "duration": 11,
    "start_time": "2023-04-21T19:25:25.458Z"
   },
   {
    "duration": 10,
    "start_time": "2023-04-21T19:25:30.047Z"
   },
   {
    "duration": 408,
    "start_time": "2023-04-21T19:25:40.588Z"
   },
   {
    "duration": 13,
    "start_time": "2023-04-21T19:25:48.049Z"
   },
   {
    "duration": 29,
    "start_time": "2023-04-21T19:25:56.753Z"
   },
   {
    "duration": 16,
    "start_time": "2023-04-21T19:25:59.687Z"
   },
   {
    "duration": 20,
    "start_time": "2023-04-21T19:26:00.516Z"
   },
   {
    "duration": 20,
    "start_time": "2023-04-21T19:26:01.265Z"
   },
   {
    "duration": 17,
    "start_time": "2023-04-21T19:26:01.737Z"
   },
   {
    "duration": 30,
    "start_time": "2023-04-21T19:26:02.152Z"
   },
   {
    "duration": 16,
    "start_time": "2023-04-21T19:26:02.517Z"
   },
   {
    "duration": 18,
    "start_time": "2023-04-21T19:26:02.865Z"
   },
   {
    "duration": 21,
    "start_time": "2023-04-21T19:26:03.155Z"
   },
   {
    "duration": 25,
    "start_time": "2023-04-21T19:26:03.433Z"
   },
   {
    "duration": 15,
    "start_time": "2023-04-21T19:26:03.698Z"
   },
   {
    "duration": 1126,
    "start_time": "2023-04-21T19:26:28.993Z"
   },
   {
    "duration": 1110,
    "start_time": "2023-04-21T19:26:35.528Z"
   },
   {
    "duration": 1064,
    "start_time": "2023-04-21T19:26:39.210Z"
   },
   {
    "duration": 11114,
    "start_time": "2023-04-21T19:26:43.470Z"
   },
   {
    "duration": 10506,
    "start_time": "2023-04-21T19:26:57.443Z"
   },
   {
    "duration": 2,
    "start_time": "2023-04-21T19:30:29.730Z"
   },
   {
    "duration": 3,
    "start_time": "2023-04-21T19:30:42.604Z"
   },
   {
    "duration": 3,
    "start_time": "2023-04-21T19:31:24.395Z"
   },
   {
    "duration": 15,
    "start_time": "2023-04-21T19:31:32.719Z"
   },
   {
    "duration": 4,
    "start_time": "2023-04-21T19:32:32.637Z"
   },
   {
    "duration": 3,
    "start_time": "2023-04-21T19:32:54.974Z"
   },
   {
    "duration": 19,
    "start_time": "2023-04-21T19:33:14.750Z"
   },
   {
    "duration": 4,
    "start_time": "2023-04-21T19:33:35.598Z"
   },
   {
    "duration": 5,
    "start_time": "2023-04-21T19:33:39.375Z"
   },
   {
    "duration": 19,
    "start_time": "2023-04-21T19:33:48.243Z"
   },
   {
    "duration": 16,
    "start_time": "2023-04-21T19:34:13.395Z"
   },
   {
    "duration": 13,
    "start_time": "2023-04-21T19:34:58.199Z"
   },
   {
    "duration": 2,
    "start_time": "2023-04-21T19:35:04.582Z"
   },
   {
    "duration": 4,
    "start_time": "2023-04-21T19:35:10.260Z"
   },
   {
    "duration": 4,
    "start_time": "2023-04-21T19:36:32.109Z"
   },
   {
    "duration": 3,
    "start_time": "2023-04-21T19:36:53.484Z"
   },
   {
    "duration": 4,
    "start_time": "2023-04-21T19:39:28.946Z"
   },
   {
    "duration": 69198,
    "start_time": "2023-04-21T19:39:28.952Z"
   },
   {
    "duration": 9400,
    "start_time": "2023-04-21T19:40:38.156Z"
   },
   {
    "duration": 3,
    "start_time": "2023-04-21T19:40:47.558Z"
   },
   {
    "duration": 92258,
    "start_time": "2023-04-21T19:40:47.564Z"
   },
   {
    "duration": 3614,
    "start_time": "2023-04-21T19:42:19.825Z"
   },
   {
    "duration": 5,
    "start_time": "2023-04-21T19:42:23.441Z"
   },
   {
    "duration": 355708,
    "start_time": "2023-04-21T19:42:23.458Z"
   },
   {
    "duration": 59992,
    "start_time": "2023-04-21T19:48:19.174Z"
   },
   {
    "duration": 3,
    "start_time": "2023-04-21T19:49:19.174Z"
   },
   {
    "duration": 176819,
    "start_time": "2023-04-21T19:49:19.180Z"
   },
   {
    "duration": 4805,
    "start_time": "2023-04-21T19:52:16.001Z"
   },
   {
    "duration": 3,
    "start_time": "2023-04-21T19:52:20.807Z"
   },
   {
    "duration": 157154,
    "start_time": "2023-04-21T19:52:20.812Z"
   },
   {
    "duration": 4637,
    "start_time": "2023-04-21T19:54:57.969Z"
   },
   {
    "duration": 67,
    "start_time": "2023-04-21T19:59:36.450Z"
   },
   {
    "duration": 4,
    "start_time": "2023-04-21T20:06:13.359Z"
   },
   {
    "duration": 128256,
    "start_time": "2023-04-21T20:06:20.965Z"
   },
   {
    "duration": 3,
    "start_time": "2023-04-21T20:08:29.256Z"
   },
   {
    "duration": 3,
    "start_time": "2023-04-21T20:08:30.911Z"
   },
   {
    "duration": 315363,
    "start_time": "2023-04-21T20:08:32.079Z"
   },
   {
    "duration": 3,
    "start_time": "2023-04-21T20:13:48.299Z"
   },
   {
    "duration": 3,
    "start_time": "2023-04-21T20:25:58.935Z"
   },
   {
    "duration": 4,
    "start_time": "2023-04-21T20:28:19.129Z"
   },
   {
    "duration": 3,
    "start_time": "2023-04-21T20:28:29.610Z"
   },
   {
    "duration": 95888,
    "start_time": "2023-04-21T20:28:30.547Z"
   },
   {
    "duration": 538,
    "start_time": "2023-04-21T20:30:06.437Z"
   },
   {
    "duration": 6,
    "start_time": "2023-04-21T20:30:06.977Z"
   },
   {
    "duration": 6,
    "start_time": "2023-04-21T20:30:06.986Z"
   },
   {
    "duration": 6,
    "start_time": "2023-04-21T20:30:44.875Z"
   },
   {
    "duration": 4,
    "start_time": "2023-04-21T20:30:49.978Z"
   },
   {
    "duration": 4,
    "start_time": "2023-04-21T20:31:26.921Z"
   },
   {
    "duration": 3,
    "start_time": "2023-04-21T20:33:38.126Z"
   },
   {
    "duration": 6,
    "start_time": "2023-04-21T20:34:49.876Z"
   },
   {
    "duration": 7,
    "start_time": "2023-04-21T20:35:30.877Z"
   },
   {
    "duration": 16,
    "start_time": "2023-04-21T20:44:01.022Z"
   },
   {
    "duration": 4,
    "start_time": "2023-04-21T20:44:06.975Z"
   },
   {
    "duration": 9,
    "start_time": "2023-04-21T20:44:06.981Z"
   },
   {
    "duration": 27,
    "start_time": "2023-04-21T20:44:06.992Z"
   },
   {
    "duration": 2919,
    "start_time": "2023-04-21T20:44:07.022Z"
   },
   {
    "duration": 116,
    "start_time": "2023-04-21T20:44:09.942Z"
   },
   {
    "duration": 28,
    "start_time": "2023-04-21T20:44:10.060Z"
   },
   {
    "duration": 108,
    "start_time": "2023-04-21T20:44:10.092Z"
   },
   {
    "duration": 26,
    "start_time": "2023-04-21T20:44:10.202Z"
   },
   {
    "duration": 353,
    "start_time": "2023-04-21T20:44:10.230Z"
   },
   {
    "duration": 89,
    "start_time": "2023-04-21T20:44:10.584Z"
   },
   {
    "duration": 24,
    "start_time": "2023-04-21T20:44:10.675Z"
   },
   {
    "duration": 68,
    "start_time": "2023-04-21T20:44:10.700Z"
   },
   {
    "duration": 61,
    "start_time": "2023-04-21T20:44:10.770Z"
   },
   {
    "duration": 1359,
    "start_time": "2023-04-21T20:44:13.031Z"
   },
   {
    "duration": 1301,
    "start_time": "2023-04-21T20:44:17.732Z"
   },
   {
    "duration": 9,
    "start_time": "2023-04-21T20:45:19.934Z"
   },
   {
    "duration": 10,
    "start_time": "2023-04-21T20:45:21.328Z"
   },
   {
    "duration": 1381,
    "start_time": "2023-04-21T20:45:30.403Z"
   },
   {
    "duration": 11,
    "start_time": "2023-04-21T20:45:36.952Z"
   },
   {
    "duration": 28,
    "start_time": "2023-04-21T20:45:38.870Z"
   },
   {
    "duration": 465,
    "start_time": "2023-04-21T20:45:40.576Z"
   },
   {
    "duration": 332,
    "start_time": "2023-04-21T20:45:45.035Z"
   },
   {
    "duration": 342,
    "start_time": "2023-04-21T20:46:01.100Z"
   },
   {
    "duration": 368,
    "start_time": "2023-04-21T20:46:04.608Z"
   },
   {
    "duration": 561,
    "start_time": "2023-04-21T20:46:21.735Z"
   },
   {
    "duration": 390,
    "start_time": "2023-04-21T20:47:32.686Z"
   },
   {
    "duration": 272,
    "start_time": "2023-04-21T20:47:57.776Z"
   },
   {
    "duration": 317,
    "start_time": "2023-04-21T20:48:13.621Z"
   },
   {
    "duration": 39213,
    "start_time": "2023-04-21T20:49:12.483Z"
   },
   {
    "duration": 4,
    "start_time": "2023-04-21T20:49:57.848Z"
   },
   {
    "duration": 9,
    "start_time": "2023-04-21T20:49:57.854Z"
   },
   {
    "duration": 11,
    "start_time": "2023-04-21T20:49:57.866Z"
   },
   {
    "duration": 750,
    "start_time": "2023-04-21T20:49:57.880Z"
   },
   {
    "duration": 117,
    "start_time": "2023-04-21T20:49:58.631Z"
   },
   {
    "duration": 26,
    "start_time": "2023-04-21T20:49:58.750Z"
   },
   {
    "duration": 114,
    "start_time": "2023-04-21T20:49:58.778Z"
   },
   {
    "duration": 23,
    "start_time": "2023-04-21T20:49:58.893Z"
   },
   {
    "duration": 325,
    "start_time": "2023-04-21T20:49:58.918Z"
   },
   {
    "duration": 84,
    "start_time": "2023-04-21T20:49:59.245Z"
   },
   {
    "duration": 45,
    "start_time": "2023-04-21T20:49:59.331Z"
   },
   {
    "duration": 81,
    "start_time": "2023-04-21T20:49:59.379Z"
   },
   {
    "duration": 81,
    "start_time": "2023-04-21T20:49:59.462Z"
   },
   {
    "duration": 1321,
    "start_time": "2023-04-21T20:49:59.545Z"
   },
   {
    "duration": 11,
    "start_time": "2023-04-21T20:50:00.874Z"
   },
   {
    "duration": 26,
    "start_time": "2023-04-21T20:50:00.887Z"
   },
   {
    "duration": 21,
    "start_time": "2023-04-21T20:50:00.915Z"
   },
   {
    "duration": 63,
    "start_time": "2023-04-21T20:50:00.938Z"
   },
   {
    "duration": 2692,
    "start_time": "2023-04-21T20:50:01.003Z"
   },
   {
    "duration": 20,
    "start_time": "2023-04-21T20:50:03.696Z"
   },
   {
    "duration": 24,
    "start_time": "2023-04-21T20:50:03.718Z"
   },
   {
    "duration": 442,
    "start_time": "2023-04-21T20:50:03.744Z"
   },
   {
    "duration": 33,
    "start_time": "2023-04-21T20:50:04.189Z"
   },
   {
    "duration": 38,
    "start_time": "2023-04-21T20:50:04.224Z"
   },
   {
    "duration": 21,
    "start_time": "2023-04-21T20:50:04.264Z"
   },
   {
    "duration": 82,
    "start_time": "2023-04-21T20:50:04.287Z"
   },
   {
    "duration": 24,
    "start_time": "2023-04-21T20:50:04.370Z"
   },
   {
    "duration": 23,
    "start_time": "2023-04-21T20:50:04.396Z"
   },
   {
    "duration": 43,
    "start_time": "2023-04-21T20:50:04.421Z"
   },
   {
    "duration": 22,
    "start_time": "2023-04-21T20:50:04.468Z"
   },
   {
    "duration": 31,
    "start_time": "2023-04-21T20:50:04.492Z"
   },
   {
    "duration": 53,
    "start_time": "2023-04-21T20:50:04.525Z"
   },
   {
    "duration": 51,
    "start_time": "2023-04-21T20:50:04.580Z"
   },
   {
    "duration": 60,
    "start_time": "2023-04-21T20:50:04.633Z"
   },
   {
    "duration": 28,
    "start_time": "2023-04-21T20:50:04.695Z"
   },
   {
    "duration": 11,
    "start_time": "2023-04-21T20:50:04.725Z"
   },
   {
    "duration": 37,
    "start_time": "2023-04-21T20:50:04.738Z"
   },
   {
    "duration": 24,
    "start_time": "2023-04-21T20:50:04.778Z"
   },
   {
    "duration": 27,
    "start_time": "2023-04-21T20:50:04.804Z"
   },
   {
    "duration": 41,
    "start_time": "2023-04-21T20:50:04.833Z"
   },
   {
    "duration": 30,
    "start_time": "2023-04-21T20:50:04.876Z"
   },
   {
    "duration": 50,
    "start_time": "2023-04-21T20:50:04.908Z"
   },
   {
    "duration": 20012,
    "start_time": "2023-04-21T20:50:04.964Z"
   },
   {
    "duration": 41,
    "start_time": "2023-04-21T20:50:24.978Z"
   },
   {
    "duration": 14,
    "start_time": "2023-04-21T20:50:25.021Z"
   },
   {
    "duration": 40576,
    "start_time": "2023-04-21T20:50:30.376Z"
   },
   {
    "duration": 1642,
    "start_time": "2023-04-21T20:51:32.669Z"
   },
   {
    "duration": 4,
    "start_time": "2023-04-21T20:51:34.314Z"
   },
   {
    "duration": 7,
    "start_time": "2023-04-21T20:51:34.320Z"
   },
   {
    "duration": 847,
    "start_time": "2023-04-21T20:51:34.329Z"
   },
   {
    "duration": 144,
    "start_time": "2023-04-21T20:51:35.178Z"
   },
   {
    "duration": 21,
    "start_time": "2023-04-21T20:51:35.324Z"
   },
   {
    "duration": 122,
    "start_time": "2023-04-21T20:51:35.346Z"
   },
   {
    "duration": 36,
    "start_time": "2023-04-21T20:51:35.473Z"
   },
   {
    "duration": 438,
    "start_time": "2023-04-21T20:51:35.511Z"
   },
   {
    "duration": 86,
    "start_time": "2023-04-21T20:51:35.952Z"
   },
   {
    "duration": 50,
    "start_time": "2023-04-21T20:51:36.040Z"
   },
   {
    "duration": 74,
    "start_time": "2023-04-21T20:51:36.091Z"
   },
   {
    "duration": 93,
    "start_time": "2023-04-21T20:51:36.171Z"
   },
   {
    "duration": 1387,
    "start_time": "2023-04-21T20:51:36.270Z"
   },
   {
    "duration": 12,
    "start_time": "2023-04-21T20:51:37.659Z"
   },
   {
    "duration": 55,
    "start_time": "2023-04-21T20:51:37.673Z"
   },
   {
    "duration": 10,
    "start_time": "2023-04-21T20:51:37.730Z"
   },
   {
    "duration": 47,
    "start_time": "2023-04-21T20:51:37.743Z"
   },
   {
    "duration": 416,
    "start_time": "2023-04-21T20:51:37.793Z"
   },
   {
    "duration": 20,
    "start_time": "2023-04-21T20:51:38.211Z"
   },
   {
    "duration": 45,
    "start_time": "2023-04-21T20:51:38.233Z"
   },
   {
    "duration": 427,
    "start_time": "2023-04-21T20:51:38.280Z"
   },
   {
    "duration": 33,
    "start_time": "2023-04-21T20:51:38.709Z"
   },
   {
    "duration": 36,
    "start_time": "2023-04-21T20:51:38.744Z"
   },
   {
    "duration": 20,
    "start_time": "2023-04-21T20:51:38.782Z"
   },
   {
    "duration": 58,
    "start_time": "2023-04-21T20:51:38.804Z"
   },
   {
    "duration": 23,
    "start_time": "2023-04-21T20:51:38.868Z"
   },
   {
    "duration": 20,
    "start_time": "2023-04-21T20:51:38.894Z"
   },
   {
    "duration": 63,
    "start_time": "2023-04-21T20:51:38.916Z"
   },
   {
    "duration": 25,
    "start_time": "2023-04-21T20:51:38.981Z"
   },
   {
    "duration": 28,
    "start_time": "2023-04-21T20:51:39.007Z"
   },
   {
    "duration": 44,
    "start_time": "2023-04-21T20:51:39.037Z"
   },
   {
    "duration": 27,
    "start_time": "2023-04-21T20:51:39.083Z"
   },
   {
    "duration": 54,
    "start_time": "2023-04-21T20:51:39.111Z"
   },
   {
    "duration": 31,
    "start_time": "2023-04-21T20:51:39.166Z"
   },
   {
    "duration": 19,
    "start_time": "2023-04-21T20:51:39.199Z"
   },
   {
    "duration": 16,
    "start_time": "2023-04-21T20:51:39.220Z"
   },
   {
    "duration": 36,
    "start_time": "2023-04-21T20:51:39.238Z"
   },
   {
    "duration": 27,
    "start_time": "2023-04-21T20:51:39.275Z"
   },
   {
    "duration": 29,
    "start_time": "2023-04-21T20:51:39.304Z"
   },
   {
    "duration": 61,
    "start_time": "2023-04-21T20:51:39.335Z"
   },
   {
    "duration": 45,
    "start_time": "2023-04-21T20:51:39.398Z"
   },
   {
    "duration": 21822,
    "start_time": "2023-04-21T20:51:39.445Z"
   },
   {
    "duration": 26,
    "start_time": "2023-04-21T20:52:01.277Z"
   },
   {
    "duration": 38,
    "start_time": "2023-04-21T20:52:01.304Z"
   },
   {
    "duration": 50397,
    "start_time": "2023-04-21T20:52:03.632Z"
   },
   {
    "duration": 114,
    "start_time": "2023-04-21T21:08:36.959Z"
   },
   {
    "duration": 15,
    "start_time": "2023-04-21T21:08:54.020Z"
   },
   {
    "duration": 19,
    "start_time": "2023-04-21T21:08:56.428Z"
   },
   {
    "duration": 4,
    "start_time": "2023-04-21T21:10:11.450Z"
   },
   {
    "duration": 7,
    "start_time": "2023-04-21T21:10:11.457Z"
   },
   {
    "duration": 10,
    "start_time": "2023-04-21T21:10:11.466Z"
   },
   {
    "duration": 849,
    "start_time": "2023-04-21T21:10:11.477Z"
   },
   {
    "duration": 114,
    "start_time": "2023-04-21T21:10:12.328Z"
   },
   {
    "duration": 23,
    "start_time": "2023-04-21T21:10:12.444Z"
   },
   {
    "duration": 89,
    "start_time": "2023-04-21T21:10:12.469Z"
   },
   {
    "duration": 25,
    "start_time": "2023-04-21T21:10:12.559Z"
   },
   {
    "duration": 370,
    "start_time": "2023-04-21T21:10:12.586Z"
   },
   {
    "duration": 73,
    "start_time": "2023-04-21T21:10:12.958Z"
   },
   {
    "duration": 37,
    "start_time": "2023-04-21T21:10:13.033Z"
   },
   {
    "duration": 82,
    "start_time": "2023-04-21T21:10:13.074Z"
   },
   {
    "duration": 69,
    "start_time": "2023-04-21T21:10:13.158Z"
   },
   {
    "duration": 2341,
    "start_time": "2023-04-21T21:10:13.229Z"
   },
   {
    "duration": 10,
    "start_time": "2023-04-21T21:10:15.571Z"
   },
   {
    "duration": 9,
    "start_time": "2023-04-21T21:10:15.583Z"
   },
   {
    "duration": 9,
    "start_time": "2023-04-21T21:10:15.594Z"
   },
   {
    "duration": 56,
    "start_time": "2023-04-21T21:10:15.605Z"
   },
   {
    "duration": 290,
    "start_time": "2023-04-21T21:10:15.663Z"
   },
   {
    "duration": 23,
    "start_time": "2023-04-21T21:10:15.956Z"
   },
   {
    "duration": 18,
    "start_time": "2023-04-21T21:10:15.980Z"
   },
   {
    "duration": 416,
    "start_time": "2023-04-21T21:10:16.000Z"
   },
   {
    "duration": 42,
    "start_time": "2023-04-21T21:10:16.418Z"
   },
   {
    "duration": 20,
    "start_time": "2023-04-21T21:10:16.462Z"
   },
   {
    "duration": 20,
    "start_time": "2023-04-21T21:10:16.484Z"
   },
   {
    "duration": 57,
    "start_time": "2023-04-21T21:10:16.506Z"
   },
   {
    "duration": 22,
    "start_time": "2023-04-21T21:10:16.565Z"
   },
   {
    "duration": 20,
    "start_time": "2023-04-21T21:10:16.588Z"
   },
   {
    "duration": 47,
    "start_time": "2023-04-21T21:10:16.610Z"
   },
   {
    "duration": 17,
    "start_time": "2023-04-21T21:10:16.661Z"
   },
   {
    "duration": 27,
    "start_time": "2023-04-21T21:10:16.679Z"
   },
   {
    "duration": 21,
    "start_time": "2023-04-21T21:10:16.708Z"
   },
   {
    "duration": 47,
    "start_time": "2023-04-21T21:10:16.730Z"
   },
   {
    "duration": 32,
    "start_time": "2023-04-21T21:10:16.779Z"
   },
   {
    "duration": 43,
    "start_time": "2023-04-21T21:10:16.813Z"
   },
   {
    "duration": 9,
    "start_time": "2023-04-21T21:10:16.857Z"
   },
   {
    "duration": 17,
    "start_time": "2023-04-21T21:10:16.868Z"
   },
   {
    "duration": 24,
    "start_time": "2023-04-21T21:10:16.887Z"
   },
   {
    "duration": 47,
    "start_time": "2023-04-21T21:10:16.913Z"
   },
   {
    "duration": 14,
    "start_time": "2023-04-21T21:10:16.961Z"
   },
   {
    "duration": 23,
    "start_time": "2023-04-21T21:10:16.977Z"
   },
   {
    "duration": 25,
    "start_time": "2023-04-21T21:10:17.002Z"
   },
   {
    "duration": 21664,
    "start_time": "2023-04-21T21:10:17.029Z"
   },
   {
    "duration": 22,
    "start_time": "2023-04-21T21:10:38.695Z"
   },
   {
    "duration": 19,
    "start_time": "2023-04-21T21:10:38.719Z"
   },
   {
    "duration": 21,
    "start_time": "2023-04-21T21:10:38.739Z"
   },
   {
    "duration": 8,
    "start_time": "2023-04-21T21:10:38.761Z"
   },
   {
    "duration": 23,
    "start_time": "2023-04-21T21:10:38.770Z"
   },
   {
    "duration": 7,
    "start_time": "2023-04-21T21:10:38.795Z"
   },
   {
    "duration": 5,
    "start_time": "2023-04-21T21:10:38.804Z"
   },
   {
    "duration": 75,
    "start_time": "2023-04-21T21:10:38.811Z"
   },
   {
    "duration": 3,
    "start_time": "2023-04-21T21:10:38.888Z"
   },
   {
    "duration": 57,
    "start_time": "2023-04-21T21:10:38.892Z"
   },
   {
    "duration": 10,
    "start_time": "2023-04-21T21:10:38.955Z"
   },
   {
    "duration": 518,
    "start_time": "2023-04-21T21:10:38.967Z"
   },
   {
    "duration": 75,
    "start_time": "2023-04-21T21:10:39.486Z"
   },
   {
    "duration": 12,
    "start_time": "2023-04-21T21:10:39.565Z"
   },
   {
    "duration": 3,
    "start_time": "2023-04-21T21:11:08.295Z"
   },
   {
    "duration": 161601,
    "start_time": "2023-04-21T21:11:11.146Z"
   },
   {
    "duration": 884,
    "start_time": "2023-04-21T21:13:52.749Z"
   },
   {
    "duration": 3,
    "start_time": "2023-04-21T21:29:53.823Z"
   },
   {
    "duration": 155870,
    "start_time": "2023-04-21T21:30:08.179Z"
   },
   {
    "duration": 1005,
    "start_time": "2023-04-21T21:32:44.057Z"
   },
   {
    "duration": 3,
    "start_time": "2023-04-21T21:33:33.074Z"
   },
   {
    "duration": 1028,
    "start_time": "2023-04-21T21:33:41.923Z"
   },
   {
    "duration": 3,
    "start_time": "2023-04-21T21:34:32.508Z"
   },
   {
    "duration": 60,
    "start_time": "2023-04-21T21:34:44.760Z"
   },
   {
    "duration": 12,
    "start_time": "2023-04-21T21:36:13.791Z"
   },
   {
    "duration": 11,
    "start_time": "2023-04-21T21:46:06.486Z"
   },
   {
    "duration": 129,
    "start_time": "2023-04-21T21:46:16.078Z"
   },
   {
    "duration": 4,
    "start_time": "2023-04-21T21:48:13.853Z"
   },
   {
    "duration": 137,
    "start_time": "2023-04-21T21:48:19.841Z"
   },
   {
    "duration": 136,
    "start_time": "2023-04-21T21:48:30.216Z"
   },
   {
    "duration": 127,
    "start_time": "2023-04-21T21:48:40.758Z"
   },
   {
    "duration": 137,
    "start_time": "2023-04-21T21:48:45.601Z"
   },
   {
    "duration": 3,
    "start_time": "2023-04-21T21:50:21.233Z"
   },
   {
    "duration": 145,
    "start_time": "2023-04-21T21:51:45.976Z"
   },
   {
    "duration": 4,
    "start_time": "2023-04-21T21:52:18.294Z"
   },
   {
    "duration": 3,
    "start_time": "2023-04-21T21:52:36.333Z"
   },
   {
    "duration": 173,
    "start_time": "2023-04-21T21:52:41.606Z"
   },
   {
    "duration": 48,
    "start_time": "2023-04-21T21:53:37.617Z"
   },
   {
    "duration": 4,
    "start_time": "2023-04-21T21:53:42.531Z"
   },
   {
    "duration": 162,
    "start_time": "2023-04-21T21:53:48.207Z"
   },
   {
    "duration": 151,
    "start_time": "2023-04-21T21:53:54.727Z"
   },
   {
    "duration": 139,
    "start_time": "2023-04-21T21:53:57.119Z"
   },
   {
    "duration": 150,
    "start_time": "2023-04-21T21:54:15.638Z"
   },
   {
    "duration": 162,
    "start_time": "2023-04-21T21:56:05.865Z"
   },
   {
    "duration": 134,
    "start_time": "2023-04-21T21:56:25.773Z"
   },
   {
    "duration": 133,
    "start_time": "2023-04-21T21:56:29.665Z"
   },
   {
    "duration": 142,
    "start_time": "2023-04-21T21:56:35.671Z"
   },
   {
    "duration": 130,
    "start_time": "2023-04-21T21:56:41.033Z"
   },
   {
    "duration": 3,
    "start_time": "2023-04-21T21:59:01.052Z"
   },
   {
    "duration": 4,
    "start_time": "2023-04-21T21:59:14.497Z"
   },
   {
    "duration": 122,
    "start_time": "2023-04-21T21:59:15.104Z"
   },
   {
    "duration": 130,
    "start_time": "2023-04-21T21:59:25.727Z"
   },
   {
    "duration": 3,
    "start_time": "2023-04-21T21:59:34.762Z"
   },
   {
    "duration": 137,
    "start_time": "2023-04-21T21:59:34.794Z"
   },
   {
    "duration": 4,
    "start_time": "2023-04-21T21:59:39.502Z"
   },
   {
    "duration": 130,
    "start_time": "2023-04-21T21:59:40.168Z"
   },
   {
    "duration": 3,
    "start_time": "2023-04-21T21:59:47.938Z"
   },
   {
    "duration": 155,
    "start_time": "2023-04-21T21:59:48.656Z"
   },
   {
    "duration": 4,
    "start_time": "2023-04-21T22:00:07.995Z"
   },
   {
    "duration": 132,
    "start_time": "2023-04-21T22:00:08.667Z"
   },
   {
    "duration": 125,
    "start_time": "2023-04-21T22:00:17.111Z"
   },
   {
    "duration": 141,
    "start_time": "2023-04-21T22:00:18.400Z"
   },
   {
    "duration": 4,
    "start_time": "2023-04-21T22:00:19.644Z"
   },
   {
    "duration": 143,
    "start_time": "2023-04-21T22:00:20.208Z"
   },
   {
    "duration": 4,
    "start_time": "2023-04-21T22:00:27.853Z"
   },
   {
    "duration": 130,
    "start_time": "2023-04-21T22:00:28.481Z"
   },
   {
    "duration": 3,
    "start_time": "2023-04-21T22:00:55.255Z"
   },
   {
    "duration": 130,
    "start_time": "2023-04-21T22:00:55.992Z"
   },
   {
    "duration": 4,
    "start_time": "2023-04-21T22:00:59.483Z"
   },
   {
    "duration": 146,
    "start_time": "2023-04-21T22:01:00.107Z"
   },
   {
    "duration": 4,
    "start_time": "2023-04-21T22:01:03.446Z"
   },
   {
    "duration": 140,
    "start_time": "2023-04-21T22:01:04.035Z"
   },
   {
    "duration": 4,
    "start_time": "2023-04-21T22:01:20.236Z"
   },
   {
    "duration": 170,
    "start_time": "2023-04-21T22:01:21.301Z"
   },
   {
    "duration": 3,
    "start_time": "2023-04-21T22:01:25.862Z"
   },
   {
    "duration": 154,
    "start_time": "2023-04-21T22:01:26.369Z"
   },
   {
    "duration": 152,
    "start_time": "2023-04-21T22:01:41.188Z"
   },
   {
    "duration": 153,
    "start_time": "2023-04-21T22:01:47.977Z"
   },
   {
    "duration": 4,
    "start_time": "2023-04-21T22:03:35.154Z"
   },
   {
    "duration": 3,
    "start_time": "2023-04-21T22:04:59.591Z"
   },
   {
    "duration": 4,
    "start_time": "2023-04-21T22:05:47.477Z"
   },
   {
    "duration": 141,
    "start_time": "2023-04-21T22:06:10.527Z"
   },
   {
    "duration": 140,
    "start_time": "2023-04-21T22:06:33.435Z"
   },
   {
    "duration": 4,
    "start_time": "2023-04-21T22:07:56.866Z"
   },
   {
    "duration": 140,
    "start_time": "2023-04-21T22:07:57.577Z"
   },
   {
    "duration": 3,
    "start_time": "2023-04-21T22:08:02.835Z"
   },
   {
    "duration": 147,
    "start_time": "2023-04-21T22:08:04.108Z"
   },
   {
    "duration": 137,
    "start_time": "2023-04-21T22:08:07.367Z"
   },
   {
    "duration": 3,
    "start_time": "2023-04-21T22:08:18.276Z"
   },
   {
    "duration": 144,
    "start_time": "2023-04-21T22:08:18.981Z"
   },
   {
    "duration": 4,
    "start_time": "2023-04-21T22:08:23.236Z"
   },
   {
    "duration": 159,
    "start_time": "2023-04-21T22:08:23.968Z"
   },
   {
    "duration": 3,
    "start_time": "2023-04-21T22:09:18.385Z"
   },
   {
    "duration": 158,
    "start_time": "2023-04-21T22:09:19.340Z"
   },
   {
    "duration": 3,
    "start_time": "2023-04-21T22:09:22.603Z"
   },
   {
    "duration": 138,
    "start_time": "2023-04-21T22:09:23.708Z"
   },
   {
    "duration": 147,
    "start_time": "2023-04-21T22:09:25.910Z"
   },
   {
    "duration": 3,
    "start_time": "2023-04-21T22:09:38.327Z"
   },
   {
    "duration": 151,
    "start_time": "2023-04-21T22:09:39.349Z"
   },
   {
    "duration": 139,
    "start_time": "2023-04-21T22:09:41.071Z"
   },
   {
    "duration": 3,
    "start_time": "2023-04-21T22:09:57.091Z"
   },
   {
    "duration": 135,
    "start_time": "2023-04-21T22:09:57.822Z"
   },
   {
    "duration": 3,
    "start_time": "2023-04-21T22:10:00.666Z"
   },
   {
    "duration": 142,
    "start_time": "2023-04-21T22:10:01.475Z"
   },
   {
    "duration": 3,
    "start_time": "2023-04-21T22:10:38.355Z"
   },
   {
    "duration": 138,
    "start_time": "2023-04-21T22:10:39.690Z"
   },
   {
    "duration": 135,
    "start_time": "2023-04-21T22:10:42.811Z"
   },
   {
    "duration": 3,
    "start_time": "2023-04-21T22:10:46.820Z"
   },
   {
    "duration": 166,
    "start_time": "2023-04-21T22:10:49.045Z"
   },
   {
    "duration": 142,
    "start_time": "2023-04-21T22:10:57.188Z"
   },
   {
    "duration": 4,
    "start_time": "2023-04-21T22:11:18.627Z"
   },
   {
    "duration": 148,
    "start_time": "2023-04-21T22:11:19.931Z"
   },
   {
    "duration": 138,
    "start_time": "2023-04-21T22:11:22.791Z"
   },
   {
    "duration": 3,
    "start_time": "2023-04-21T22:11:29.274Z"
   },
   {
    "duration": 156,
    "start_time": "2023-04-21T22:11:29.836Z"
   },
   {
    "duration": 3,
    "start_time": "2023-04-21T22:11:36.945Z"
   },
   {
    "duration": 144,
    "start_time": "2023-04-21T22:11:37.645Z"
   },
   {
    "duration": 3,
    "start_time": "2023-04-21T22:12:20.808Z"
   },
   {
    "duration": 159,
    "start_time": "2023-04-21T22:12:21.558Z"
   },
   {
    "duration": 164,
    "start_time": "2023-04-21T22:12:23.639Z"
   },
   {
    "duration": 4,
    "start_time": "2023-04-21T22:12:28.343Z"
   },
   {
    "duration": 135,
    "start_time": "2023-04-21T22:12:28.975Z"
   },
   {
    "duration": 5,
    "start_time": "2023-04-21T22:12:36.287Z"
   },
   {
    "duration": 152,
    "start_time": "2023-04-21T22:12:37.067Z"
   },
   {
    "duration": 148,
    "start_time": "2023-04-21T22:12:45.042Z"
   },
   {
    "duration": 4,
    "start_time": "2023-04-21T22:12:54.243Z"
   },
   {
    "duration": 153,
    "start_time": "2023-04-21T22:13:10.151Z"
   },
   {
    "duration": 167,
    "start_time": "2023-04-21T22:13:51.138Z"
   },
   {
    "duration": 140,
    "start_time": "2023-04-21T22:14:09.613Z"
   },
   {
    "duration": 160,
    "start_time": "2023-04-21T22:14:15.158Z"
   },
   {
    "duration": 158,
    "start_time": "2023-04-21T22:14:23.750Z"
   },
   {
    "duration": 153,
    "start_time": "2023-04-21T22:14:29.073Z"
   },
   {
    "duration": 143,
    "start_time": "2023-04-21T22:14:32.191Z"
   },
   {
    "duration": 230,
    "start_time": "2023-04-21T22:14:49.036Z"
   },
   {
    "duration": 4,
    "start_time": "2023-04-21T22:15:44.732Z"
   },
   {
    "duration": 289,
    "start_time": "2023-04-21T22:15:54.746Z"
   },
   {
    "duration": 422,
    "start_time": "2023-04-21T22:16:12.903Z"
   },
   {
    "duration": 415,
    "start_time": "2023-04-21T22:16:55.629Z"
   },
   {
    "duration": 445,
    "start_time": "2023-04-21T22:17:19.236Z"
   },
   {
    "duration": 415,
    "start_time": "2023-04-21T22:17:33.988Z"
   },
   {
    "duration": 450,
    "start_time": "2023-04-21T22:17:47.819Z"
   },
   {
    "duration": 454,
    "start_time": "2023-04-21T22:17:59.920Z"
   },
   {
    "duration": 406,
    "start_time": "2023-04-21T22:18:09.901Z"
   },
   {
    "duration": 1553,
    "start_time": "2023-04-22T00:34:35.098Z"
   },
   {
    "duration": 2,
    "start_time": "2023-04-22T00:34:36.654Z"
   },
   {
    "duration": 8,
    "start_time": "2023-04-22T00:34:36.658Z"
   },
   {
    "duration": 5,
    "start_time": "2023-04-22T00:34:36.667Z"
   },
   {
    "duration": 988,
    "start_time": "2023-04-22T00:34:36.673Z"
   },
   {
    "duration": 126,
    "start_time": "2023-04-22T00:34:37.663Z"
   },
   {
    "duration": 14,
    "start_time": "2023-04-22T00:34:37.791Z"
   },
   {
    "duration": 81,
    "start_time": "2023-04-22T00:34:37.806Z"
   },
   {
    "duration": 41,
    "start_time": "2023-04-22T00:34:37.889Z"
   },
   {
    "duration": 368,
    "start_time": "2023-04-22T00:34:37.933Z"
   },
   {
    "duration": 74,
    "start_time": "2023-04-22T00:34:38.303Z"
   },
   {
    "duration": 35,
    "start_time": "2023-04-22T00:34:38.378Z"
   },
   {
    "duration": 86,
    "start_time": "2023-04-22T00:34:38.415Z"
   },
   {
    "duration": 85,
    "start_time": "2023-04-22T00:34:38.503Z"
   },
   {
    "duration": 1185,
    "start_time": "2023-04-22T00:34:38.589Z"
   },
   {
    "duration": 7,
    "start_time": "2023-04-22T00:34:39.776Z"
   },
   {
    "duration": 10,
    "start_time": "2023-04-22T00:34:39.785Z"
   },
   {
    "duration": 7,
    "start_time": "2023-04-22T00:34:39.796Z"
   },
   {
    "duration": 141,
    "start_time": "2023-04-22T00:34:39.804Z"
   },
   {
    "duration": 271,
    "start_time": "2023-04-22T00:34:39.947Z"
   },
   {
    "duration": 23,
    "start_time": "2023-04-22T00:34:40.219Z"
   },
   {
    "duration": 16,
    "start_time": "2023-04-22T00:34:40.243Z"
   },
   {
    "duration": 344,
    "start_time": "2023-04-22T00:34:40.261Z"
   },
   {
    "duration": 36,
    "start_time": "2023-04-22T00:34:40.606Z"
   },
   {
    "duration": 20,
    "start_time": "2023-04-22T00:34:40.644Z"
   },
   {
    "duration": 26,
    "start_time": "2023-04-22T00:34:40.666Z"
   },
   {
    "duration": 58,
    "start_time": "2023-04-22T00:34:40.694Z"
   },
   {
    "duration": 20,
    "start_time": "2023-04-22T00:34:40.756Z"
   },
   {
    "duration": 18,
    "start_time": "2023-04-22T00:34:40.777Z"
   },
   {
    "duration": 42,
    "start_time": "2023-04-22T00:34:40.796Z"
   },
   {
    "duration": 25,
    "start_time": "2023-04-22T00:34:40.839Z"
   },
   {
    "duration": 32,
    "start_time": "2023-04-22T00:34:40.865Z"
   },
   {
    "duration": 25,
    "start_time": "2023-04-22T00:34:40.898Z"
   },
   {
    "duration": 37,
    "start_time": "2023-04-22T00:34:40.925Z"
   },
   {
    "duration": 43,
    "start_time": "2023-04-22T00:34:40.963Z"
   },
   {
    "duration": 37,
    "start_time": "2023-04-22T00:34:41.008Z"
   },
   {
    "duration": 16,
    "start_time": "2023-04-22T00:34:41.046Z"
   },
   {
    "duration": 15,
    "start_time": "2023-04-22T00:34:41.064Z"
   },
   {
    "duration": 22,
    "start_time": "2023-04-22T00:34:41.081Z"
   },
   {
    "duration": 51,
    "start_time": "2023-04-22T00:34:41.105Z"
   },
   {
    "duration": 16,
    "start_time": "2023-04-22T00:34:41.157Z"
   },
   {
    "duration": 30,
    "start_time": "2023-04-22T00:34:41.175Z"
   },
   {
    "duration": 40,
    "start_time": "2023-04-22T00:34:41.207Z"
   },
   {
    "duration": 19696,
    "start_time": "2023-04-22T00:34:41.249Z"
   },
   {
    "duration": 40,
    "start_time": "2023-04-22T00:35:00.947Z"
   },
   {
    "duration": 75,
    "start_time": "2023-04-22T00:35:00.988Z"
   },
   {
    "duration": 28,
    "start_time": "2023-04-22T00:35:01.064Z"
   },
   {
    "duration": 31,
    "start_time": "2023-04-22T00:35:01.094Z"
   },
   {
    "duration": 98,
    "start_time": "2023-04-22T00:35:01.127Z"
   },
   {
    "duration": 85,
    "start_time": "2023-04-22T00:35:01.227Z"
   },
   {
    "duration": 57,
    "start_time": "2023-04-22T00:35:01.314Z"
   },
   {
    "duration": 80,
    "start_time": "2023-04-22T00:35:01.373Z"
   },
   {
    "duration": 11,
    "start_time": "2023-04-22T00:35:01.454Z"
   },
   {
    "duration": 89,
    "start_time": "2023-04-22T00:35:01.466Z"
   },
   {
    "duration": 41,
    "start_time": "2023-04-22T00:35:01.557Z"
   },
   {
    "duration": 614,
    "start_time": "2023-04-22T00:35:01.600Z"
   },
   {
    "duration": 80,
    "start_time": "2023-04-22T00:35:02.216Z"
   },
   {
    "duration": 15,
    "start_time": "2023-04-22T00:35:02.297Z"
   },
   {
    "duration": 123,
    "start_time": "2023-04-22T00:35:02.313Z"
   },
   {
    "duration": 454857,
    "start_time": "2023-04-22T00:35:02.437Z"
   },
   {
    "duration": 4,
    "start_time": "2023-04-22T00:42:37.296Z"
   },
   {
    "duration": 22,
    "start_time": "2023-04-22T00:42:37.302Z"
   },
   {
    "duration": 518995,
    "start_time": "2023-04-22T00:42:37.326Z"
   },
   {
    "duration": 4,
    "start_time": "2023-04-22T00:51:16.323Z"
   },
   {
    "duration": 9,
    "start_time": "2023-04-22T00:51:16.328Z"
   },
   {
    "duration": 46101,
    "start_time": "2023-04-22T00:51:16.338Z"
   },
   {
    "duration": 4,
    "start_time": "2023-04-22T00:52:02.441Z"
   },
   {
    "duration": 33,
    "start_time": "2023-04-22T00:52:02.446Z"
   },
   {
    "duration": 1117007,
    "start_time": "2023-04-22T00:52:02.480Z"
   },
   {
    "duration": 4,
    "start_time": "2023-04-22T01:10:39.488Z"
   },
   {
    "duration": 6,
    "start_time": "2023-04-22T01:10:39.493Z"
   },
   {
    "duration": 1035770,
    "start_time": "2023-04-22T01:10:39.500Z"
   },
   {
    "duration": 4,
    "start_time": "2023-04-22T01:27:55.271Z"
   },
   {
    "duration": 7,
    "start_time": "2023-04-22T01:27:55.277Z"
   },
   {
    "duration": 63851,
    "start_time": "2023-04-22T01:27:55.285Z"
   },
   {
    "duration": 8568,
    "start_time": "2023-04-22T01:28:59.138Z"
   },
   {
    "duration": 4,
    "start_time": "2023-04-22T01:29:07.708Z"
   },
   {
    "duration": 77167,
    "start_time": "2023-04-22T01:29:07.714Z"
   },
   {
    "duration": 3289,
    "start_time": "2023-04-22T01:30:24.882Z"
   },
   {
    "duration": 3,
    "start_time": "2023-04-22T01:30:28.172Z"
   },
   {
    "duration": 101069,
    "start_time": "2023-04-22T01:30:28.176Z"
   },
   {
    "duration": 22986,
    "start_time": "2023-04-22T01:32:09.250Z"
   },
   {
    "duration": 3,
    "start_time": "2023-04-22T01:32:32.238Z"
   },
   {
    "duration": 156293,
    "start_time": "2023-04-22T01:32:32.242Z"
   },
   {
    "duration": 3516,
    "start_time": "2023-04-22T01:35:08.537Z"
   },
   {
    "duration": 3,
    "start_time": "2023-04-22T01:35:12.054Z"
   },
   {
    "duration": 154954,
    "start_time": "2023-04-22T01:35:12.058Z"
   },
   {
    "duration": 893,
    "start_time": "2023-04-22T01:37:47.014Z"
   },
   {
    "duration": 3,
    "start_time": "2023-04-22T01:37:47.908Z"
   },
   {
    "duration": 484,
    "start_time": "2023-04-22T01:37:47.913Z"
   },
   {
    "duration": 4,
    "start_time": "2023-04-22T01:37:48.399Z"
   },
   {
    "duration": 10,
    "start_time": "2023-04-22T01:37:48.405Z"
   },
   {
    "duration": 479,
    "start_time": "2023-04-22T01:37:48.416Z"
   },
   {
    "duration": 49,
    "start_time": "2023-04-24T20:46:38.709Z"
   }
  ],
  "kernelspec": {
   "display_name": "Python 3",
   "language": "python",
   "name": "python3"
  },
  "language_info": {
   "codemirror_mode": {
    "name": "ipython",
    "version": 3
   },
   "file_extension": ".py",
   "mimetype": "text/x-python",
   "name": "python",
   "nbconvert_exporter": "python",
   "pygments_lexer": "ipython3",
   "version": "3.8.8"
  },
  "toc": {
   "base_numbering": 1,
   "nav_menu": {},
   "number_sections": true,
   "sideBar": true,
   "skip_h1_title": true,
   "title_cell": "Table of Contents",
   "title_sidebar": "Contents",
   "toc_cell": false,
   "toc_position": {
    "height": "calc(100% - 180px)",
    "left": "10px",
    "top": "150px",
    "width": "221.65px"
   },
   "toc_section_display": true,
   "toc_window_display": true
  }
 },
 "nbformat": 4,
 "nbformat_minor": 2
}
